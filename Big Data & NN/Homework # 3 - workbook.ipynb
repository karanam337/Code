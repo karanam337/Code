{
 "cells": [
  {
   "cell_type": "code",
   "execution_count": 1,
   "metadata": {},
   "outputs": [],
   "source": [
    "import warnings\n",
    "warnings.filterwarnings('ignore')\n",
    "\n",
    "import os\n",
    "os.chdir(r'C:\\MSBA\\Fall 2020\\INSY 5376 - Big Data\\Assignments\\3')"
   ]
  },
  {
   "cell_type": "code",
   "execution_count": 2,
   "metadata": {},
   "outputs": [
    {
     "data": {
      "text/html": [
       "<div>\n",
       "<style scoped>\n",
       "    .dataframe tbody tr th:only-of-type {\n",
       "        vertical-align: middle;\n",
       "    }\n",
       "\n",
       "    .dataframe tbody tr th {\n",
       "        vertical-align: top;\n",
       "    }\n",
       "\n",
       "    .dataframe thead th {\n",
       "        text-align: right;\n",
       "    }\n",
       "</style>\n",
       "<table border=\"1\" class=\"dataframe\">\n",
       "  <thead>\n",
       "    <tr style=\"text-align: right;\">\n",
       "      <th></th>\n",
       "      <th>TI</th>\n",
       "      <th>AB</th>\n",
       "      <th>SO</th>\n",
       "      <th>TI+AB</th>\n",
       "    </tr>\n",
       "  </thead>\n",
       "  <tbody>\n",
       "    <tr>\n",
       "      <td>0</td>\n",
       "      <td>The Role of Business Intelligence and Communication Technologies in Organizational Agility: A Configurational Approach</td>\n",
       "      <td>This study examines the role that business intelligence (BI) and communication technologies play in how firms may achieve organizational sensing agility, decision making agility, and acting agility in different organizational and environmental contexts. Based on the information-processing view of organizations and dynamic capability theory, we suggest a configurational analytic framework that departs from the standard linear paradigm to examine how IT's effect on agility is embedded in a configuration of organizational and environmental elements. In line with this approach, we use fuzzy-set qualitative comparative analysis (fsQCA) to analyze field survey data from diverse industries. Our findings suggest equifinal pathways to organizational agility and the specific boundary conditions of our middle-range theory that determine what role BI and communication technologies play in organizations' achieving organizational agility. We discuss implications for theory and practice and discuss future research avenues.</td>\n",
       "      <td>JOURNAL OF THE ASSOCIATION FOR INFORMATION SYSTEMS</td>\n",
       "      <td>The Role of Business Intelligence and Communication Technologies in Organizational Agility: A Configurational Approach This study examines the role that business intelligence (BI) and communication technologies play in how firms may achieve organizational sensing agility, decision making agility, and acting agility in different organizational and environmental contexts. Based on the information-processing view of organizations and dynamic capability theory, we suggest a configurational analytic framework that departs from the standard linear paradigm to examine how IT's effect on agility is embedded in a configuration of organizational and environmental elements. In line with this approach, we use fuzzy-set qualitative comparative analysis (fsQCA) to analyze field survey data from diverse industries. Our findings suggest equifinal pathways to organizational agility and the specific boundary conditions of our middle-range theory that determine what role BI and communication technologies play in organizations' achieving organizational agility. We discuss implications for theory and practice and discuss future research avenues.</td>\n",
       "    </tr>\n",
       "    <tr>\n",
       "      <td>1</td>\n",
       "      <td>OPERATIONAL IT FAILURES, IT VALUE DESTRUCTION, AND BOARD-LEVEL IT GOVERNANCE CHANGES</td>\n",
       "      <td>This paper presents an empirical study of changes that firms implement in their board-level IT governance (ITG) upon experiencing operational IT failures. Consistent with the separation of oversight from management decisions, board-level ITG is responsible for monitoring managerial IT decisions and policies for controlling IT resources. We expect that operational IT failures indicating inadequacies in board monitoring of controls over IT resources would result in a negative stock market reaction and, in turn, induce firms to improve their board-level ITG. Our expectation is confirmed based on a sample of 110 operational IT failures from U.S. public financial firms. Specifically, our results demonstrate that subsequent to experiencing operational IT failures, firms make improvements to the IT competency level of their boards, and the improvements are proportional to the degree of negative market reaction. However, those improvements are only on the executive side of the board, namely: an increase in the IT experience of internal (executive) directors and an increased turnover rate of CIOs serving on the board. Furthermore, the likelihood of CIO turnover is lower in IT-intensive firms where such turnover could be more disruptive. Our results contribute to understanding the critical connection between operational IT failures and board-level ITG.</td>\n",
       "      <td>MIS QUARTERLY</td>\n",
       "      <td>OPERATIONAL IT FAILURES, IT VALUE DESTRUCTION, AND BOARD-LEVEL IT GOVERNANCE CHANGES This paper presents an empirical study of changes that firms implement in their board-level IT governance (ITG) upon experiencing operational IT failures. Consistent with the separation of oversight from management decisions, board-level ITG is responsible for monitoring managerial IT decisions and policies for controlling IT resources. We expect that operational IT failures indicating inadequacies in board monitoring of controls over IT resources would result in a negative stock market reaction and, in turn, induce firms to improve their board-level ITG. Our expectation is confirmed based on a sample of 110 operational IT failures from U.S. public financial firms. Specifically, our results demonstrate that subsequent to experiencing operational IT failures, firms make improvements to the IT competency level of their boards, and the improvements are proportional to the degree of negative market reaction. However, those improvements are only on the executive side of the board, namely: an increase in the IT experience of internal (executive) directors and an increased turnover rate of CIOs serving on the board. Furthermore, the likelihood of CIO turnover is lower in IT-intensive firms where such turnover could be more disruptive. Our results contribute to understanding the critical connection between operational IT failures and board-level ITG.</td>\n",
       "    </tr>\n",
       "    <tr>\n",
       "      <td>2</td>\n",
       "      <td>ON THE ROLE OF FAIRNESS AND SOCIAL DISTANCE IN DESIGNING EFFECTIVE SOCIAL REFERRAL SYSTEMS</td>\n",
       "      <td>Online referral systems help firms attract new customers and expand their customer base by leveraging the social relationships of existing customers. We integrate ultimatum game theory, which focuses on fairness, with motivation theories to investigate the effects of social distance and monetary incentives on the performance of three competing designs for online referral systems: rewarding only or primarily the proposer, rewarding only or primarily the responder, and dividing the reward equally or fairly between the proposer and responder. A set of controlled laboratory and randomized field experiments were conducted to test how the fairness of the split of the reward (equal/fair versus unequal/unfair split of the referral bonus) and social distance (small versus large) between the proposer and the responder jointly affect the performance of online referral systems (the proposer sending an offer and the responder accepting the offer). For a large social distance (acquaintances or weak tie relationships), equally splitting the referral bonus results in the best performance. However, for a small social distance (friends or strong tie relationships), an equal split of the referral reward does not improve referral performance, which suggests that under a small social distance, monetary incentives may not work effectively. Face validity and external validity (generalizability) are ensured using two distinct measures of social distance across several contexts. Through the analysis of the interaction effects of fairness and social distance, our research offers theoretical and practical implications for social commerce by showing that the effectiveness of fairness on the success of online social referrals largely depends on social distance.</td>\n",
       "      <td>MIS QUARTERLY</td>\n",
       "      <td>ON THE ROLE OF FAIRNESS AND SOCIAL DISTANCE IN DESIGNING EFFECTIVE SOCIAL REFERRAL SYSTEMS Online referral systems help firms attract new customers and expand their customer base by leveraging the social relationships of existing customers. We integrate ultimatum game theory, which focuses on fairness, with motivation theories to investigate the effects of social distance and monetary incentives on the performance of three competing designs for online referral systems: rewarding only or primarily the proposer, rewarding only or primarily the responder, and dividing the reward equally or fairly between the proposer and responder. A set of controlled laboratory and randomized field experiments were conducted to test how the fairness of the split of the reward (equal/fair versus unequal/unfair split of the referral bonus) and social distance (small versus large) between the proposer and the responder jointly affect the performance of online referral systems (the proposer sending an offer and the responder accepting the offer). For a large social distance (acquaintances or weak tie relationships), equally splitting the referral bonus results in the best performance. However, for a small social distance (friends or strong tie relationships), an equal split of the referral reward does not improve referral performance, which suggests that under a small social distance, monetary incentives may not work effectively. Face validity and external validity (generalizability) are ensured using two distinct measures of social distance across several contexts. Through the analysis of the interaction effects of fairness and social distance, our research offers theoretical and practical implications for social commerce by showing that the effectiveness of fairness on the success of online social referrals largely depends on social distance.</td>\n",
       "    </tr>\n",
       "    <tr>\n",
       "      <td>3</td>\n",
       "      <td>KNOWLEDGE MANAGEMENT SYSTEM USE AND JOB PERFORMANCE: A MULTILEVEL CONTINGENCY MODEL</td>\n",
       "      <td>This paper seeks to develop a better understanding of job performance in the context of a knowledge management system (KMS) implementation. This work adopts the context theorizing approach that informs the conceptualization of KMS use and identification of contingency factors. Specifically, the literature on rich system use is adapted to develop the construct in the context of a KMS. The literature related to task, system, user, and leadership is also drawn upon to identify four contingency-factors-task nonroutineness, perceived support for contextualization, absorptive capacity, and transformational leadership-that affect the KMS use and job performance relationship. The paper argues that rich use of a KMS positively affects job performance and the four contingency factors moderate this relationship. A mixed methods approach that includes a quantitative study (n = 1,441) among knowledge workers in seven business units of a large organization in the finance industry was used to validate the theoretical model. A follow-up qualitative study (n = 48) was conducted in one business unit to cross-validate the findings and explain unsupported findings. Data were collected from multiple sources (i.e., surveys, interviews, and system archives). The results largely supported the model. Theoretical and practical implications of the results are discussed.</td>\n",
       "      <td>MIS QUARTERLY</td>\n",
       "      <td>KNOWLEDGE MANAGEMENT SYSTEM USE AND JOB PERFORMANCE: A MULTILEVEL CONTINGENCY MODEL This paper seeks to develop a better understanding of job performance in the context of a knowledge management system (KMS) implementation. This work adopts the context theorizing approach that informs the conceptualization of KMS use and identification of contingency factors. Specifically, the literature on rich system use is adapted to develop the construct in the context of a KMS. The literature related to task, system, user, and leadership is also drawn upon to identify four contingency-factors-task nonroutineness, perceived support for contextualization, absorptive capacity, and transformational leadership-that affect the KMS use and job performance relationship. The paper argues that rich use of a KMS positively affects job performance and the four contingency factors moderate this relationship. A mixed methods approach that includes a quantitative study (n = 1,441) among knowledge workers in seven business units of a large organization in the finance industry was used to validate the theoretical model. A follow-up qualitative study (n = 48) was conducted in one business unit to cross-validate the findings and explain unsupported findings. Data were collected from multiple sources (i.e., surveys, interviews, and system archives). The results largely supported the model. Theoretical and practical implications of the results are discussed.</td>\n",
       "    </tr>\n",
       "    <tr>\n",
       "      <td>4</td>\n",
       "      <td>REPEATED INTERACTIONS VERSUS SOCIAL TIES: QUANTIFYING THE ECONOMIC VALUE OF TRUST, FORGIVENESS, AND REPUTATION USING A FIELD EXPERIMENT</td>\n",
       "      <td>The growing importance of online social networks provides fertile ground for researchers seeking to gain a deeper understanding of fundamental constructs of human behavior, such as trust and forgiveness, and their linkage to social ties. Through a field experiment that uses data from the Facebook API to measure social ties that connect our subjects, we separate forward-looking instrumental trust from static intrinsic trust and show that the level of instrumental trust and forgiveness, and the effect of forgiveness on deterring future defections, crucially depend on the strength of social ties. We find that the level of trust under social repeated play is greater than the level of trust under anonymous repeated play, which in turn is greater than the level of trust under anonymous one shot games. We also uncover forgiveness as a key mechanism that facilitates the cooperative equilibrium being more stable in the presence of social ties: If the trading partners are socially connected, the equilibrium is more likely to return to the original cooperative one after small disturbances.</td>\n",
       "      <td>MIS QUARTERLY</td>\n",
       "      <td>REPEATED INTERACTIONS VERSUS SOCIAL TIES: QUANTIFYING THE ECONOMIC VALUE OF TRUST, FORGIVENESS, AND REPUTATION USING A FIELD EXPERIMENT The growing importance of online social networks provides fertile ground for researchers seeking to gain a deeper understanding of fundamental constructs of human behavior, such as trust and forgiveness, and their linkage to social ties. Through a field experiment that uses data from the Facebook API to measure social ties that connect our subjects, we separate forward-looking instrumental trust from static intrinsic trust and show that the level of instrumental trust and forgiveness, and the effect of forgiveness on deterring future defections, crucially depend on the strength of social ties. We find that the level of trust under social repeated play is greater than the level of trust under anonymous repeated play, which in turn is greater than the level of trust under anonymous one shot games. We also uncover forgiveness as a key mechanism that facilitates the cooperative equilibrium being more stable in the presence of social ties: If the trading partners are socially connected, the equilibrium is more likely to return to the original cooperative one after small disturbances.</td>\n",
       "    </tr>\n",
       "  </tbody>\n",
       "</table>\n",
       "</div>"
      ],
      "text/plain": [
       "                                                                                                                                        TI  \\\n",
       "0  The Role of Business Intelligence and Communication Technologies in Organizational Agility: A Configurational Approach                    \n",
       "1  OPERATIONAL IT FAILURES, IT VALUE DESTRUCTION, AND BOARD-LEVEL IT GOVERNANCE CHANGES                                                      \n",
       "2  ON THE ROLE OF FAIRNESS AND SOCIAL DISTANCE IN DESIGNING EFFECTIVE SOCIAL REFERRAL SYSTEMS                                                \n",
       "3  KNOWLEDGE MANAGEMENT SYSTEM USE AND JOB PERFORMANCE: A MULTILEVEL CONTINGENCY MODEL                                                       \n",
       "4  REPEATED INTERACTIONS VERSUS SOCIAL TIES: QUANTIFYING THE ECONOMIC VALUE OF TRUST, FORGIVENESS, AND REPUTATION USING A FIELD EXPERIMENT   \n",
       "\n",
       "                                                                                                                                                                                                                                                                                                                                                                                                                                                                                                                                                                                                                                                                                                                                                                                                                                                                                                                                                                                                                                                                                                                                                                                                                                                                                                                                                                                                                                                                                                                                                                                                                                                                                                                                                                                                                                   AB  \\\n",
       "0  This study examines the role that business intelligence (BI) and communication technologies play in how firms may achieve organizational sensing agility, decision making agility, and acting agility in different organizational and environmental contexts. Based on the information-processing view of organizations and dynamic capability theory, we suggest a configurational analytic framework that departs from the standard linear paradigm to examine how IT's effect on agility is embedded in a configuration of organizational and environmental elements. In line with this approach, we use fuzzy-set qualitative comparative analysis (fsQCA) to analyze field survey data from diverse industries. Our findings suggest equifinal pathways to organizational agility and the specific boundary conditions of our middle-range theory that determine what role BI and communication technologies play in organizations' achieving organizational agility. We discuss implications for theory and practice and discuss future research avenues.                                                                                                                                                                                                                                                                                                                                                                                                                                                                                                                                                                                                                                                                                                                                                                      \n",
       "1  This paper presents an empirical study of changes that firms implement in their board-level IT governance (ITG) upon experiencing operational IT failures. Consistent with the separation of oversight from management decisions, board-level ITG is responsible for monitoring managerial IT decisions and policies for controlling IT resources. We expect that operational IT failures indicating inadequacies in board monitoring of controls over IT resources would result in a negative stock market reaction and, in turn, induce firms to improve their board-level ITG. Our expectation is confirmed based on a sample of 110 operational IT failures from U.S. public financial firms. Specifically, our results demonstrate that subsequent to experiencing operational IT failures, firms make improvements to the IT competency level of their boards, and the improvements are proportional to the degree of negative market reaction. However, those improvements are only on the executive side of the board, namely: an increase in the IT experience of internal (executive) directors and an increased turnover rate of CIOs serving on the board. Furthermore, the likelihood of CIO turnover is lower in IT-intensive firms where such turnover could be more disruptive. Our results contribute to understanding the critical connection between operational IT failures and board-level ITG.                                                                                                                                                                                                                                                                                                                                                                                                                 \n",
       "2  Online referral systems help firms attract new customers and expand their customer base by leveraging the social relationships of existing customers. We integrate ultimatum game theory, which focuses on fairness, with motivation theories to investigate the effects of social distance and monetary incentives on the performance of three competing designs for online referral systems: rewarding only or primarily the proposer, rewarding only or primarily the responder, and dividing the reward equally or fairly between the proposer and responder. A set of controlled laboratory and randomized field experiments were conducted to test how the fairness of the split of the reward (equal/fair versus unequal/unfair split of the referral bonus) and social distance (small versus large) between the proposer and the responder jointly affect the performance of online referral systems (the proposer sending an offer and the responder accepting the offer). For a large social distance (acquaintances or weak tie relationships), equally splitting the referral bonus results in the best performance. However, for a small social distance (friends or strong tie relationships), an equal split of the referral reward does not improve referral performance, which suggests that under a small social distance, monetary incentives may not work effectively. Face validity and external validity (generalizability) are ensured using two distinct measures of social distance across several contexts. Through the analysis of the interaction effects of fairness and social distance, our research offers theoretical and practical implications for social commerce by showing that the effectiveness of fairness on the success of online social referrals largely depends on social distance.   \n",
       "3  This paper seeks to develop a better understanding of job performance in the context of a knowledge management system (KMS) implementation. This work adopts the context theorizing approach that informs the conceptualization of KMS use and identification of contingency factors. Specifically, the literature on rich system use is adapted to develop the construct in the context of a KMS. The literature related to task, system, user, and leadership is also drawn upon to identify four contingency-factors-task nonroutineness, perceived support for contextualization, absorptive capacity, and transformational leadership-that affect the KMS use and job performance relationship. The paper argues that rich use of a KMS positively affects job performance and the four contingency factors moderate this relationship. A mixed methods approach that includes a quantitative study (n = 1,441) among knowledge workers in seven business units of a large organization in the finance industry was used to validate the theoretical model. A follow-up qualitative study (n = 48) was conducted in one business unit to cross-validate the findings and explain unsupported findings. Data were collected from multiple sources (i.e., surveys, interviews, and system archives). The results largely supported the model. Theoretical and practical implications of the results are discussed.                                                                                                                                                                                                                                                                                                                                                                                                                \n",
       "4  The growing importance of online social networks provides fertile ground for researchers seeking to gain a deeper understanding of fundamental constructs of human behavior, such as trust and forgiveness, and their linkage to social ties. Through a field experiment that uses data from the Facebook API to measure social ties that connect our subjects, we separate forward-looking instrumental trust from static intrinsic trust and show that the level of instrumental trust and forgiveness, and the effect of forgiveness on deterring future defections, crucially depend on the strength of social ties. We find that the level of trust under social repeated play is greater than the level of trust under anonymous repeated play, which in turn is greater than the level of trust under anonymous one shot games. We also uncover forgiveness as a key mechanism that facilitates the cooperative equilibrium being more stable in the presence of social ties: If the trading partners are socially connected, the equilibrium is more likely to return to the original cooperative one after small disturbances.                                                                                                                                                                                                                                                                                                                                                                                                                                                                                                                                                                                                                                                                                              \n",
       "\n",
       "                                                   SO  \\\n",
       "0  JOURNAL OF THE ASSOCIATION FOR INFORMATION SYSTEMS   \n",
       "1  MIS QUARTERLY                                        \n",
       "2  MIS QUARTERLY                                        \n",
       "3  MIS QUARTERLY                                        \n",
       "4  MIS QUARTERLY                                        \n",
       "\n",
       "                                                                                                                                                                                                                                                                                                                                                                                                                                                                                                                                                                                                                                                                                                                                                                                                                                                                                                                                                                                                                                                                                                                                                                                                                                                                                                                                                                                                                                                                                                                                                                                                                                                                                                                                                                                                                                                                                                                           TI+AB  \n",
       "0  The Role of Business Intelligence and Communication Technologies in Organizational Agility: A Configurational Approach This study examines the role that business intelligence (BI) and communication technologies play in how firms may achieve organizational sensing agility, decision making agility, and acting agility in different organizational and environmental contexts. Based on the information-processing view of organizations and dynamic capability theory, we suggest a configurational analytic framework that departs from the standard linear paradigm to examine how IT's effect on agility is embedded in a configuration of organizational and environmental elements. In line with this approach, we use fuzzy-set qualitative comparative analysis (fsQCA) to analyze field survey data from diverse industries. Our findings suggest equifinal pathways to organizational agility and the specific boundary conditions of our middle-range theory that determine what role BI and communication technologies play in organizations' achieving organizational agility. We discuss implications for theory and practice and discuss future research avenues.                                                                                                                                                                                                                                                                                                                                                                                                                                                                                                                                                                                                                                                                                                                                         \n",
       "1  OPERATIONAL IT FAILURES, IT VALUE DESTRUCTION, AND BOARD-LEVEL IT GOVERNANCE CHANGES This paper presents an empirical study of changes that firms implement in their board-level IT governance (ITG) upon experiencing operational IT failures. Consistent with the separation of oversight from management decisions, board-level ITG is responsible for monitoring managerial IT decisions and policies for controlling IT resources. We expect that operational IT failures indicating inadequacies in board monitoring of controls over IT resources would result in a negative stock market reaction and, in turn, induce firms to improve their board-level ITG. Our expectation is confirmed based on a sample of 110 operational IT failures from U.S. public financial firms. Specifically, our results demonstrate that subsequent to experiencing operational IT failures, firms make improvements to the IT competency level of their boards, and the improvements are proportional to the degree of negative market reaction. However, those improvements are only on the executive side of the board, namely: an increase in the IT experience of internal (executive) directors and an increased turnover rate of CIOs serving on the board. Furthermore, the likelihood of CIO turnover is lower in IT-intensive firms where such turnover could be more disruptive. Our results contribute to understanding the critical connection between operational IT failures and board-level ITG.                                                                                                                                                                                                                                                                                                                                                                                                                      \n",
       "2  ON THE ROLE OF FAIRNESS AND SOCIAL DISTANCE IN DESIGNING EFFECTIVE SOCIAL REFERRAL SYSTEMS Online referral systems help firms attract new customers and expand their customer base by leveraging the social relationships of existing customers. We integrate ultimatum game theory, which focuses on fairness, with motivation theories to investigate the effects of social distance and monetary incentives on the performance of three competing designs for online referral systems: rewarding only or primarily the proposer, rewarding only or primarily the responder, and dividing the reward equally or fairly between the proposer and responder. A set of controlled laboratory and randomized field experiments were conducted to test how the fairness of the split of the reward (equal/fair versus unequal/unfair split of the referral bonus) and social distance (small versus large) between the proposer and the responder jointly affect the performance of online referral systems (the proposer sending an offer and the responder accepting the offer). For a large social distance (acquaintances or weak tie relationships), equally splitting the referral bonus results in the best performance. However, for a small social distance (friends or strong tie relationships), an equal split of the referral reward does not improve referral performance, which suggests that under a small social distance, monetary incentives may not work effectively. Face validity and external validity (generalizability) are ensured using two distinct measures of social distance across several contexts. Through the analysis of the interaction effects of fairness and social distance, our research offers theoretical and practical implications for social commerce by showing that the effectiveness of fairness on the success of online social referrals largely depends on social distance.  \n",
       "3  KNOWLEDGE MANAGEMENT SYSTEM USE AND JOB PERFORMANCE: A MULTILEVEL CONTINGENCY MODEL This paper seeks to develop a better understanding of job performance in the context of a knowledge management system (KMS) implementation. This work adopts the context theorizing approach that informs the conceptualization of KMS use and identification of contingency factors. Specifically, the literature on rich system use is adapted to develop the construct in the context of a KMS. The literature related to task, system, user, and leadership is also drawn upon to identify four contingency-factors-task nonroutineness, perceived support for contextualization, absorptive capacity, and transformational leadership-that affect the KMS use and job performance relationship. The paper argues that rich use of a KMS positively affects job performance and the four contingency factors moderate this relationship. A mixed methods approach that includes a quantitative study (n = 1,441) among knowledge workers in seven business units of a large organization in the finance industry was used to validate the theoretical model. A follow-up qualitative study (n = 48) was conducted in one business unit to cross-validate the findings and explain unsupported findings. Data were collected from multiple sources (i.e., surveys, interviews, and system archives). The results largely supported the model. Theoretical and practical implications of the results are discussed.                                                                                                                                                                                                                                                                                                                                                                                                                      \n",
       "4  REPEATED INTERACTIONS VERSUS SOCIAL TIES: QUANTIFYING THE ECONOMIC VALUE OF TRUST, FORGIVENESS, AND REPUTATION USING A FIELD EXPERIMENT The growing importance of online social networks provides fertile ground for researchers seeking to gain a deeper understanding of fundamental constructs of human behavior, such as trust and forgiveness, and their linkage to social ties. Through a field experiment that uses data from the Facebook API to measure social ties that connect our subjects, we separate forward-looking instrumental trust from static intrinsic trust and show that the level of instrumental trust and forgiveness, and the effect of forgiveness on deterring future defections, crucially depend on the strength of social ties. We find that the level of trust under social repeated play is greater than the level of trust under anonymous repeated play, which in turn is greater than the level of trust under anonymous one shot games. We also uncover forgiveness as a key mechanism that facilitates the cooperative equilibrium being more stable in the presence of social ties: If the trading partners are socially connected, the equilibrium is more likely to return to the original cooperative one after small disturbances.                                                                                                                                                                                                                                                                                                                                                                                                                                                                                                                                                                                                                                                "
      ]
     },
     "execution_count": 2,
     "metadata": {},
     "output_type": "execute_result"
    }
   ],
   "source": [
    "import pandas as pd\n",
    "import numpy as np\n",
    "\n",
    "# set below option to review complete DataFrame column width in output cells\n",
    "pd.set_option('max_colwidth', -1)\n",
    "\n",
    "name = 'us_data_subset.xlsx'\n",
    "df = pd.read_excel(name)\n",
    "df_copy = df.copy()\n",
    "\n",
    "df[['TI','AB']] = df[['TI','AB']].fillna('') \n",
    "df['TI+AB'] = df['TI'] + ' ' + df['AB']\n",
    "df.head()"
   ]
  },
  {
   "cell_type": "code",
   "execution_count": 3,
   "metadata": {},
   "outputs": [
    {
     "data": {
      "text/html": [
       "<div>\n",
       "<style scoped>\n",
       "    .dataframe tbody tr th:only-of-type {\n",
       "        vertical-align: middle;\n",
       "    }\n",
       "\n",
       "    .dataframe tbody tr th {\n",
       "        vertical-align: top;\n",
       "    }\n",
       "\n",
       "    .dataframe thead th {\n",
       "        text-align: right;\n",
       "    }\n",
       "</style>\n",
       "<table border=\"1\" class=\"dataframe\">\n",
       "  <thead>\n",
       "    <tr style=\"text-align: right;\">\n",
       "      <th></th>\n",
       "      <th>SO</th>\n",
       "      <th>TI+AB</th>\n",
       "    </tr>\n",
       "  </thead>\n",
       "  <tbody>\n",
       "    <tr>\n",
       "      <td>0</td>\n",
       "      <td>0</td>\n",
       "      <td>the role of business intelligence and communication technologies in organizational agility: a configurational approach this study examines the role that business intelligence (bi) and communication technologies play in how firms may achieve organizational sensing agility, decision making agility, and acting agility in different organizational and environmental contexts. based on the information-processing view of organizations and dynamic capability theory, we suggest a configurational analytic framework that departs from the standard linear paradigm to examine how it's effect on agility is embedded in a configuration of organizational and environmental elements. in line with this approach, we use fuzzy-set qualitative comparative analysis (fsqca) to analyze field survey data from diverse industries. our findings suggest equifinal pathways to organizational agility and the specific boundary conditions of our middle-range theory that determine what role bi and communication technologies play in organizations' achieving organizational agility. we discuss implications for theory and practice and discuss future research avenues.</td>\n",
       "    </tr>\n",
       "    <tr>\n",
       "      <td>1</td>\n",
       "      <td>1</td>\n",
       "      <td>operational it failures, it value destruction, and board-level it governance changes this paper presents an empirical study of changes that firms implement in their board-level it governance (itg) upon experiencing operational it failures. consistent with the separation of oversight from management decisions, board-level itg is responsible for monitoring managerial it decisions and policies for controlling it resources. we expect that operational it failures indicating inadequacies in board monitoring of controls over it resources would result in a negative stock market reaction and, in turn, induce firms to improve their board-level itg. our expectation is confirmed based on a sample of 110 operational it failures from u.s. public financial firms. specifically, our results demonstrate that subsequent to experiencing operational it failures, firms make improvements to the it competency level of their boards, and the improvements are proportional to the degree of negative market reaction. however, those improvements are only on the executive side of the board, namely: an increase in the it experience of internal (executive) directors and an increased turnover rate of cios serving on the board. furthermore, the likelihood of cio turnover is lower in it-intensive firms where such turnover could be more disruptive. our results contribute to understanding the critical connection between operational it failures and board-level itg.</td>\n",
       "    </tr>\n",
       "    <tr>\n",
       "      <td>2</td>\n",
       "      <td>1</td>\n",
       "      <td>on the role of fairness and social distance in designing effective social referral systems online referral systems help firms attract new customers and expand their customer base by leveraging the social relationships of existing customers. we integrate ultimatum game theory, which focuses on fairness, with motivation theories to investigate the effects of social distance and monetary incentives on the performance of three competing designs for online referral systems: rewarding only or primarily the proposer, rewarding only or primarily the responder, and dividing the reward equally or fairly between the proposer and responder. a set of controlled laboratory and randomized field experiments were conducted to test how the fairness of the split of the reward (equal/fair versus unequal/unfair split of the referral bonus) and social distance (small versus large) between the proposer and the responder jointly affect the performance of online referral systems (the proposer sending an offer and the responder accepting the offer). for a large social distance (acquaintances or weak tie relationships), equally splitting the referral bonus results in the best performance. however, for a small social distance (friends or strong tie relationships), an equal split of the referral reward does not improve referral performance, which suggests that under a small social distance, monetary incentives may not work effectively. face validity and external validity (generalizability) are ensured using two distinct measures of social distance across several contexts. through the analysis of the interaction effects of fairness and social distance, our research offers theoretical and practical implications for social commerce by showing that the effectiveness of fairness on the success of online social referrals largely depends on social distance.</td>\n",
       "    </tr>\n",
       "    <tr>\n",
       "      <td>3</td>\n",
       "      <td>1</td>\n",
       "      <td>knowledge management system use and job performance: a multilevel contingency model this paper seeks to develop a better understanding of job performance in the context of a knowledge management system (kms) implementation. this work adopts the context theorizing approach that informs the conceptualization of kms use and identification of contingency factors. specifically, the literature on rich system use is adapted to develop the construct in the context of a kms. the literature related to task, system, user, and leadership is also drawn upon to identify four contingency-factors-task nonroutineness, perceived support for contextualization, absorptive capacity, and transformational leadership-that affect the kms use and job performance relationship. the paper argues that rich use of a kms positively affects job performance and the four contingency factors moderate this relationship. a mixed methods approach that includes a quantitative study (n = 1,441) among knowledge workers in seven business units of a large organization in the finance industry was used to validate the theoretical model. a follow-up qualitative study (n = 48) was conducted in one business unit to cross-validate the findings and explain unsupported findings. data were collected from multiple sources (i.e., surveys, interviews, and system archives). the results largely supported the model. theoretical and practical implications of the results are discussed.</td>\n",
       "    </tr>\n",
       "    <tr>\n",
       "      <td>4</td>\n",
       "      <td>1</td>\n",
       "      <td>repeated interactions versus social ties: quantifying the economic value of trust, forgiveness, and reputation using a field experiment the growing importance of online social networks provides fertile ground for researchers seeking to gain a deeper understanding of fundamental constructs of human behavior, such as trust and forgiveness, and their linkage to social ties. through a field experiment that uses data from the facebook api to measure social ties that connect our subjects, we separate forward-looking instrumental trust from static intrinsic trust and show that the level of instrumental trust and forgiveness, and the effect of forgiveness on deterring future defections, crucially depend on the strength of social ties. we find that the level of trust under social repeated play is greater than the level of trust under anonymous repeated play, which in turn is greater than the level of trust under anonymous one shot games. we also uncover forgiveness as a key mechanism that facilitates the cooperative equilibrium being more stable in the presence of social ties: if the trading partners are socially connected, the equilibrium is more likely to return to the original cooperative one after small disturbances.</td>\n",
       "    </tr>\n",
       "  </tbody>\n",
       "</table>\n",
       "</div>"
      ],
      "text/plain": [
       "   SO  \\\n",
       "0  0    \n",
       "1  1    \n",
       "2  1    \n",
       "3  1    \n",
       "4  1    \n",
       "\n",
       "                                                                                                                                                                                                                                                                                                                                                                                                                                                                                                                                                                                                                                                                                                                                                                                                                                                                                                                                                                                                                                                                                                                                                                                                                                                                                                                                                                                                                                                                                                                                                                                                                                                                                                                                                                                                                                                                                                                           TI+AB  \n",
       "0  the role of business intelligence and communication technologies in organizational agility: a configurational approach this study examines the role that business intelligence (bi) and communication technologies play in how firms may achieve organizational sensing agility, decision making agility, and acting agility in different organizational and environmental contexts. based on the information-processing view of organizations and dynamic capability theory, we suggest a configurational analytic framework that departs from the standard linear paradigm to examine how it's effect on agility is embedded in a configuration of organizational and environmental elements. in line with this approach, we use fuzzy-set qualitative comparative analysis (fsqca) to analyze field survey data from diverse industries. our findings suggest equifinal pathways to organizational agility and the specific boundary conditions of our middle-range theory that determine what role bi and communication technologies play in organizations' achieving organizational agility. we discuss implications for theory and practice and discuss future research avenues.                                                                                                                                                                                                                                                                                                                                                                                                                                                                                                                                                                                                                                                                                                                                         \n",
       "1  operational it failures, it value destruction, and board-level it governance changes this paper presents an empirical study of changes that firms implement in their board-level it governance (itg) upon experiencing operational it failures. consistent with the separation of oversight from management decisions, board-level itg is responsible for monitoring managerial it decisions and policies for controlling it resources. we expect that operational it failures indicating inadequacies in board monitoring of controls over it resources would result in a negative stock market reaction and, in turn, induce firms to improve their board-level itg. our expectation is confirmed based on a sample of 110 operational it failures from u.s. public financial firms. specifically, our results demonstrate that subsequent to experiencing operational it failures, firms make improvements to the it competency level of their boards, and the improvements are proportional to the degree of negative market reaction. however, those improvements are only on the executive side of the board, namely: an increase in the it experience of internal (executive) directors and an increased turnover rate of cios serving on the board. furthermore, the likelihood of cio turnover is lower in it-intensive firms where such turnover could be more disruptive. our results contribute to understanding the critical connection between operational it failures and board-level itg.                                                                                                                                                                                                                                                                                                                                                                                                                      \n",
       "2  on the role of fairness and social distance in designing effective social referral systems online referral systems help firms attract new customers and expand their customer base by leveraging the social relationships of existing customers. we integrate ultimatum game theory, which focuses on fairness, with motivation theories to investigate the effects of social distance and monetary incentives on the performance of three competing designs for online referral systems: rewarding only or primarily the proposer, rewarding only or primarily the responder, and dividing the reward equally or fairly between the proposer and responder. a set of controlled laboratory and randomized field experiments were conducted to test how the fairness of the split of the reward (equal/fair versus unequal/unfair split of the referral bonus) and social distance (small versus large) between the proposer and the responder jointly affect the performance of online referral systems (the proposer sending an offer and the responder accepting the offer). for a large social distance (acquaintances or weak tie relationships), equally splitting the referral bonus results in the best performance. however, for a small social distance (friends or strong tie relationships), an equal split of the referral reward does not improve referral performance, which suggests that under a small social distance, monetary incentives may not work effectively. face validity and external validity (generalizability) are ensured using two distinct measures of social distance across several contexts. through the analysis of the interaction effects of fairness and social distance, our research offers theoretical and practical implications for social commerce by showing that the effectiveness of fairness on the success of online social referrals largely depends on social distance.  \n",
       "3  knowledge management system use and job performance: a multilevel contingency model this paper seeks to develop a better understanding of job performance in the context of a knowledge management system (kms) implementation. this work adopts the context theorizing approach that informs the conceptualization of kms use and identification of contingency factors. specifically, the literature on rich system use is adapted to develop the construct in the context of a kms. the literature related to task, system, user, and leadership is also drawn upon to identify four contingency-factors-task nonroutineness, perceived support for contextualization, absorptive capacity, and transformational leadership-that affect the kms use and job performance relationship. the paper argues that rich use of a kms positively affects job performance and the four contingency factors moderate this relationship. a mixed methods approach that includes a quantitative study (n = 1,441) among knowledge workers in seven business units of a large organization in the finance industry was used to validate the theoretical model. a follow-up qualitative study (n = 48) was conducted in one business unit to cross-validate the findings and explain unsupported findings. data were collected from multiple sources (i.e., surveys, interviews, and system archives). the results largely supported the model. theoretical and practical implications of the results are discussed.                                                                                                                                                                                                                                                                                                                                                                                                                      \n",
       "4  repeated interactions versus social ties: quantifying the economic value of trust, forgiveness, and reputation using a field experiment the growing importance of online social networks provides fertile ground for researchers seeking to gain a deeper understanding of fundamental constructs of human behavior, such as trust and forgiveness, and their linkage to social ties. through a field experiment that uses data from the facebook api to measure social ties that connect our subjects, we separate forward-looking instrumental trust from static intrinsic trust and show that the level of instrumental trust and forgiveness, and the effect of forgiveness on deterring future defections, crucially depend on the strength of social ties. we find that the level of trust under social repeated play is greater than the level of trust under anonymous repeated play, which in turn is greater than the level of trust under anonymous one shot games. we also uncover forgiveness as a key mechanism that facilitates the cooperative equilibrium being more stable in the presence of social ties: if the trading partners are socially connected, the equilibrium is more likely to return to the original cooperative one after small disturbances.                                                                                                                                                                                                                                                                                                                                                                                                                                                                                                                                                                                                                                                "
      ]
     },
     "execution_count": 3,
     "metadata": {},
     "output_type": "execute_result"
    }
   ],
   "source": [
    "df = df.drop(['TI','AB'], axis = 1)\n",
    "df['TI+AB'] = df['TI+AB'].str.lower()\n",
    "\n",
    "target_dict = {'JOURNAL OF THE ASSOCIATION FOR INFORMATION SYSTEMS': 0,\n",
    "              'MIS QUARTERLY': 1,\n",
    "              'INFORMATION SYSTEMS RESEARCH': 2,\n",
    "              'JOURNAL OF MANAGEMENT INFORMATION SYSTEMS': 3}\n",
    "\n",
    "df['SO'] = df['SO'].map(target_dict) \n",
    "df.head()"
   ]
  },
  {
   "cell_type": "code",
   "execution_count": 4,
   "metadata": {},
   "outputs": [
    {
     "name": "stdout",
     "output_type": "stream",
     "text": [
      "x_train_val shape : (2284,)\n",
      "x_test shape  : (571,)\n",
      "y_train_val shape and target counts: (2284,) (array([0, 1, 2, 3], dtype=int64), array([384, 642, 635, 623], dtype=int64))\n",
      "y_test shape and target counts: (571,) (array([0, 1, 2, 3], dtype=int64), array([ 96, 160, 159, 156], dtype=int64))\n"
     ]
    }
   ],
   "source": [
    "from sklearn.model_selection import train_test_split\n",
    "\n",
    "features = df['TI+AB']\n",
    "target = df['SO']\n",
    "\n",
    "x_train_val, x_test, y_train_val, y_test = \\\n",
    "                    train_test_split(features, target, test_size = 0.20, stratify = target, random_state = 32)\n",
    "\n",
    "print('x_train_val shape :', x_train_val.shape)\n",
    "print('x_test shape  :', x_test.shape)\n",
    "print('y_train_val shape and target counts: {} {}'.format(y_train_val.shape, np.unique(y_train_val, return_counts = True)))\n",
    "print('y_test shape and target counts: {} {}'.format(y_test.shape, np.unique(y_test, return_counts = True)))"
   ]
  },
  {
   "cell_type": "code",
   "execution_count": 5,
   "metadata": {},
   "outputs": [
    {
     "name": "stdout",
     "output_type": "stream",
     "text": [
      "Found 14362 unique tokens in training data\n",
      "\n",
      "x_train shape : (1827,)\n",
      "x_val shape  : (457,)\n",
      "y_train shape and target counts: (1827,) (array([0, 1, 2, 3], dtype=int64), array([307, 514, 508, 498], dtype=int64))\n",
      "y_val shape and target counts: (457,) (array([0, 1, 2, 3], dtype=int64), array([ 77, 128, 127, 125], dtype=int64))\n",
      "\n",
      "x_train_one_hot shape : (1827, 14363)\n",
      "x_val_one_hot shape   : (457, 14363)\n",
      "x_test_one_hot shape  : (571, 14363)\n",
      "y_train shape         : (1827,)\n",
      "y_val shape           : (457,)\n",
      "y_test shape          : (571,)\n"
     ]
    }
   ],
   "source": [
    "import tensorflow\n",
    "import tensorflow.keras as keras\n",
    "from keras.preprocessing.text import Tokenizer\n",
    "from keras.utils import to_categorical\n",
    "\n",
    "# Create a tokenizer -> configured to consider entire unique vocabulary\n",
    "tokenizer = Tokenizer()\n",
    "\n",
    "# Can be configured to only take into account the top-N most common words using below\n",
    "#vocab_count = 10000\n",
    "#tokenizer = Tokenizer(num_words = vocab_count)\n",
    "\n",
    "# Build the word index using training & validation data only \n",
    "tokenizer.fit_on_texts(x_train_val)\n",
    "\n",
    "# Computed word index \n",
    "word_index = tokenizer.word_index\n",
    "print('Found {} unique tokens in training data\\n'.format(len(word_index)))\n",
    "\n",
    "# Convert strings into lists of integer indices -> not required here\n",
    "#sequences = tokenizer.texts_to_sequences(x_train_val)\n",
    "\n",
    "x_train, x_val, y_train, y_val = \\\n",
    "                    train_test_split(x_train_val, y_train_val, test_size = 0.20, stratify = y_train_val, random_state = 32)\n",
    "\n",
    "print('x_train shape :', x_train.shape)\n",
    "print('x_val shape  :', x_val.shape)\n",
    "print('y_train shape and target counts: {} {}'.format(y_train.shape, np.unique(y_train, return_counts = True)))\n",
    "print('y_val shape and target counts: {} {}\\n'.format(y_val.shape, np.unique(y_val, return_counts = True)))\n",
    "\n",
    "# Convert input words to one-hot binary representations based on word index created using training and validation data\n",
    "x_train_val_one_hot = tokenizer.texts_to_matrix(x_train_val, mode='binary')\n",
    "x_train_one_hot = tokenizer.texts_to_matrix(x_train, mode='binary')\n",
    "x_val_one_hot = tokenizer.texts_to_matrix(x_val, mode='binary')\n",
    "x_test_one_hot = tokenizer.texts_to_matrix(x_test, mode='binary')\n",
    "\n",
    "# One hot encode the target variable -> not encoding, instead using sparse categorical cross entropy loss function\n",
    "#y_train_one_hot = to_categorical(y_train)\n",
    "#y_val_one_hot = to_categorical(y_val)\n",
    "#y_test_one_hot = to_categorical(y_test)\n",
    "\n",
    "print('x_train_one_hot shape :', x_train_one_hot.shape)\n",
    "print('x_val_one_hot shape   :', x_val_one_hot.shape)\n",
    "print('x_test_one_hot shape  :', x_test_one_hot.shape)\n",
    "print('y_train shape         :', y_train.shape)\n",
    "print('y_val shape           :', y_val.shape)\n",
    "print('y_test shape          :', y_test.shape)"
   ]
  },
  {
   "cell_type": "code",
   "execution_count": 20,
   "metadata": {},
   "outputs": [],
   "source": [
    "from keras import models\n",
    "from keras import layers\n",
    "from keras import optimizers\n",
    "from keras import regularizers\n",
    "\n",
    "def train_model(x_train, y_train, x_val, y_val, word_index_len, num_hidden_units_1, num_hidden_units_2, \n",
    "                epochs, batch_size, learning_rate):\n",
    "    model = models.Sequential()\n",
    "    #model.add(layers.Dense(num_hidden_units_1, activation = 'relu', input_shape = ((word_index_len,)),\n",
    "    model.add(layers.Dense(num_hidden_units_1, activation = 'relu', input_shape = ((200,)),\n",
    "                           kernel_regularizer = regularizers.l1_l2(l1=0.001, l2=0.001)))\n",
    "                           #kernel_regularizer = regularizers.l1(0.001)))\n",
    "    model.add(layers.Dropout(0.5))\n",
    "    model.add(layers.Dense(num_hidden_units_2, activation = 'relu', \n",
    "                           kernel_regularizer = regularizers.l1_l2(l1=0.001, l2=0.001)))\n",
    "                           #kernel_regularizer = regularizers.l1(0.001)))\n",
    "    model.add(layers.Dropout(0.5))\n",
    "    #model.add(layers.Dense(32, activation = 'relu'))\n",
    "    #model.add(layers.Dropout(0.5))\n",
    "    model.add(layers.Dense(4, activation = 'softmax'))\n",
    "    model.summary()\n",
    "    \n",
    "    #model.compile(loss = 'categorical_crossentropy', \n",
    "    model.compile(loss = 'sparse_categorical_crossentropy', \n",
    "                  optimizer = optimizers.RMSprop(lr = learning_rate), \n",
    "                  metrics = ['accuracy'])\n",
    "    \n",
    "    history = model.fit(x_train, y_train, epochs = epochs, batch_size = batch_size, validation_data = (x_val, y_val))\n",
    "    return (history, model)"
   ]
  },
  {
   "cell_type": "code",
   "execution_count": 22,
   "metadata": {},
   "outputs": [
    {
     "name": "stdout",
     "output_type": "stream",
     "text": [
      "Model: \"sequential_2\"\n",
      "_________________________________________________________________\n",
      "Layer (type)                 Output Shape              Param #   \n",
      "=================================================================\n",
      "dense_6 (Dense)              (None, 64)                12864     \n",
      "_________________________________________________________________\n",
      "dropout_4 (Dropout)          (None, 64)                0         \n",
      "_________________________________________________________________\n",
      "dense_7 (Dense)              (None, 32)                2080      \n",
      "_________________________________________________________________\n",
      "dropout_5 (Dropout)          (None, 32)                0         \n",
      "_________________________________________________________________\n",
      "dense_8 (Dense)              (None, 4)                 132       \n",
      "=================================================================\n",
      "Total params: 15,076\n",
      "Trainable params: 15,076\n",
      "Non-trainable params: 0\n",
      "_________________________________________________________________\n",
      "Epoch 1/20\n",
      "15/15 [==============================] - 0s 12ms/step - loss: 2013.3738 - accuracy: 0.2304 - val_loss: 513.9993 - val_accuracy: 0.3107\n",
      "Epoch 2/20\n",
      "15/15 [==============================] - 0s 3ms/step - loss: 1144.0793 - accuracy: 0.2573 - val_loss: 333.3417 - val_accuracy: 0.2954\n",
      "Epoch 3/20\n",
      "15/15 [==============================] - 0s 4ms/step - loss: 820.6343 - accuracy: 0.2419 - val_loss: 229.2822 - val_accuracy: 0.3107\n",
      "Epoch 4/20\n",
      "15/15 [==============================] - 0s 3ms/step - loss: 537.4859 - accuracy: 0.2671 - val_loss: 166.2593 - val_accuracy: 0.2823\n",
      "Epoch 5/20\n",
      "15/15 [==============================] - 0s 4ms/step - loss: 442.8983 - accuracy: 0.2408 - val_loss: 118.9014 - val_accuracy: 0.2779\n",
      "Epoch 6/20\n",
      "15/15 [==============================] - 0s 4ms/step - loss: 321.1891 - accuracy: 0.2594 - val_loss: 84.0126 - val_accuracy: 0.2516\n",
      "Epoch 7/20\n",
      "15/15 [==============================] - 0s 4ms/step - loss: 228.6079 - accuracy: 0.2830 - val_loss: 60.8940 - val_accuracy: 0.2363\n",
      "Epoch 8/20\n",
      "15/15 [==============================] - 0s 4ms/step - loss: 185.3210 - accuracy: 0.2677 - val_loss: 46.7195 - val_accuracy: 0.2451\n",
      "Epoch 9/20\n",
      "15/15 [==============================] - 0s 3ms/step - loss: 133.6895 - accuracy: 0.2830 - val_loss: 35.0999 - val_accuracy: 0.2516\n",
      "Epoch 10/20\n",
      "15/15 [==============================] - 0s 4ms/step - loss: 96.7001 - accuracy: 0.2841 - val_loss: 26.5072 - val_accuracy: 0.2560\n",
      "Epoch 11/20\n",
      "15/15 [==============================] - 0s 4ms/step - loss: 79.1247 - accuracy: 0.2928 - val_loss: 19.5775 - val_accuracy: 0.2735\n",
      "Epoch 12/20\n",
      "15/15 [==============================] - 0s 3ms/step - loss: 52.0720 - accuracy: 0.2928 - val_loss: 15.4684 - val_accuracy: 0.2735\n",
      "Epoch 13/20\n",
      "15/15 [==============================] - 0s 4ms/step - loss: 38.4259 - accuracy: 0.2857 - val_loss: 11.2805 - val_accuracy: 0.2604\n",
      "Epoch 14/20\n",
      "15/15 [==============================] - 0s 3ms/step - loss: 25.1815 - accuracy: 0.2715 - val_loss: 9.0105 - val_accuracy: 0.3151\n",
      "Epoch 15/20\n",
      "15/15 [==============================] - 0s 4ms/step - loss: 16.8658 - accuracy: 0.2693 - val_loss: 6.5493 - val_accuracy: 0.2779\n",
      "Epoch 16/20\n",
      "15/15 [==============================] - 0s 3ms/step - loss: 10.7479 - accuracy: 0.2693 - val_loss: 4.8958 - val_accuracy: 0.2932\n",
      "Epoch 17/20\n",
      "15/15 [==============================] - 0s 4ms/step - loss: 9.0016 - accuracy: 0.2731 - val_loss: 3.9555 - val_accuracy: 0.2735\n",
      "Epoch 18/20\n",
      "15/15 [==============================] - 0s 3ms/step - loss: 6.1687 - accuracy: 0.2813 - val_loss: 3.4966 - val_accuracy: 0.2888\n",
      "Epoch 19/20\n",
      "15/15 [==============================] - 0s 4ms/step - loss: 5.3184 - accuracy: 0.2764 - val_loss: 3.2111 - val_accuracy: 0.2888\n",
      "Epoch 20/20\n",
      "15/15 [==============================] - 0s 3ms/step - loss: 4.0854 - accuracy: 0.2720 - val_loss: 3.0274 - val_accuracy: 0.2888\n"
     ]
    }
   ],
   "source": [
    "# Tune the hyper parameters -> hidden units in both layers, epochs, batch size, learning rate\n",
    "\n",
    "#history, model = train_model(x_train_one_hot, y_train_one_hot, x_val_one_hot, y_val_one_hot, \n",
    "                              #word_index_len = len(word_index) + 1,  \n",
    "history, model = train_model(x_train_fixlen, y_train, x_val_fixlen, y_val, word_index_len = len(word_index) + 1, \n",
    "#history, model = train_model(x_train_one_hot, y_train, x_val_one_hot, y_val, word_index_len = vocab_count, \n",
    "                             num_hidden_units_1 = 64, num_hidden_units_2 = 32, \n",
    "                             epochs = 20, batch_size = 128, learning_rate = 0.001)"
   ]
  },
  {
   "cell_type": "code",
   "execution_count": 34,
   "metadata": {},
   "outputs": [
    {
     "name": "stdout",
     "output_type": "stream",
     "text": [
      "Model: \"sequential\"\n",
      "_________________________________________________________________\n",
      "Layer (type)                 Output Shape              Param #   \n",
      "=================================================================\n",
      "dense (Dense)                (None, 64)                919296    \n",
      "_________________________________________________________________\n",
      "dropout (Dropout)            (None, 64)                0         \n",
      "_________________________________________________________________\n",
      "dense_1 (Dense)              (None, 32)                2080      \n",
      "_________________________________________________________________\n",
      "dropout_1 (Dropout)          (None, 32)                0         \n",
      "_________________________________________________________________\n",
      "dense_2 (Dense)              (None, 4)                 132       \n",
      "=================================================================\n",
      "Total params: 921,508\n",
      "Trainable params: 921,508\n",
      "Non-trainable params: 0\n",
      "_________________________________________________________________\n",
      "Epoch 1/20\n",
      "15/15 [==============================] - 1s 45ms/step - loss: 4.9097 - accuracy: 0.2715 - val_loss: 2.4836 - val_accuracy: 0.3129\n",
      "Epoch 2/20\n",
      "15/15 [==============================] - 0s 29ms/step - loss: 2.3425 - accuracy: 0.3224 - val_loss: 2.2119 - val_accuracy: 0.3195\n",
      "Epoch 3/20\n",
      "15/15 [==============================] - 0s 32ms/step - loss: 2.1960 - accuracy: 0.3372 - val_loss: 2.1727 - val_accuracy: 0.3698\n",
      "Epoch 4/20\n",
      "15/15 [==============================] - 0s 31ms/step - loss: 2.1731 - accuracy: 0.3662 - val_loss: 2.1453 - val_accuracy: 0.3239\n",
      "Epoch 5/20\n",
      "15/15 [==============================] - 0s 30ms/step - loss: 2.1213 - accuracy: 0.3892 - val_loss: 2.1198 - val_accuracy: 0.3545\n",
      "Epoch 6/20\n",
      "15/15 [==============================] - 1s 34ms/step - loss: 2.0987 - accuracy: 0.3853 - val_loss: 2.0797 - val_accuracy: 0.3807\n",
      "Epoch 7/20\n",
      "15/15 [==============================] - 0s 29ms/step - loss: 2.0671 - accuracy: 0.3946 - val_loss: 2.0755 - val_accuracy: 0.3807\n",
      "Epoch 8/20\n",
      "15/15 [==============================] - 0s 32ms/step - loss: 2.0490 - accuracy: 0.4143 - val_loss: 2.0434 - val_accuracy: 0.3939\n",
      "Epoch 9/20\n",
      "15/15 [==============================] - 0s 31ms/step - loss: 2.0226 - accuracy: 0.4269 - val_loss: 2.0674 - val_accuracy: 0.3501\n",
      "Epoch 10/20\n",
      "15/15 [==============================] - 0s 30ms/step - loss: 2.0108 - accuracy: 0.4401 - val_loss: 2.0646 - val_accuracy: 0.3282\n",
      "Epoch 11/20\n",
      "15/15 [==============================] - 0s 26ms/step - loss: 1.9901 - accuracy: 0.4477 - val_loss: 2.0346 - val_accuracy: 0.3982\n",
      "Epoch 12/20\n",
      "15/15 [==============================] - 0s 27ms/step - loss: 1.9819 - accuracy: 0.4691 - val_loss: 2.0248 - val_accuracy: 0.4026\n",
      "Epoch 13/20\n",
      "15/15 [==============================] - 0s 28ms/step - loss: 1.9533 - accuracy: 0.4943 - val_loss: 2.0373 - val_accuracy: 0.3676\n",
      "Epoch 14/20\n",
      "15/15 [==============================] - 0s 28ms/step - loss: 1.9426 - accuracy: 0.4937 - val_loss: 2.0237 - val_accuracy: 0.4289\n",
      "Epoch 15/20\n",
      "15/15 [==============================] - 0s 29ms/step - loss: 1.9225 - accuracy: 0.5085 - val_loss: 2.0354 - val_accuracy: 0.3851\n",
      "Epoch 16/20\n",
      "15/15 [==============================] - 0s 32ms/step - loss: 1.9259 - accuracy: 0.5068 - val_loss: 2.0377 - val_accuracy: 0.4070\n",
      "Epoch 17/20\n",
      "15/15 [==============================] - 0s 31ms/step - loss: 1.9048 - accuracy: 0.5260 - val_loss: 2.0388 - val_accuracy: 0.4004\n",
      "Epoch 18/20\n",
      "15/15 [==============================] - 0s 32ms/step - loss: 1.8837 - accuracy: 0.5441 - val_loss: 2.0584 - val_accuracy: 0.4179\n",
      "Epoch 19/20\n",
      "15/15 [==============================] - 0s 29ms/step - loss: 1.8733 - accuracy: 0.5621 - val_loss: 2.0536 - val_accuracy: 0.4398\n",
      "Epoch 20/20\n",
      "15/15 [==============================] - 0s 33ms/step - loss: 1.8599 - accuracy: 0.5747 - val_loss: 2.0577 - val_accuracy: 0.4464\n"
     ]
    }
   ],
   "source": [
    "# Tune the hyper parameters -> hidden units in both layers, epochs, batch size, learning rate\n",
    "\n",
    "#history, model = train_model(x_train_one_hot, y_train_one_hot, x_val_one_hot, y_val_one_hot, \n",
    "                              #word_index_len = len(word_index) + 1,  \n",
    "history, model = train_model(x_train_one_hot, y_train, x_val_one_hot, y_val, word_index_len = len(word_index) + 1, \n",
    "#history, model = train_model(x_train_one_hot, y_train, x_val_one_hot, y_val, word_index_len = vocab_count, \n",
    "                             num_hidden_units_1 = 64, num_hidden_units_2 = 32, \n",
    "                             epochs = 20, batch_size = 128, learning_rate = 0.001)"
   ]
  },
  {
   "cell_type": "code",
   "execution_count": 7,
   "metadata": {},
   "outputs": [
    {
     "ename": "NameError",
     "evalue": "name 'history' is not defined",
     "output_type": "error",
     "traceback": [
      "\u001b[1;31m---------------------------------------------------------------------------\u001b[0m",
      "\u001b[1;31mNameError\u001b[0m                                 Traceback (most recent call last)",
      "\u001b[1;32m<ipython-input-7-6b1dedca04bd>\u001b[0m in \u001b[0;36m<module>\u001b[1;34m\u001b[0m\n\u001b[0;32m      2\u001b[0m \u001b[1;33m\u001b[0m\u001b[0m\n\u001b[0;32m      3\u001b[0m \u001b[1;31m# Plot the Loss curve\u001b[0m\u001b[1;33m\u001b[0m\u001b[1;33m\u001b[0m\u001b[1;33m\u001b[0m\u001b[0m\n\u001b[1;32m----> 4\u001b[1;33m \u001b[0mloss\u001b[0m \u001b[1;33m=\u001b[0m \u001b[0mhistory\u001b[0m\u001b[1;33m.\u001b[0m\u001b[0mhistory\u001b[0m\u001b[1;33m[\u001b[0m\u001b[1;34m'loss'\u001b[0m\u001b[1;33m]\u001b[0m\u001b[1;33m\u001b[0m\u001b[1;33m\u001b[0m\u001b[0m\n\u001b[0m\u001b[0;32m      5\u001b[0m \u001b[0mval_loss\u001b[0m \u001b[1;33m=\u001b[0m \u001b[0mhistory\u001b[0m\u001b[1;33m.\u001b[0m\u001b[0mhistory\u001b[0m\u001b[1;33m[\u001b[0m\u001b[1;34m'val_loss'\u001b[0m\u001b[1;33m]\u001b[0m\u001b[1;33m\u001b[0m\u001b[1;33m\u001b[0m\u001b[0m\n\u001b[0;32m      6\u001b[0m \u001b[0mepochs\u001b[0m \u001b[1;33m=\u001b[0m \u001b[0mrange\u001b[0m\u001b[1;33m(\u001b[0m\u001b[1;36m1\u001b[0m\u001b[1;33m,\u001b[0m \u001b[0mlen\u001b[0m\u001b[1;33m(\u001b[0m\u001b[0mloss\u001b[0m\u001b[1;33m)\u001b[0m \u001b[1;33m+\u001b[0m \u001b[1;36m1\u001b[0m\u001b[1;33m)\u001b[0m\u001b[1;33m\u001b[0m\u001b[1;33m\u001b[0m\u001b[0m\n",
      "\u001b[1;31mNameError\u001b[0m: name 'history' is not defined"
     ]
    }
   ],
   "source": [
    "import matplotlib.pyplot as plt\n",
    "\n",
    "# Plot the Loss curve \n",
    "loss = history.history['loss']\n",
    "val_loss = history.history['val_loss']\n",
    "epochs = range(1, len(loss) + 1)\n",
    "\n",
    "plt.plot(epochs, loss, 'b', label='Training Loss')\n",
    "plt.plot(epochs, val_loss, 'bo', label='Validation Loss')\n",
    "plt.title('Training and Validation Loss')\n",
    "plt.xlabel('Epochs')\n",
    "plt.ylabel('Loss')\n",
    "plt.legend()\n",
    "plt.show()\n",
    "\n",
    "plt.clf()   # clear figure\n",
    "\n",
    "# Plot the Accuracy curve \n",
    "acc = history.history['accuracy']\n",
    "val_acc = history.history['val_accuracy']\n",
    "epochs = range(1, len(acc) + 1)\n",
    "\n",
    "plt.plot(epochs, acc, 'b', label='Training Accuracy')\n",
    "plt.plot(epochs, val_acc, 'bo', label='Validation Accuracy')\n",
    "plt.title('Training and Validation Accuracy')\n",
    "plt.xlabel('Epochs')\n",
    "plt.ylabel('Accuracy')\n",
    "plt.legend()\n",
    "plt.show()"
   ]
  },
  {
   "cell_type": "code",
   "execution_count": 36,
   "metadata": {},
   "outputs": [
    {
     "name": "stdout",
     "output_type": "stream",
     "text": [
      "18/18 [==============================] - 0s 5ms/step - loss: 2.0955 - accuracy: 0.3888\n",
      "Test_Loss:  2.09554123878479\n",
      "Test_Accuracy:  0.38879159092903137\n"
     ]
    }
   ],
   "source": [
    "test_loss, test_acc = model.evaluate(x_test_one_hot, y_test)\n",
    "print('Test_Loss: ', test_loss)\n",
    "print('Test_Accuracy: ', test_acc)"
   ]
  },
  {
   "cell_type": "code",
   "execution_count": 37,
   "metadata": {},
   "outputs": [
    {
     "name": "stdout",
     "output_type": "stream",
     "text": [
      "\n",
      "Confusion Matrix:\n",
      " [[22 45 19 10]\n",
      " [17 89 36 18]\n",
      " [ 8 62 65 24]\n",
      " [ 7 57 46 46]]\n",
      "\n",
      "Classification Report:\n",
      "                                                      precision    recall  f1-score   support\n",
      "\n",
      "JOURNAL OF THE ASSOCIATION FOR INFORMATION SYSTEMS       0.41      0.23      0.29        96\n",
      "                                     MIS QUARTERLY       0.35      0.56      0.43       160\n",
      "                      INFORMATION SYSTEMS RESEARCH       0.39      0.41      0.40       159\n",
      "         JOURNAL OF MANAGEMENT INFORMATION SYSTEMS       0.47      0.29      0.36       156\n",
      "\n",
      "                                          accuracy                           0.39       571\n",
      "                                         macro avg       0.41      0.37      0.37       571\n",
      "                                      weighted avg       0.40      0.39      0.38       571\n",
      "\n"
     ]
    }
   ],
   "source": [
    "from sklearn.metrics import confusion_matrix, classification_report\n",
    "\n",
    "y_test_pred_prob = model.predict(x_test_one_hot)\n",
    "y_test_pred = np.zeros((len(y_test_pred_prob),))\n",
    "\n",
    "for i in range(len(y_test_pred_prob)):\n",
    "    y_test_pred[i] = np.argmax(y_test_pred_prob[i])\n",
    "    \n",
    "print('\\nConfusion Matrix:\\n', confusion_matrix(y_test, y_test_pred))\n",
    "print('\\nClassification Report:\\n ', classification_report(y_test, y_test_pred, target_names = target_dict))"
   ]
  },
  {
   "cell_type": "code",
   "execution_count": 423,
   "metadata": {},
   "outputs": [
    {
     "data": {
      "text/plain": [
       "LogisticRegressionCV(Cs=array([1.00000000e-05, 1.29154967e-04, 1.66810054e-03, 2.15443469e-02,\n",
       "       2.78255940e-01, 3.59381366e+00, 4.64158883e+01, 5.99484250e+02,\n",
       "       7.74263683e+03, 1.00000000e+05]),\n",
       "                     cv=5, max_iter=1000, n_jobs=-1, random_state=32)"
      ]
     },
     "execution_count": 423,
     "metadata": {},
     "output_type": "execute_result"
    }
   ],
   "source": [
    "from sklearn.linear_model import LogisticRegressionCV\n",
    "\n",
    "model_lr = LogisticRegressionCV(cv = 5, max_iter=1000, Cs = np.logspace(-5, 5, 10), random_state = 32, n_jobs = -1)\n",
    "model_lr.fit(x_train_val_one_hot, y_train_val)"
   ]
  },
  {
   "cell_type": "code",
   "execution_count": 424,
   "metadata": {},
   "outputs": [
    {
     "name": "stdout",
     "output_type": "stream",
     "text": [
      "Train_Val Accuracy:  0.9159369527145359\n",
      "Test Accuracy:  0.4290718038528897\n",
      "\n",
      "Confusion Matrix:\n",
      " [[27 33 19 17]\n",
      " [17 71 35 37]\n",
      " [ 7 47 62 43]\n",
      " [ 8 24 39 85]]\n",
      "\n",
      "Classification Report:\n",
      "                                                      precision    recall  f1-score   support\n",
      "\n",
      "JOURNAL OF THE ASSOCIATION FOR INFORMATION SYSTEMS       0.46      0.28      0.35        96\n",
      "                                     MIS QUARTERLY       0.41      0.44      0.42       160\n",
      "                      INFORMATION SYSTEMS RESEARCH       0.40      0.39      0.39       159\n",
      "         JOURNAL OF MANAGEMENT INFORMATION SYSTEMS       0.47      0.54      0.50       156\n",
      "\n",
      "                                          accuracy                           0.43       571\n",
      "                                         macro avg       0.43      0.41      0.42       571\n",
      "                                      weighted avg       0.43      0.43      0.42       571\n",
      "\n"
     ]
    }
   ],
   "source": [
    "lr_train_val_acc = model_lr.score(x_train_val_one_hot, y_train_val)\n",
    "lr_test_acc = model_lr.score(x_test_one_hot, y_test)\n",
    "print('Train_Val Accuracy: ', lr_train_val_acc)\n",
    "print('Test Accuracy: ', lr_test_acc)\n",
    "\n",
    "y_test_pred_lr = model_lr.predict(x_test_one_hot)\n",
    "\n",
    "print('\\nConfusion Matrix:\\n', confusion_matrix(y_test, y_test_pred_lr))\n",
    "print('\\nClassification Report:\\n ', classification_report(y_test, y_test_pred_lr, target_names = target_dict))"
   ]
  },
  {
   "cell_type": "code",
   "execution_count": null,
   "metadata": {},
   "outputs": [],
   "source": []
  },
  {
   "cell_type": "code",
   "execution_count": null,
   "metadata": {},
   "outputs": [],
   "source": []
  },
  {
   "cell_type": "code",
   "execution_count": 25,
   "metadata": {},
   "outputs": [
    {
     "name": "stdout",
     "output_type": "stream",
     "text": [
      "Found 9 unique tokens.\n"
     ]
    }
   ],
   "source": [
    "from keras.preprocessing.text import Tokenizer\n",
    "\n",
    "samples = ['The cat sat on the mat.', 'The dog ate my homework.']\n",
    "\n",
    "# We create a tokenizer, configured to only take\n",
    "# into account the top-1000 most common words\n",
    "tokenizer = Tokenizer(num_words=5)\n",
    "# This builds the word index\n",
    "tokenizer.fit_on_texts(samples)\n",
    "\n",
    "# This turns strings into lists of integer indices.\n",
    "sequences = tokenizer.texts_to_sequences(samples)\n",
    "\n",
    "# You could also directly get the one-hot binary representations.\n",
    "# Note that other vectorization modes than one-hot encoding are supported!\n",
    "one_hot_results = tokenizer.texts_to_matrix(samples, mode='binary')\n",
    "\n",
    "# This is how you can recover the word index that was computed\n",
    "word_index = tokenizer.word_index\n",
    "print('Found %s unique tokens.' % len(word_index))"
   ]
  },
  {
   "cell_type": "code",
   "execution_count": 26,
   "metadata": {},
   "outputs": [
    {
     "data": {
      "text/plain": [
       "5"
      ]
     },
     "execution_count": 26,
     "metadata": {},
     "output_type": "execute_result"
    }
   ],
   "source": [
    "len(one_hot_results[1])"
   ]
  },
  {
   "cell_type": "code",
   "execution_count": 27,
   "metadata": {},
   "outputs": [
    {
     "data": {
      "text/plain": [
       "[[1, 2, 3, 4, 1], [1]]"
      ]
     },
     "execution_count": 27,
     "metadata": {},
     "output_type": "execute_result"
    }
   ],
   "source": [
    "sequences"
   ]
  },
  {
   "cell_type": "code",
   "execution_count": 52,
   "metadata": {},
   "outputs": [
    {
     "name": "stdout",
     "output_type": "stream",
     "text": [
      "Loading data...\n",
      "25000 train sequences\n",
      "25000 test sequences\n",
      "Pad sequences (samples x time)\n",
      "input_train shape: (25000, 500)\n",
      "input_test shape: (25000, 500)\n"
     ]
    }
   ],
   "source": [
    "from keras.datasets import imdb\n",
    "from keras.preprocessing import sequence\n",
    "\n",
    "max_features = 10000  # number of words to consider as features\n",
    "maxlen = 500  # cut texts after this number of words (among top max_features most common words)\n",
    "batch_size = 32\n",
    "\n",
    "print('Loading data...')\n",
    "(input_train, y_train), (input_test, y_test) = imdb.load_data(num_words=max_features)\n",
    "print(len(input_train), 'train sequences')\n",
    "print(len(input_test), 'test sequences')\n",
    "\n",
    "print('Pad sequences (samples x time)')\n",
    "input_train = sequence.pad_sequences(input_train, maxlen=maxlen)\n",
    "input_test = sequence.pad_sequences(input_test, maxlen=maxlen)\n",
    "print('input_train shape:', input_train.shape)\n",
    "print('input_test shape:', input_test.shape)"
   ]
  },
  {
   "cell_type": "code",
   "execution_count": 54,
   "metadata": {},
   "outputs": [
    {
     "name": "stdout",
     "output_type": "stream",
     "text": [
      "Epoch 1/10\n",
      "157/157 [==============================] - 19s 124ms/step - loss: 0.5821 - acc: 0.6806 - val_loss: 0.4613 - val_acc: 0.8004\n",
      "Epoch 2/10\n",
      "157/157 [==============================] - 19s 119ms/step - loss: 0.3584 - acc: 0.8548 - val_loss: 0.3659 - val_acc: 0.8448\n",
      "Epoch 3/10\n",
      "157/157 [==============================] - 20s 130ms/step - loss: 0.2792 - acc: 0.8918 - val_loss: 0.3620 - val_acc: 0.8520\n",
      "Epoch 4/10\n",
      "157/157 [==============================] - 21s 133ms/step - loss: 0.2165 - acc: 0.9193 - val_loss: 0.3335 - val_acc: 0.8634\n",
      "Epoch 5/10\n",
      "157/157 [==============================] - 19s 120ms/step - loss: 0.1712 - acc: 0.9360 - val_loss: 0.3842 - val_acc: 0.8584\n",
      "Epoch 6/10\n",
      "157/157 [==============================] - 20s 125ms/step - loss: 0.1343 - acc: 0.9516 - val_loss: 0.4251 - val_acc: 0.8208\n",
      "Epoch 7/10\n",
      "157/157 [==============================] - 20s 127ms/step - loss: 0.0985 - acc: 0.9674 - val_loss: 0.5257 - val_acc: 0.7844\n",
      "Epoch 8/10\n",
      "157/157 [==============================] - 19s 124ms/step - loss: 0.0612 - acc: 0.9805 - val_loss: 0.5521 - val_acc: 0.8206\n",
      "Epoch 9/10\n",
      "157/157 [==============================] - 19s 124ms/step - loss: 0.0451 - acc: 0.9860 - val_loss: 0.6519 - val_acc: 0.7656\n",
      "Epoch 10/10\n",
      "157/157 [==============================] - 18s 117ms/step - loss: 0.0306 - acc: 0.9909 - val_loss: 0.5497 - val_acc: 0.8344\n"
     ]
    }
   ],
   "source": [
    "import tensorflow\n",
    "import tensorflow.keras as keras\n",
    "from keras.layers import Dense\n",
    "from keras.models import Sequential\n",
    "from keras.layers import Embedding, SimpleRNN\n",
    "\n",
    "model = Sequential()\n",
    "model.add(Embedding(max_features, 32, input_length = maxlen))\n",
    "model.add(SimpleRNN(32))\n",
    "model.add(Dense(1, activation='sigmoid'))\n",
    "\n",
    "model.compile(optimizer='rmsprop', loss='binary_crossentropy', metrics=['acc'])\n",
    "history = model.fit(input_train, y_train,\n",
    "                    epochs=10,\n",
    "                    batch_size=128,\n",
    "                    validation_split=0.2)"
   ]
  },
  {
   "cell_type": "code",
   "execution_count": 106,
   "metadata": {},
   "outputs": [
    {
     "data": {
      "text/plain": [
       "array([1.00000000e-07, 4.64158883e-07, 2.15443469e-06, 1.00000000e-05,\n",
       "       4.64158883e-05, 2.15443469e-04, 1.00000000e-03, 4.64158883e-03,\n",
       "       2.15443469e-02, 1.00000000e-01])"
      ]
     },
     "execution_count": 106,
     "metadata": {},
     "output_type": "execute_result"
    }
   ],
   "source": [
    "c = np.logspace(-7, -1, 10)\n",
    "c"
   ]
  },
  {
   "cell_type": "code",
   "execution_count": 93,
   "metadata": {},
   "outputs": [
    {
     "name": "stdout",
     "output_type": "stream",
     "text": [
      "[[1, 2, 3], [4, 5, 6], [7, 8, 9]]\n",
      "[[3, 2, 1], [6, 5, 4], [9, 8, 7]]\n"
     ]
    }
   ],
   "source": [
    "x_train = [[1,2,3],[4,5,6],[7,8,9]]\n",
    "print(x_train)\n",
    "x_train = [x[::-1] for x in x_train]\n",
    "print(x_train)"
   ]
  },
  {
   "cell_type": "code",
   "execution_count": 17,
   "metadata": {},
   "outputs": [
    {
     "name": "stdout",
     "output_type": "stream",
     "text": [
      "x_train_fixlen shape : (1827, 200)\n",
      "x_val_fixlen shape   : (457, 200)\n",
      "x_test_fixlen shape  : (571, 200)\n",
      "y_train shape        : (1827,)\n",
      "y_val shape          : (457,)\n",
      "y_test shape         : (571,)\n",
      "\n",
      "\n"
     ]
    }
   ],
   "source": [
    "# Convert input to sequence of fixed length tensor \n",
    "inp_max_len = 200\n",
    "# Convert strings into lists of integer indices sequences \n",
    "x_train_seq = tokenizer.texts_to_sequences(x_train)\n",
    "x_val_seq = tokenizer.texts_to_sequences(x_val)\n",
    "x_test_seq = tokenizer.texts_to_sequences(x_test)\n",
    "\n",
    "# Convert lists of integers into a 2D integer tensor of shape `(samples, maxlen)`\n",
    "x_train_fixlen = preprocessing.sequence.pad_sequences(x_train_seq, maxlen = inp_max_len)\n",
    "x_val_fixlen = preprocessing.sequence.pad_sequences(x_val_seq, maxlen = inp_max_len)\n",
    "x_test_fixlen = preprocessing.sequence.pad_sequences(x_test_seq, maxlen = inp_max_len)\n",
    "\n",
    "print('x_train_fixlen shape :', x_train_fixlen.shape)\n",
    "print('x_val_fixlen shape   :', x_val_fixlen.shape)\n",
    "print('x_test_fixlen shape  :', x_test_fixlen.shape)\n",
    "print('y_train shape        :', y_train.shape)\n",
    "print('y_val shape          :', y_val.shape)\n",
    "print('y_test shape         :', y_test.shape)\n",
    "print('\\n')"
   ]
  },
  {
   "cell_type": "code",
   "execution_count": null,
   "metadata": {},
   "outputs": [],
   "source": []
  },
  {
   "cell_type": "code",
   "execution_count": 15,
   "metadata": {},
   "outputs": [],
   "source": [
    "from keras import models\n",
    "from keras import layers\n",
    "from keras import optimizers\n",
    "from keras import regularizers\n",
    "from keras import preprocessing"
   ]
  },
  {
   "cell_type": "code",
   "execution_count": null,
   "metadata": {},
   "outputs": [],
   "source": []
  }
 ],
 "metadata": {
  "kernelspec": {
   "display_name": "Python 3",
   "language": "python",
   "name": "python3"
  },
  "language_info": {
   "codemirror_mode": {
    "name": "ipython",
    "version": 3
   },
   "file_extension": ".py",
   "mimetype": "text/x-python",
   "name": "python",
   "nbconvert_exporter": "python",
   "pygments_lexer": "ipython3",
   "version": "3.7.4"
  }
 },
 "nbformat": 4,
 "nbformat_minor": 2
}
