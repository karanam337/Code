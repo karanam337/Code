{
 "cells": [
  {
   "cell_type": "markdown",
   "metadata": {},
   "source": [
    "# Fall 2020 -> INSY 5376 -> Big Data & Deep Learning\n",
    "## Project work\n",
    "### Team Members: Phanikrishna Karanam, Swetha Gollamudi, Haripriya Jujjavarapu"
   ]
  },
  {
   "cell_type": "markdown",
   "metadata": {},
   "source": [
    "#### Project on Text Classification \n",
    "\n",
    "__Objective__: Build a model that predicts which Tweets are about real disasters and which ones are not \n",
    "\n",
    "__Executive Summary__: Twitter has become an important communication channel in times of emergency. Smartphones enable people to announce an emergency they are observing in real-time. Because of this, more agencies are interested in programatically monitoring Twitter (i.e. disaster relief organizations and news agencies). But it is not always clear whether a person’s tweets are actually announcing a disaster. \n",
    "\n",
    "The prediction models built will assist agencies / organizations to monitor Twitter effectively and quickly respond to actual disasters / threats providing timely assistance.\n",
    "\n",
    "__Overview on this notebook__:\n",
    "Used concepts and techniques learnt during the Deep Learning and Data Science class, to build models that reasonably classify Tweets as “Disaster / Not a Disaster”. \n",
    " - Preprocess the text data using Keras Tokenizer\n",
    " - Explore Deep Learning and traditional Machine Learning classification algorithms \n",
    " - Analyze the learning metrics and tune hyper parameters to improve model performance\n",
    " - Test against the hold out sample for generalization evaluation\n",
    " - Dispaly model performance summary stats \n",
    " \n",
    "__Dataset Source:__ https://www.kaggle.com/c/nlp-getting-started/overview\n",
    "\n",
    "__Data definition__:\n",
    "\n",
    " - ID        : Tweet Identifier\n",
    " - Keyword   : Keyword in the Tweet\n",
    " - Location  : Location of user\n",
    " - Text      : Text message within the Tweet\n",
    " - Target    : Label classified as ‘1’ for Disaster and ‘0’ for Not a Disaster"
   ]
  },
  {
   "cell_type": "code",
   "execution_count": 1,
   "metadata": {},
   "outputs": [],
   "source": [
    "# Ignore warnings and change the current directory to location where input file is present\n",
    "import warnings\n",
    "warnings.filterwarnings('ignore')\n",
    "\n",
    "import os\n",
    "os.chdir(r'C:\\MSBA\\Fall 2020\\INSY 5376 - Big Data\\Project')"
   ]
  },
  {
   "cell_type": "markdown",
   "metadata": {},
   "source": [
    "__Read the input file (csv format) into a Pandas Dataframe__"
   ]
  },
  {
   "cell_type": "code",
   "execution_count": 2,
   "metadata": {},
   "outputs": [
    {
     "data": {
      "text/html": [
       "<div>\n",
       "<style scoped>\n",
       "    .dataframe tbody tr th:only-of-type {\n",
       "        vertical-align: middle;\n",
       "    }\n",
       "\n",
       "    .dataframe tbody tr th {\n",
       "        vertical-align: top;\n",
       "    }\n",
       "\n",
       "    .dataframe thead th {\n",
       "        text-align: right;\n",
       "    }\n",
       "</style>\n",
       "<table border=\"1\" class=\"dataframe\">\n",
       "  <thead>\n",
       "    <tr style=\"text-align: right;\">\n",
       "      <th></th>\n",
       "      <th>id</th>\n",
       "      <th>keyword</th>\n",
       "      <th>location</th>\n",
       "      <th>text</th>\n",
       "      <th>target</th>\n",
       "    </tr>\n",
       "  </thead>\n",
       "  <tbody>\n",
       "    <tr>\n",
       "      <td>0</td>\n",
       "      <td>1</td>\n",
       "      <td>NaN</td>\n",
       "      <td>NaN</td>\n",
       "      <td>Our Deeds are the Reason of this #earthquake May ALLAH Forgive us all</td>\n",
       "      <td>1</td>\n",
       "    </tr>\n",
       "    <tr>\n",
       "      <td>1</td>\n",
       "      <td>4</td>\n",
       "      <td>NaN</td>\n",
       "      <td>NaN</td>\n",
       "      <td>Forest fire near La Ronge Sask. Canada</td>\n",
       "      <td>1</td>\n",
       "    </tr>\n",
       "    <tr>\n",
       "      <td>2</td>\n",
       "      <td>5</td>\n",
       "      <td>NaN</td>\n",
       "      <td>NaN</td>\n",
       "      <td>All residents asked to 'shelter in place' are being notified by officers. No other evacuation or shelter in place orders are expected</td>\n",
       "      <td>1</td>\n",
       "    </tr>\n",
       "    <tr>\n",
       "      <td>3</td>\n",
       "      <td>6</td>\n",
       "      <td>NaN</td>\n",
       "      <td>NaN</td>\n",
       "      <td>13,000 people receive #wildfires evacuation orders in California</td>\n",
       "      <td>1</td>\n",
       "    </tr>\n",
       "    <tr>\n",
       "      <td>4</td>\n",
       "      <td>7</td>\n",
       "      <td>NaN</td>\n",
       "      <td>NaN</td>\n",
       "      <td>Just got sent this photo from Ruby #Alaska as smoke from #wildfires pours into a school</td>\n",
       "      <td>1</td>\n",
       "    </tr>\n",
       "    <tr>\n",
       "      <td>...</td>\n",
       "      <td>...</td>\n",
       "      <td>...</td>\n",
       "      <td>...</td>\n",
       "      <td>...</td>\n",
       "      <td>...</td>\n",
       "    </tr>\n",
       "    <tr>\n",
       "      <td>7608</td>\n",
       "      <td>10869</td>\n",
       "      <td>NaN</td>\n",
       "      <td>NaN</td>\n",
       "      <td>Two giant cranes holding a bridge collapse into nearby homes http://t.co/STfMbbZFB5</td>\n",
       "      <td>1</td>\n",
       "    </tr>\n",
       "    <tr>\n",
       "      <td>7609</td>\n",
       "      <td>10870</td>\n",
       "      <td>NaN</td>\n",
       "      <td>NaN</td>\n",
       "      <td>@aria_ahrary @TheTawniest The out of control wild fires in California even in the Northern part of the state. Very troubling.</td>\n",
       "      <td>1</td>\n",
       "    </tr>\n",
       "    <tr>\n",
       "      <td>7610</td>\n",
       "      <td>10871</td>\n",
       "      <td>NaN</td>\n",
       "      <td>NaN</td>\n",
       "      <td>M1.94 [01:04 UTC]?5km S of Volcano Hawaii. http://t.co/zDtoyd8EbJ</td>\n",
       "      <td>1</td>\n",
       "    </tr>\n",
       "    <tr>\n",
       "      <td>7611</td>\n",
       "      <td>10872</td>\n",
       "      <td>NaN</td>\n",
       "      <td>NaN</td>\n",
       "      <td>Police investigating after an e-bike collided with a car in Little Portugal. E-bike rider suffered serious non-life threatening injuries.</td>\n",
       "      <td>1</td>\n",
       "    </tr>\n",
       "    <tr>\n",
       "      <td>7612</td>\n",
       "      <td>10873</td>\n",
       "      <td>NaN</td>\n",
       "      <td>NaN</td>\n",
       "      <td>The Latest: More Homes Razed by Northern California Wildfire - ABC News http://t.co/YmY4rSkQ3d</td>\n",
       "      <td>1</td>\n",
       "    </tr>\n",
       "  </tbody>\n",
       "</table>\n",
       "<p>7613 rows × 5 columns</p>\n",
       "</div>"
      ],
      "text/plain": [
       "         id keyword location  \\\n",
       "0     1      NaN     NaN       \n",
       "1     4      NaN     NaN       \n",
       "2     5      NaN     NaN       \n",
       "3     6      NaN     NaN       \n",
       "4     7      NaN     NaN       \n",
       "...  ..      ...     ...       \n",
       "7608  10869  NaN     NaN       \n",
       "7609  10870  NaN     NaN       \n",
       "7610  10871  NaN     NaN       \n",
       "7611  10872  NaN     NaN       \n",
       "7612  10873  NaN     NaN       \n",
       "\n",
       "                                                                                                                                           text  \\\n",
       "0     Our Deeds are the Reason of this #earthquake May ALLAH Forgive us all                                                                       \n",
       "1     Forest fire near La Ronge Sask. Canada                                                                                                      \n",
       "2     All residents asked to 'shelter in place' are being notified by officers. No other evacuation or shelter in place orders are expected       \n",
       "3     13,000 people receive #wildfires evacuation orders in California                                                                            \n",
       "4     Just got sent this photo from Ruby #Alaska as smoke from #wildfires pours into a school                                                     \n",
       "...                                                                                        ...                                                    \n",
       "7608  Two giant cranes holding a bridge collapse into nearby homes http://t.co/STfMbbZFB5                                                         \n",
       "7609  @aria_ahrary @TheTawniest The out of control wild fires in California even in the Northern part of the state. Very troubling.               \n",
       "7610  M1.94 [01:04 UTC]?5km S of Volcano Hawaii. http://t.co/zDtoyd8EbJ                                                                           \n",
       "7611  Police investigating after an e-bike collided with a car in Little Portugal. E-bike rider suffered serious non-life threatening injuries.   \n",
       "7612  The Latest: More Homes Razed by Northern California Wildfire - ABC News http://t.co/YmY4rSkQ3d                                              \n",
       "\n",
       "      target  \n",
       "0     1       \n",
       "1     1       \n",
       "2     1       \n",
       "3     1       \n",
       "4     1       \n",
       "...  ..       \n",
       "7608  1       \n",
       "7609  1       \n",
       "7610  1       \n",
       "7611  1       \n",
       "7612  1       \n",
       "\n",
       "[7613 rows x 5 columns]"
      ]
     },
     "execution_count": 2,
     "metadata": {},
     "output_type": "execute_result"
    }
   ],
   "source": [
    "import pandas as pd\n",
    "import numpy as np\n",
    "\n",
    "# set below option to review complete DataFrame column width in output cells\n",
    "pd.set_option('max_colwidth', -1)\n",
    "\n",
    "name = 'Disaster Tweet Dataset.csv'\n",
    "df = pd.read_csv(name)\n",
    "df_copy = df.copy()\n",
    "df"
   ]
  },
  {
   "cell_type": "markdown",
   "metadata": {},
   "source": [
    "__We see null values in keyword and location columns__"
   ]
  },
  {
   "cell_type": "code",
   "execution_count": 3,
   "metadata": {},
   "outputs": [
    {
     "name": "stdout",
     "output_type": "stream",
     "text": [
      "<class 'pandas.core.frame.DataFrame'>\n",
      "RangeIndex: 7613 entries, 0 to 7612\n",
      "Data columns (total 5 columns):\n",
      "id          7613 non-null int64\n",
      "keyword     7552 non-null object\n",
      "location    5080 non-null object\n",
      "text        7613 non-null object\n",
      "target      7613 non-null int64\n",
      "dtypes: int64(2), object(3)\n",
      "memory usage: 297.5+ KB\n"
     ]
    }
   ],
   "source": [
    "df.info()"
   ]
  },
  {
   "cell_type": "markdown",
   "metadata": {},
   "source": [
    " - Fill any null values in keyword and location columns with blanks \n",
    " - Concatenate the keyword and text columns and create a new column called 'input'"
   ]
  },
  {
   "cell_type": "code",
   "execution_count": 4,
   "metadata": {},
   "outputs": [
    {
     "name": "stdout",
     "output_type": "stream",
     "text": [
      "<class 'pandas.core.frame.DataFrame'>\n",
      "RangeIndex: 7613 entries, 0 to 7612\n",
      "Data columns (total 6 columns):\n",
      "id          7613 non-null int64\n",
      "keyword     7613 non-null object\n",
      "location    7613 non-null object\n",
      "text        7613 non-null object\n",
      "target      7613 non-null int64\n",
      "input       7613 non-null object\n",
      "dtypes: int64(2), object(4)\n",
      "memory usage: 357.0+ KB\n",
      "None\n"
     ]
    },
    {
     "data": {
      "text/html": [
       "<div>\n",
       "<style scoped>\n",
       "    .dataframe tbody tr th:only-of-type {\n",
       "        vertical-align: middle;\n",
       "    }\n",
       "\n",
       "    .dataframe tbody tr th {\n",
       "        vertical-align: top;\n",
       "    }\n",
       "\n",
       "    .dataframe thead th {\n",
       "        text-align: right;\n",
       "    }\n",
       "</style>\n",
       "<table border=\"1\" class=\"dataframe\">\n",
       "  <thead>\n",
       "    <tr style=\"text-align: right;\">\n",
       "      <th></th>\n",
       "      <th>id</th>\n",
       "      <th>keyword</th>\n",
       "      <th>location</th>\n",
       "      <th>text</th>\n",
       "      <th>target</th>\n",
       "      <th>input</th>\n",
       "    </tr>\n",
       "  </thead>\n",
       "  <tbody>\n",
       "    <tr>\n",
       "      <td>0</td>\n",
       "      <td>1</td>\n",
       "      <td></td>\n",
       "      <td></td>\n",
       "      <td>Our Deeds are the Reason of this #earthquake May ALLAH Forgive us all</td>\n",
       "      <td>1</td>\n",
       "      <td>Our Deeds are the Reason of this #earthquake May ALLAH Forgive us all</td>\n",
       "    </tr>\n",
       "    <tr>\n",
       "      <td>1</td>\n",
       "      <td>4</td>\n",
       "      <td></td>\n",
       "      <td></td>\n",
       "      <td>Forest fire near La Ronge Sask. Canada</td>\n",
       "      <td>1</td>\n",
       "      <td>Forest fire near La Ronge Sask. Canada</td>\n",
       "    </tr>\n",
       "    <tr>\n",
       "      <td>2</td>\n",
       "      <td>5</td>\n",
       "      <td></td>\n",
       "      <td></td>\n",
       "      <td>All residents asked to 'shelter in place' are being notified by officers. No other evacuation or shelter in place orders are expected</td>\n",
       "      <td>1</td>\n",
       "      <td>All residents asked to 'shelter in place' are being notified by officers. No other evacuation or shelter in place orders are expected</td>\n",
       "    </tr>\n",
       "    <tr>\n",
       "      <td>3</td>\n",
       "      <td>6</td>\n",
       "      <td></td>\n",
       "      <td></td>\n",
       "      <td>13,000 people receive #wildfires evacuation orders in California</td>\n",
       "      <td>1</td>\n",
       "      <td>13,000 people receive #wildfires evacuation orders in California</td>\n",
       "    </tr>\n",
       "    <tr>\n",
       "      <td>4</td>\n",
       "      <td>7</td>\n",
       "      <td></td>\n",
       "      <td></td>\n",
       "      <td>Just got sent this photo from Ruby #Alaska as smoke from #wildfires pours into a school</td>\n",
       "      <td>1</td>\n",
       "      <td>Just got sent this photo from Ruby #Alaska as smoke from #wildfires pours into a school</td>\n",
       "    </tr>\n",
       "    <tr>\n",
       "      <td>...</td>\n",
       "      <td>...</td>\n",
       "      <td>...</td>\n",
       "      <td>...</td>\n",
       "      <td>...</td>\n",
       "      <td>...</td>\n",
       "      <td>...</td>\n",
       "    </tr>\n",
       "    <tr>\n",
       "      <td>7608</td>\n",
       "      <td>10869</td>\n",
       "      <td></td>\n",
       "      <td></td>\n",
       "      <td>Two giant cranes holding a bridge collapse into nearby homes http://t.co/STfMbbZFB5</td>\n",
       "      <td>1</td>\n",
       "      <td>Two giant cranes holding a bridge collapse into nearby homes http://t.co/STfMbbZFB5</td>\n",
       "    </tr>\n",
       "    <tr>\n",
       "      <td>7609</td>\n",
       "      <td>10870</td>\n",
       "      <td></td>\n",
       "      <td></td>\n",
       "      <td>@aria_ahrary @TheTawniest The out of control wild fires in California even in the Northern part of the state. Very troubling.</td>\n",
       "      <td>1</td>\n",
       "      <td>@aria_ahrary @TheTawniest The out of control wild fires in California even in the Northern part of the state. Very troubling.</td>\n",
       "    </tr>\n",
       "    <tr>\n",
       "      <td>7610</td>\n",
       "      <td>10871</td>\n",
       "      <td></td>\n",
       "      <td></td>\n",
       "      <td>M1.94 [01:04 UTC]?5km S of Volcano Hawaii. http://t.co/zDtoyd8EbJ</td>\n",
       "      <td>1</td>\n",
       "      <td>M1.94 [01:04 UTC]?5km S of Volcano Hawaii. http://t.co/zDtoyd8EbJ</td>\n",
       "    </tr>\n",
       "    <tr>\n",
       "      <td>7611</td>\n",
       "      <td>10872</td>\n",
       "      <td></td>\n",
       "      <td></td>\n",
       "      <td>Police investigating after an e-bike collided with a car in Little Portugal. E-bike rider suffered serious non-life threatening injuries.</td>\n",
       "      <td>1</td>\n",
       "      <td>Police investigating after an e-bike collided with a car in Little Portugal. E-bike rider suffered serious non-life threatening injuries.</td>\n",
       "    </tr>\n",
       "    <tr>\n",
       "      <td>7612</td>\n",
       "      <td>10873</td>\n",
       "      <td></td>\n",
       "      <td></td>\n",
       "      <td>The Latest: More Homes Razed by Northern California Wildfire - ABC News http://t.co/YmY4rSkQ3d</td>\n",
       "      <td>1</td>\n",
       "      <td>The Latest: More Homes Razed by Northern California Wildfire - ABC News http://t.co/YmY4rSkQ3d</td>\n",
       "    </tr>\n",
       "  </tbody>\n",
       "</table>\n",
       "<p>7613 rows × 6 columns</p>\n",
       "</div>"
      ],
      "text/plain": [
       "         id keyword location  \\\n",
       "0     1                        \n",
       "1     4                        \n",
       "2     5                        \n",
       "3     6                        \n",
       "4     7                        \n",
       "...  ..     ..      ..         \n",
       "7608  10869                    \n",
       "7609  10870                    \n",
       "7610  10871                    \n",
       "7611  10872                    \n",
       "7612  10873                    \n",
       "\n",
       "                                                                                                                                           text  \\\n",
       "0     Our Deeds are the Reason of this #earthquake May ALLAH Forgive us all                                                                       \n",
       "1     Forest fire near La Ronge Sask. Canada                                                                                                      \n",
       "2     All residents asked to 'shelter in place' are being notified by officers. No other evacuation or shelter in place orders are expected       \n",
       "3     13,000 people receive #wildfires evacuation orders in California                                                                            \n",
       "4     Just got sent this photo from Ruby #Alaska as smoke from #wildfires pours into a school                                                     \n",
       "...                                                                                        ...                                                    \n",
       "7608  Two giant cranes holding a bridge collapse into nearby homes http://t.co/STfMbbZFB5                                                         \n",
       "7609  @aria_ahrary @TheTawniest The out of control wild fires in California even in the Northern part of the state. Very troubling.               \n",
       "7610  M1.94 [01:04 UTC]?5km S of Volcano Hawaii. http://t.co/zDtoyd8EbJ                                                                           \n",
       "7611  Police investigating after an e-bike collided with a car in Little Portugal. E-bike rider suffered serious non-life threatening injuries.   \n",
       "7612  The Latest: More Homes Razed by Northern California Wildfire - ABC News http://t.co/YmY4rSkQ3d                                              \n",
       "\n",
       "      target  \\\n",
       "0     1        \n",
       "1     1        \n",
       "2     1        \n",
       "3     1        \n",
       "4     1        \n",
       "...  ..        \n",
       "7608  1        \n",
       "7609  1        \n",
       "7610  1        \n",
       "7611  1        \n",
       "7612  1        \n",
       "\n",
       "                                                                                                                                           input  \n",
       "0      Our Deeds are the Reason of this #earthquake May ALLAH Forgive us all                                                                      \n",
       "1      Forest fire near La Ronge Sask. Canada                                                                                                     \n",
       "2      All residents asked to 'shelter in place' are being notified by officers. No other evacuation or shelter in place orders are expected      \n",
       "3      13,000 people receive #wildfires evacuation orders in California                                                                           \n",
       "4      Just got sent this photo from Ruby #Alaska as smoke from #wildfires pours into a school                                                    \n",
       "...                                                                                         ...                                                   \n",
       "7608   Two giant cranes holding a bridge collapse into nearby homes http://t.co/STfMbbZFB5                                                        \n",
       "7609   @aria_ahrary @TheTawniest The out of control wild fires in California even in the Northern part of the state. Very troubling.              \n",
       "7610   M1.94 [01:04 UTC]?5km S of Volcano Hawaii. http://t.co/zDtoyd8EbJ                                                                          \n",
       "7611   Police investigating after an e-bike collided with a car in Little Portugal. E-bike rider suffered serious non-life threatening injuries.  \n",
       "7612   The Latest: More Homes Razed by Northern California Wildfire - ABC News http://t.co/YmY4rSkQ3d                                             \n",
       "\n",
       "[7613 rows x 6 columns]"
      ]
     },
     "execution_count": 4,
     "metadata": {},
     "output_type": "execute_result"
    }
   ],
   "source": [
    "df[['keyword','location']] = df[['keyword','location']].fillna('') \n",
    "df['input'] = df['keyword'] + ' ' + df['text']\n",
    "print(df.info())\n",
    "\n",
    "df"
   ]
  },
  {
   "cell_type": "markdown",
   "metadata": {},
   "source": [
    " - Drop the id, keyword, location and text columns\n",
    " - Convert the input text into lower case"
   ]
  },
  {
   "cell_type": "code",
   "execution_count": 5,
   "metadata": {},
   "outputs": [
    {
     "data": {
      "text/html": [
       "<div>\n",
       "<style scoped>\n",
       "    .dataframe tbody tr th:only-of-type {\n",
       "        vertical-align: middle;\n",
       "    }\n",
       "\n",
       "    .dataframe tbody tr th {\n",
       "        vertical-align: top;\n",
       "    }\n",
       "\n",
       "    .dataframe thead th {\n",
       "        text-align: right;\n",
       "    }\n",
       "</style>\n",
       "<table border=\"1\" class=\"dataframe\">\n",
       "  <thead>\n",
       "    <tr style=\"text-align: right;\">\n",
       "      <th></th>\n",
       "      <th>target</th>\n",
       "      <th>input</th>\n",
       "    </tr>\n",
       "  </thead>\n",
       "  <tbody>\n",
       "    <tr>\n",
       "      <td>0</td>\n",
       "      <td>1</td>\n",
       "      <td>our deeds are the reason of this #earthquake may allah forgive us all</td>\n",
       "    </tr>\n",
       "    <tr>\n",
       "      <td>1</td>\n",
       "      <td>1</td>\n",
       "      <td>forest fire near la ronge sask. canada</td>\n",
       "    </tr>\n",
       "    <tr>\n",
       "      <td>2</td>\n",
       "      <td>1</td>\n",
       "      <td>all residents asked to 'shelter in place' are being notified by officers. no other evacuation or shelter in place orders are expected</td>\n",
       "    </tr>\n",
       "    <tr>\n",
       "      <td>3</td>\n",
       "      <td>1</td>\n",
       "      <td>13,000 people receive #wildfires evacuation orders in california</td>\n",
       "    </tr>\n",
       "    <tr>\n",
       "      <td>4</td>\n",
       "      <td>1</td>\n",
       "      <td>just got sent this photo from ruby #alaska as smoke from #wildfires pours into a school</td>\n",
       "    </tr>\n",
       "    <tr>\n",
       "      <td>...</td>\n",
       "      <td>...</td>\n",
       "      <td>...</td>\n",
       "    </tr>\n",
       "    <tr>\n",
       "      <td>7608</td>\n",
       "      <td>1</td>\n",
       "      <td>two giant cranes holding a bridge collapse into nearby homes http://t.co/stfmbbzfb5</td>\n",
       "    </tr>\n",
       "    <tr>\n",
       "      <td>7609</td>\n",
       "      <td>1</td>\n",
       "      <td>@aria_ahrary @thetawniest the out of control wild fires in california even in the northern part of the state. very troubling.</td>\n",
       "    </tr>\n",
       "    <tr>\n",
       "      <td>7610</td>\n",
       "      <td>1</td>\n",
       "      <td>m1.94 [01:04 utc]?5km s of volcano hawaii. http://t.co/zdtoyd8ebj</td>\n",
       "    </tr>\n",
       "    <tr>\n",
       "      <td>7611</td>\n",
       "      <td>1</td>\n",
       "      <td>police investigating after an e-bike collided with a car in little portugal. e-bike rider suffered serious non-life threatening injuries.</td>\n",
       "    </tr>\n",
       "    <tr>\n",
       "      <td>7612</td>\n",
       "      <td>1</td>\n",
       "      <td>the latest: more homes razed by northern california wildfire - abc news http://t.co/ymy4rskq3d</td>\n",
       "    </tr>\n",
       "  </tbody>\n",
       "</table>\n",
       "<p>7613 rows × 2 columns</p>\n",
       "</div>"
      ],
      "text/plain": [
       "      target  \\\n",
       "0     1        \n",
       "1     1        \n",
       "2     1        \n",
       "3     1        \n",
       "4     1        \n",
       "...  ..        \n",
       "7608  1        \n",
       "7609  1        \n",
       "7610  1        \n",
       "7611  1        \n",
       "7612  1        \n",
       "\n",
       "                                                                                                                                           input  \n",
       "0      our deeds are the reason of this #earthquake may allah forgive us all                                                                      \n",
       "1      forest fire near la ronge sask. canada                                                                                                     \n",
       "2      all residents asked to 'shelter in place' are being notified by officers. no other evacuation or shelter in place orders are expected      \n",
       "3      13,000 people receive #wildfires evacuation orders in california                                                                           \n",
       "4      just got sent this photo from ruby #alaska as smoke from #wildfires pours into a school                                                    \n",
       "...                                                                                         ...                                                   \n",
       "7608   two giant cranes holding a bridge collapse into nearby homes http://t.co/stfmbbzfb5                                                        \n",
       "7609   @aria_ahrary @thetawniest the out of control wild fires in california even in the northern part of the state. very troubling.              \n",
       "7610   m1.94 [01:04 utc]?5km s of volcano hawaii. http://t.co/zdtoyd8ebj                                                                          \n",
       "7611   police investigating after an e-bike collided with a car in little portugal. e-bike rider suffered serious non-life threatening injuries.  \n",
       "7612   the latest: more homes razed by northern california wildfire - abc news http://t.co/ymy4rskq3d                                             \n",
       "\n",
       "[7613 rows x 2 columns]"
      ]
     },
     "execution_count": 5,
     "metadata": {},
     "output_type": "execute_result"
    }
   ],
   "source": [
    "df = df.drop(['id','keyword','location','text'], axis = 1)\n",
    "\n",
    "df['input'] = df['input'].str.lower()\n",
    "\n",
    "x_data = df.drop('target', axis=1)\n",
    "y_data = df['target']\n",
    "\n",
    "df"
   ]
  },
  {
   "cell_type": "markdown",
   "metadata": {},
   "source": [
    "__Below function will display label counts in the target to explore Target labels for class imbalance__"
   ]
  },
  {
   "cell_type": "code",
   "execution_count": 6,
   "metadata": {},
   "outputs": [],
   "source": [
    "import numpy as np\n",
    "import matplotlib.pyplot as plt\n",
    "\n",
    "def target_distribution(array, data):\n",
    "    ones = np.count_nonzero(array)\n",
    "    zeros = len(array) - ones\n",
    "    print('Target counts in {} set:'.format(data))\n",
    "    print('0: ', zeros)\n",
    "    print('1: ', ones)\n",
    "\n",
    "    plt.pie([zeros, ones], labels = ['Not a Disaster', 'Disaster'], autopct='%.1f%%')\n",
    "    plt.title('Target Distribution in {}'.format(data))\n",
    "    plt.show()"
   ]
  },
  {
   "cell_type": "markdown",
   "metadata": {},
   "source": [
    "__We see a class imbalance in the target labels which needs to be addressed__"
   ]
  },
  {
   "cell_type": "code",
   "execution_count": 7,
   "metadata": {},
   "outputs": [
    {
     "name": "stdout",
     "output_type": "stream",
     "text": [
      "Target counts in dataset set:\n",
      "0:  4342\n",
      "1:  3271\n"
     ]
    },
    {
     "data": {
      "image/png": "[encoded data removed]",
      "text/plain": [
       "<Figure size 432x288 with 1 Axes>"
      ]
     },
     "metadata": {},
     "output_type": "display_data"
    }
   ],
   "source": [
    "target_dict = {'Not a Disaster': 0, 'Disaster': 1}\n",
    "\n",
    "target_distribution(df['target'], 'dataset')"
   ]
  },
  {
   "cell_type": "markdown",
   "metadata": {},
   "source": [
    "__Use Random Under Sampler to handle the class imbalance:__\n",
    " - 1071 records with target label as '0' (Not a Disaster)' are dropped "
   ]
  },
  {
   "cell_type": "code",
   "execution_count": 8,
   "metadata": {},
   "outputs": [
    {
     "name": "stdout",
     "output_type": "stream",
     "text": [
      "Target counts in dataset after Under Sampling set:\n",
      "0:  3271\n",
      "1:  3271\n"
     ]
    },
    {
     "data": {
      "image/png": "[encoded data removed]",
      "text/plain": [
       "<Figure size 432x288 with 1 Axes>"
      ]
     },
     "metadata": {},
     "output_type": "display_data"
    }
   ],
   "source": [
    "# Perform under sampling to match the target variable's number of 1's (Disaster) with 0's (Not a Disaster) on dataset \n",
    "\n",
    "from imblearn.under_sampling import RandomUnderSampler \n",
    "\n",
    "sampler = RandomUnderSampler(random_state = 32)\n",
    "x_resampled_df, y_resampled = sampler.fit_sample(x_data, y_data)\n",
    "x_resampled = x_resampled_df['input']   # its critical we pass X value as series and not a DF for Keras Tokenizer\n",
    "\n",
    "target_distribution(y_resampled, 'dataset after Under Sampling')"
   ]
  },
  {
   "cell_type": "markdown",
   "metadata": {},
   "source": [
    "__Set up the Training, Validation, Test data:__\n",
    " - We first split the input data into 2 parts (80% to be used for Train and Validation, 20% for for Testing)\n",
    " - From the 80% data, we further split into 10% as Validation data and remaining as Training data\n",
    "\n",
    "Overall ratio: 72% (Train), 8% (Validation), 20% (Test)"
   ]
  },
  {
   "cell_type": "code",
   "execution_count": 9,
   "metadata": {},
   "outputs": [
    {
     "name": "stdout",
     "output_type": "stream",
     "text": [
      "x_train_val shape                 : (5233,)\n",
      "x_train shape                     : (4709,)\n",
      "x_val shape                       : (524,)\n",
      "x_test shape                      : (1309,)\n",
      "y_train_val shape & target counts : (5233,) (array([0, 1], dtype=int64), array([2617, 2616], dtype=int64))\n",
      "y_train shape & target counts     : (4709,) (array([0, 1], dtype=int64), array([2355, 2354], dtype=int64))\n",
      "y_val shape & target counts       : (524,) (array([0, 1], dtype=int64), array([262, 262], dtype=int64))\n",
      "y_test shape & target counts      : (1309,) (array([0, 1], dtype=int64), array([654, 655], dtype=int64))\n",
      "\n",
      "Target counts in Training + Validation dataset set:\n",
      "0:  2617\n",
      "1:  2616\n"
     ]
    },
    {
     "data": {
      "image/png": "[encoded data removed]",
      "text/plain": [
       "<Figure size 432x288 with 1 Axes>"
      ]
     },
     "metadata": {},
     "output_type": "display_data"
    },
    {
     "name": "stdout",
     "output_type": "stream",
     "text": [
      "Target counts in Training dataset set:\n",
      "0:  2355\n",
      "1:  2354\n"
     ]
    },
    {
     "data": {
      "image/png": "[encoded data removed]",
      "text/plain": [
       "<Figure size 432x288 with 1 Axes>"
      ]
     },
     "metadata": {},
     "output_type": "display_data"
    },
    {
     "name": "stdout",
     "output_type": "stream",
     "text": [
      "Target counts in Validation dataset set:\n",
      "0:  262\n",
      "1:  262\n"
     ]
    },
    {
     "data": {
      "image/png": "[encoded data removed]",
      "text/plain": [
       "<Figure size 432x288 with 1 Axes>"
      ]
     },
     "metadata": {},
     "output_type": "display_data"
    },
    {
     "name": "stdout",
     "output_type": "stream",
     "text": [
      "Target counts in Test dataset set:\n",
      "0:  654\n",
      "1:  655\n"
     ]
    },
    {
     "data": {
      "image/png": "[encoded data removed]",
      "text/plain": [
       "<Figure size 432x288 with 1 Axes>"
      ]
     },
     "metadata": {},
     "output_type": "display_data"
    }
   ],
   "source": [
    "from sklearn.model_selection import train_test_split\n",
    "\n",
    "x_train_val, x_test, y_train_val, y_test = \\\n",
    "                    train_test_split(x_resampled, y_resampled, test_size = 0.20, stratify = y_resampled, random_state = 32)\n",
    "\n",
    "x_train, x_val, y_train, y_val = \\\n",
    "                    train_test_split(x_train_val, y_train_val, test_size = 0.10, stratify = y_train_val, random_state = 32)\n",
    "\n",
    "print('x_train_val shape                 :', x_train_val.shape)\n",
    "print('x_train shape                     :', x_train.shape)\n",
    "print('x_val shape                       :', x_val.shape)\n",
    "print('x_test shape                      :', x_test.shape)\n",
    "print('y_train_val shape & target counts : {} {}'.format(y_train_val.shape, np.unique(y_train_val, return_counts = True)))\n",
    "print('y_train shape & target counts     : {} {}'.format(y_train.shape, np.unique(y_train, return_counts = True)))\n",
    "print('y_val shape & target counts       : {} {}'.format(y_val.shape, np.unique(y_val, return_counts = True)))\n",
    "print('y_test shape & target counts      : {} {}\\n'.format(y_test.shape, np.unique(y_test, return_counts = True)))\n",
    "\n",
    "target_distribution(y_train_val, 'Training + Validation dataset')\n",
    "target_distribution(y_train, 'Training dataset')\n",
    "target_distribution(y_val, 'Validation dataset')\n",
    "target_distribution(y_test, 'Test dataset')"
   ]
  },
  {
   "cell_type": "markdown",
   "metadata": {},
   "source": [
    "__Tokenize the words and chose the vocabulary size:__\n",
    " - We use the training and validation data for creating the word vocabulary by using Keras Tokenizer\n",
    "   - Keras Tokenizer also takes care of preprocessing (like converting text to lower case, handling punctuations)\n",
    " - As the input records are low, we will use the entire unique vocabulary in the corpus without limiting it"
   ]
  },
  {
   "cell_type": "code",
   "execution_count": 10,
   "metadata": {},
   "outputs": [],
   "source": [
    "import tensorflow\n",
    "import tensorflow.keras as keras\n",
    "from keras import preprocessing\n",
    "\n",
    "# Below function will tokenize the corpus and create a word vocabulary \n",
    "\n",
    "def preprocess_tokenize(x_train_val, vocab_count):\n",
    "    # Create a tokenizer -> configured to consider entire unique vocabulary\n",
    "    tokenizer = preprocessing.text.Tokenizer()\n",
    "\n",
    "    # Can be configured to only take into account the top-N most common words using below\n",
    "    #tokenizer = preprocessing.text.Tokenizer(num_words = vocab_count)\n",
    "\n",
    "    # Build the word index using training & validation data only \n",
    "    tokenizer.fit_on_texts(x_train_val)\n",
    "\n",
    "    # Compute word index \n",
    "    word_index = tokenizer.word_index\n",
    "    print('Found {} unique tokens in training data\\n'.format(len(word_index)))\n",
    "\n",
    "    # Currently set to utilize all unique words in input. Use the second option if restricting to limited words\n",
    "    max_words = len(word_index) \n",
    "    #max_words = vocab_count - 1\n",
    "    \n",
    "    return (tokenizer, word_index, max_words)"
   ]
  },
  {
   "cell_type": "markdown",
   "metadata": {},
   "source": [
    "__One hot encode the data:__\n",
    "- One hot encode the input data corresponding to the size of input vocabulary \n",
    "- We will use Binary Cross entropy as the loss function. Hence we are not one hot encoding the target variable"
   ]
  },
  {
   "cell_type": "code",
   "execution_count": 11,
   "metadata": {},
   "outputs": [],
   "source": [
    "# Function to one hot encode the input text with length equal to the word vocabulary \n",
    "\n",
    "def onehot_encode(x_train_val, x_train, x_val, x_test, tokenizer):    \n",
    "    # Convert input words to one-hot binary representations based on word index created using training and validation data\n",
    "    tokenizer = tokenizer\n",
    "    x_train_val_one_hot = tokenizer.texts_to_matrix(x_train_val, mode='binary')\n",
    "    x_train_one_hot = tokenizer.texts_to_matrix(x_train, mode='binary')\n",
    "    x_val_one_hot = tokenizer.texts_to_matrix(x_val, mode='binary')\n",
    "    x_test_one_hot = tokenizer.texts_to_matrix(x_test, mode='binary')\n",
    "\n",
    "    print('x_train_one_hot shape :', x_train_one_hot.shape)\n",
    "    print('x_val_one_hot shape   :', x_val_one_hot.shape)\n",
    "    print('x_test_one_hot shape  :', x_test_one_hot.shape)\n",
    "    print('y_train shape         :', y_train.shape)\n",
    "    print('y_val shape           :', y_val.shape)\n",
    "    print('y_test shape          :', y_test.shape)\n",
    "    print('\\n')\n",
    "    \n",
    "    return (x_train_val_one_hot, x_train_one_hot, x_val_one_hot, x_test_one_hot)"
   ]
  },
  {
   "cell_type": "markdown",
   "metadata": {},
   "source": [
    "__Using simple Neural Network and one hot encoded inputs:__\n",
    " - Below function will define a simple Neural Network with 2 hidden layers\n",
    " - Relu is used for activation in dense layers and a sigmoid activation for the output node\n",
    " - Control overfitting by: \n",
    "   - Introducing drop out layer after the dense layer \n",
    "   - Using L1 and L2 regularization \n",
    " - Binary cross entropy is the loss function as target variable is not one hot encoded\n",
    " - Accuracy is the metric that is being tracked "
   ]
  },
  {
   "cell_type": "code",
   "execution_count": 12,
   "metadata": {},
   "outputs": [],
   "source": [
    "from keras import models\n",
    "from keras import layers\n",
    "from keras import optimizers\n",
    "from keras import regularizers\n",
    "\n",
    "# Below function will define the simple Neural Network that accepts necessary parameters that can be configured: \n",
    "    \n",
    "def train_model(x_train, y_train, x_val, y_val, max_words, num_hidden_units_1, num_hidden_units_2, \n",
    "                epochs, batch_size, learning_rate):\n",
    "    model_snn = models.Sequential()\n",
    "    model_snn.add(layers.Dense(num_hidden_units_1, activation = 'relu', input_shape = ((max_words,)),\n",
    "                           kernel_regularizer = regularizers.l1_l2(l1 = 0.001, l2 = 0.001)))\n",
    "    model_snn.add(layers.Dropout(0.5))\n",
    "    model_snn.add(layers.Dense(num_hidden_units_2, activation = 'relu', \n",
    "                           kernel_regularizer = regularizers.l1_l2(l1 = 0.001, l2 = 0.001)))\n",
    "    model_snn.add(layers.Dropout(0.5))\n",
    "    model_snn.add(layers.Dense(1, activation = 'sigmoid'))\n",
    "    model_snn.summary()\n",
    "    \n",
    "    model_snn.compile(loss = 'binary_crossentropy', \n",
    "                  optimizer = optimizers.RMSprop(lr = learning_rate), \n",
    "                  metrics = ['accuracy'])\n",
    "    \n",
    "    history_snn = model_snn.fit(x_train, y_train, epochs = epochs, batch_size = batch_size, \n",
    "                                validation_data = (x_val, y_val))\n",
    "    return (history_snn, model_snn)"
   ]
  },
  {
   "cell_type": "markdown",
   "metadata": {},
   "source": [
    "__Plot the Learning curves for Loss and Accuracy for Training and Validation:__"
   ]
  },
  {
   "cell_type": "code",
   "execution_count": 13,
   "metadata": {},
   "outputs": [],
   "source": [
    "import matplotlib.pyplot as plt\n",
    "\n",
    "def plot_learning(history): \n",
    "    # Plot the Loss curve \n",
    "    loss = history.history['loss']\n",
    "    val_loss = history.history['val_loss']\n",
    "    epochs = range(1, len(loss) + 1)\n",
    "\n",
    "    plt.plot(epochs, loss, 'b', label='Training Loss')\n",
    "    plt.plot(epochs, val_loss, 'bo', label='Validation Loss')\n",
    "    plt.title('Training and Validation Loss')\n",
    "    plt.xlabel('Epochs')\n",
    "    plt.ylabel('Loss')\n",
    "    plt.legend()\n",
    "    plt.show()\n",
    "\n",
    "    plt.clf()   # clear figure\n",
    "\n",
    "    # Plot the Accuracy curve \n",
    "    acc = history.history['accuracy']\n",
    "    val_acc = history.history['val_accuracy']\n",
    "    epochs = range(1, len(acc) + 1)\n",
    "\n",
    "    plt.plot(epochs, acc, 'b', label='Training Accuracy')\n",
    "    plt.plot(epochs, val_acc, 'bo', label='Validation Accuracy')\n",
    "    plt.title('Training and Validation Accuracy')\n",
    "    plt.xlabel('Epochs')\n",
    "    plt.ylabel('Accuracy')\n",
    "    plt.legend()\n",
    "    plt.show()"
   ]
  },
  {
   "cell_type": "markdown",
   "metadata": {},
   "source": [
    "__Display the Confusion Matrix and Classification Report:__"
   ]
  },
  {
   "cell_type": "code",
   "execution_count": 14,
   "metadata": {},
   "outputs": [],
   "source": [
    "from sklearn.metrics import confusion_matrix, classification_report\n",
    "\n",
    "def print_metrics(model, x_test, y_test, target_dict): \n",
    "    y_test_pred = model.predict_classes(x_test)\n",
    "    print('\\nConfusion Matrix:\\n', confusion_matrix(y_test, y_test_pred))\n",
    "    print('\\nClassification Report:\\n ', classification_report(y_test, y_test_pred, target_names = target_dict))"
   ]
  },
  {
   "cell_type": "markdown",
   "metadata": {},
   "source": [
    "# 1) Simple Neural Network model\n",
    " - Train the model and plot learning curves (for loss and accuracy) for Training and Validation data\n",
    " - Evaluate the model performance against Test data\n",
    "   - Display the Test loss and Accuracy\n",
    "   - Display the Confusion Matrix & Classification Report"
   ]
  },
  {
   "cell_type": "code",
   "execution_count": 15,
   "metadata": {},
   "outputs": [
    {
     "name": "stdout",
     "output_type": "stream",
     "text": [
      "Found 17582 unique tokens in training data\n",
      "\n",
      "x_train_one_hot shape : (4709, 17583)\n",
      "x_val_one_hot shape   : (524, 17583)\n",
      "x_test_one_hot shape  : (1309, 17583)\n",
      "y_train shape         : (4709,)\n",
      "y_val shape           : (524,)\n",
      "y_test shape          : (1309,)\n",
      "\n",
      "\n",
      "Model: \"sequential\"\n",
      "_________________________________________________________________\n",
      "Layer (type)                 Output Shape              Param #   \n",
      "=================================================================\n",
      "dense (Dense)                (None, 64)                1125376   \n",
      "_________________________________________________________________\n",
      "dropout (Dropout)            (None, 64)                0         \n",
      "_________________________________________________________________\n",
      "dense_1 (Dense)              (None, 32)                2080      \n",
      "_________________________________________________________________\n",
      "dropout_1 (Dropout)          (None, 32)                0         \n",
      "_________________________________________________________________\n",
      "dense_2 (Dense)              (None, 1)                 33        \n",
      "=================================================================\n",
      "Total params: 1,127,489\n",
      "Trainable params: 1,127,489\n",
      "Non-trainable params: 0\n",
      "_________________________________________________________________\n",
      "Epoch 1/11\n",
      "37/37 [==============================] - 2s 44ms/step - loss: 2.4338 - accuracy: 0.6201 - val_loss: 1.4698 - val_accuracy: 0.6164\n",
      "Epoch 2/11\n",
      "37/37 [==============================] - 1s 35ms/step - loss: 1.4263 - accuracy: 0.6401 - val_loss: 1.3841 - val_accuracy: 0.6164\n",
      "Epoch 3/11\n",
      "37/37 [==============================] - 1s 35ms/step - loss: 1.3665 - accuracy: 0.6562 - val_loss: 1.3459 - val_accuracy: 0.6679\n",
      "Epoch 4/11\n",
      "37/37 [==============================] - 1s 35ms/step - loss: 1.3189 - accuracy: 0.6740 - val_loss: 1.2994 - val_accuracy: 0.6679\n",
      "Epoch 5/11\n",
      "37/37 [==============================] - 1s 35ms/step - loss: 1.2883 - accuracy: 0.6917 - val_loss: 1.2748 - val_accuracy: 0.6698\n",
      "Epoch 6/11\n",
      "37/37 [==============================] - 1s 34ms/step - loss: 1.2630 - accuracy: 0.6944 - val_loss: 1.2508 - val_accuracy: 0.6698\n",
      "Epoch 7/11\n",
      "37/37 [==============================] - 1s 33ms/step - loss: 1.2492 - accuracy: 0.7025 - val_loss: 1.2505 - val_accuracy: 0.6679\n",
      "Epoch 8/11\n",
      "37/37 [==============================] - 1s 32ms/step - loss: 1.2411 - accuracy: 0.7108 - val_loss: 1.2323 - val_accuracy: 0.6851\n",
      "Epoch 9/11\n",
      "37/37 [==============================] - 1s 34ms/step - loss: 1.2327 - accuracy: 0.7171 - val_loss: 1.2344 - val_accuracy: 0.6889\n",
      "Epoch 10/11\n",
      "37/37 [==============================] - 1s 37ms/step - loss: 1.2256 - accuracy: 0.7237 - val_loss: 1.2237 - val_accuracy: 0.6985\n",
      "Epoch 11/11\n",
      "37/37 [==============================] - 2s 53ms/step - loss: 1.2173 - accuracy: 0.7331 - val_loss: 1.2186 - val_accuracy: 0.7233\n"
     ]
    },
    {
     "data": {
      "image/png": "[encoded data removed]",
      "text/plain": [
       "<Figure size 432x288 with 1 Axes>"
      ]
     },
     "metadata": {
      "needs_background": "light"
     },
     "output_type": "display_data"
    },
    {
     "data": {
      "image/png": "[encoded data removed]",
      "text/plain": [
       "<Figure size 432x288 with 1 Axes>"
      ]
     },
     "metadata": {
      "needs_background": "light"
     },
     "output_type": "display_data"
    },
    {
     "name": "stdout",
     "output_type": "stream",
     "text": [
      "Training Loss & Accuracy: \n",
      "148/148 [==============================] - 1s 6ms/step - loss: 1.1814 - accuracy: 0.7821\n",
      "\n",
      "Validation Loss & Accuracy: \n",
      "17/17 [==============================] - 0s 6ms/step - loss: 1.2186 - accuracy: 0.7233\n",
      "\n",
      "Test Loss & Accuracy: \n",
      "41/41 [==============================] - 0s 8ms/step - loss: 1.2009 - accuracy: 0.7532\n",
      "WARNING:tensorflow:From <ipython-input-14-f29eb7ceec63>:4: Sequential.predict_classes (from tensorflow.python.keras.engine.sequential) is deprecated and will be removed after 2021-01-01.\n",
      "Instructions for updating:\n",
      "Please use instead:* `np.argmax(model.predict(x), axis=-1)`,   if your model does multi-class classification   (e.g. if it uses a `softmax` last-layer activation).* `(model.predict(x) > 0.5).astype(\"int32\")`,   if your model does binary classification   (e.g. if it uses a `sigmoid` last-layer activation).\n",
      "\n",
      "Confusion Matrix:\n",
      " [[537 117]\n",
      " [206 449]]\n",
      "\n",
      "Classification Report:\n",
      "                  precision    recall  f1-score   support\n",
      "\n",
      "Not a Disaster       0.72      0.82      0.77       654\n",
      "      Disaster       0.79      0.69      0.74       655\n",
      "\n",
      "      accuracy                           0.75      1309\n",
      "     macro avg       0.76      0.75      0.75      1309\n",
      "  weighted avg       0.76      0.75      0.75      1309\n",
      "\n"
     ]
    }
   ],
   "source": [
    "# Tokenize and proeprocess the input\n",
    "\n",
    "# Note -> currently the function is not using vocab_count to control the number of words. All words in corpus is being used\n",
    "# To change this modify code in preprocess_tokenize function and update vocab_count value\n",
    "tokenizer, word_index, max_words = preprocess_tokenize(x_train_val, vocab_count = 10000)\n",
    "\n",
    "# One hot encode the input\n",
    "x_train_val_one_hot, x_train_one_hot, x_val_one_hot, x_test_one_hot = onehot_encode(x_train_val, x_train, \n",
    "                                                                                    x_val, x_test, tokenizer)\n",
    "\n",
    "# Tune the hyper parameters -> hidden units in both layers, epochs, batch size, learning rate\n",
    "# For updating the L1, L2 regulalizer or drop out values, update in the function where the model is defined\n",
    "\n",
    "history_snn, model_snn = train_model(x_train_one_hot, y_train, x_val_one_hot, y_val, max_words = max_words + 1, \n",
    "                         num_hidden_units_1 = 64, num_hidden_units_2 = 32, \n",
    "                         epochs = 11, batch_size = 128, learning_rate = 0.001)\n",
    "\n",
    "plot_learning(history_snn)\n",
    "\n",
    "print('Training Loss & Accuracy: ') \n",
    "model_snn.evaluate(x_train_one_hot, y_train)\n",
    "\n",
    "print('\\nValidation Loss & Accuracy: ')\n",
    "model_snn.evaluate(x_val_one_hot, y_val)\n",
    "\n",
    "# Evalaute the model on Test data for generalization \n",
    "print('\\nTest Loss & Accuracy: ')\n",
    "model_snn.evaluate(x_test_one_hot, y_test)\n",
    "\n",
    "print_metrics(model_snn, x_test_one_hot, y_test, target_dict)"
   ]
  },
  {
   "cell_type": "markdown",
   "metadata": {},
   "source": [
    " - Convert the input data into fixed length sequences instead of one hot encoding the values\n",
    " - Input length is configurable during model training\n",
    " - If input length is less than the chosen fixed length, then it will be padded with leading zeroes"
   ]
  },
  {
   "cell_type": "code",
   "execution_count": 16,
   "metadata": {},
   "outputs": [],
   "source": [
    "# Convert input to sequence of fixed length tensor \n",
    "\n",
    "def inp_fixlen(x_train, x_val, x_test, inp_max_len, tokenizer):\n",
    "    # Convert strings into lists of integer indices sequences \n",
    "    x_train_seq = tokenizer.texts_to_sequences(x_train)\n",
    "    x_val_seq = tokenizer.texts_to_sequences(x_val)\n",
    "    x_test_seq = tokenizer.texts_to_sequences(x_test)\n",
    "\n",
    "    # Convert lists of integers into a 2D integer tensor of shape `(samples, maxlen)`\n",
    "    x_train_fixlen = preprocessing.sequence.pad_sequences(x_train_seq, maxlen = inp_max_len)\n",
    "    x_val_fixlen = preprocessing.sequence.pad_sequences(x_val_seq, maxlen = inp_max_len)\n",
    "    x_test_fixlen = preprocessing.sequence.pad_sequences(x_test_seq, maxlen = inp_max_len)\n",
    "    \n",
    "    print('x_train_fixlen shape :', x_train_fixlen.shape)\n",
    "    print('x_val_fixlen shape   :', x_val_fixlen.shape)\n",
    "    print('x_test_fixlen shape  :', x_test_fixlen.shape)\n",
    "    print('y_train shape        :', y_train.shape)\n",
    "    print('y_val shape          :', y_val.shape)\n",
    "    print('y_test shape         :', y_test.shape)\n",
    "    print('\\n')\n",
    "    \n",
    "    return (x_train_fixlen, x_val_fixlen, x_test_fixlen)"
   ]
  },
  {
   "cell_type": "markdown",
   "metadata": {},
   "source": [
    "__Using Word Embeddings (learnt from input corpus):__\n",
    " - Entire vocabulary of corpus is being used as number of input records are very low\n",
    " - Learn the word embeddings from the input data\n",
    " - Flatten the output of the embedding layer and feed into the classification model \n",
    "   - Use the same Neural Network which was defined previosuly, after the Embedding layer"
   ]
  },
  {
   "cell_type": "code",
   "execution_count": 17,
   "metadata": {},
   "outputs": [],
   "source": [
    "# Create a NN model by learning word embeddings with the Embedding layer\n",
    "\n",
    "def train_emb_model(x_train, y_train, x_val, y_val, emb_vec_len, inp_max_len, max_words, \n",
    "                    num_hidden_units_1, num_hidden_units_2, epochs, batch_size, learning_rate):\n",
    "    model_emb = models.Sequential()\n",
    "    model_emb.add(layers.Embedding(max_words, emb_vec_len, input_length = inp_max_len))\n",
    "    model_emb.add(layers.Flatten())                          \n",
    "    model_emb.add(layers.Dense(num_hidden_units_1, activation = 'relu',\n",
    "                               kernel_regularizer = regularizers.l1_l2(l1 = 0.001, l2 = 0.001)))\n",
    "    model_emb.add(layers.Dropout(0.5))\n",
    "    model_emb.add(layers.Dense(num_hidden_units_2, activation = 'relu', \n",
    "                               kernel_regularizer = regularizers.l1_l2(l1 = 0.001, l2 = 0.001)))\n",
    "    model_emb.add(layers.Dropout(0.5))\n",
    "    model_emb.add(layers.Dense(1, activation = 'sigmoid'))\n",
    "\n",
    "    model_emb.summary()\n",
    "\n",
    "    model_emb.compile(loss = 'binary_crossentropy', \n",
    "                  optimizer = optimizers.RMSprop(lr = learning_rate), \n",
    "                  metrics = ['accuracy'])\n",
    "\n",
    "    history_emb = model_emb.fit(x_train, y_train, epochs = epochs, batch_size = batch_size, \n",
    "                                validation_data = (x_val, y_val))\n",
    "    return (history_emb, model_emb)"
   ]
  },
  {
   "cell_type": "markdown",
   "metadata": {},
   "source": [
    "# 2) Neural Network model using Embeddings learnt from input data\n",
    " - Train the model and plot learning curves (for loss and accuracy) for Training and Validation data\n",
    " - Evaluate the model performance against Test data\n",
    "   - Display the Test loss and Accuracy\n",
    "   - Display the Confusion Matrix & Classification Report\n",
    "\n",
    "Note: Update the embedding vector dimension, input length as required to improve model performance"
   ]
  },
  {
   "cell_type": "code",
   "execution_count": 49,
   "metadata": {},
   "outputs": [
    {
     "name": "stdout",
     "output_type": "stream",
     "text": [
      "Found 17582 unique tokens in training data\n",
      "\n",
      "x_train_fixlen shape : (4709, 55)\n",
      "x_val_fixlen shape   : (524, 55)\n",
      "x_test_fixlen shape  : (1309, 55)\n",
      "y_train shape        : (4709,)\n",
      "y_val shape          : (524,)\n",
      "y_test shape         : (1309,)\n",
      "\n",
      "\n",
      "Model: \"sequential_19\"\n",
      "_________________________________________________________________\n",
      "Layer (type)                 Output Shape              Param #   \n",
      "=================================================================\n",
      "embedding_18 (Embedding)     (None, 55, 100)           1758300   \n",
      "_________________________________________________________________\n",
      "flatten_14 (Flatten)         (None, 5500)              0         \n",
      "_________________________________________________________________\n",
      "dense_57 (Dense)             (None, 64)                352064    \n",
      "_________________________________________________________________\n",
      "dropout_38 (Dropout)         (None, 64)                0         \n",
      "_________________________________________________________________\n",
      "dense_58 (Dense)             (None, 32)                2080      \n",
      "_________________________________________________________________\n",
      "dropout_39 (Dropout)         (None, 32)                0         \n",
      "_________________________________________________________________\n",
      "dense_59 (Dense)             (None, 1)                 33        \n",
      "=================================================================\n",
      "Total params: 2,112,477\n",
      "Trainable params: 2,112,477\n",
      "Non-trainable params: 0\n",
      "_________________________________________________________________\n",
      "Epoch 1/10\n",
      "37/37 [==============================] - 1s 32ms/step - loss: 2.1327 - accuracy: 0.5097 - val_loss: 1.0677 - val_accuracy: 0.5000\n",
      "Epoch 2/10\n",
      "37/37 [==============================] - 1s 26ms/step - loss: 1.0334 - accuracy: 0.5169 - val_loss: 1.0023 - val_accuracy: 0.5000\n",
      "Epoch 3/10\n",
      "37/37 [==============================] - 1s 25ms/step - loss: 0.9763 - accuracy: 0.5031 - val_loss: 0.9508 - val_accuracy: 0.5000\n",
      "Epoch 4/10\n",
      "37/37 [==============================] - 1s 25ms/step - loss: 0.9317 - accuracy: 0.5131 - val_loss: 0.9128 - val_accuracy: 0.5000\n",
      "Epoch 5/10\n",
      "37/37 [==============================] - 1s 26ms/step - loss: 0.9001 - accuracy: 0.5103 - val_loss: 0.8877 - val_accuracy: 0.6679\n",
      "Epoch 6/10\n",
      "37/37 [==============================] - 1s 27ms/step - loss: 0.8803 - accuracy: 0.5209 - val_loss: 0.8739 - val_accuracy: 0.5897\n",
      "Epoch 7/10\n",
      "37/37 [==============================] - 1s 26ms/step - loss: 0.8717 - accuracy: 0.5589 - val_loss: 0.8706 - val_accuracy: 0.6660\n",
      "Epoch 8/10\n",
      "37/37 [==============================] - 1s 26ms/step - loss: 0.8661 - accuracy: 0.6010 - val_loss: 0.8626 - val_accuracy: 0.6985\n",
      "Epoch 9/10\n",
      "37/37 [==============================] - 1s 27ms/step - loss: 0.8564 - accuracy: 0.6335 - val_loss: 0.8515 - val_accuracy: 0.6966\n",
      "Epoch 10/10\n",
      "37/37 [==============================] - 1s 27ms/step - loss: 0.8352 - accuracy: 0.7042 - val_loss: 0.8305 - val_accuracy: 0.7290\n"
     ]
    },
    {
     "data": {
      "image/png": "[encoded data removed]",
      "text/plain": [
       "<Figure size 432x288 with 1 Axes>"
      ]
     },
     "metadata": {
      "needs_background": "light"
     },
     "output_type": "display_data"
    },
    {
     "data": {
      "image/png": "[encoded data removed]",
      "text/plain": [
       "<Figure size 432x288 with 1 Axes>"
      ]
     },
     "metadata": {
      "needs_background": "light"
     },
     "output_type": "display_data"
    },
    {
     "name": "stdout",
     "output_type": "stream",
     "text": [
      "Training Loss & Accuracy: \n",
      "148/148 [==============================] - 0s 3ms/step - loss: 0.7940 - accuracy: 0.8178\n",
      "\n",
      "Validation Loss & Accuracy: \n",
      "17/17 [==============================] - 0s 4ms/step - loss: 0.8305 - accuracy: 0.7290\n",
      "\n",
      "Test Loss & Accuracy: \n",
      "41/41 [==============================] - 0s 4ms/step - loss: 0.8165 - accuracy: 0.7418\n",
      "\n",
      "Confusion Matrix:\n",
      " [[608  46]\n",
      " [292 363]]\n",
      "\n",
      "Classification Report:\n",
      "                  precision    recall  f1-score   support\n",
      "\n",
      "Not a Disaster       0.68      0.93      0.78       654\n",
      "      Disaster       0.89      0.55      0.68       655\n",
      "\n",
      "      accuracy                           0.74      1309\n",
      "     macro avg       0.78      0.74      0.73      1309\n",
      "  weighted avg       0.78      0.74      0.73      1309\n",
      "\n"
     ]
    }
   ],
   "source": [
    "# Update emb_vec_len, inp_max_len parameters as required: \n",
    "\n",
    "emb_vec_len = 100\n",
    "inp_max_len = 55     # only these many number of words from the start of input text will be considered\n",
    "vocab_count = 10000\n",
    "\n",
    "# Tokenize and proeprocess the input\n",
    "# Note -> currently the function is not using vocab_count to control the number of words. All words in corpus is being used\n",
    "# To change this modify code in preprocess_tokenize function and update vocab_count value\n",
    "tokenizer, word_index, max_words = preprocess_tokenize(x_train_val, vocab_count)\n",
    "\n",
    "x_train_fixlen, x_val_fixlen, x_test_fixlen = inp_fixlen(x_train, x_val, x_test, inp_max_len, tokenizer)\n",
    "\n",
    "history_emb, model_emb = train_emb_model(x_train_fixlen, y_train, x_val_fixlen, y_val, emb_vec_len, inp_max_len, \n",
    "                                         max_words = max_words + 1, num_hidden_units_1 = 64, num_hidden_units_2 = 32, \n",
    "                                         epochs = 10, batch_size = 128, learning_rate = 0.001)\n",
    "\n",
    "plot_learning(history_emb)\n",
    "\n",
    "print('Training Loss & Accuracy: ') \n",
    "model_emb.evaluate(x_train_fixlen, y_train)\n",
    "\n",
    "print('\\nValidation Loss & Accuracy: ')\n",
    "model_emb.evaluate(x_val_fixlen, y_val)\n",
    "\n",
    "# Evalaute the model on Test data for generalization \n",
    "print('\\nTest Loss & Accuracy: ')\n",
    "model_emb.evaluate(x_test_fixlen, y_test)\n",
    "\n",
    "print_metrics(model_emb, x_test_fixlen, y_test, target_dict)"
   ]
  },
  {
   "cell_type": "markdown",
   "metadata": {},
   "source": [
    "__Pretrained GloVe model:__\n",
    " - Download GloVe embedding (we will use 100 dimension file) and build the embedding index \n",
    " - Create embedding matrix for the words from vocabulary (built from input corpus)\n",
    "   - The pretrained weights from the GloVe model will be used as weights in our model's embedding layer"
   ]
  },
  {
   "cell_type": "code",
   "execution_count": 19,
   "metadata": {},
   "outputs": [],
   "source": [
    "# Build the embedding index and embedding matrix (weight matrix) from the pretrained GloVe 100d model \n",
    "\n",
    "os.chdir(r'C:\\MSBA\\Fall 2020\\INSY 5376 - Big Data\\Assignments\\glove.6B')\n",
    "\n",
    "def build_embindex_embmatrix(emb_vec_len, word_index, max_words):\n",
    "    embeddings_index = {}\n",
    "\n",
    "    with open('glove.6B.100d.txt', encoding = 'utf-8') as infile:    \n",
    "        for line in infile: \n",
    "            values = line.split()\n",
    "            word = values[0]\n",
    "            coefs = np.asarray(values[1 : emb_vec_len + 1], dtype='float32')\n",
    "            embeddings_index[word] = coefs\n",
    "\n",
    "    print('Found %s word vectors' % len(embeddings_index))\n",
    "\n",
    "    embedding_matrix = np.zeros((max_words, emb_vec_len))\n",
    "\n",
    "    for word, i in word_index.items():\n",
    "        if i < max_words:\n",
    "            embedding_vector = embeddings_index.get(word)\n",
    "            if embedding_vector is not None:\n",
    "                # Words not found in embedding index will be all-zeros.\n",
    "                embedding_matrix[i] = embedding_vector\n",
    "\n",
    "    print('Embedding matrix shape: ', embedding_matrix.shape)\n",
    "    return (embedding_matrix)"
   ]
  },
  {
   "cell_type": "markdown",
   "metadata": {},
   "source": [
    "__Using Word Embeddings from pretrained GloVe model:__\n",
    " - Entire vocabulary of corpus is being used as number of input records are very low\n",
    " - Use the word embeddings from the GloVe 100d model (customize the size of embedding as required for our model)\n",
    " - Flatten the output of the embedding layer and feed into the classification model \n",
    "   - Use the same Neural Network which was defined previosuly, after the Embedding layer\n",
    "\n",
    "Note: Embedding matrix from the GloVe model are used to set the weights of the embedding layer and the layer is freezed so \n",
    "      during training, the pretrained weights remain constant and the learning is not lost"
   ]
  },
  {
   "cell_type": "code",
   "execution_count": 20,
   "metadata": {},
   "outputs": [],
   "source": [
    "# Create a NN model by using pretrained GloVe word embeddings with the Embedding layer\n",
    "\n",
    "def train_pt_emb_model(x_train, y_train, x_val, y_val, emb_vec_len, inp_max_len, embedding_matrix, max_words, \n",
    "                       num_hidden_units_1, num_hidden_units_2, epochs, batch_size, learning_rate):\n",
    "    model_pt_emb = models.Sequential()\n",
    "    model_pt_emb.add(layers.Embedding(max_words, emb_vec_len, input_length = inp_max_len))\n",
    "    model_pt_emb.add(layers.Flatten())                          \n",
    "    model_pt_emb.add(layers.Dense(num_hidden_units_1, activation = 'relu',\n",
    "                               kernel_regularizer = regularizers.l1_l2(l1=0.001, l2=0.001)))\n",
    "    model_pt_emb.add(layers.Dropout(0.5))\n",
    "    model_pt_emb.add(layers.Dense(num_hidden_units_2, activation = 'relu', \n",
    "                               kernel_regularizer = regularizers.l1_l2(l1=0.001, l2=0.001)))\n",
    "    model_pt_emb.add(layers.Dropout(0.5))\n",
    "    model_pt_emb.add(layers.Dense(1, activation = 'sigmoid'))\n",
    "\n",
    "    model_pt_emb.summary()\n",
    "\n",
    "    # Load the GloVe embeddings and freeze the embedding layer so that pre trained weights are used\n",
    "    model_pt_emb.layers[0].set_weights([embedding_matrix])\n",
    "    model_pt_emb.layers[0].trainable = False\n",
    "    \n",
    "    model_pt_emb.compile(loss = 'binary_crossentropy', \n",
    "                  optimizer = optimizers.RMSprop(lr = learning_rate), \n",
    "                  metrics = ['accuracy'])\n",
    "\n",
    "    history_pt_emb = model_pt_emb.fit(x_train, y_train, epochs = epochs, batch_size = batch_size, \n",
    "                                      validation_data = (x_val, y_val))\n",
    "    return (history_pt_emb, model_pt_emb)"
   ]
  },
  {
   "cell_type": "markdown",
   "metadata": {},
   "source": [
    "# 3) Neural Network model using pre trained GloVe Embeddings\n",
    " - Train the model and plot learning curves (for loss and accuracy) for Training and Validation data\n",
    " - Evaluate the model performance against Test data\n",
    "   - Display the Test loss and Accuracy\n",
    "   - Display the Confusion Matrix & Classification Report\n",
    "\n",
    "Note: Update the embedding vector dimension, input length as required to improve model performance"
   ]
  },
  {
   "cell_type": "code",
   "execution_count": 50,
   "metadata": {},
   "outputs": [
    {
     "name": "stdout",
     "output_type": "stream",
     "text": [
      "Found 17582 unique tokens in training data\n",
      "\n",
      "x_train_fixlen shape : (4709, 55)\n",
      "x_val_fixlen shape   : (524, 55)\n",
      "x_test_fixlen shape  : (1309, 55)\n",
      "y_train shape        : (4709,)\n",
      "y_val shape          : (524,)\n",
      "y_test shape         : (1309,)\n",
      "\n",
      "\n",
      "Found 400000 word vectors\n",
      "Embedding matrix shape:  (17583, 100)\n",
      "Model: \"sequential_20\"\n",
      "_________________________________________________________________\n",
      "Layer (type)                 Output Shape              Param #   \n",
      "=================================================================\n",
      "embedding_19 (Embedding)     (None, 55, 100)           1758300   \n",
      "_________________________________________________________________\n",
      "flatten_15 (Flatten)         (None, 5500)              0         \n",
      "_________________________________________________________________\n",
      "dense_60 (Dense)             (None, 64)                352064    \n",
      "_________________________________________________________________\n",
      "dropout_40 (Dropout)         (None, 64)                0         \n",
      "_________________________________________________________________\n",
      "dense_61 (Dense)             (None, 32)                2080      \n",
      "_________________________________________________________________\n",
      "dropout_41 (Dropout)         (None, 32)                0         \n",
      "_________________________________________________________________\n",
      "dense_62 (Dense)             (None, 1)                 33        \n",
      "=================================================================\n",
      "Total params: 2,112,477\n",
      "Trainable params: 2,112,477\n",
      "Non-trainable params: 0\n",
      "_________________________________________________________________\n",
      "Epoch 1/11\n",
      "37/37 [==============================] - 1s 18ms/step - loss: 2.8943 - accuracy: 0.6279 - val_loss: 1.5166 - val_accuracy: 0.7366\n",
      "Epoch 2/11\n",
      "37/37 [==============================] - 1s 14ms/step - loss: 1.3143 - accuracy: 0.7078 - val_loss: 1.1489 - val_accuracy: 0.7462\n",
      "Epoch 3/11\n",
      "37/37 [==============================] - 1s 14ms/step - loss: 1.1358 - accuracy: 0.7212 - val_loss: 1.0695 - val_accuracy: 0.7023\n",
      "Epoch 4/11\n",
      "37/37 [==============================] - 1s 15ms/step - loss: 1.0385 - accuracy: 0.7401 - val_loss: 1.0438 - val_accuracy: 0.7080\n",
      "Epoch 5/11\n",
      "37/37 [==============================] - 1s 14ms/step - loss: 0.9925 - accuracy: 0.7458 - val_loss: 1.0283 - val_accuracy: 0.6889\n",
      "Epoch 6/11\n",
      "37/37 [==============================] - 1s 15ms/step - loss: 0.9566 - accuracy: 0.7494 - val_loss: 0.9416 - val_accuracy: 0.7615\n",
      "Epoch 7/11\n",
      "37/37 [==============================] - 1s 15ms/step - loss: 0.9348 - accuracy: 0.7585 - val_loss: 0.9289 - val_accuracy: 0.7309\n",
      "Epoch 8/11\n",
      "37/37 [==============================] - 1s 14ms/step - loss: 0.8888 - accuracy: 0.7717 - val_loss: 0.8721 - val_accuracy: 0.7653\n",
      "Epoch 9/11\n",
      "37/37 [==============================] - 1s 14ms/step - loss: 0.8671 - accuracy: 0.7698 - val_loss: 0.8712 - val_accuracy: 0.7576\n",
      "Epoch 10/11\n",
      "37/37 [==============================] - 1s 15ms/step - loss: 0.8497 - accuracy: 0.7815 - val_loss: 0.8675 - val_accuracy: 0.7576\n",
      "Epoch 11/11\n",
      "37/37 [==============================] - 1s 15ms/step - loss: 0.8440 - accuracy: 0.7774 - val_loss: 0.8528 - val_accuracy: 0.7615\n"
     ]
    },
    {
     "data": {
      "image/png": "[encoded data removed]",
      "text/plain": [
       "<Figure size 432x288 with 1 Axes>"
      ]
     },
     "metadata": {
      "needs_background": "light"
     },
     "output_type": "display_data"
    },
    {
     "data": {
      "image/png": "[encoded data removed]",
      "text/plain": [
       "<Figure size 432x288 with 1 Axes>"
      ]
     },
     "metadata": {
      "needs_background": "light"
     },
     "output_type": "display_data"
    },
    {
     "name": "stdout",
     "output_type": "stream",
     "text": [
      "Training Loss & Accuracy: \n",
      "148/148 [==============================] - 0s 3ms/step - loss: 0.7683 - accuracy: 0.8261\n",
      "\n",
      "Validation Loss & Accuracy: \n",
      "17/17 [==============================] - 0s 3ms/step - loss: 0.8528 - accuracy: 0.7615\n",
      "\n",
      "Test Loss & Accuracy: \n",
      "41/41 [==============================] - 0s 3ms/step - loss: 0.8617 - accuracy: 0.7617\n",
      "\n",
      "Confusion Matrix:\n",
      " [[601  53]\n",
      " [259 396]]\n",
      "\n",
      "Classification Report:\n",
      "                  precision    recall  f1-score   support\n",
      "\n",
      "Not a Disaster       0.70      0.92      0.79       654\n",
      "      Disaster       0.88      0.60      0.72       655\n",
      "\n",
      "      accuracy                           0.76      1309\n",
      "     macro avg       0.79      0.76      0.76      1309\n",
      "  weighted avg       0.79      0.76      0.76      1309\n",
      "\n"
     ]
    }
   ],
   "source": [
    "# Update below parameters as required\n",
    "inp_max_len = 55      # only these many number of words from the start of input text will be considered  \n",
    "vocab_count = 10000    # currently this field is not being used to choose vocabulary size\n",
    "emb_vec_len = 100       # cannot exceed 100 as glove.6B.100d is being used\n",
    "\n",
    "# Tokenize and proeprocess the input\n",
    "# Note -> currently the function is not using vocab_count to control the number of words. All words in corpus is being used\n",
    "# To change this modify code in preprocess_tokenize function and update vocab_count to desired value \n",
    "tokenizer, word_index, max_words = preprocess_tokenize(x_train_val, vocab_count)\n",
    "\n",
    "# Convert the input to fixed length sequences \n",
    "x_train_fixlen, x_val_fixlen, x_test_fixlen = inp_fixlen(x_train, x_val, x_test, inp_max_len, tokenizer)\n",
    "\n",
    "# Build the embedding index and embedding matrix (weight matrix) from the pretrained GloVe 100d model \n",
    "embedding_matrix = build_embindex_embmatrix(emb_vec_len, word_index, max_words = max_words + 1)\n",
    "\n",
    "# Define and train the model \n",
    "history_pt_emb, model_pt_emb = train_pt_emb_model(x_train_fixlen, y_train, x_val_fixlen, y_val,\n",
    "                                                  emb_vec_len, inp_max_len, embedding_matrix, max_words = max_words + 1, \n",
    "                                                  num_hidden_units_1 = 64, num_hidden_units_2 = 32,  \n",
    "                                                  epochs = 11, batch_size = 128, learning_rate = 0.001)\n",
    "# plot the learning curves\n",
    "plot_learning(history_pt_emb)\n",
    "\n",
    "print('Training Loss & Accuracy: ') \n",
    "model_pt_emb.evaluate(x_train_fixlen, y_train)\n",
    "\n",
    "print('\\nValidation Loss & Accuracy: ')\n",
    "model_pt_emb.evaluate(x_val_fixlen, y_val)\n",
    "\n",
    "# Evalaute the model on Test data for generalization \n",
    "print('\\nTest Loss & Accuracy: ')\n",
    "model_pt_emb.evaluate(x_test_fixlen, y_test)\n",
    "\n",
    "# Display the test metrics -> Confusion matrix & Classification report\n",
    "print_metrics(model_pt_emb, x_test_fixlen, y_test, target_dict)"
   ]
  },
  {
   "cell_type": "markdown",
   "metadata": {},
   "source": [
    "__Define a simple Recurrent Neural Network (stacked RNN in below case) using embeddings learnt from input data:__\n",
    "   - We will learn the word embeddings from input corpus, instead of using a pretrained model (like GloVe)\n",
    "   - The output of the embedding layer is not flattened. It is fed as-is (3-dimesional tensor) to RNN layer\n",
    "     - i.e. data is processed as it is: a sequence, where order of the words will also be considered\n",
    "   - RNN layers are followed by previously defined simple NN classfication model\n",
    "   - Note the usage of drop out and recurrent drop out parameters within the RNN layers\n",
    "     - dropout: specifying the dropout rate for input units of the layer\n",
    "     - recurrent_dropout: specifying the dropout rate of the recurrent units"
   ]
  },
  {
   "cell_type": "code",
   "execution_count": 22,
   "metadata": {},
   "outputs": [],
   "source": [
    "# Create a NN model by learning word embeddings with the Embedding layer and using Simple RNN\n",
    "\n",
    "def train_rnn_model(x_train, y_train, x_val, y_val, emb_vec_len, inp_max_len, max_words, rnn_nodes, \n",
    "                    num_hidden_units_1, num_hidden_units_2, epochs, batch_size, learning_rate):\n",
    "    model_rnn = models.Sequential()\n",
    "    model_rnn.add(layers.Embedding(max_words, emb_vec_len, input_length = inp_max_len))\n",
    "    model_rnn.add(layers.SimpleRNN(rnn_nodes, dropout = 0.3, recurrent_dropout = 0.3, return_sequences=True))\n",
    "    model_rnn.add(layers.SimpleRNN(rnn_nodes, dropout = 0.3, recurrent_dropout = 0.3))\n",
    "    model_rnn.add(layers.Dense(num_hidden_units_1, activation = 'relu', \n",
    "                               kernel_regularizer = regularizers.l1_l2(l1 = 0.001, l2 = 0.001)))\n",
    "    model_rnn.add(layers.Dropout(0.5))\n",
    "    model_rnn.add(layers.Dense(num_hidden_units_2, activation = 'relu', \n",
    "                               kernel_regularizer = regularizers.l1_l2(l1 = 0.001, l2 = 0.001)))\n",
    "    model_rnn.add(layers.Dropout(0.5))\n",
    "    model_rnn.add(layers.Dense(1, activation = 'sigmoid'))\n",
    "\n",
    "    model_rnn.summary()\n",
    "\n",
    "    model_rnn.compile(loss = 'binary_crossentropy', \n",
    "                  optimizer = optimizers.RMSprop(lr = learning_rate), \n",
    "                  metrics = ['accuracy'])\n",
    "\n",
    "    history_rnn = model_rnn.fit(x_train, y_train, epochs = epochs, batch_size = batch_size, \n",
    "                                validation_data = (x_val, y_val))\n",
    "    return (history_rnn, model_rnn)"
   ]
  },
  {
   "cell_type": "markdown",
   "metadata": {},
   "source": [
    "# 4) Recurrent Neural Network (RNN) model:\n",
    " - Train the model and plot learning curves (for loss and accuracy) for Training and Validation data\n",
    " - Evaluate the model performance against Test data\n",
    "   - Display the Test loss and Accuracy\n",
    "   - Display the Confusion Matrix & Classification Report\n",
    "\n",
    "Note: Update the embedding vector dimension, input length as required to improve model performance"
   ]
  },
  {
   "cell_type": "code",
   "execution_count": 51,
   "metadata": {},
   "outputs": [
    {
     "name": "stdout",
     "output_type": "stream",
     "text": [
      "Found 17582 unique tokens in training data\n",
      "\n",
      "x_train_fixlen shape : (4709, 55)\n",
      "x_val_fixlen shape   : (524, 55)\n",
      "x_test_fixlen shape  : (1309, 55)\n",
      "y_train shape        : (4709,)\n",
      "y_val shape          : (524,)\n",
      "y_test shape         : (1309,)\n",
      "\n",
      "\n",
      "Model: \"sequential_21\"\n",
      "_________________________________________________________________\n",
      "Layer (type)                 Output Shape              Param #   \n",
      "=================================================================\n",
      "embedding_20 (Embedding)     (None, 55, 64)            1125312   \n",
      "_________________________________________________________________\n",
      "simple_rnn_2 (SimpleRNN)     (None, 55, 64)            8256      \n",
      "_________________________________________________________________\n",
      "simple_rnn_3 (SimpleRNN)     (None, 64)                8256      \n",
      "_________________________________________________________________\n",
      "dense_63 (Dense)             (None, 64)                4160      \n",
      "_________________________________________________________________\n",
      "dropout_42 (Dropout)         (None, 64)                0         \n",
      "_________________________________________________________________\n",
      "dense_64 (Dense)             (None, 32)                2080      \n",
      "_________________________________________________________________\n",
      "dropout_43 (Dropout)         (None, 32)                0         \n",
      "_________________________________________________________________\n",
      "dense_65 (Dense)             (None, 1)                 33        \n",
      "=================================================================\n",
      "Total params: 1,148,097\n",
      "Trainable params: 1,148,097\n",
      "Non-trainable params: 0\n",
      "_________________________________________________________________\n",
      "Epoch 1/14\n",
      "37/37 [==============================] - 4s 109ms/step - loss: 1.4797 - accuracy: 0.4990 - val_loss: 1.3917 - val_accuracy: 0.5458\n",
      "Epoch 2/14\n",
      "37/37 [==============================] - 4s 96ms/step - loss: 1.3695 - accuracy: 0.4971 - val_loss: 1.2999 - val_accuracy: 0.5496\n",
      "Epoch 3/14\n",
      "37/37 [==============================] - 4s 98ms/step - loss: 1.2634 - accuracy: 0.5010 - val_loss: 1.2054 - val_accuracy: 0.5420\n",
      "Epoch 4/14\n",
      "37/37 [==============================] - 4s 96ms/step - loss: 1.1659 - accuracy: 0.4886 - val_loss: 1.1084 - val_accuracy: 0.5439\n",
      "Epoch 5/14\n",
      "37/37 [==============================] - 4s 101ms/step - loss: 1.0645 - accuracy: 0.5152 - val_loss: 1.0112 - val_accuracy: 0.5744\n",
      "Epoch 6/14\n",
      "37/37 [==============================] - 4s 96ms/step - loss: 0.9674 - accuracy: 0.5182 - val_loss: 0.9188 - val_accuracy: 0.5916\n",
      "Epoch 7/14\n",
      "37/37 [==============================] - 4s 96ms/step - loss: 0.8794 - accuracy: 0.5182 - val_loss: 0.8349 - val_accuracy: 0.5821\n",
      "Epoch 8/14\n",
      "37/37 [==============================] - 4s 97ms/step - loss: 0.8032 - accuracy: 0.5460 - val_loss: 0.7669 - val_accuracy: 0.5782\n",
      "Epoch 9/14\n",
      "37/37 [==============================] - 4s 102ms/step - loss: 0.7456 - accuracy: 0.5787 - val_loss: 0.7176 - val_accuracy: 0.6050\n",
      "Epoch 10/14\n",
      "37/37 [==============================] - 4s 98ms/step - loss: 0.7069 - accuracy: 0.6148 - val_loss: 0.6920 - val_accuracy: 0.6088\n",
      "Epoch 11/14\n",
      "37/37 [==============================] - 4s 96ms/step - loss: 0.6821 - accuracy: 0.6405 - val_loss: 0.6910 - val_accuracy: 0.6260\n",
      "Epoch 12/14\n",
      "37/37 [==============================] - 4s 97ms/step - loss: 0.6651 - accuracy: 0.6587 - val_loss: 0.6578 - val_accuracy: 0.6737\n",
      "Epoch 13/14\n",
      "37/37 [==============================] - 4s 96ms/step - loss: 0.6385 - accuracy: 0.6978 - val_loss: 0.6051 - val_accuracy: 0.7099\n",
      "Epoch 14/14\n",
      "37/37 [==============================] - 4s 101ms/step - loss: 0.5840 - accuracy: 0.7477 - val_loss: 0.5911 - val_accuracy: 0.7271\n"
     ]
    },
    {
     "data": {
      "image/png": "[encoded data removed]",
      "text/plain": [
       "<Figure size 432x288 with 1 Axes>"
      ]
     },
     "metadata": {
      "needs_background": "light"
     },
     "output_type": "display_data"
    },
    {
     "data": {
      "image/png": "[encoded data removed]",
      "text/plain": [
       "<Figure size 432x288 with 1 Axes>"
      ]
     },
     "metadata": {
      "needs_background": "light"
     },
     "output_type": "display_data"
    },
    {
     "name": "stdout",
     "output_type": "stream",
     "text": [
      "Training Loss & Accuracy: \n",
      "148/148 [==============================] - 1s 6ms/step - loss: 0.5019 - accuracy: 0.7828\n",
      "\n",
      "Validation Loss & Accuracy: \n",
      "17/17 [==============================] - 0s 6ms/step - loss: 0.5911 - accuracy: 0.7271\n",
      "\n",
      "Test Loss & Accuracy: \n",
      "41/41 [==============================] - 0s 7ms/step - loss: 0.5745 - accuracy: 0.7296\n",
      "\n",
      "Confusion Matrix:\n",
      " [[624  30]\n",
      " [324 331]]\n",
      "\n",
      "Classification Report:\n",
      "                  precision    recall  f1-score   support\n",
      "\n",
      "Not a Disaster       0.66      0.95      0.78       654\n",
      "      Disaster       0.92      0.51      0.65       655\n",
      "\n",
      "      accuracy                           0.73      1309\n",
      "     macro avg       0.79      0.73      0.72      1309\n",
      "  weighted avg       0.79      0.73      0.72      1309\n",
      "\n"
     ]
    }
   ],
   "source": [
    "# Update emb_vec_len, inp_max_len parameters as required: \n",
    "\n",
    "emb_vec_len = 64\n",
    "inp_max_len = 55\n",
    "vocab_count = 10000\n",
    "\n",
    "# Tokenize and proeprocess the input\n",
    "# Note -> currently the function is not using vocab_count to control the number of words. All words in corpus is being used\n",
    "# To change this modify code in preprocess_tokenize function and update vocab_count value\n",
    "tokenizer, word_index, max_words = preprocess_tokenize(x_train_val, vocab_count)\n",
    "\n",
    "x_train_fixlen, x_val_fixlen, x_test_fixlen = inp_fixlen(x_train, x_val, x_test, inp_max_len, tokenizer)\n",
    "\n",
    "history_rnn, model_rnn = train_rnn_model(x_train_fixlen, y_train, x_val_fixlen, y_val, emb_vec_len, inp_max_len, \n",
    "                                         max_words = max_words + 1, rnn_nodes = 64, num_hidden_units_1 = 64, \n",
    "                                         num_hidden_units_2 = 32, epochs = 14, batch_size = 128, learning_rate = 0.001)\n",
    "\n",
    "plot_learning(history_rnn)\n",
    "\n",
    "print('Training Loss & Accuracy: ') \n",
    "model_rnn.evaluate(x_train_fixlen, y_train)\n",
    "\n",
    "print('\\nValidation Loss & Accuracy: ')\n",
    "model_rnn.evaluate(x_val_fixlen, y_val)\n",
    "\n",
    "# Evalaute the model on Test data for generalization \n",
    "print('\\nTest Loss & Accuracy: ')\n",
    "model_rnn.evaluate(x_test_fixlen, y_test)\n",
    "\n",
    "print_metrics(model_rnn, x_test_fixlen, y_test, target_dict)"
   ]
  },
  {
   "cell_type": "markdown",
   "metadata": {},
   "source": [
    "__Define a Long Short Term Memory model (stacked LSTM in below case) using embeddings learnt from input data:__\n",
    "   - We will learn the word embeddings from input corpus, instead of using a pretrained model (like GloVe)\n",
    "   - The output of the embedding layer is not flattened. It is fed as-is (3-dimesional tensor) to LSTM layer\n",
    "     - i.e. data is processed as it is: a sequence, where order of the words will also be considered\n",
    "   - LSTM layers are followed by previously defined simple NN classfication model\n",
    "   - Note the usage of drop out and recurrent drop out parameters within the LSTM layers\n",
    "     - dropout: specifying the dropout rate for input units of the layer\n",
    "     - recurrent_dropout: specifying the dropout rate of the recurrent units"
   ]
  },
  {
   "cell_type": "code",
   "execution_count": 24,
   "metadata": {},
   "outputs": [],
   "source": [
    "# Create a NN model by learning word embeddings with the Embedding layer and using LSTM\n",
    "\n",
    "def train_lstm_model(x_train, y_train, x_val, y_val, emb_vec_len, inp_max_len, max_words, lstm_nodes, \n",
    "                    num_hidden_units_1, num_hidden_units_2, epochs, batch_size, learning_rate):\n",
    "    model_lstm = models.Sequential()\n",
    "    model_lstm.add(layers.Embedding(max_words, emb_vec_len, input_length = inp_max_len))\n",
    "    model_lstm.add(layers.LSTM(lstm_nodes, dropout = 0.35, recurrent_dropout = 0.35, return_sequences=True))\n",
    "    model_lstm.add(layers.LSTM(lstm_nodes, dropout = 0.35, recurrent_dropout = 0.35))\n",
    "    model_lstm.add(layers.Dense(num_hidden_units_1, activation = 'relu', \n",
    "                               kernel_regularizer = regularizers.l1_l2(l1 = 0.01, l2 = 0.01)))\n",
    "    model_lstm.add(layers.Dropout(0.5))\n",
    "    model_lstm.add(layers.Dense(num_hidden_units_2, activation = 'relu', \n",
    "                               kernel_regularizer = regularizers.l1_l2(l1 = 0.01, l2 = 0.01)))\n",
    "    model_lstm.add(layers.Dropout(0.5))\n",
    "    model_lstm.add(layers.Dense(1, activation = 'sigmoid'))\n",
    "\n",
    "    model_lstm.summary()\n",
    "\n",
    "    model_lstm.compile(loss = 'binary_crossentropy', \n",
    "                       optimizer = optimizers.RMSprop(lr = learning_rate), \n",
    "                       metrics = ['accuracy'])\n",
    "\n",
    "    history_lstm = model_lstm.fit(x_train, y_train, epochs = epochs, batch_size = batch_size, \n",
    "                                  validation_data = (x_val, y_val))\n",
    "    return (history_lstm, model_lstm)"
   ]
  },
  {
   "cell_type": "markdown",
   "metadata": {},
   "source": [
    "# 5) Long Short Term Memory model (LSTM):\n",
    " - Train the model and plot learning curves (for loss and accuracy) for Training and Validation data\n",
    " - Evaluate the model performance against Test data\n",
    "   - Display the Test loss and Accuracy\n",
    "   - Display the Confusion Matrix & Classification Report\n",
    "\n",
    "Note: Update the embedding vector dimension, input length as required to improve model performance"
   ]
  },
  {
   "cell_type": "code",
   "execution_count": 65,
   "metadata": {
    "scrolled": true
   },
   "outputs": [
    {
     "name": "stdout",
     "output_type": "stream",
     "text": [
      "Found 17582 unique tokens in training data\n",
      "\n",
      "x_train_fixlen shape : (4709, 55)\n",
      "x_val_fixlen shape   : (524, 55)\n",
      "x_test_fixlen shape  : (1309, 55)\n",
      "y_train shape        : (4709,)\n",
      "y_val shape          : (524,)\n",
      "y_test shape         : (1309,)\n",
      "\n",
      "\n",
      "Model: \"sequential_35\"\n",
      "_________________________________________________________________\n",
      "Layer (type)                 Output Shape              Param #   \n",
      "=================================================================\n",
      "embedding_34 (Embedding)     (None, 55, 64)            1125312   \n",
      "_________________________________________________________________\n",
      "lstm_30 (LSTM)               (None, 55, 64)            33024     \n",
      "_________________________________________________________________\n",
      "lstm_31 (LSTM)               (None, 64)                33024     \n",
      "_________________________________________________________________\n",
      "dense_105 (Dense)            (None, 64)                4160      \n",
      "_________________________________________________________________\n",
      "dropout_70 (Dropout)         (None, 64)                0         \n",
      "_________________________________________________________________\n",
      "dense_106 (Dense)            (None, 32)                2080      \n",
      "_________________________________________________________________\n",
      "dropout_71 (Dropout)         (None, 32)                0         \n",
      "_________________________________________________________________\n",
      "dense_107 (Dense)            (None, 1)                 33        \n",
      "=================================================================\n",
      "Total params: 1,197,633\n",
      "Trainable params: 1,197,633\n",
      "Non-trainable params: 0\n",
      "_________________________________________________________________\n",
      "Epoch 1/2\n",
      "37/37 [==============================] - 19s 510ms/step - loss: 6.9378 - accuracy: 0.5904 - val_loss: 5.6110 - val_accuracy: 0.6775\n",
      "Epoch 2/2\n",
      "37/37 [==============================] - 18s 498ms/step - loss: 4.6392 - accuracy: 0.7356 - val_loss: 3.6969 - val_accuracy: 0.7595\n"
     ]
    },
    {
     "data": {
      "image/png": "[encoded data removed]",
      "text/plain": [
       "<Figure size 432x288 with 1 Axes>"
      ]
     },
     "metadata": {
      "needs_background": "light"
     },
     "output_type": "display_data"
    },
    {
     "data": {
      "image/png": "[encoded data removed]",
      "text/plain": [
       "<Figure size 432x288 with 1 Axes>"
      ]
     },
     "metadata": {
      "needs_background": "light"
     },
     "output_type": "display_data"
    },
    {
     "name": "stdout",
     "output_type": "stream",
     "text": [
      "Training Loss & Accuracy: \n",
      "148/148 [==============================] - 5s 33ms/step - loss: 3.6338 - accuracy: 0.8395\n",
      "\n",
      "Validation Loss & Accuracy: \n",
      "17/17 [==============================] - 1s 32ms/step - loss: 3.6969 - accuracy: 0.7595\n",
      "\n",
      "Test Loss & Accuracy: \n",
      "41/41 [==============================] - 1s 27ms/step - loss: 3.6804 - accuracy: 0.7846\n",
      "\n",
      "Confusion Matrix:\n",
      " [[593  61]\n",
      " [221 434]]\n",
      "\n",
      "Classification Report:\n",
      "                  precision    recall  f1-score   support\n",
      "\n",
      "Not a Disaster       0.73      0.91      0.81       654\n",
      "      Disaster       0.88      0.66      0.75       655\n",
      "\n",
      "      accuracy                           0.78      1309\n",
      "     macro avg       0.80      0.78      0.78      1309\n",
      "  weighted avg       0.80      0.78      0.78      1309\n",
      "\n"
     ]
    }
   ],
   "source": [
    "# Update emb_vec_len, inp_max_len parameters as required: \n",
    "\n",
    "emb_vec_len = 64\n",
    "inp_max_len = 55\n",
    "vocab_count = 10000\n",
    "\n",
    "# Tokenize and proeprocess the input\n",
    "# Note -> currently the function is not using vocab_count to control the number of words. All words in corpus is being used\n",
    "# To change this modify code in preprocess_tokenize function and update vocab_count value\n",
    "tokenizer, word_index, max_words = preprocess_tokenize(x_train_val, vocab_count)\n",
    "\n",
    "x_train_fixlen, x_val_fixlen, x_test_fixlen = inp_fixlen(x_train, x_val, x_test, inp_max_len, tokenizer)\n",
    "\n",
    "history_lstm, model_lstm = train_lstm_model(x_train_fixlen, y_train, x_val_fixlen, y_val, emb_vec_len, inp_max_len, \n",
    "                                            max_words = max_words + 1, lstm_nodes = 64, num_hidden_units_1 = 64, \n",
    "                                            num_hidden_units_2 = 32, epochs = 2, batch_size = 128, learning_rate = 0.001)\n",
    "\n",
    "plot_learning(history_lstm)\n",
    "\n",
    "print('Training Loss & Accuracy: ') \n",
    "model_lstm.evaluate(x_train_fixlen, y_train)\n",
    "\n",
    "print('\\nValidation Loss & Accuracy: ')\n",
    "model_lstm.evaluate(x_val_fixlen, y_val)\n",
    "\n",
    "# Evalaute the model on Test data for generalization \n",
    "print('\\nTest Loss & Accuracy: ')\n",
    "model_lstm.evaluate(x_test_fixlen, y_test)\n",
    "\n",
    "print_metrics(model_lstm, x_test_fixlen, y_test, target_dict)"
   ]
  },
  {
   "cell_type": "markdown",
   "metadata": {},
   "source": [
    "__Define a Bi-directional Long Short Term Memory (stacked Bi-dir LSTM in below case) using embeddings learnt from input data:__\n",
    "   - We will learn the word embeddings from input corpus, instead of using a pretrained model (like GloVe)\n",
    "   - The output of the embedding layer is not flattened. It is fed as-is (3-dimesional tensor) to Bi-dir LSTM layer\n",
    "     - i.e. data is processed as it is: a sequence, where order of the words will also be considered\n",
    "   - Bi-dir LSTM layers are followed by previously defined simple NN classfication model\n",
    "   - Note the usage of drop out and recurrent drop out parameters within the Bi-dir LSTM layers\n",
    "     - dropout: specifying the dropout rate for input units of the layer\n",
    "     - recurrent_dropout: specifying the dropout rate of the recurrent units"
   ]
  },
  {
   "cell_type": "code",
   "execution_count": 26,
   "metadata": {},
   "outputs": [],
   "source": [
    "# Create a NN model by learning word embeddings with the Embedding layer and using Bi-directional LSTM\n",
    "\n",
    "def train_bidir_lstm_model(x_train, y_train, x_val, y_val, emb_vec_len, inp_max_len, max_words, bidir_lstm_nodes, \n",
    "                           num_hidden_units_1, num_hidden_units_2, epochs, batch_size, learning_rate):\n",
    "    model_bidir_lstm = models.Sequential()\n",
    "    model_bidir_lstm.add(layers.Embedding(max_words, emb_vec_len, input_length = inp_max_len))\n",
    "    model_bidir_lstm.add(layers.Bidirectional(layers.LSTM(bidir_lstm_nodes, dropout = 0.2, recurrent_dropout = 0.2, \n",
    "                                                          return_sequences=True)))\n",
    "    model_bidir_lstm.add(layers.Bidirectional(layers.LSTM(bidir_lstm_nodes, dropout = 0.2, recurrent_dropout = 0.2)))\n",
    "    model_bidir_lstm.add(layers.Dense(num_hidden_units_1, activation = 'relu', \n",
    "                                      kernel_regularizer = regularizers.l1_l2(l1 = 0.01, l2 = 0.01)))\n",
    "    model_bidir_lstm.add(layers.Dropout(0.5))\n",
    "    model_bidir_lstm.add(layers.Dense(num_hidden_units_2, activation = 'relu', \n",
    "                                      kernel_regularizer = regularizers.l1_l2(l1 = 0.01, l2 = 0.01)))\n",
    "    model_bidir_lstm.add(layers.Dropout(0.5))\n",
    "    model_bidir_lstm.add(layers.Dense(1, activation = 'sigmoid'))\n",
    "\n",
    "    model_bidir_lstm.summary()\n",
    "\n",
    "    model_bidir_lstm.compile(loss = 'binary_crossentropy', \n",
    "                             optimizer = optimizers.RMSprop(lr = learning_rate), \n",
    "                             metrics = ['accuracy'])\n",
    "\n",
    "    history_bidir_lstm = model_bidir_lstm.fit(x_train, y_train, epochs = epochs, batch_size = batch_size, \n",
    "                                              validation_data = (x_val, y_val))\n",
    "    return (history_bidir_lstm, model_bidir_lstm)"
   ]
  },
  {
   "cell_type": "markdown",
   "metadata": {},
   "source": [
    "# 6) Bi-directional Long Short Term Memory model (Bi-dir LSTM):\n",
    " - Train the model and plot learning curves (for loss and accuracy) for Training and Validation data\n",
    " - Evaluate the model performance against Test data\n",
    "   - Display the Test loss and Accuracy\n",
    "   - Display the Confusion Matrix & Classification Report\n",
    "\n",
    "Note: Update the embedding vector dimension, input length as required to improve model performance"
   ]
  },
  {
   "cell_type": "code",
   "execution_count": 67,
   "metadata": {},
   "outputs": [
    {
     "name": "stdout",
     "output_type": "stream",
     "text": [
      "Found 17582 unique tokens in training data\n",
      "\n",
      "x_train_fixlen shape : (4709, 55)\n",
      "x_val_fixlen shape   : (524, 55)\n",
      "x_test_fixlen shape  : (1309, 55)\n",
      "y_train shape        : (4709,)\n",
      "y_val shape          : (524,)\n",
      "y_test shape         : (1309,)\n",
      "\n",
      "\n",
      "Model: \"sequential_37\"\n",
      "_________________________________________________________________\n",
      "Layer (type)                 Output Shape              Param #   \n",
      "=================================================================\n",
      "embedding_36 (Embedding)     (None, 55, 64)            1125312   \n",
      "_________________________________________________________________\n",
      "bidirectional_4 (Bidirection (None, 55, 128)           66048     \n",
      "_________________________________________________________________\n",
      "bidirectional_5 (Bidirection (None, 128)               98816     \n",
      "_________________________________________________________________\n",
      "dense_111 (Dense)            (None, 64)                8256      \n",
      "_________________________________________________________________\n",
      "dropout_74 (Dropout)         (None, 64)                0         \n",
      "_________________________________________________________________\n",
      "dense_112 (Dense)            (None, 32)                2080      \n",
      "_________________________________________________________________\n",
      "dropout_75 (Dropout)         (None, 32)                0         \n",
      "_________________________________________________________________\n",
      "dense_113 (Dense)            (None, 1)                 33        \n",
      "=================================================================\n",
      "Total params: 1,300,545\n",
      "Trainable params: 1,300,545\n",
      "Non-trainable params: 0\n",
      "_________________________________________________________________\n",
      "Epoch 1/8\n",
      "37/37 [==============================] - 44s 1s/step - loss: 11.4818 - accuracy: 0.5269 - val_loss: 11.2340 - val_accuracy: 0.6050\n",
      "Epoch 2/8\n",
      "37/37 [==============================] - 44s 1s/step - loss: 11.0222 - accuracy: 0.5530 - val_loss: 10.7973 - val_accuracy: 0.6336\n",
      "Epoch 3/8\n",
      "37/37 [==============================] - 43s 1s/step - loss: 10.5896 - accuracy: 0.6016 - val_loss: 10.3691 - val_accuracy: 0.6450\n",
      "Epoch 4/8\n",
      "37/37 [==============================] - 44s 1s/step - loss: 10.1644 - accuracy: 0.5999 - val_loss: 9.9473 - val_accuracy: 0.6279\n",
      "Epoch 5/8\n",
      "37/37 [==============================] - 45s 1s/step - loss: 9.7459 - accuracy: 0.6212 - val_loss: 9.5315 - val_accuracy: 0.6393\n",
      "Epoch 6/8\n",
      "37/37 [==============================] - 44s 1s/step - loss: 9.3323 - accuracy: 0.6522 - val_loss: 9.1207 - val_accuracy: 0.6660\n",
      "Epoch 7/8\n",
      "37/37 [==============================] - 44s 1s/step - loss: 8.9247 - accuracy: 0.6672 - val_loss: 8.7206 - val_accuracy: 0.6718\n",
      "Epoch 8/8\n",
      "37/37 [==============================] - 43s 1s/step - loss: 8.5267 - accuracy: 0.7023 - val_loss: 8.3428 - val_accuracy: 0.6756\n"
     ]
    },
    {
     "data": {
      "image/png": "[encoded data removed]",
      "text/plain": [
       "<Figure size 432x288 with 1 Axes>"
      ]
     },
     "metadata": {
      "needs_background": "light"
     },
     "output_type": "display_data"
    },
    {
     "data": {
      "image/png": "[encoded data removed]",
      "text/plain": [
       "<Figure size 432x288 with 1 Axes>"
      ]
     },
     "metadata": {
      "needs_background": "light"
     },
     "output_type": "display_data"
    },
    {
     "name": "stdout",
     "output_type": "stream",
     "text": [
      "Training Loss & Accuracy: \n",
      "148/148 [==============================] - 10s 67ms/step - loss: 8.3023 - accuracy: 0.7617\n",
      "\n",
      "Validation Loss & Accuracy: \n",
      "17/17 [==============================] - 1s 47ms/step - loss: 8.3428 - accuracy: 0.6756\n",
      "\n",
      "Test Loss & Accuracy: \n",
      "41/41 [==============================] - 2s 47ms/step - loss: 8.3182 - accuracy: 0.7219\n",
      "\n",
      "Confusion Matrix:\n",
      " [[469 185]\n",
      " [179 476]]\n",
      "\n",
      "Classification Report:\n",
      "                  precision    recall  f1-score   support\n",
      "\n",
      "Not a Disaster       0.72      0.72      0.72       654\n",
      "      Disaster       0.72      0.73      0.72       655\n",
      "\n",
      "      accuracy                           0.72      1309\n",
      "     macro avg       0.72      0.72      0.72      1309\n",
      "  weighted avg       0.72      0.72      0.72      1309\n",
      "\n"
     ]
    }
   ],
   "source": [
    "# Update emb_vec_len, inp_max_len parameters as required: \n",
    "\n",
    "emb_vec_len = 64\n",
    "inp_max_len = 55\n",
    "vocab_count = 10000\n",
    "\n",
    "# Tokenize and proeprocess the input\n",
    "# Note -> currently the function is not using vocab_count to control the number of words. All words in corpus is being used\n",
    "# To change this modify code in preprocess_tokenize function and update vocab_count value\n",
    "tokenizer, word_index, max_words = preprocess_tokenize(x_train_val, vocab_count)\n",
    "\n",
    "x_train_fixlen, x_val_fixlen, x_test_fixlen = inp_fixlen(x_train, x_val, x_test, inp_max_len, tokenizer)\n",
    "\n",
    "history_bidir_lstm, model_bidir_lstm = train_bidir_lstm_model(x_train_fixlen, y_train, x_val_fixlen, y_val, emb_vec_len, \n",
    "                                                              inp_max_len, max_words = max_words + 1, bidir_lstm_nodes = 64,\n",
    "                                                              num_hidden_units_1 = 64, num_hidden_units_2 = 32, \n",
    "                                                              epochs = 8, batch_size = 128, learning_rate = 0.0001)\n",
    "\n",
    "plot_learning(history_bidir_lstm)\n",
    "\n",
    "print('Training Loss & Accuracy: ') \n",
    "model_bidir_lstm.evaluate(x_train_fixlen, y_train)\n",
    "\n",
    "print('\\nValidation Loss & Accuracy: ')\n",
    "model_bidir_lstm.evaluate(x_val_fixlen, y_val)\n",
    "\n",
    "# Evalaute the model on Test data for generalization \n",
    "print('\\nTest Loss & Accuracy: ')\n",
    "model_bidir_lstm.evaluate(x_test_fixlen, y_test)\n",
    "\n",
    "print_metrics(model_bidir_lstm, x_test_fixlen, y_test, target_dict)"
   ]
  },
  {
   "cell_type": "markdown",
   "metadata": {},
   "source": [
    "__Define a Convolutional Neural Network (stacked CNN in below case) using embeddings learnt from input data:__\n",
    "   - We will learn the word embeddings from input corpus, instead of using a pretrained model (like GloVe)\n",
    "   - The output of the embedding layer is not flattened. It is fed as-is (3-dimesional tensor) to Convnet layer\n",
    "   - Convnet layers are followed by previously defined simple NN classfication model"
   ]
  },
  {
   "cell_type": "code",
   "execution_count": 72,
   "metadata": {},
   "outputs": [],
   "source": [
    "# Create a NN model by learning word embeddings with the Embedding layer and using convnets\n",
    "\n",
    "def train_cnn_model(x_train, y_train, x_val, y_val, emb_vec_len, inp_max_len, max_words, cnn_nodes_1, cnn_nodes_2, \n",
    "                    num_hidden_units_1, num_hidden_units_2, epochs, batch_size, learning_rate):\n",
    "    model_cnn = models.Sequential()\n",
    "    model_cnn.add(layers.Embedding(max_words, emb_vec_len, input_length = inp_max_len))  \n",
    "    model_cnn.add(layers.Conv1D(cnn_nodes_1, 7, activation = 'relu'))\n",
    "    model_cnn.add(layers.MaxPooling1D(5))\n",
    "    model_cnn.add(layers.Conv1D(cnn_nodes_2, 7, activation = 'relu'))\n",
    "    model_cnn.add(layers.GlobalMaxPooling1D())\n",
    "    model_cnn.add(layers.Dense(num_hidden_units_1, activation = 'relu', \n",
    "                                      kernel_regularizer = regularizers.l1_l2(l1 = 0.1, l2 = 0.1)))\n",
    "    model_cnn.add(layers.Dropout(0.5))\n",
    "    model_cnn.add(layers.Dense(num_hidden_units_2, activation = 'relu', \n",
    "                                      kernel_regularizer = regularizers.l1_l2(l1 = 0.1, l2 = 0.1)))\n",
    "    model_cnn.add(layers.Dropout(0.5))\n",
    "    model_cnn.add(layers.Dense(1, activation = 'sigmoid'))\n",
    "\n",
    "    model_cnn.summary()\n",
    "\n",
    "    model_cnn.compile(loss = 'binary_crossentropy', \n",
    "                             optimizer = optimizers.RMSprop(lr = learning_rate), \n",
    "                             metrics = ['accuracy'])\n",
    "\n",
    "    history_cnn = model_cnn.fit(x_train, y_train, epochs = epochs, batch_size = batch_size, \n",
    "                                              validation_data = (x_val, y_val))\n",
    "    return (history_cnn, model_cnn)"
   ]
  },
  {
   "cell_type": "markdown",
   "metadata": {},
   "source": [
    "# 7) Convolutional Neural Network (CNN) model:\n",
    " - Train the model and plot learning curves (for loss and accuracy) for Training and Validation data\n",
    " - Evaluate the model performance against Test data\n",
    "   - Display the Test loss and Accuracy\n",
    "   - Display the Confusion Matrix & Classification Report\n",
    "\n",
    "Note: Update the embedding vector dimension, input length as required to improve model performance"
   ]
  },
  {
   "cell_type": "code",
   "execution_count": 76,
   "metadata": {},
   "outputs": [
    {
     "name": "stdout",
     "output_type": "stream",
     "text": [
      "Found 17582 unique tokens in training data\n",
      "\n",
      "x_train_fixlen shape : (4709, 55)\n",
      "x_val_fixlen shape   : (524, 55)\n",
      "x_test_fixlen shape  : (1309, 55)\n",
      "y_train shape        : (4709,)\n",
      "y_val shape          : (524,)\n",
      "y_test shape         : (1309,)\n",
      "\n",
      "\n",
      "Model: \"sequential_45\"\n",
      "_________________________________________________________________\n",
      "Layer (type)                 Output Shape              Param #   \n",
      "=================================================================\n",
      "embedding_44 (Embedding)     (None, 55, 64)            1125312   \n",
      "_________________________________________________________________\n",
      "conv1d_16 (Conv1D)           (None, 49, 32)            14368     \n",
      "_________________________________________________________________\n",
      "max_pooling1d_8 (MaxPooling1 (None, 9, 32)             0         \n",
      "_________________________________________________________________\n",
      "conv1d_17 (Conv1D)           (None, 3, 64)             14400     \n",
      "_________________________________________________________________\n",
      "global_max_pooling1d_8 (Glob (None, 64)                0         \n",
      "_________________________________________________________________\n",
      "dense_135 (Dense)            (None, 64)                4160      \n",
      "_________________________________________________________________\n",
      "dropout_90 (Dropout)         (None, 64)                0         \n",
      "_________________________________________________________________\n",
      "dense_136 (Dense)            (None, 32)                2080      \n",
      "_________________________________________________________________\n",
      "dropout_91 (Dropout)         (None, 32)                0         \n",
      "_________________________________________________________________\n",
      "dense_137 (Dense)            (None, 1)                 33        \n",
      "=================================================================\n",
      "Total params: 1,160,353\n",
      "Trainable params: 1,160,353\n",
      "Non-trainable params: 0\n",
      "_________________________________________________________________\n",
      "Epoch 1/3\n",
      "37/37 [==============================] - 2s 49ms/step - loss: 63.3331 - accuracy: 0.5199 - val_loss: 50.4668 - val_accuracy: 0.5802\n",
      "Epoch 2/3\n",
      "37/37 [==============================] - 1s 40ms/step - loss: 41.0115 - accuracy: 0.6209 - val_loss: 31.7787 - val_accuracy: 0.7481\n",
      "Epoch 3/3\n",
      "37/37 [==============================] - 2s 41ms/step - loss: 24.6180 - accuracy: 0.7248 - val_loss: 17.7726 - val_accuracy: 0.7710\n"
     ]
    },
    {
     "data": {
      "image/png": "[encoded data removed]",
      "text/plain": [
       "<Figure size 432x288 with 1 Axes>"
      ]
     },
     "metadata": {
      "needs_background": "light"
     },
     "output_type": "display_data"
    },
    {
     "data": {
      "image/png": "[encoded data removed]",
      "text/plain": [
       "<Figure size 432x288 with 1 Axes>"
      ]
     },
     "metadata": {
      "needs_background": "light"
     },
     "output_type": "display_data"
    },
    {
     "name": "stdout",
     "output_type": "stream",
     "text": [
      "Training Loss & Accuracy: \n",
      "  1/148 [..............................] - ETA: 0s - loss: 17.7660 - accuracy: 0.8125WARNING:tensorflow:Callbacks method `on_test_batch_end` is slow compared to the batch time (batch time: 0.0000s vs `on_test_batch_end` time: 0.0080s). Check your callbacks.\n",
      "148/148 [==============================] - 1s 4ms/step - loss: 17.7563 - accuracy: 0.8469\n",
      "\n",
      "Validation Loss & Accuracy: \n",
      "17/17 [==============================] - 0s 5ms/step - loss: 17.7726 - accuracy: 0.7710\n",
      "\n",
      "Test Loss & Accuracy: \n",
      "41/41 [==============================] - 0s 4ms/step - loss: 17.7701 - accuracy: 0.7678\n",
      "\n",
      "Confusion Matrix:\n",
      " [[593  61]\n",
      " [243 412]]\n",
      "\n",
      "Classification Report:\n",
      "                  precision    recall  f1-score   support\n",
      "\n",
      "Not a Disaster       0.71      0.91      0.80       654\n",
      "      Disaster       0.87      0.63      0.73       655\n",
      "\n",
      "      accuracy                           0.77      1309\n",
      "     macro avg       0.79      0.77      0.76      1309\n",
      "  weighted avg       0.79      0.77      0.76      1309\n",
      "\n"
     ]
    }
   ],
   "source": [
    "# Update emb_vec_len, inp_max_len parameters as required: \n",
    "\n",
    "emb_vec_len = 64\n",
    "inp_max_len = 55\n",
    "vocab_count = 10000\n",
    "\n",
    "# Tokenize and proeprocess the input\n",
    "# Note -> currently the function is not using vocab_count to control the number of words. All words in corpus is being used\n",
    "# To change this modify code in preprocess_tokenize function and update vocab_count value\n",
    "tokenizer, word_index, max_words = preprocess_tokenize(x_train_val, vocab_count)\n",
    "\n",
    "x_train_fixlen, x_val_fixlen, x_test_fixlen = inp_fixlen(x_train, x_val, x_test, inp_max_len, tokenizer)\n",
    "\n",
    "history_cnn, model_cnn = train_cnn_model(x_train_fixlen, y_train, x_val_fixlen, y_val, emb_vec_len, \n",
    "                                                              inp_max_len, max_words = max_words + 1, \n",
    "                                                              cnn_nodes_1 = 32, cnn_nodes_2 = 64,\n",
    "                                                              num_hidden_units_1 = 64, num_hidden_units_2 = 32, \n",
    "                                                              epochs = 3, batch_size = 128, learning_rate = 0.001)\n",
    "\n",
    "plot_learning(history_cnn)\n",
    "\n",
    "print('Training Loss & Accuracy: ') \n",
    "model_cnn.evaluate(x_train_fixlen, y_train)\n",
    "\n",
    "print('\\nValidation Loss & Accuracy: ')\n",
    "model_cnn.evaluate(x_val_fixlen, y_val)\n",
    "\n",
    "# Evalaute the model on Test data for generalization \n",
    "print('\\nTest Loss & Accuracy: ')\n",
    "model_cnn.evaluate(x_test_fixlen, y_test)\n",
    "\n",
    "print_metrics(model_cnn, x_test_fixlen, y_test, target_dict)"
   ]
  },
  {
   "cell_type": "markdown",
   "metadata": {},
   "source": [
    "__Build traditional Machine Learning models:__\n",
    " - Train the model \n",
    " - Determine Training and Test Accuracy \n",
    " - Predict on Test data and display the Confusion Matrix and Classification Report"
   ]
  },
  {
   "cell_type": "code",
   "execution_count": 30,
   "metadata": {},
   "outputs": [],
   "source": [
    "def build_ml_model(x_train, y_train, x_test, y_test, target_dict, model):\n",
    "    model.fit(x_train, y_train)\n",
    "    train_acc = model.score(x_train, y_train)\n",
    "    test_acc = model.score(x_test, y_test)\n",
    "\n",
    "    print('Train Accuracy : %.4f' % train_acc)\n",
    "    print('Test Accuracy  : %.4f' % test_acc)\n",
    "\n",
    "    y_test_pred = model.predict(x_test)\n",
    "\n",
    "    print('\\nConfusion Matrix:\\n', confusion_matrix(y_test, y_test_pred))\n",
    "    print('\\nClassification Report:\\n ', classification_report(y_test, y_test_pred, target_names = target_dict))\n",
    "    \n",
    "    return (model)"
   ]
  },
  {
   "cell_type": "markdown",
   "metadata": {},
   "source": [
    "# 8) Logistic Regression model (using Cross Validation): \n",
    " - Tune the hyper parameters as required to improve model performance\n",
    "     - C parameter -> Inverse of regularization strength, smaller values specify stronger regularization"
   ]
  },
  {
   "cell_type": "code",
   "execution_count": 31,
   "metadata": {},
   "outputs": [
    {
     "name": "stdout",
     "output_type": "stream",
     "text": [
      "Train Accuracy : 0.7363\n",
      "Test Accuracy  : 0.7097\n",
      "\n",
      "Confusion Matrix:\n",
      " [[474 180]\n",
      " [200 455]]\n",
      "\n",
      "Classification Report:\n",
      "                  precision    recall  f1-score   support\n",
      "\n",
      "Not a Disaster       0.70      0.72      0.71       654\n",
      "      Disaster       0.72      0.69      0.71       655\n",
      "\n",
      "      accuracy                           0.71      1309\n",
      "     macro avg       0.71      0.71      0.71      1309\n",
      "  weighted avg       0.71      0.71      0.71      1309\n",
      "\n"
     ]
    }
   ],
   "source": [
    "from sklearn.linear_model import LogisticRegressionCV\n",
    "\n",
    "model_lr = LogisticRegressionCV(cv = 5, max_iter = 1000, random_state = 32, n_jobs = -1, Cs = [0.01])\n",
    "                                #Cs = np.logspace(-10, -1, 10)) \n",
    "model_lr = build_ml_model(x_train_val_one_hot, y_train_val, x_test_one_hot, y_test, target_dict, model_lr)"
   ]
  },
  {
   "cell_type": "markdown",
   "metadata": {},
   "source": [
    "# 9) Multinomial Naive Bayes: \n",
    " - Tune the hyper parameters as required to improve model performance\n",
    "     - Alpha hyper parameter is the smoothing parameter which helps:  \n",
    "       - with unseen words in test data so that entire probability doesnt become zero\n",
    "       - with words that occur more / less frequently in training and test data, by moving likelihood probabilities to uniform          distribution"
   ]
  },
  {
   "cell_type": "code",
   "execution_count": 32,
   "metadata": {},
   "outputs": [
    {
     "name": "stdout",
     "output_type": "stream",
     "text": [
      "Train Accuracy : 0.7193\n",
      "Test Accuracy  : 0.7013\n",
      "\n",
      "Confusion Matrix:\n",
      " [[391 263]\n",
      " [128 527]]\n",
      "\n",
      "Classification Report:\n",
      "                  precision    recall  f1-score   support\n",
      "\n",
      "Not a Disaster       0.75      0.60      0.67       654\n",
      "      Disaster       0.67      0.80      0.73       655\n",
      "\n",
      "      accuracy                           0.70      1309\n",
      "     macro avg       0.71      0.70      0.70      1309\n",
      "  weighted avg       0.71      0.70      0.70      1309\n",
      "\n"
     ]
    }
   ],
   "source": [
    "from sklearn.naive_bayes import MultinomialNB\n",
    "\n",
    "model_nb = MultinomialNB(alpha = 78)\n",
    "model_nb = build_ml_model(x_train_val_one_hot, y_train_val, x_test_one_hot, y_test, target_dict, model_nb)"
   ]
  },
  {
   "cell_type": "markdown",
   "metadata": {},
   "source": [
    "# 10) Linear Support Vector Classifier model (Linear SVC): \n",
    " - Tune the hyper parameters as required to improve model performance\n",
    "   - C parameter -> Inverse of regularization strength, smaller values specify stronger regularization"
   ]
  },
  {
   "cell_type": "code",
   "execution_count": 33,
   "metadata": {},
   "outputs": [
    {
     "name": "stdout",
     "output_type": "stream",
     "text": [
      "Train Accuracy : 0.7267\n",
      "Test Accuracy  : 0.7089\n",
      "\n",
      "Confusion Matrix:\n",
      " [[462 192]\n",
      " [189 466]]\n",
      "\n",
      "Classification Report:\n",
      "                  precision    recall  f1-score   support\n",
      "\n",
      "Not a Disaster       0.71      0.71      0.71       654\n",
      "      Disaster       0.71      0.71      0.71       655\n",
      "\n",
      "      accuracy                           0.71      1309\n",
      "     macro avg       0.71      0.71      0.71      1309\n",
      "  weighted avg       0.71      0.71      0.71      1309\n",
      "\n"
     ]
    }
   ],
   "source": [
    "from sklearn.svm import LinearSVC\n",
    "\n",
    "model_lsvc = LinearSVC(max_iter = 10000, class_weight = 'balanced', C = 0.001)\n",
    "model_lsvc = build_ml_model(x_train_val_one_hot, y_train_val, x_test_one_hot, y_test, target_dict, model_lsvc)"
   ]
  },
  {
   "cell_type": "markdown",
   "metadata": {},
   "source": [
    "# 11) Random Forest Classifier: \n",
    " - Tune the hyper parameters as required to improve model performance"
   ]
  },
  {
   "cell_type": "code",
   "execution_count": 34,
   "metadata": {},
   "outputs": [
    {
     "name": "stdout",
     "output_type": "stream",
     "text": [
      "Train Accuracy : 0.7330\n",
      "Test Accuracy  : 0.7189\n",
      "\n",
      "Confusion Matrix:\n",
      " [[511 143]\n",
      " [225 430]]\n",
      "\n",
      "Classification Report:\n",
      "                  precision    recall  f1-score   support\n",
      "\n",
      "Not a Disaster       0.69      0.78      0.74       654\n",
      "      Disaster       0.75      0.66      0.70       655\n",
      "\n",
      "      accuracy                           0.72      1309\n",
      "     macro avg       0.72      0.72      0.72      1309\n",
      "  weighted avg       0.72      0.72      0.72      1309\n",
      "\n"
     ]
    }
   ],
   "source": [
    "from sklearn.ensemble import RandomForestClassifier\n",
    "\n",
    "#maximum_features = max_words\n",
    "maximum_features = 55\n",
    "\n",
    "model_rf = RandomForestClassifier(n_jobs = -1, random_state = 32, oob_score = 'True', criterion = 'gini', \n",
    "                                  n_estimators = 75, max_depth = 3, max_features = maximum_features)\n",
    "                                  \n",
    "model_rf = build_ml_model(x_train_val_one_hot, y_train_val, x_test_one_hot, y_test, target_dict, model_rf)"
   ]
  },
  {
   "cell_type": "markdown",
   "metadata": {},
   "source": [
    "# 12) XG Boost Classifier: \n",
    " - Tune the hyper parameters as required to improve model performance\n",
    "   - learning_rate: After each boosting step, gets the weights of new features and shrinks the feature weights to make the          boosting process more conservative, thus controlling overfitting"
   ]
  },
  {
   "cell_type": "code",
   "execution_count": 35,
   "metadata": {},
   "outputs": [
    {
     "name": "stdout",
     "output_type": "stream",
     "text": [
      "Train Accuracy : 0.7401\n",
      "Test Accuracy  : 0.7296\n",
      "\n",
      "Confusion Matrix:\n",
      " [[483 171]\n",
      " [183 472]]\n",
      "\n",
      "Classification Report:\n",
      "                  precision    recall  f1-score   support\n",
      "\n",
      "Not a Disaster       0.73      0.74      0.73       654\n",
      "      Disaster       0.73      0.72      0.73       655\n",
      "\n",
      "      accuracy                           0.73      1309\n",
      "     macro avg       0.73      0.73      0.73      1309\n",
      "  weighted avg       0.73      0.73      0.73      1309\n",
      "\n"
     ]
    }
   ],
   "source": [
    "from xgboost import XGBClassifier\n",
    "\n",
    "model_xgbc = XGBClassifier(n_jobs = -1, random_state = 32, verbosity = 0, \n",
    "                           n_estimators = 75, max_depth = 4, learning_rate = 0.1)\n",
    "                                  \n",
    "model_xgbc = build_ml_model(x_train_val_one_hot, y_train_val, x_test_one_hot, y_test, target_dict, model_xgbc)"
   ]
  },
  {
   "cell_type": "markdown",
   "metadata": {},
   "source": [
    "# Summary of Model peformance:\n",
    " - Score all the models for Training, Validation and Test data\n",
    " - Load the results into a Dataframe and display the results sorted by Test accuracy "
   ]
  },
  {
   "cell_type": "code",
   "execution_count": 77,
   "metadata": {},
   "outputs": [
    {
     "name": "stdout",
     "output_type": "stream",
     "text": [
      "148/148 [==============================] - 1s 9ms/step - loss: 1.1814 - accuracy: 0.7821\n",
      "17/17 [==============================] - 0s 8ms/step - loss: 1.2186 - accuracy: 0.7233\n",
      "41/41 [==============================] - 0s 8ms/step - loss: 1.2009 - accuracy: 0.7532\n",
      "148/148 [==============================] - 1s 4ms/step - loss: 0.7940 - accuracy: 0.8178\n",
      "17/17 [==============================] - 0s 4ms/step - loss: 0.8305 - accuracy: 0.7290\n",
      "41/41 [==============================] - 0s 5ms/step - loss: 0.8165 - accuracy: 0.7418\n",
      "148/148 [==============================] - 1s 5ms/step - loss: 0.7683 - accuracy: 0.8261\n",
      "17/17 [==============================] - 0s 4ms/step - loss: 0.8528 - accuracy: 0.7615\n",
      "41/41 [==============================] - 0s 5ms/step - loss: 0.8617 - accuracy: 0.7617\n",
      "148/148 [==============================] - 2s 10ms/step - loss: 0.5019 - accuracy: 0.7828\n",
      "17/17 [==============================] - 0s 10ms/step - loss: 0.5911 - accuracy: 0.7271\n",
      "41/41 [==============================] - 0s 10ms/step - loss: 0.5745 - accuracy: 0.7296\n",
      "148/148 [==============================] - 4s 28ms/step - loss: 3.6338 - accuracy: 0.8395\n",
      "17/17 [==============================] - 0s 22ms/step - loss: 3.6969 - accuracy: 0.7595\n",
      "41/41 [==============================] - 1s 23ms/step - loss: 3.6804 - accuracy: 0.7846\n",
      "148/148 [==============================] - 9s 62ms/step - loss: 8.3023 - accuracy: 0.7617\n",
      "17/17 [==============================] - 1s 66ms/step - loss: 8.3428 - accuracy: 0.6756\n",
      "41/41 [==============================] - 3s 62ms/step - loss: 8.3182 - accuracy: 0.7219\n",
      "148/148 [==============================] - 0s 3ms/step - loss: 17.7563 - accuracy: 0.8469\n",
      "17/17 [==============================] - 0s 3ms/step - loss: 17.7726 - accuracy: 0.7710\n",
      "41/41 [==============================] - 0s 3ms/step - loss: 17.7701 - accuracy: 0.7678\n"
     ]
    },
    {
     "data": {
      "text/html": [
       "<div>\n",
       "<style scoped>\n",
       "    .dataframe tbody tr th:only-of-type {\n",
       "        vertical-align: middle;\n",
       "    }\n",
       "\n",
       "    .dataframe tbody tr th {\n",
       "        vertical-align: top;\n",
       "    }\n",
       "\n",
       "    .dataframe thead th {\n",
       "        text-align: right;\n",
       "    }\n",
       "</style>\n",
       "<table border=\"1\" class=\"dataframe\">\n",
       "  <thead>\n",
       "    <tr style=\"text-align: right;\">\n",
       "      <th></th>\n",
       "      <th>Model name</th>\n",
       "      <th>Training Acc</th>\n",
       "      <th>Val Acc</th>\n",
       "      <th>Test Acc</th>\n",
       "    </tr>\n",
       "  </thead>\n",
       "  <tbody>\n",
       "    <tr>\n",
       "      <td>0</td>\n",
       "      <td>LSTM</td>\n",
       "      <td>0.8395</td>\n",
       "      <td>0.7595</td>\n",
       "      <td>0.7846</td>\n",
       "    </tr>\n",
       "    <tr>\n",
       "      <td>1</td>\n",
       "      <td>CNN</td>\n",
       "      <td>0.8469</td>\n",
       "      <td>0.7710</td>\n",
       "      <td>0.7678</td>\n",
       "    </tr>\n",
       "    <tr>\n",
       "      <td>2</td>\n",
       "      <td>Pre-trained embedding</td>\n",
       "      <td>0.8261</td>\n",
       "      <td>0.7615</td>\n",
       "      <td>0.7617</td>\n",
       "    </tr>\n",
       "    <tr>\n",
       "      <td>3</td>\n",
       "      <td>Simple NN</td>\n",
       "      <td>0.7821</td>\n",
       "      <td>0.7233</td>\n",
       "      <td>0.7532</td>\n",
       "    </tr>\n",
       "    <tr>\n",
       "      <td>4</td>\n",
       "      <td>embedding</td>\n",
       "      <td>0.8178</td>\n",
       "      <td>0.7290</td>\n",
       "      <td>0.7418</td>\n",
       "    </tr>\n",
       "    <tr>\n",
       "      <td>5</td>\n",
       "      <td>XGBoost Classifier</td>\n",
       "      <td>0.7430</td>\n",
       "      <td>0.7137</td>\n",
       "      <td>0.7296</td>\n",
       "    </tr>\n",
       "    <tr>\n",
       "      <td>6</td>\n",
       "      <td>RNN</td>\n",
       "      <td>0.7828</td>\n",
       "      <td>0.7271</td>\n",
       "      <td>0.7296</td>\n",
       "    </tr>\n",
       "    <tr>\n",
       "      <td>7</td>\n",
       "      <td>Bi-directional LSTM</td>\n",
       "      <td>0.7617</td>\n",
       "      <td>0.6756</td>\n",
       "      <td>0.7219</td>\n",
       "    </tr>\n",
       "    <tr>\n",
       "      <td>8</td>\n",
       "      <td>Random Forest Classifier</td>\n",
       "      <td>0.7375</td>\n",
       "      <td>0.6927</td>\n",
       "      <td>0.7189</td>\n",
       "    </tr>\n",
       "    <tr>\n",
       "      <td>9</td>\n",
       "      <td>Logistic Regression</td>\n",
       "      <td>0.7394</td>\n",
       "      <td>0.7080</td>\n",
       "      <td>0.7097</td>\n",
       "    </tr>\n",
       "    <tr>\n",
       "      <td>10</td>\n",
       "      <td>Linear SVC</td>\n",
       "      <td>0.7301</td>\n",
       "      <td>0.6966</td>\n",
       "      <td>0.7089</td>\n",
       "    </tr>\n",
       "    <tr>\n",
       "      <td>11</td>\n",
       "      <td>Multinomial NB</td>\n",
       "      <td>0.7207</td>\n",
       "      <td>0.7061</td>\n",
       "      <td>0.7013</td>\n",
       "    </tr>\n",
       "  </tbody>\n",
       "</table>\n",
       "</div>"
      ],
      "text/plain": [
       "                  Model name  Training Acc  Val Acc  Test Acc\n",
       "0   LSTM                      0.8395        0.7595   0.7846  \n",
       "1   CNN                       0.8469        0.7710   0.7678  \n",
       "2   Pre-trained embedding     0.8261        0.7615   0.7617  \n",
       "3   Simple NN                 0.7821        0.7233   0.7532  \n",
       "4   embedding                 0.8178        0.7290   0.7418  \n",
       "5   XGBoost Classifier        0.7430        0.7137   0.7296  \n",
       "6   RNN                       0.7828        0.7271   0.7296  \n",
       "7   Bi-directional LSTM       0.7617        0.6756   0.7219  \n",
       "8   Random Forest Classifier  0.7375        0.6927   0.7189  \n",
       "9   Logistic Regression       0.7394        0.7080   0.7097  \n",
       "10  Linear SVC                0.7301        0.6966   0.7089  \n",
       "11  Multinomial NB            0.7207        0.7061   0.7013  "
      ]
     },
     "execution_count": 77,
     "metadata": {},
     "output_type": "execute_result"
    }
   ],
   "source": [
    "model_dl = {'embedding': model_emb, \n",
    "            'Pre-trained embedding': model_pt_emb, \n",
    "            'RNN': model_rnn, \n",
    "            'LSTM': model_lstm, \n",
    "            'Bi-directional LSTM': model_bidir_lstm,\n",
    "            'CNN': model_cnn}\n",
    "\n",
    "model_ml = {'Logistic Regression': model_lr, \n",
    "            'Multinomial NB': model_nb, \n",
    "            'Linear SVC': model_lsvc, \n",
    "            'Random Forest Classifier': model_rf, \n",
    "            'XGBoost Classifier': model_xgbc}\n",
    "\n",
    "def dl_models(x, y, model): \n",
    "    loss, accuracy = model.evaluate(x, y)\n",
    "    return (accuracy)\n",
    "\n",
    "def ml_models(x, y, model): \n",
    "    accuracy = model.score(x, y)\n",
    "    return (accuracy)\n",
    "\n",
    "results = []\n",
    "\n",
    "# Simple NN alone is kept outside the loop, as it uses one hot encoded inputs (rather than fixed length sequences)\n",
    "accuracy_train = dl_models(x_train_one_hot, y_train, model_snn)\n",
    "accuracy_val = dl_models(x_val_one_hot, y_val, model_snn)\n",
    "accuracy_test = dl_models(x_test_one_hot, y_test, model_snn) \n",
    "results.append(['Simple NN', accuracy_train, accuracy_val, accuracy_test])\n",
    "\n",
    "for model_name, model in model_dl.items():\n",
    "    accuracy_train = dl_models(x_train_fixlen, y_train, model)\n",
    "    accuracy_val = dl_models(x_val_fixlen, y_val, model)\n",
    "    accuracy_test = dl_models(x_test_fixlen, y_test, model) \n",
    "    results.append([model_name, accuracy_train, accuracy_val, accuracy_test])\n",
    "    \n",
    "for model_name, model in model_ml.items():\n",
    "    accuracy_train = ml_models(x_train_one_hot, y_train, model)\n",
    "    accuracy_val = ml_models(x_val_one_hot, y_val, model)\n",
    "    accuracy_test = ml_models(x_test_one_hot, y_test, model) \n",
    "    results.append([model_name, accuracy_train, accuracy_val, accuracy_test])\n",
    "\n",
    "column = ['Model name', 'Training Acc', 'Val Acc', 'Test Acc']\n",
    "\n",
    "df_results = pd.DataFrame(results, columns = column)\n",
    "df_results.sort_values(by = ['Test Acc'], ascending = False, inplace = True)\n",
    "df_results.reset_index(drop = True, inplace = True)\n",
    "df_results.round(4)"
   ]
  },
  {
   "cell_type": "markdown",
   "metadata": {},
   "source": [
    "__Inferences__: \n",
    " - Overall accuracies of all the models are ranging between 70% to 80%\n",
    " - Deep Learning models not performing as expected, due to low volume of input records\n",
    " - ML models are more controlled to overfitting. DL models have slight over fitting which we tried to minimize as much possible\n",
    " - Varying accuracies noted from run to run with same parameters for the DL NN models, which is a concern to be addressed"
   ]
  }
 ],
 "metadata": {
  "kernelspec": {
   "display_name": "Python 3",
   "language": "python",
   "name": "python3"
  },
  "language_info": {
   "codemirror_mode": {
    "name": "ipython",
    "version": 3
   },
   "file_extension": ".py",
   "mimetype": "text/x-python",
   "name": "python",
   "nbconvert_exporter": "python",
   "pygments_lexer": "ipython3",
   "version": "3.7.4"
  }
 },
 "nbformat": 4,
 "nbformat_minor": 2
}
