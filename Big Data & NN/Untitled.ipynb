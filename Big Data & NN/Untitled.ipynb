{
 "cells": [
  {
   "cell_type": "code",
   "execution_count": 3,
   "metadata": {},
   "outputs": [],
   "source": [
    "alist = [2,3,4,5]"
   ]
  },
  {
   "cell_type": "code",
   "execution_count": 4,
   "metadata": {},
   "outputs": [],
   "source": [
    "def f(x):\n",
    "    return x**2"
   ]
  },
  {
   "cell_type": "code",
   "execution_count": 5,
   "metadata": {},
   "outputs": [
    {
     "data": {
      "text/plain": [
       "[4, 9, 16, 25]"
      ]
     },
     "execution_count": 5,
     "metadata": {},
     "output_type": "execute_result"
    }
   ],
   "source": [
    "list(map(f, alist))"
   ]
  },
  {
   "cell_type": "code",
   "execution_count": 7,
   "metadata": {},
   "outputs": [
    {
     "data": {
      "text/plain": [
       "4"
      ]
     },
     "execution_count": 7,
     "metadata": {},
     "output_type": "execute_result"
    }
   ],
   "source": [
    "g = lambda x: x**2\n",
    "g(2)"
   ]
  },
  {
   "cell_type": "code",
   "execution_count": 8,
   "metadata": {},
   "outputs": [
    {
     "data": {
      "text/plain": [
       "[4, 9, 16, 25]"
      ]
     },
     "execution_count": 8,
     "metadata": {},
     "output_type": "execute_result"
    }
   ],
   "source": [
    "list(map(lambda x: x**2, alist))"
   ]
  },
  {
   "cell_type": "code",
   "execution_count": 9,
   "metadata": {},
   "outputs": [
    {
     "data": {
      "text/plain": [
       "[2, 4]"
      ]
     },
     "execution_count": 9,
     "metadata": {},
     "output_type": "execute_result"
    }
   ],
   "source": [
    "list(filter(lambda x: x%2 == 0, alist))"
   ]
  },
  {
   "cell_type": "code",
   "execution_count": 11,
   "metadata": {},
   "outputs": [
    {
     "data": {
      "text/plain": [
       "14"
      ]
     },
     "execution_count": 11,
     "metadata": {},
     "output_type": "execute_result"
    }
   ],
   "source": [
    "from functools import reduce\n",
    "\n",
    "reduce(lambda x, y: x+y, alist)"
   ]
  },
  {
   "cell_type": "code",
   "execution_count": 12,
   "metadata": {},
   "outputs": [
    {
     "data": {
      "text/plain": [
       "120"
      ]
     },
     "execution_count": 12,
     "metadata": {},
     "output_type": "execute_result"
    }
   ],
   "source": [
    "reduce(lambda x, y: x*y, alist)"
   ]
  },
  {
   "cell_type": "code",
   "execution_count": 14,
   "metadata": {},
   "outputs": [
    {
     "data": {
      "text/plain": [
       "14"
      ]
     },
     "execution_count": 14,
     "metadata": {},
     "output_type": "execute_result"
    }
   ],
   "source": [
    "from operator import add, mul\n",
    "\n",
    "reduce(add, alist)"
   ]
  },
  {
   "cell_type": "code",
   "execution_count": 15,
   "metadata": {},
   "outputs": [
    {
     "data": {
      "text/plain": [
       "120"
      ]
     },
     "execution_count": 15,
     "metadata": {},
     "output_type": "execute_result"
    }
   ],
   "source": [
    "reduce(mul, alist)"
   ]
  },
  {
   "cell_type": "code",
   "execution_count": 57,
   "metadata": {},
   "outputs": [
    {
     "name": "stdout",
     "output_type": "stream",
     "text": [
      "('the', 'sam')\t1\n",
      "\n"
     ]
    }
   ],
   "source": [
    "b = ['the','test','sam',4]\n",
    "key = \"('\" + b[0] + \"', '\" + b[2] + \"')\"\n",
    "print('{}\\t1\\n'.format(key))"
   ]
  },
  {
   "cell_type": "code",
   "execution_count": 70,
   "metadata": {},
   "outputs": [
    {
     "name": "stdout",
     "output_type": "stream",
     "text": [
      "('the', 'sam')\t1\n",
      "\n"
     ]
    }
   ],
   "source": [
    "b = ['the','test','sam',4]\n",
    "key = []\n",
    "key.append(b[0])\n",
    "key.append(b[2])\n",
    "print('{}\\t1\\n'.format(tuple(key)))"
   ]
  },
  {
   "cell_type": "code",
   "execution_count": 5,
   "metadata": {},
   "outputs": [
    {
     "name": "stdout",
     "output_type": "stream",
     "text": [
      "('this', 'beautiful')\t1\n",
      "\n",
      "('what', 'plan')\t1\n",
      "\n",
      "('shall', 'out')\t1\n",
      "\n"
     ]
    }
   ],
   "source": [
    "alist = ['this is a beautiful day', 'what is the plan', 'shall we go out']\n",
    "\n",
    "for line in alist: \n",
    "    temp = []\n",
    "    key = []\n",
    "    temp = line.strip().split()\n",
    "    key.append(temp[0])\n",
    "    key.append(temp[3])\n",
    "    print('{}\\t1\\n'.format(tuple(key)))"
   ]
  },
  {
   "cell_type": "code",
   "execution_count": 9,
   "metadata": {},
   "outputs": [
    {
     "name": "stdout",
     "output_type": "stream",
     "text": [
      "this\t1\n",
      "is\t1\n",
      "the\t1\n",
      "a\t1\n",
      "beautiful\t1\n",
      "day\t1\n",
      "for\t1\n",
      "plan\t1\n",
      "what\t1\n",
      "is\t1\n",
      "a\t1\n",
      "the\t1\n",
      "plan\t1\n",
      "for\t1\n",
      "shall\t1\n",
      "we\t1\n",
      "a\t1\n",
      "the\t1\n",
      "for\t1\n",
      "go\t1\n",
      "out\t1\n"
     ]
    }
   ],
   "source": [
    "alist = ['this is the a beautiful day for plan', 'what is a the plan for', 'shall we a the for go out']\n",
    "\n",
    "for line in alist: \n",
    "    for word in line.strip().split():\n",
    "        print('{}\\t1'.format(word))"
   ]
  },
  {
   "cell_type": "code",
   "execution_count": 27,
   "metadata": {},
   "outputs": [
    {
     "name": "stdout",
     "output_type": "stream",
     "text": [
      "this\t1\n",
      "is\t1\n",
      "the\t1\n",
      "a\t1\n",
      "beautiful\t1\n",
      "day\t1\n",
      "for\t1\n",
      "plan\t1\n",
      "what\t1\n",
      "is\t1\n",
      "a\t1\n",
      "the\t1\n",
      "plan\t1\n",
      "for\t1\n",
      "shall\t1\n",
      "we\t1\n",
      "a\t1\n",
      "the\t1\n",
      "for\t1\n",
      "go\t1\n",
      "out\t1\n",
      "this\t1\n",
      "is\t1\n",
      "the\t1\n",
      "a\t1\n",
      "beautiful\t1\n",
      "day\t1\n",
      "for\t1\n",
      "plan\t1\n",
      "what\t1\n",
      "is\t1\n",
      "a\t1\n",
      "the\t1\n",
      "plan\t1\n",
      "for\t1\n",
      "shall\t1\n",
      "we\t1\n",
      "a\t1\n",
      "the\t1\n",
      "for\t1\n",
      "go\t1\n",
      "out\t1\n"
     ]
    }
   ],
   "source": [
    "  "
   ]
  },
  {
   "cell_type": "code",
   "execution_count": 56,
   "metadata": {},
   "outputs": [
    {
     "name": "stdout",
     "output_type": "stream",
     "text": [
      "['this\\t1', 'is\\t1', 'is\\t1', 'the\\t1', 'the\\t1', 'the\\t1', 'a\\t1', 'a\\t1', 'a\\t1', 'beautiful\\t1', 'day\\t1', 'for\\t1', 'plan\\t1', 'what\\t1', 'plan\\t1', 'for\\t1', 'shall\\t1', 'we\\t1', 'for\\t1', 'go\\t1', 'out\\t1']\n",
      "this\t1\n",
      "is\t2\n",
      "the\t3\n",
      "a\t3\n",
      "beautiful\t1\n",
      "day\t1\n",
      "for\t1\n",
      "plan\t1\n",
      "what\t1\n",
      "plan\t1\n",
      "for\t1\n",
      "shall\t1\n",
      "we\t1\n",
      "for\t1\n",
      "go\t1\n",
      "out\t1\n"
     ]
    }
   ],
   "source": [
    "alist = [\n",
    "        'this\t1',\n",
    "        'is\t1',\n",
    "        'is\t1',\n",
    "        'the\t1',\n",
    "        'the\t1',\n",
    "        'the\t1',\n",
    "        'a\t1',\n",
    "        'a\t1',\n",
    "        'a\t1',\n",
    "        'beautiful\t1',\n",
    "        'day\t1',\n",
    "        'for\t1',\n",
    "        'plan\t1',\n",
    "        'what\t1',\n",
    "        'plan\t1',\n",
    "        'for\t1',\n",
    "        'shall\t1',\n",
    "        'we\t1',\n",
    "        'for\t1',\n",
    "        'go\t1',\n",
    "        'out\t1'\n",
    "        ]\n",
    "print(alist)\n",
    "\n",
    "current_key = None\n",
    "total = 0\n",
    "    \n",
    "for line in alist:     \n",
    "    key, value = line.strip().split('\\t')\n",
    "    value = int(value)\n",
    "    \n",
    "    if key == current_key: \n",
    "        total = total + value\n",
    "    else:\n",
    "        if current_key is not None: \n",
    "            print('{}\\t{}'.format(current_key, total))\n",
    "    \n",
    "        current_key = key\n",
    "        total = value\n",
    "    \n",
    "if current_key: \n",
    "    print('{}\\t{}'.format(current_key, total))     "
   ]
  },
  {
   "cell_type": "code",
   "execution_count": 28,
   "metadata": {},
   "outputs": [
    {
     "name": "stdout",
     "output_type": "stream",
     "text": [
      "this\t1\n",
      "is\t1\n",
      "the\t1\n",
      "a\t1\n",
      "beautiful\t1\n",
      "day\t1\n",
      "for\t1\n",
      "plan\t1\n",
      "what\t1\n",
      "is\t1\n",
      "a\t1\n",
      "the\t1\n",
      "plan\t1\n",
      "for\t1\n",
      "shall\t1\n",
      "we\t1\n",
      "a\t1\n",
      "the\t1\n",
      "for\t1\n",
      "go\t1\n",
      "out\t1\n",
      "this\t1\n",
      "is\t1\n",
      "the\t1\n",
      "a\t1\n",
      "beautiful\t1\n",
      "day\t1\n",
      "for\t1\n",
      "plan\t1\n",
      "what\t1\n",
      "is\t1\n",
      "a\t1\n",
      "the\t1\n",
      "plan\t1\n",
      "for\t1\n",
      "shall\t1\n",
      "we\t1\n",
      "a\t1\n",
      "the\t1\n",
      "for\t1\n",
      "go\t1\n",
      "out\t1\n"
     ]
    }
   ],
   "source": [
    "text = 'this is the a beautiful day for plan, what is a the plan for, shall we a the for go out\\n\\\n",
    "        this is the a beautiful day for plan, what is a the plan for, shall we a the for go out'\n",
    "SEP = '\\t'\n",
    "\n",
    "class Mapper(object): \n",
    "    \n",
    "    def __init__(self, stream, sep = SEP):\n",
    "        self.stream = stream\n",
    "        self.sep = SEP\n",
    "        \n",
    "    def emit(self, key, value):\n",
    "        print(\"{}{}{}\".format(key, self.sep, value))\n",
    "    \n",
    "    def map(self):\n",
    "        for row in self: \n",
    "            for word in row.strip().split():\n",
    "                self.emit(word, 1)\n",
    "    \n",
    "    def __iter__(self):\n",
    "        data = self.stream\n",
    "        for line in data.split(','):\n",
    "            yield line\n",
    "    \n",
    "if __name__ == '__main__':\n",
    "    mapper = Mapper(text)\n",
    "    mapper.map()  "
   ]
  },
  {
   "cell_type": "code",
   "execution_count": 57,
   "metadata": {},
   "outputs": [
    {
     "name": "stdout",
     "output_type": "stream",
     "text": [
      "this\t1\n",
      "is\t1\n",
      "the\t1\n",
      "a\t1\n",
      "beautiful\t1\n",
      "day\t1\n",
      "for\t1\n",
      "a\t1\n",
      "plan\t1\n",
      "the\t1\n",
      "what\t1\n",
      "plan\t1\n",
      "for\t1\n",
      "a\t1\n",
      "shall\t1\n",
      "we\t1\n",
      "for\t1\n",
      "go\t1\n",
      "is\t1\n",
      "the\t1\n",
      "out\t1\n",
      "\n"
     ]
    }
   ],
   "source": [
    "text = 'this\t1\\nis\t1\\nthe\t1\\na\t1\\nbeautiful\t1\\nday\t1\\nfor\t1\\na\t1\\nplan\t1\\nthe\t1\\nwhat\t1\\nplan\t1\\n\\\n",
    "for\t1\\na\t1\\nshall\t1\\nwe\t1\\nfor\t1\\ngo\t1\\nis\t1\\nthe\t1\\nout\t1\\n'\n",
    "    \n",
    "print(text)\n",
    "\n",
    "from itertools import groupby\n",
    "from operator import itemgetter\n",
    "\n",
    "SEP = '\\t'\n",
    "\n",
    "class Reducer(object):\n",
    "    \n",
    "    def __init__(self, stream, sep = SEP):\n",
    "        self.stream = stream\n",
    "        self.sep = sep\n",
    "\n",
    "        \n",
    "    def emit(self, key, value):\n",
    "        print('{}{}{}'.format(key, self.sep, value))\n",
    "        \n",
    "    def reduce(self):\n",
    "        for current, group in groupby(self, itemgetter(0)):\n",
    "            total = 0\n",
    "          \n",
    "            for item in group:\n",
    "                total += item[1]\n",
    "                \n",
    "            self.emit(current, total)\n",
    "            \n",
    "    def __iter__(self):\n",
    "        for line in self.stream:\n",
    "            try:\n",
    "                parts = line.strip().split(self.sep)\n",
    "                yield parts[0], int(parts[1])\n",
    "            except: \n",
    "                continue\n",
    "\n",
    "if __name__ == '__main__':\n",
    "    reducer = Reducer(text)\n",
    "    reducer.reduce()"
   ]
  },
  {
   "cell_type": "code",
   "execution_count": 74,
   "metadata": {},
   "outputs": [
    {
     "name": "stdout",
     "output_type": "stream",
     "text": [
      "this\t1\n",
      "is\t1\n",
      "the\t2\n",
      "a\t1\n",
      "beautiful\t1\n",
      "day\t1\n",
      "for\t1\n",
      "a\t1\n",
      "plan\t1\n",
      "the\t1\n",
      "what\t1\n",
      "plan\t1\n",
      "for\t1\n",
      "a\t1\n",
      "shall\t1\n",
      "we\t1\n",
      "for\t1\n",
      "go\t1\n",
      "is\t1\n",
      "out\t1\n"
     ]
    }
   ],
   "source": [
    "text = 'this\t1\\nis\t1\\nthe\t1\\nthe\t1\\na\t1\\nbeautiful\t1\\nday\t1\\nfor\t1\\na\t1\\nplan\t1\\nthe\t1\\nwhat\t1\\nplan\t1\\n\\\n",
    "for\t1\\na\t1\\nshall\t1\\nwe\t1\\nfor\t1\\ngo\t1\\nis\t1\\nout\t1'\n",
    "\n",
    "from itertools import groupby\n",
    "from operator import itemgetter\n",
    "\n",
    "SEP = '\\t'\n",
    "\n",
    "class Reducer(object):\n",
    "    \n",
    "    def __init__(self, stream, sep = SEP):\n",
    "        self.stream = stream\n",
    "        self.sep = sep\n",
    "\n",
    "        \n",
    "    def emit(self, key, value):\n",
    "        print('{}{}{}'.format(key, self.sep, value))\n",
    "        \n",
    "    def reduce(self):\n",
    "        current_key = None\n",
    "        total = 0\n",
    "        \n",
    "        for line in self: \n",
    "            key, value = line.strip().split(self.sep)\n",
    "            value = int(value)\n",
    "\n",
    "            if key == current_key: \n",
    "                total = total + value\n",
    "            else:\n",
    "                if current_key is not None: \n",
    "                    self.emit(current_key, total)\n",
    "\n",
    "                current_key = key\n",
    "                total = value\n",
    "\n",
    "        if current_key: \n",
    "            self.emit(current_key, total)\n",
    "            \n",
    "    def __iter__(self):\n",
    "        data = self.stream\n",
    "        for line in data.split('\\n'):\n",
    "            yield line \n",
    "            \n",
    "if __name__ == '__main__':\n",
    "    reducer = Reducer(text)\n",
    "    reducer.reduce()"
   ]
  },
  {
   "cell_type": "code",
   "execution_count": 75,
   "metadata": {},
   "outputs": [
    {
     "data": {
      "text/plain": [
       "<generator object f at 0x0000022DF140A448>"
      ]
     },
     "execution_count": 75,
     "metadata": {},
     "output_type": "execute_result"
    }
   ],
   "source": [
    "alist = [2,3,4,5]\n",
    "\n",
    "def f(a):\n",
    "    for number in a: \n",
    "        yield (number ** 2)\n",
    "        \n",
    "x = f(alist)\n",
    "x"
   ]
  },
  {
   "cell_type": "code",
   "execution_count": 76,
   "metadata": {},
   "outputs": [
    {
     "name": "stdout",
     "output_type": "stream",
     "text": [
      "4\n",
      "9\n",
      "16\n",
      "25\n"
     ]
    }
   ],
   "source": [
    "for num in x: \n",
    "    print(num)"
   ]
  },
  {
   "cell_type": "code",
   "execution_count": null,
   "metadata": {},
   "outputs": [],
   "source": []
  },
  {
   "cell_type": "code",
   "execution_count": null,
   "metadata": {},
   "outputs": [],
   "source": []
  },
  {
   "cell_type": "code",
   "execution_count": null,
   "metadata": {},
   "outputs": [],
   "source": []
  }
 ],
 "metadata": {
  "kernelspec": {
   "display_name": "Python 3",
   "language": "python",
   "name": "python3"
  },
  "language_info": {
   "codemirror_mode": {
    "name": "ipython",
    "version": 3
   },
   "file_extension": ".py",
   "mimetype": "text/x-python",
   "name": "python",
   "nbconvert_exporter": "python",
   "pygments_lexer": "ipython3",
   "version": "3.7.4"
  }
 },
 "nbformat": 4,
 "nbformat_minor": 2
}
