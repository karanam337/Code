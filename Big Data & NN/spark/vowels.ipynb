{
 "cells": [
  {
   "cell_type": "code",
   "execution_count": 21,
   "metadata": {},
   "outputs": [
    {
     "data": {
      "text/plain": [
       "[(u'also', 11),\n",
       " (u'area', 8),\n",
       " (u'issues', 7),\n",
       " (u'able', 7),\n",
       " (u'idaho', 5),\n",
       " (u'even', 4),\n",
       " (u'every', 4),\n",
       " (u'one', 4),\n",
       " (u'eat', 4),\n",
       " (u'including', 3)]"
      ]
     },
     "execution_count": 21,
     "metadata": {},
     "output_type": "execute_result"
    }
   ],
   "source": [
    "file_rdd = sc.textFile(\"/Users/snerur/insy5376/exams/patients.txt\").flatMap(lambda x: x.split()) \\\n",
    "            .filter(lambda x: x.startswith((\"a\",\"A\",'e',\"E\",\"i\",\"I\",\"o\",\"O\",\"u\",\"U\"))).map(lambda x: (x, 1)) \\\n",
    "            .reduceByKey(lambda a, b: a + b).sortBy(lambda (x,y): -y)\n",
    "file_rdd.take(10)"
   ]
  }
 ],
 "metadata": {
  "kernelspec": {
   "display_name": "Python 3",
   "language": "python",
   "name": "python3"
  },
  "language_info": {
   "codemirror_mode": {
    "name": "ipython",
    "version": 3
   },
   "file_extension": ".py",
   "mimetype": "text/x-python",
   "name": "python",
   "nbconvert_exporter": "python",
   "pygments_lexer": "ipython3",
   "version": "3.7.4"
  }
 },
 "nbformat": 4,
 "nbformat_minor": 1
}
