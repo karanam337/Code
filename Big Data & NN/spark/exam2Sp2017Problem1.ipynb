{
 "cells": [
  {
   "cell_type": "code",
   "execution_count": 7,
   "metadata": {},
   "outputs": [
    {
     "data": {
      "text/plain": [
       "[(u'Baton Rouge', '10131273.23'),\n",
       " (u'Spokane', '10083362.98'),\n",
       " (u'Sacramento', '10123468.18'),\n",
       " (u'San Diego', '9965972.31'),\n",
       " (u'Fremont', '10053242.36'),\n",
       " (u'Minneapolis', '10011757.78'),\n",
       " (u'El Paso', '10016409.97'),\n",
       " (u'Anaheim', '10076416.36'),\n",
       " (u'Honolulu', '10006273.49'),\n",
       " (u'Santa Ana', '10050309.93')]"
      ]
     },
     "execution_count": 7,
     "metadata": {},
     "output_type": "execute_result"
    }
   ],
   "source": [
    "rdd = sc.textFile(\"/Users/snerur/sparkExamples/purchases.txt\").filter(lambda x: not x.startswith(\"I\"))\n",
    "rdd1 = rdd.map(lambda x: x.split(\"\\t\")).map(lambda x: (x[2], float(x[4])))\n",
    "final = rdd1.reduceByKey(lambda x,y: x + y).map(lambda (x,y): (x, \"%.2f\" % y))\n",
    "final.take(10)"
   ]
  },
  {
   "cell_type": "code",
   "execution_count": 17,
   "metadata": {},
   "outputs": [
    {
     "data": {
      "text/plain": [
       "[(u'Baton Rouge', [u'Amex', u'Discover', u'Cash', u'MasterCard', u'Visa']),\n",
       " (u'Spokane', [u'MasterCard', u'Amex', u'Discover', u'Cash', u'Visa']),\n",
       " (u'Sacramento', [u'Discover', u'MasterCard', u'Amex', u'Cash', u'Visa'])]"
      ]
     },
     "execution_count": 17,
     "metadata": {},
     "output_type": "execute_result"
    }
   ],
   "source": [
    "rdd2 = rdd.map(lambda x: x.split(\"\\t\"))\n",
    "sp_rdd = rdd2.map(lambda x: (x[2], x[5])).distinct().groupByKey().mapValues(list)\n",
    "sp_rdd.take(3)"
   ]
  },
  {
   "cell_type": "code",
   "execution_count": 21,
   "metadata": {},
   "outputs": [
    {
     "data": {
      "text/plain": [
       "[((u'2012-01-01', u'Houston'), '25649.85'),\n",
       " ((u'2012-01-01', u'Denver'), '30925.28'),\n",
       " ((u'2012-01-01', u'Jacksonville'), '30874.22')]"
      ]
     },
     "execution_count": 21,
     "metadata": {},
     "output_type": "execute_result"
    }
   ],
   "source": [
    "ts_rdd = rdd2.map(lambda x: ((x[0],x[2]), float(x[4]))).reduceByKey(lambda a,b: a + b) \\\n",
    "              .map(lambda (x,y): (x, \"%.2f\" % y)).sortBy(lambda (x,y): x[0])\n",
    "ts_rdd.take(3)"
   ]
  }
 ],
 "metadata": {
  "kernelspec": {
   "display_name": "Python 3",
   "language": "python",
   "name": "python3"
  },
  "language_info": {
   "codemirror_mode": {
    "name": "ipython",
    "version": 3
   },
   "file_extension": ".py",
   "mimetype": "text/x-python",
   "name": "python",
   "nbconvert_exporter": "python",
   "pygments_lexer": "ipython3",
   "version": "3.7.4"
  }
 },
 "nbformat": 4,
 "nbformat_minor": 1
}
