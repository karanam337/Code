{
 "cells": [
  {
   "cell_type": "markdown",
   "metadata": {},
   "source": [
    "# Summer 2020 -> INSY 5378 -> Data Science\n",
    "## Project work\n",
    "### Team Members: Phanikrishna Karanam, Swetha Gollamudi, Amruta Joshi, Haripriya Jujjavarapu"
   ]
  },
  {
   "cell_type": "markdown",
   "metadata": {},
   "source": [
    "#### Project on Text Classification \n",
    "\n",
    "__Objective__: Predict whether a question asked on Quora is sincere or not. \n",
    "\n",
    "__Dataset Summary__: Quora is a platform that empowers people to learn from each other. On Quora, people can ask questions and connect with others who contribute unique insights and quality answers. \n",
    "\n",
    "A key challenge is to weed out insincere questions by better handling toxic and divisive content. An insincere question is defined as a question intended to make a statement rather than look for helpful answers.\n",
    "\n",
    "__Overview on this notebook__:\n",
    "Used concepts and techniques learnt during the class, to build models that reasonably classify questions as “Sincere / Insincere”. \n",
    " - Preprocessed the text data\n",
    " - Explored classification algorithms and analyzed the metrics\n",
    " - Tune hyper parameters to improve model performance\n",
    " - Model evaluation and selection of best fit model. Test against the hold out sample for generalization evaluation "
   ]
  },
  {
   "cell_type": "code",
   "execution_count": 38,
   "metadata": {},
   "outputs": [],
   "source": [
    "# Suppress warnings\n",
    "\n",
    "import warnings\n",
    "\n",
    "warnings.filterwarnings('ignore')"
   ]
  },
  {
   "cell_type": "code",
   "execution_count": 39,
   "metadata": {},
   "outputs": [],
   "source": [
    "# change the default system directory to project location\n",
    "\n",
    "import os\n",
    "\n",
    "os.chdir('C:\\MSBA\\Fall 2020\\INSY 5376 - Big Data\\Project')"
   ]
  },
  {
   "cell_type": "code",
   "execution_count": 40,
   "metadata": {},
   "outputs": [
    {
     "name": "stdout",
     "output_type": "stream",
     "text": [
      "Dataset shape:  (7613, 5) \n",
      "\n",
      "<class 'pandas.core.frame.DataFrame'>\n",
      "RangeIndex: 7613 entries, 0 to 7612\n",
      "Data columns (total 5 columns):\n",
      "id          7613 non-null int64\n",
      "keyword     7552 non-null object\n",
      "location    5080 non-null object\n",
      "text        7613 non-null object\n",
      "target      7613 non-null int64\n",
      "dtypes: int64(2), object(3)\n",
      "memory usage: 297.5+ KB\n"
     ]
    }
   ],
   "source": [
    "# read the input dataset and setup the x and y arrays\n",
    "# we see that there are no NULL values in the data\n",
    "\n",
    "import pandas as pd\n",
    "\n",
    "dataset_df = pd.read_csv('Disaster Tweet Dataset.csv')\n",
    "x_dataset = dataset_df.drop('target', axis=1).values\n",
    "y_dataset = dataset_df['target'].values\n",
    "\n",
    "print('Dataset shape: ', dataset_df.shape, '\\n')\n",
    "dataset_df.info()"
   ]
  },
  {
   "cell_type": "code",
   "execution_count": 41,
   "metadata": {},
   "outputs": [
    {
     "data": {
      "text/html": [
       "<div>\n",
       "<style scoped>\n",
       "    .dataframe tbody tr th:only-of-type {\n",
       "        vertical-align: middle;\n",
       "    }\n",
       "\n",
       "    .dataframe tbody tr th {\n",
       "        vertical-align: top;\n",
       "    }\n",
       "\n",
       "    .dataframe thead th {\n",
       "        text-align: right;\n",
       "    }\n",
       "</style>\n",
       "<table border=\"1\" class=\"dataframe\">\n",
       "  <thead>\n",
       "    <tr style=\"text-align: right;\">\n",
       "      <th></th>\n",
       "      <th>id</th>\n",
       "      <th>target</th>\n",
       "      <th>input</th>\n",
       "    </tr>\n",
       "  </thead>\n",
       "  <tbody>\n",
       "    <tr>\n",
       "      <td>0</td>\n",
       "      <td>1</td>\n",
       "      <td>1</td>\n",
       "      <td>Our Deeds are the Reason of this #earthquake ...</td>\n",
       "    </tr>\n",
       "    <tr>\n",
       "      <td>1</td>\n",
       "      <td>4</td>\n",
       "      <td>1</td>\n",
       "      <td>Forest fire near La Ronge Sask. Canada</td>\n",
       "    </tr>\n",
       "    <tr>\n",
       "      <td>2</td>\n",
       "      <td>5</td>\n",
       "      <td>1</td>\n",
       "      <td>All residents asked to 'shelter in place' are...</td>\n",
       "    </tr>\n",
       "    <tr>\n",
       "      <td>3</td>\n",
       "      <td>6</td>\n",
       "      <td>1</td>\n",
       "      <td>13,000 people receive #wildfires evacuation o...</td>\n",
       "    </tr>\n",
       "    <tr>\n",
       "      <td>4</td>\n",
       "      <td>7</td>\n",
       "      <td>1</td>\n",
       "      <td>Just got sent this photo from Ruby #Alaska as...</td>\n",
       "    </tr>\n",
       "    <tr>\n",
       "      <td>...</td>\n",
       "      <td>...</td>\n",
       "      <td>...</td>\n",
       "      <td>...</td>\n",
       "    </tr>\n",
       "    <tr>\n",
       "      <td>7608</td>\n",
       "      <td>10869</td>\n",
       "      <td>1</td>\n",
       "      <td>Two giant cranes holding a bridge collapse in...</td>\n",
       "    </tr>\n",
       "    <tr>\n",
       "      <td>7609</td>\n",
       "      <td>10870</td>\n",
       "      <td>1</td>\n",
       "      <td>@aria_ahrary @TheTawniest The out of control ...</td>\n",
       "    </tr>\n",
       "    <tr>\n",
       "      <td>7610</td>\n",
       "      <td>10871</td>\n",
       "      <td>1</td>\n",
       "      <td>M1.94 [01:04 UTC]?5km S of Volcano Hawaii. ht...</td>\n",
       "    </tr>\n",
       "    <tr>\n",
       "      <td>7611</td>\n",
       "      <td>10872</td>\n",
       "      <td>1</td>\n",
       "      <td>Police investigating after an e-bike collided...</td>\n",
       "    </tr>\n",
       "    <tr>\n",
       "      <td>7612</td>\n",
       "      <td>10873</td>\n",
       "      <td>1</td>\n",
       "      <td>The Latest: More Homes Razed by Northern Cali...</td>\n",
       "    </tr>\n",
       "  </tbody>\n",
       "</table>\n",
       "<p>7613 rows × 3 columns</p>\n",
       "</div>"
      ],
      "text/plain": [
       "         id  target                                              input\n",
       "0         1       1   Our Deeds are the Reason of this #earthquake ...\n",
       "1         4       1             Forest fire near La Ronge Sask. Canada\n",
       "2         5       1   All residents asked to 'shelter in place' are...\n",
       "3         6       1   13,000 people receive #wildfires evacuation o...\n",
       "4         7       1   Just got sent this photo from Ruby #Alaska as...\n",
       "...     ...     ...                                                ...\n",
       "7608  10869       1   Two giant cranes holding a bridge collapse in...\n",
       "7609  10870       1   @aria_ahrary @TheTawniest The out of control ...\n",
       "7610  10871       1   M1.94 [01:04 UTC]?5km S of Volcano Hawaii. ht...\n",
       "7611  10872       1   Police investigating after an e-bike collided...\n",
       "7612  10873       1   The Latest: More Homes Razed by Northern Cali...\n",
       "\n",
       "[7613 rows x 3 columns]"
      ]
     },
     "execution_count": 41,
     "metadata": {},
     "output_type": "execute_result"
    }
   ],
   "source": [
    "# display the head of dataset to explore the columns and values\n",
    "dataset_df[['keyword','location']] = dataset_df[['keyword','location']].fillna('') \n",
    "dataset_df['input'] = dataset_df['keyword'] + ' ' + dataset_df['text']\n",
    "\n",
    "dataset_df = dataset_df.drop(['keyword','location','text'], axis = 1)\n",
    "dataset_df"
   ]
  },
  {
   "cell_type": "code",
   "execution_count": 42,
   "metadata": {},
   "outputs": [
    {
     "data": {
      "text/html": [
       "<div>\n",
       "<style scoped>\n",
       "    .dataframe tbody tr th:only-of-type {\n",
       "        vertical-align: middle;\n",
       "    }\n",
       "\n",
       "    .dataframe tbody tr th {\n",
       "        vertical-align: top;\n",
       "    }\n",
       "\n",
       "    .dataframe thead th {\n",
       "        text-align: right;\n",
       "    }\n",
       "</style>\n",
       "<table border=\"1\" class=\"dataframe\">\n",
       "  <thead>\n",
       "    <tr style=\"text-align: right;\">\n",
       "      <th></th>\n",
       "      <th>id</th>\n",
       "      <th>target</th>\n",
       "      <th>input</th>\n",
       "    </tr>\n",
       "  </thead>\n",
       "  <tbody>\n",
       "    <tr>\n",
       "      <td>0</td>\n",
       "      <td>1</td>\n",
       "      <td>1</td>\n",
       "      <td>our deeds are the reason of this #earthquake ...</td>\n",
       "    </tr>\n",
       "    <tr>\n",
       "      <td>1</td>\n",
       "      <td>4</td>\n",
       "      <td>1</td>\n",
       "      <td>forest fire near la ronge sask. canada</td>\n",
       "    </tr>\n",
       "    <tr>\n",
       "      <td>2</td>\n",
       "      <td>5</td>\n",
       "      <td>1</td>\n",
       "      <td>all residents asked to 'shelter in place' are...</td>\n",
       "    </tr>\n",
       "    <tr>\n",
       "      <td>3</td>\n",
       "      <td>6</td>\n",
       "      <td>1</td>\n",
       "      <td>13,000 people receive #wildfires evacuation o...</td>\n",
       "    </tr>\n",
       "    <tr>\n",
       "      <td>4</td>\n",
       "      <td>7</td>\n",
       "      <td>1</td>\n",
       "      <td>just got sent this photo from ruby #alaska as...</td>\n",
       "    </tr>\n",
       "  </tbody>\n",
       "</table>\n",
       "</div>"
      ],
      "text/plain": [
       "   id  target                                              input\n",
       "0   1       1   our deeds are the reason of this #earthquake ...\n",
       "1   4       1             forest fire near la ronge sask. canada\n",
       "2   5       1   all residents asked to 'shelter in place' are...\n",
       "3   6       1   13,000 people receive #wildfires evacuation o...\n",
       "4   7       1   just got sent this photo from ruby #alaska as..."
      ]
     },
     "execution_count": 42,
     "metadata": {},
     "output_type": "execute_result"
    }
   ],
   "source": [
    "dataset_df['input'] = dataset_df['input'].str.lower()\n",
    "\n",
    "x_dataset = dataset_df.drop('target', axis=1).values\n",
    "y_dataset = dataset_df['target'].values\n",
    "\n",
    "dataset_df.head()"
   ]
  },
  {
   "cell_type": "markdown",
   "metadata": {},
   "source": [
    "Below function is to display the Target counts in the dataset passed. This is to understand the class imbalance in datasets"
   ]
  },
  {
   "cell_type": "code",
   "execution_count": 43,
   "metadata": {},
   "outputs": [],
   "source": [
    "import numpy as np\n",
    "import matplotlib.pyplot as plt\n",
    "\n",
    "def target_distribution(array, data):\n",
    "    ones = np.count_nonzero(array)\n",
    "    zeros = len(array) - ones\n",
    "    print('Target counts in {} set:'.format(data))\n",
    "    print('0: ', zeros)\n",
    "    print('1: ', ones)\n",
    "\n",
    "    plt.pie([zeros, ones], labels = ['Sincere', 'Insincere'], autopct='%.1f%%')\n",
    "    plt.title('Target Distribution in {}'.format(data))\n",
    "    plt.show()"
   ]
  },
  {
   "cell_type": "code",
   "execution_count": 44,
   "metadata": {},
   "outputs": [
    {
     "name": "stdout",
     "output_type": "stream",
     "text": [
      "Target counts in dataset set:\n",
      "0:  4342\n",
      "1:  3271\n"
     ]
    },
    {
     "data": {
      "image/png": "[encoded data removed]",
      "text/plain": [
       "<Figure size 432x288 with 1 Axes>"
      ]
     },
     "metadata": {},
     "output_type": "display_data"
    }
   ],
   "source": [
    "target_distribution(dataset_df['target'], 'dataset')"
   ]
  },
  {
   "cell_type": "markdown",
   "metadata": {},
   "source": [
    "Perform a Train Test split using 80%-20% split. We are doing a stratified split based on target variable, inorder to maintain same ratio of the target class within the training and testing datasets"
   ]
  },
  {
   "cell_type": "code",
   "execution_count": 48,
   "metadata": {},
   "outputs": [],
   "source": [
    "def split_data(x_dataset, y_dataset): \n",
    "    x_train, x_test, y_train, y_test = \\\n",
    "                        train_test_split(x_dataset, y_dataset, test_size = 0.20, stratify = y_dataset, random_state = 32)\n",
    "\n",
    "    print('x_train shape :', x_train.shape)\n",
    "    print('x_test shape  :', x_test.shape)\n",
    "    print('y_train shape :', y_train.shape)\n",
    "    print('y_test shape  :', y_test.shape)\n",
    "    \n",
    "    return(x_train, x_test, y_train, y_test)"
   ]
  },
  {
   "cell_type": "code",
   "execution_count": 49,
   "metadata": {},
   "outputs": [
    {
     "name": "stdout",
     "output_type": "stream",
     "text": [
      "x_train shape : (6090, 2)\n",
      "x_test shape  : (1523, 2)\n",
      "y_train shape : (6090,)\n",
      "y_test shape  : (1523,)\n",
      "\n",
      "\n",
      "Target counts in Training set:\n",
      "0:  3473\n",
      "1:  2617\n"
     ]
    },
    {
     "data": {
      "image/png": "[encoded data removed]",
      "text/plain": [
       "<Figure size 432x288 with 1 Axes>"
      ]
     },
     "metadata": {},
     "output_type": "display_data"
    },
    {
     "name": "stdout",
     "output_type": "stream",
     "text": [
      "Target counts in Test set:\n",
      "0:  869\n",
      "1:  654\n"
     ]
    },
    {
     "data": {
      "image/png": "[encoded data removed]",
      "text/plain": [
       "<Figure size 432x288 with 1 Axes>"
      ]
     },
     "metadata": {},
     "output_type": "display_data"
    }
   ],
   "source": [
    "from sklearn.model_selection import train_test_split\n",
    "\n",
    "x_train, x_test, y_train, y_test = split_data(x_dataset, y_dataset)\n",
    "\n",
    "print('\\n')\n",
    "target_distribution(y_train, 'Training')\n",
    "target_distribution(y_test, 'Test')"
   ]
  },
  {
   "cell_type": "markdown",
   "metadata": {},
   "source": [
    "Below function performs the preprocesing of the text array passed\n",
    " - Convert to lower case\n",
    " - Remove digits and punctuations \n",
    " - Remove the stop words\n",
    " - Lemmatize the words to their root form "
   ]
  },
  {
   "cell_type": "code",
   "execution_count": 50,
   "metadata": {},
   "outputs": [],
   "source": [
    "def preprocess(array):\n",
    "    \n",
    "    # for removing punctuations and digits\n",
    "    exclude = string.punctuation + string.digits\n",
    "    table = str.maketrans(exclude, len(exclude) * \" \")\n",
    "\n",
    "    # for removing stopwords \n",
    "    stopwords = nltk.corpus.stopwords.words('english')\n",
    "\n",
    "    # Instantiate Lemmatizer \n",
    "    lemmatizer = nltk.stem.WordNetLemmatizer()\n",
    "\n",
    "    for i in range(len(array)):\n",
    "        text = array[i, 1]\n",
    "\n",
    "        # convert to lower case and remove punctuation & digits \n",
    "        text = text.lower().translate(table)\n",
    "\n",
    "        #remove stopwords and lemmatize the word\n",
    "        word_list = [lemmatizer.lemmatize(word) for word in text.split() if word not in stopwords]\n",
    "\n",
    "        text = \" \".join(word_list)\n",
    "        array[i, 1] = text\n",
    "\n",
    "    return(array)"
   ]
  },
  {
   "cell_type": "code",
   "execution_count": 51,
   "metadata": {},
   "outputs": [],
   "source": [
    "import string\n",
    "import nltk\n",
    "\n",
    "array = x_train.copy()\n",
    "x_train_pp = preprocess(array)\n",
    "\n",
    "array = x_test.copy()\n",
    "x_test_pp = preprocess(array)"
   ]
  },
  {
   "cell_type": "code",
   "execution_count": 52,
   "metadata": {},
   "outputs": [
    {
     "name": "stdout",
     "output_type": "stream",
     "text": [
      "['hazard phiddleface there choking hazard dont die get'\n",
      " 'obliterate watch sarah palin obliterate planned parenthood targeting minority woman \\x89ûò bb sp http co dm uupqgwy'\n",
      " 'weapon servicin section lurkin weapon'\n",
      " 'crashed intact mh part lift odds plane glided crashed sea http co mjtn qbgos via yahoofinance hope answer'\n",
      " 'drowning family mourns drowning superhero toddler rare epilepsy bradley diebold suffered hundred epileptic\\x89û http co unsayjdtu'\n",
      " 'danger honestly tho modibo maiga stealing living fuck im past best still danger fucktard coyi'\n",
      " 'blazing dmac colorado spanish word latin origin meaning reddish colored dummy pronouncing wrong'\n",
      " 'scream phone worstoverdose scream jaileens caked phone everyone look'\n",
      " 'fear help win share article lifetime fear http co eh lcqkxl thanks blackinamerica growingupblack'\n",
      " 'fatal winnipeg police seek witness arlington william fatal crash http co n bcf v'] \n",
      "\n",
      "['suicide bomber isi claim responsibility saudi mosque suicide bombing http co wpilp mymf http co nhd idajs'\n",
      " 'body bagging drake really body bagging meek'\n",
      " 'trauma trauma team need come american e shop'\n",
      " 'derailed cnn news august two train derailed amid flood video india august flooding video youtube http co mmiye k zz'\n",
      " 'damage bradleybrad yeah fast extremely high damage want fast im gonna get u'\n",
      " 'collapsed great british bake back dorret chocolate gateau collapsed jan moir http co sgdofsmrq http co xlegc uora'\n",
      " 'wreckage wreckage conclusively confirmed mh malaysia pm investigator family http co sf rgn wo'\n",
      " 'snowstorm mini lalaloopsy doll seed sunburst june seashore sweater snowstorm autumn spice full re\\x89û http co nyty fcqo http co hyypspn yq'\n",
      " 'panic panic'\n",
      " 'riot http co cxb h jn rascal flatts riot tour atlantic city beach concert august ticket http co h tyysgr']\n"
     ]
    }
   ],
   "source": [
    "# displaying the top 10 records text column after preprocesing \n",
    "\n",
    "print(x_train_pp[:10, 1],'\\n')\n",
    "print(x_test_pp[:10, 1])"
   ]
  },
  {
   "cell_type": "markdown",
   "metadata": {},
   "source": [
    "Below function is for displaying the metrics of classification model: \n",
    " - Calculate and display the Accuracy score for the model (by comparing Actual and Predicted values)\n",
    " - Display the confusion matrix to view the TP, TN, FP, FN counts \n",
    " - Plot the Precision Recall curve to visualize the trade-off between Precision-Recall\n",
    " - Calculate and display the Area Under Curve (AUC)"
   ]
  },
  {
   "cell_type": "code",
   "execution_count": 53,
   "metadata": {},
   "outputs": [],
   "source": [
    "def report_metrics(y_test, y_pred, y_pred_prob, pred_prob = True):\n",
    "    print('Accuracy Score: {}'.format(accuracy_score(y_test, y_pred)))\n",
    "    print('\\nConfusion Matrix:\\n', confusion_matrix(y_test, y_pred))\n",
    "    print('\\nClassification Report:\\n ', classification_report(y_test, y_pred, target_names = ['Sincere', 'Insincere']))\n",
    "\n",
    "    if pred_prob: \n",
    "        precision, recall, thresholds = precision_recall_curve(y_test, y_pred_prob)\n",
    "        area = auc(recall, precision)\n",
    "\n",
    "        plt.plot(recall, precision, label = 'P-R curve')\n",
    "        plt.legend(loc = 'lower left')\n",
    "        plt.xlabel('Recall')\n",
    "        plt.ylabel('Precision')\n",
    "        plt.xlim([0.1, 1.0])\n",
    "        plt.ylim([0.1, 1.1])\n",
    "        plt.title('P-R curve with Area Under Curve: {:0.2f}'.format(area))\n",
    "        plt.show()"
   ]
  },
  {
   "cell_type": "markdown",
   "metadata": {},
   "source": [
    "Below function is to build a baseline model and report metrics of the model performance\n",
    " - Vectorize the input data using either Count or TFIDF Vectorizer (fit_transform)\n",
    " - Instantiate the model along with necessary parameters\n",
    " - Train the model on training data by performing a model.fit\n",
    " - Transform the test data using the previous vectorizer\n",
    " - Predict on the transformed test data\n",
    " - Pass the predicted target values, probabilities along with actual target values to display the metrics"
   ]
  },
  {
   "cell_type": "code",
   "execution_count": 54,
   "metadata": {},
   "outputs": [],
   "source": [
    "def model_baseline(x_train_pp, y_train, x_test_pp, y_test, vectorizer_type, model_type, pred_prob = True): \n",
    "\n",
    "    vectorizer = vectorizer_type\n",
    "    features_train = vectorizer.fit_transform(x_train_pp[:,1])\n",
    "    #features_train_dense = features_train.todense()\n",
    "\n",
    "    model = model_type\n",
    "    model.fit(features_train, y_train)\n",
    "\n",
    "    features_test = vectorizer.transform(x_test_pp[:,1])\n",
    "    #features_test_dense = features_test.todense()\n",
    "\n",
    "    y_pred = model.predict(features_test)\n",
    "    \n",
    "    if pred_prob:\n",
    "        y_pred_prob = model.predict_proba(features_test)[:, 1]\n",
    "    else: \n",
    "        y_pred_prob = 0\n",
    "    \n",
    "    report_metrics(y_test, y_pred, y_pred_prob, pred_prob)\n",
    "    \n",
    "    return(model)"
   ]
  },
  {
   "cell_type": "code",
   "execution_count": null,
   "metadata": {},
   "outputs": [],
   "source": []
  },
  {
   "cell_type": "code",
   "execution_count": 56,
   "metadata": {},
   "outputs": [
    {
     "name": "stdout",
     "output_type": "stream",
     "text": [
      "Accuracy Score: 0.7826657912015759\n",
      "\n",
      "Confusion Matrix:\n",
      " [[732 137]\n",
      " [194 460]]\n",
      "\n",
      "Classification Report:\n",
      "                precision    recall  f1-score   support\n",
      "\n",
      "     Sincere       0.79      0.84      0.82       869\n",
      "   Insincere       0.77      0.70      0.74       654\n",
      "\n",
      "    accuracy                           0.78      1523\n",
      "   macro avg       0.78      0.77      0.78      1523\n",
      "weighted avg       0.78      0.78      0.78      1523\n",
      "\n"
     ]
    },
    {
     "data": {
      "image/png": "[encoded data removed]",
      "text/plain": [
       "<Figure size 432x288 with 1 Axes>"
      ]
     },
     "metadata": {
      "needs_background": "light"
     },
     "output_type": "display_data"
    }
   ],
   "source": [
    "# Build a baseline model using Multinomial Naive Bayes Classifier (using Count Vectorizer)\n",
    "\n",
    "from sklearn.feature_extraction.text import CountVectorizer\n",
    "from sklearn.metrics import accuracy_score, confusion_matrix, classification_report, precision_recall_curve, auc\n",
    "from sklearn.naive_bayes import MultinomialNB\n",
    "\n",
    "model_mnb_countvect = model_baseline(x_train_pp, y_train, x_test_pp, y_test, CountVectorizer(), MultinomialNB(alpha = 78))"
   ]
  },
  {
   "cell_type": "markdown",
   "metadata": {},
   "source": [
    "Trying TfidfVectorizer instead of CountVectorizer: \n",
    "    - Although accuracy has increased, Recall and F1 are significantly impacted. We will use CountVectorizer only for MNB"
   ]
  },
  {
   "cell_type": "code",
   "execution_count": 57,
   "metadata": {},
   "outputs": [
    {
     "name": "stdout",
     "output_type": "stream",
     "text": [
      "Accuracy Score: 0.8076165462902167\n",
      "\n",
      "Confusion Matrix:\n",
      " [[796  73]\n",
      " [220 434]]\n",
      "\n",
      "Classification Report:\n",
      "                precision    recall  f1-score   support\n",
      "\n",
      "     Sincere       0.78      0.92      0.84       869\n",
      "   Insincere       0.86      0.66      0.75       654\n",
      "\n",
      "    accuracy                           0.81      1523\n",
      "   macro avg       0.82      0.79      0.80      1523\n",
      "weighted avg       0.81      0.81      0.80      1523\n",
      "\n"
     ]
    },
    {
     "data": {
      "image/png": "[encoded data removed]",
      "text/plain": [
       "<Figure size 432x288 with 1 Axes>"
      ]
     },
     "metadata": {
      "needs_background": "light"
     },
     "output_type": "display_data"
    }
   ],
   "source": [
    "# Build a baseline model using Multinomial Naive Bayes Classifier (using Tfidf Vectorizer)\n",
    "\n",
    "from sklearn.feature_extraction.text import TfidfVectorizer\n",
    "\n",
    "model_mbn_tfidf = model_baseline(x_train_pp, y_train, x_test_pp, y_test, TfidfVectorizer(), MultinomialNB())"
   ]
  },
  {
   "cell_type": "markdown",
   "metadata": {},
   "source": [
    " - Using Logistic Regression has improved the Accuracy. When compared to MNB (with count vectorizer), although recall is less\n",
    "   f1 score is same and AUC in PR curve has improved (from 0.52 to 0.59)"
   ]
  },
  {
   "cell_type": "code",
   "execution_count": 60,
   "metadata": {},
   "outputs": [
    {
     "name": "stdout",
     "output_type": "stream",
     "text": [
      "Accuracy Score: 0.8030203545633617\n",
      "\n",
      "Confusion Matrix:\n",
      " [[784  85]\n",
      " [215 439]]\n",
      "\n",
      "Classification Report:\n",
      "                precision    recall  f1-score   support\n",
      "\n",
      "     Sincere       0.78      0.90      0.84       869\n",
      "   Insincere       0.84      0.67      0.75       654\n",
      "\n",
      "    accuracy                           0.80      1523\n",
      "   macro avg       0.81      0.79      0.79      1523\n",
      "weighted avg       0.81      0.80      0.80      1523\n",
      "\n"
     ]
    },
    {
     "data": {
      "image/png": "[encoded data removed]",
      "text/plain": [
       "<Figure size 432x288 with 1 Axes>"
      ]
     },
     "metadata": {
      "needs_background": "light"
     },
     "output_type": "display_data"
    }
   ],
   "source": [
    "# Build a baseline model using Logistic Regression (using Count Vectorizer)\n",
    "\n",
    "from sklearn.linear_model import LogisticRegression\n",
    "\n",
    "model_lr_cv = model_baseline(x_train_pp, y_train, x_test_pp, y_test, CountVectorizer(), LogisticRegression(max_iter=1000, \n",
    "                                                                                                           C = 0.1))"
   ]
  },
  {
   "cell_type": "markdown",
   "metadata": {},
   "source": [
    " - Logistic Regression using Tfidfvectorizer\n",
    "   - Overall metrics are matching MNB and Logistic Regression using CountVectorizer\n",
    "   - LR using CountVectorizer has slightly better results when compared with TfidfVectrizer"
   ]
  },
  {
   "cell_type": "code",
   "execution_count": 64,
   "metadata": {},
   "outputs": [
    {
     "name": "stdout",
     "output_type": "stream",
     "text": [
      "Accuracy Score: 0.804333552199606\n",
      "\n",
      "Confusion Matrix:\n",
      " [[760 109]\n",
      " [189 465]]\n",
      "\n",
      "Classification Report:\n",
      "                precision    recall  f1-score   support\n",
      "\n",
      "     Sincere       0.80      0.87      0.84       869\n",
      "   Insincere       0.81      0.71      0.76       654\n",
      "\n",
      "    accuracy                           0.80      1523\n",
      "   macro avg       0.81      0.79      0.80      1523\n",
      "weighted avg       0.80      0.80      0.80      1523\n",
      "\n"
     ]
    },
    {
     "data": {
      "image/png": "[encoded data removed]",
      "text/plain": [
       "<Figure size 432x288 with 1 Axes>"
      ]
     },
     "metadata": {
      "needs_background": "light"
     },
     "output_type": "display_data"
    }
   ],
   "source": [
    "# Build a baseline model using Logistic Regregssion (using Tfidf Vectorizer)\n",
    "\n",
    "model_lr_tfidf = model_baseline(x_train_pp, y_train, x_test_pp, y_test,\n",
    "                                TfidfVectorizer(sublinear_tf = True), LogisticRegression(max_iter=1000))"
   ]
  },
  {
   "cell_type": "markdown",
   "metadata": {},
   "source": [
    " - Results for Linear SVC are similar to MNB and LR\n",
    " - predic_proba is not available for Linear SVC, hence PR curve is not shown"
   ]
  },
  {
   "cell_type": "code",
   "execution_count": 65,
   "metadata": {},
   "outputs": [
    {
     "name": "stdout",
     "output_type": "stream",
     "text": [
      "Accuracy Score: 0.7741300065659882\n",
      "\n",
      "Confusion Matrix:\n",
      " [[728 141]\n",
      " [203 451]]\n",
      "\n",
      "Classification Report:\n",
      "                precision    recall  f1-score   support\n",
      "\n",
      "     Sincere       0.78      0.84      0.81       869\n",
      "   Insincere       0.76      0.69      0.72       654\n",
      "\n",
      "    accuracy                           0.77      1523\n",
      "   macro avg       0.77      0.76      0.77      1523\n",
      "weighted avg       0.77      0.77      0.77      1523\n",
      "\n"
     ]
    }
   ],
   "source": [
    "# Build a baseline model using Linear Support Vector Classifier (using Count Vectorizer)\n",
    "\n",
    "from sklearn.svm import LinearSVC\n",
    "\n",
    "model_linsvc = model_baseline(x_train_pp, y_train, x_test_pp, y_test, CountVectorizer(), \n",
    "                              LinearSVC(max_iter = 10000), pred_prob = False)"
   ]
  },
  {
   "cell_type": "markdown",
   "metadata": {},
   "source": [
    "For handling Class imbalance, below are our considerations:  \n",
    "    - Tried hyper parameter tuning on entire training dataset, however code is running for longer period. As Over Sampling\n",
    "      increase the volume of records & Class weights doesn't reduce volume of records, we didn't opt for these techniques\n",
    "    - Under Sampling -> Considering processing time and to explore hyper parameter tuning, we are chosing this method"
   ]
  },
  {
   "cell_type": "code",
   "execution_count": 66,
   "metadata": {},
   "outputs": [
    {
     "name": "stdout",
     "output_type": "stream",
     "text": [
      "Target counts in dataset after Under Sampling set:\n",
      "0:  3271\n",
      "1:  3271\n"
     ]
    },
    {
     "data": {
      "image/png": "[encoded data removed]",
      "text/plain": [
       "<Figure size 432x288 with 1 Axes>"
      ]
     },
     "metadata": {},
     "output_type": "display_data"
    }
   ],
   "source": [
    "# Perform under sampling to match the target variable's number of 1's (Insincere) with 0's (Sincere) on dataset \n",
    "\n",
    "from imblearn.under_sampling import RandomUnderSampler \n",
    "\n",
    "sampler = RandomUnderSampler(random_state = 32)\n",
    "x_resampled, y_resampled = sampler.fit_sample(x_dataset, y_dataset)\n",
    "\n",
    "target_distribution(y_resampled, 'dataset after Under Sampling')"
   ]
  },
  {
   "cell_type": "code",
   "execution_count": 67,
   "metadata": {},
   "outputs": [
    {
     "name": "stdout",
     "output_type": "stream",
     "text": [
      "x_train shape : (5233, 2)\n",
      "x_test shape  : (1309, 2)\n",
      "y_train shape : (5233,)\n",
      "y_test shape  : (1309,)\n",
      "\n",
      "\n",
      "Target counts in Training after Under Sampling set:\n",
      "0:  2617\n",
      "1:  2616\n"
     ]
    },
    {
     "data": {
      "image/png": "[encoded data removed]",
      "text/plain": [
       "<Figure size 432x288 with 1 Axes>"
      ]
     },
     "metadata": {},
     "output_type": "display_data"
    },
    {
     "name": "stdout",
     "output_type": "stream",
     "text": [
      "Target counts in Test after Under Sampling set:\n",
      "0:  654\n",
      "1:  655\n"
     ]
    },
    {
     "data": {
      "image/png": "[encoded data removed]",
      "text/plain": [
       "<Figure size 432x288 with 1 Axes>"
      ]
     },
     "metadata": {},
     "output_type": "display_data"
    }
   ],
   "source": [
    "# Perform a train test split of the undersampled dataset. 80%-20% split and stratified on target variable \n",
    "\n",
    "x_train_us, x_test_us, y_train_us, y_test_us = split_data(x_resampled, y_resampled)\n",
    "\n",
    "print('\\n')\n",
    "target_distribution(y_train_us, 'Training after Under Sampling')\n",
    "target_distribution(y_test_us, 'Test after Under Sampling')"
   ]
  },
  {
   "cell_type": "code",
   "execution_count": 68,
   "metadata": {},
   "outputs": [],
   "source": [
    "# preprocess the sampled data\n",
    "\n",
    "array = x_train_us.copy()\n",
    "x_train_us_pp = preprocess(array) \n",
    "\n",
    "array = x_test_us.copy()\n",
    "x_test_us_pp = preprocess(array) "
   ]
  },
  {
   "cell_type": "code",
   "execution_count": 69,
   "metadata": {},
   "outputs": [
    {
     "name": "stdout",
     "output_type": "stream",
     "text": [
      "['body bagging aubrey really body bagging meek'\n",
      " 'rescuer unexplainable desire watch rescuer childhooddefined'\n",
      " 'hail heyitsepark heavy rain hail'\n",
      " 'blood wasnt big stab deep stab there like blood everwhe'\n",
      " 'injured top story google dead dozen injured gaza blast near house leveled summer war\\x89û http co p dz'\n",
      " 'destroy beyonce nicolekidman oprah money grubbing kike need get cluei money still destroy telekinesis watch'\n",
      " 'collided redcoatjackpot typical bullet collided none managed reach target curse'\n",
      " 'weapon kick hendrixonfire blackcats big noob conquest mixed map weapon violated k dr limit server max'\n",
      " 'explosion pyrotechnic artwork cai guo qiang explodes blossom step philadelphia http co orovzfsku'\n",
      " 'bombed trying pas lax family end run ball get bombed head'] \n",
      "\n",
      "['sunk benaffleck respected liked talent guess stil human sunk low mr affleck'\n",
      " 'sunk football back weekend sunk'\n",
      " 'snowstorm lakeeffect snowstorm twill denim jacket proceeds item design go\\x89û http co txtpx umqh'\n",
      " 'hailstorm sadly tent fly survive hailstorm tear roof water tent http co zct cchoj'\n",
      " 'blizzard stats http co u vavyrgv'\n",
      " 'fire setting thing fire always option'\n",
      " 'snowstorm photo mothernaturenetwork thundersnow hearing thunder snowstorm extremely uncommon http co eydapaupvg'\n",
      " 'attack volleyball attack ii volleyball training machine set simulation http co dcdecfv http co dwbc duvdk'\n",
      " 'wreck drink much losing touch build ship wreck'\n",
      " 'demolition general news \\x89û¢åê demolition house waterway begin achimota mile via liveonline full story http co io kuug uq']\n"
     ]
    }
   ],
   "source": [
    "# display the top 10 records text column, from both train and test \n",
    "\n",
    "print(x_train_us_pp[:10, 1],'\\n')\n",
    "print(x_test_us_pp[:10, 1])"
   ]
  },
  {
   "cell_type": "markdown",
   "metadata": {},
   "source": [
    "Function for tuning hyper parameters on various models using randomized search cross validation:\n",
    " - Build a Pipeline of estimators / transformers\n",
    " - Perform a Randomized Search 5 fold cross validation on the training dataset\n",
    " - Optimize on f1 score\n",
    " - Predict on the test dataset and pass the actual and predicted values for metrics reporting"
   ]
  },
  {
   "cell_type": "code",
   "execution_count": 95,
   "metadata": {},
   "outputs": [],
   "source": [
    "def model_optimization(steps, parameters, pred_prob = True):\n",
    "    \n",
    "    # Create the pipeline \n",
    "    pipeline = Pipeline(steps)\n",
    "\n",
    "    # Create the RandomizedSearchCV object: model_cv\n",
    "    model_cv = RandomizedSearchCV(estimator = pipeline, param_distributions = parameters, \n",
    "                                  cv = 5, random_state = 337, scoring = 'accuracy')\n",
    "\n",
    "    # Fit to the training set\n",
    "    model_cv.fit(x_train_us_pp[:,1], y_train_us)\n",
    "\n",
    "    # Compute and print the metrics\n",
    "    print(\"Tuned best parameters: {}\".format(model_cv.best_params_))\n",
    "\n",
    "    # Predit on the test set using best parameters \n",
    "    y_pred = model_cv.predict(x_test_us_pp[:,1])\n",
    "    \n",
    "    if pred_prob:\n",
    "        y_pred_prob = model_cv.predict_proba(x_test_us_pp[:,1])[:,1]\n",
    "    else: \n",
    "        y_pred_prob = 0\n",
    "        \n",
    "    # Generate the metrics to evaluate model performance\n",
    "    report_metrics(y_test_us, y_pred, y_pred_prob, pred_prob)\n",
    "    \n",
    "    return(model_cv)"
   ]
  },
  {
   "cell_type": "markdown",
   "metadata": {},
   "source": [
    "Observations on hyper parameter tuning for Multinomial Naive Bayes: \n",
    " - Within count vectorizer, its chosen upto Trigrams (combination of upto 3-words) \n",
    " - Smoothing parameter alpha = 0.8 is chosen with MNB model\n",
    " - Although target distribution is of equal ratio, algorithm chose [0.94, 0.06] as priors. \n",
    "   Default is None (i.e use priors as per data)\n",
    " - With respect to baseline:\n",
    "   - Accuracy has dropped from baseline of 94% to 87% \n",
    "   - Significantly improved:\n",
    "     - f1 score (75% to 87%) \n",
    "     - AUC (52% to 92%) "
   ]
  },
  {
   "cell_type": "code",
   "execution_count": 104,
   "metadata": {},
   "outputs": [
    {
     "name": "stdout",
     "output_type": "stream",
     "text": [
      "Tuned best parameters: {'vectorizer__ngram_range': (1, 1), 'model_mnb__alpha': 88}\n",
      "Accuracy Score: 0.6990068754774638\n",
      "\n",
      "Confusion Matrix:\n",
      " [[333 321]\n",
      " [ 73 582]]\n",
      "\n",
      "Classification Report:\n",
      "                precision    recall  f1-score   support\n",
      "\n",
      "     Sincere       0.82      0.51      0.63       654\n",
      "   Insincere       0.64      0.89      0.75       655\n",
      "\n",
      "    accuracy                           0.70      1309\n",
      "   macro avg       0.73      0.70      0.69      1309\n",
      "weighted avg       0.73      0.70      0.69      1309\n",
      "\n"
     ]
    },
    {
     "data": {
      "image/png": "[encoded data removed]",
      "text/plain": [
       "<Figure size 432x288 with 1 Axes>"
      ]
     },
     "metadata": {
      "needs_background": "light"
     },
     "output_type": "display_data"
    },
    {
     "name": "stdout",
     "output_type": "stream",
     "text": [
      "Train Acc:  0.7305560863749283\n",
      "Test Acc:  0.6990068754774638\n"
     ]
    }
   ],
   "source": [
    "from sklearn.pipeline import Pipeline\n",
    "from sklearn.model_selection import RandomizedSearchCV\n",
    "\n",
    "# Specify the pipeline steps\n",
    "steps = [('vectorizer', CountVectorizer()), ('model_mnb', MultinomialNB())]\n",
    "\n",
    "# Specify the hyperparameter space\n",
    "parameters = {'vectorizer__ngram_range':[(1,1)], \n",
    "            'model_mnb__alpha': [88]}\n",
    "\n",
    "model_mnb_hyper = model_optimization(steps, parameters)\n",
    "\n",
    "train_acc = model_mnb_hyper.score(x_train_us_pp[:,1], y_train_us)\n",
    "test_acc = model_mnb_hyper.score(x_test_us_pp[:,1], y_test_us)\n",
    "print('Train Acc: ', train_acc)\n",
    "print('Test Acc: ', test_acc)"
   ]
  },
  {
   "cell_type": "code",
   "execution_count": 72,
   "metadata": {},
   "outputs": [
    {
     "name": "stdout",
     "output_type": "stream",
     "text": [
      "Hyper Parameters tuning results from Randomized Search Cross Validation for Multinomial NB Classifier: \n"
     ]
    },
    {
     "data": {
      "text/plain": [
       "{'mean_fit_time': array([0.26007118, 0.24557018, 0.09169931, 0.3894691 , 0.41670842,\n",
       "        0.43203206, 0.48758707, 0.1003346 , 0.25700445, 0.39583549]),\n",
       " 'std_fit_time': array([0.01003771, 0.01008342, 0.00802414, 0.00920193, 0.04769521,\n",
       "        0.02840789, 0.08197846, 0.00835892, 0.02208474, 0.04046447]),\n",
       " 'mean_score_time': array([0.0318593 , 0.02978663, 0.01483364, 0.0483902 , 0.04418368,\n",
       "        0.04909658, 0.05438471, 0.01954522, 0.03195014, 0.04519463]),\n",
       " 'std_score_time': array([0.0065013 , 0.00380082, 0.00412493, 0.00616178, 0.00249546,\n",
       "        0.01070753, 0.00755994, 0.00232623, 0.00823066, 0.00406405]),\n",
       " 'param_vectorizer__ngram_range': masked_array(data=[(1, 2), (1, 2), (1, 1), (1, 3), (1, 3), (1, 3), (1, 3),\n",
       "                    (1, 1), (1, 2), (1, 3)],\n",
       "              mask=[False, False, False, False, False, False, False, False,\n",
       "                    False, False],\n",
       "        fill_value='?',\n",
       "             dtype=object),\n",
       " 'param_model_mnb__class_prior': masked_array(data=[None, list([0.5, 0.5]), None, list([0.06, 0.94]),\n",
       "                    list([0.94, 0.06]), list([0.94, 0.06]), None,\n",
       "                    list([0.06, 0.94]), list([0.06, 0.94]),\n",
       "                    list([0.94, 0.06])],\n",
       "              mask=[False, False, False, False, False, False, False, False,\n",
       "                    False, False],\n",
       "        fill_value='?',\n",
       "             dtype=object),\n",
       " 'param_model_mnb__alpha': masked_array(data=[0.1, 0.1, 0.9, 0.9, 0.2, 0.6, 0.7000000000000001,\n",
       "                    0.30000000000000004, 0.7000000000000001, 0.8],\n",
       "              mask=[False, False, False, False, False, False, False, False,\n",
       "                    False, False],\n",
       "        fill_value='?',\n",
       "             dtype=object),\n",
       " 'params': [{'vectorizer__ngram_range': (1, 2),\n",
       "   'model_mnb__class_prior': None,\n",
       "   'model_mnb__alpha': 0.1},\n",
       "  {'vectorizer__ngram_range': (1, 2),\n",
       "   'model_mnb__class_prior': [0.5, 0.5],\n",
       "   'model_mnb__alpha': 0.1},\n",
       "  {'vectorizer__ngram_range': (1, 1),\n",
       "   'model_mnb__class_prior': None,\n",
       "   'model_mnb__alpha': 0.9},\n",
       "  {'vectorizer__ngram_range': (1, 3),\n",
       "   'model_mnb__class_prior': [0.06, 0.94],\n",
       "   'model_mnb__alpha': 0.9},\n",
       "  {'vectorizer__ngram_range': (1, 3),\n",
       "   'model_mnb__class_prior': [0.94, 0.06],\n",
       "   'model_mnb__alpha': 0.2},\n",
       "  {'vectorizer__ngram_range': (1, 3),\n",
       "   'model_mnb__class_prior': [0.94, 0.06],\n",
       "   'model_mnb__alpha': 0.6},\n",
       "  {'vectorizer__ngram_range': (1, 3),\n",
       "   'model_mnb__class_prior': None,\n",
       "   'model_mnb__alpha': 0.7000000000000001},\n",
       "  {'vectorizer__ngram_range': (1, 1),\n",
       "   'model_mnb__class_prior': [0.06, 0.94],\n",
       "   'model_mnb__alpha': 0.30000000000000004},\n",
       "  {'vectorizer__ngram_range': (1, 2),\n",
       "   'model_mnb__class_prior': [0.06, 0.94],\n",
       "   'model_mnb__alpha': 0.7000000000000001},\n",
       "  {'vectorizer__ngram_range': (1, 3),\n",
       "   'model_mnb__class_prior': [0.94, 0.06],\n",
       "   'model_mnb__alpha': 0.8}],\n",
       " 'split0_test_score': array([0.77559055, 0.77559055, 0.78592375, 0.75844595, 0.75161987,\n",
       "        0.75108225, 0.77382098, 0.77624785, 0.76714649, 0.7505423 ]),\n",
       " 'split1_test_score': array([0.76789168, 0.76789168, 0.78053435, 0.75284553, 0.76359833,\n",
       "        0.76842105, 0.78725398, 0.75630252, 0.75577558, 0.76582278]),\n",
       " 'split2_test_score': array([0.75119161, 0.75119161, 0.76199616, 0.74937965, 0.74375   ,\n",
       "        0.74686192, 0.76109537, 0.75212224, 0.75311721, 0.74369748]),\n",
       " 'split3_test_score': array([0.75771749, 0.75771749, 0.77892756, 0.75203915, 0.74923234,\n",
       "        0.75954592, 0.76568266, 0.7514356 , 0.74590164, 0.75804777]),\n",
       " 'split4_test_score': array([0.73917228, 0.73917228, 0.75142315, 0.74153592, 0.72476089,\n",
       "        0.72258065, 0.75164011, 0.74957983, 0.74503311, 0.7227616 ]),\n",
       " 'mean_test_score': array([0.75831272, 0.75831272, 0.771761  , 0.75084924, 0.74659229,\n",
       "        0.74969836, 0.76789862, 0.75713761, 0.7533948 , 0.74817439]),\n",
       " 'std_test_score': array([0.01270985, 0.01270985, 0.01294523, 0.00551378, 0.01269756,\n",
       "        0.01544568, 0.01204357, 0.00980495, 0.00801148, 0.01469972]),\n",
       " 'rank_test_score': array([ 3,  3,  1,  7, 10,  8,  2,  5,  6,  9])}"
      ]
     },
     "execution_count": 72,
     "metadata": {},
     "output_type": "execute_result"
    }
   ],
   "source": [
    "print('Hyper Parameters tuning results from Randomized Search Cross Validation for Multinomial NB Classifier: ')\n",
    "model_mnb_hyper.cv_results_"
   ]
  },
  {
   "cell_type": "markdown",
   "metadata": {},
   "source": [
    "Observations on hyper parameter tuning for Logistic Regression: \n",
    " - Within count vectorizer, its chosen upto Trigrams (combination of upto 3-words) \n",
    " - Regularization parameter C = 3.72 is chosen\n",
    "   C is inverse of regularization strength and smaller values indicate stronger regularization\n",
    " - Class weights of None is chosen - both classes are weighed equally \n",
    " - With respect to baseline: \n",
    "   - Accuracy has dropped from baseline of 95% to 88% -> 1% better than MultinomialNB\n",
    "   - Significantly improved: \n",
    "     - f1 score (74% to 88%) -> 1% better than MultinomialNB\n",
    "     - AUC (59% to 94%) -> 2% better than MultinomialNB"
   ]
  },
  {
   "cell_type": "code",
   "execution_count": 73,
   "metadata": {},
   "outputs": [
    {
     "name": "stdout",
     "output_type": "stream",
     "text": [
      "Tuned best parameters: {'vectorizer__ngram_range': (1, 3), 'model_lr__class_weight': {0: 0.06, 1: 0.94}, 'model_lr__C': 163789.3706954068}\n",
      "Accuracy Score: 0.7838044308632544\n",
      "\n",
      "Confusion Matrix:\n",
      " [[517 137]\n",
      " [146 509]]\n",
      "\n",
      "Classification Report:\n",
      "                precision    recall  f1-score   support\n",
      "\n",
      "     Sincere       0.78      0.79      0.79       654\n",
      "   Insincere       0.79      0.78      0.78       655\n",
      "\n",
      "    accuracy                           0.78      1309\n",
      "   macro avg       0.78      0.78      0.78      1309\n",
      "weighted avg       0.78      0.78      0.78      1309\n",
      "\n"
     ]
    },
    {
     "data": {
      "image/png": "[encoded data removed]",
      "text/plain": [
       "<Figure size 432x288 with 1 Axes>"
      ]
     },
     "metadata": {
      "needs_background": "light"
     },
     "output_type": "display_data"
    }
   ],
   "source": [
    "# Specify the pipeline steps\n",
    "steps = [('vectorizer', CountVectorizer()), ('model_lr', LogisticRegression(random_state = 337, max_iter = 10000))]\n",
    "\n",
    "# Specify the hyperparameter space\n",
    "parameters = {'vectorizer__ngram_range': [(1,1),(1,2),(1,3)],               \n",
    "              'model_lr__C': np.logspace(-5, 8, 15),\n",
    "              'model_lr__class_weight': [None, 'balanced', {0: 0.06, 1: .94}, {0: 1, 1: 100}, {0: 100, 1: 1}]}\n",
    "             \n",
    "model_lr_hyper = model_optimization(steps, parameters)"
   ]
  },
  {
   "cell_type": "code",
   "execution_count": 27,
   "metadata": {},
   "outputs": [
    {
     "name": "stdout",
     "output_type": "stream",
     "text": [
      "Hyper Parameters tuning results from Randomized Search Cross Validation for Logistic Regression: \n"
     ]
    },
    {
     "data": {
      "text/plain": [
       "{'mean_fit_time': array([  1.63486738,  12.55974617,   2.54372549,  16.31912727,\n",
       "          9.97315884,   7.15128875, 187.98808522,   6.09645281,\n",
       "         49.63937569, 301.96243672]),\n",
       " 'std_fit_time': array([ 0.12485281,  0.27215301,  0.21441588,  0.37809277,  0.35674469,\n",
       "         0.20342952, 11.49384432,  0.23475121,  1.92481713, 17.30825546]),\n",
       " 'mean_score_time': array([0.33811483, 0.7743485 , 0.32793484, 0.56430988, 0.58984041,\n",
       "        0.56213465, 0.83617706, 0.57347279, 0.85303636, 0.78191037]),\n",
       " 'std_score_time': array([0.04456231, 0.10655381, 0.02446305, 0.01289509, 0.05568503,\n",
       "        0.00318077, 0.09323368, 0.01299423, 0.14771811, 0.05761467]),\n",
       " 'param_vectorizer__ngram_range': masked_array(data=[(1, 1), (1, 3), (1, 1), (1, 2), (1, 2), (1, 2), (1, 3),\n",
       "                    (1, 2), (1, 3), (1, 3)],\n",
       "              mask=[False, False, False, False, False, False, False, False,\n",
       "                    False, False],\n",
       "        fill_value='?',\n",
       "             dtype=object),\n",
       " 'param_model_lr__class_weight': masked_array(data=[None, {0: 100, 1: 1}, {0: 100, 1: 1}, {0: 100, 1: 1},\n",
       "                    None, {0: 100, 1: 1}, {0: 100, 1: 1}, 'balanced', None,\n",
       "                    {0: 0.06, 1: 0.94}],\n",
       "              mask=[False, False, False, False, False, False, False, False,\n",
       "                    False, False],\n",
       "        fill_value='?',\n",
       "             dtype=object),\n",
       " 'param_model_lr__C': masked_array(data=[8.483428982440725e-05, 0.0007196856730011522,\n",
       "                    0.006105402296585327, 0.05179474679231213,\n",
       "                    0.05179474679231213, 0.0007196856730011522,\n",
       "                    2275.845926074791, 0.0007196856730011522,\n",
       "                    3.727593720314938, 163789.3706954068],\n",
       "              mask=[False, False, False, False, False, False, False, False,\n",
       "                    False, False],\n",
       "        fill_value='?',\n",
       "             dtype=object),\n",
       " 'params': [{'vectorizer__ngram_range': (1, 1),\n",
       "   'model_lr__class_weight': None,\n",
       "   'model_lr__C': 8.483428982440725e-05},\n",
       "  {'vectorizer__ngram_range': (1, 3),\n",
       "   'model_lr__class_weight': {0: 100, 1: 1},\n",
       "   'model_lr__C': 0.0007196856730011522},\n",
       "  {'vectorizer__ngram_range': (1, 1),\n",
       "   'model_lr__class_weight': {0: 100, 1: 1},\n",
       "   'model_lr__C': 0.006105402296585327},\n",
       "  {'vectorizer__ngram_range': (1, 2),\n",
       "   'model_lr__class_weight': {0: 100, 1: 1},\n",
       "   'model_lr__C': 0.05179474679231213},\n",
       "  {'vectorizer__ngram_range': (1, 2),\n",
       "   'model_lr__class_weight': None,\n",
       "   'model_lr__C': 0.05179474679231213},\n",
       "  {'vectorizer__ngram_range': (1, 2),\n",
       "   'model_lr__class_weight': {0: 100, 1: 1},\n",
       "   'model_lr__C': 0.0007196856730011522},\n",
       "  {'vectorizer__ngram_range': (1, 3),\n",
       "   'model_lr__class_weight': {0: 100, 1: 1},\n",
       "   'model_lr__C': 2275.845926074791},\n",
       "  {'vectorizer__ngram_range': (1, 2),\n",
       "   'model_lr__class_weight': 'balanced',\n",
       "   'model_lr__C': 0.0007196856730011522},\n",
       "  {'vectorizer__ngram_range': (1, 3),\n",
       "   'model_lr__class_weight': None,\n",
       "   'model_lr__C': 3.727593720314938},\n",
       "  {'vectorizer__ngram_range': (1, 3),\n",
       "   'model_lr__class_weight': {0: 0.06, 1: 0.94},\n",
       "   'model_lr__C': 163789.3706954068}],\n",
       " 'split0_test_score': array([0.70267792, 0.01914828, 0.11602009, 0.48096705, 0.8596309 ,\n",
       "        0.01808568, 0.83404361, 0.75315819, 0.87670586, 0.83053621]),\n",
       " 'split1_test_score': array([0.7104988 , 0.02232245, 0.12252592, 0.47720117, 0.85722305,\n",
       "        0.02141655, 0.83448418, 0.75446701, 0.87698256, 0.83346668]),\n",
       " 'split2_test_score': array([0.71056718, 0.01808706, 0.1221795 , 0.4828027 , 0.86258536,\n",
       "        0.01641482, 0.84017207, 0.75787822, 0.88074622, 0.83511125]),\n",
       " 'split3_test_score': array([0.71152191, 0.02323626, 0.1286499 , 0.48517832, 0.85651689,\n",
       "        0.02096725, 0.83636065, 0.7567403 , 0.87547051, 0.83382408]),\n",
       " 'split4_test_score': array([0.70492775, 0.02050968, 0.12566961, 0.47775966, 0.85406056,\n",
       "        0.0194487 , 0.82927641, 0.74903813, 0.87378258, 0.82937612]),\n",
       " 'mean_test_score': array([0.70803871, 0.02066075, 0.123009  , 0.48078178, 0.85800335,\n",
       "        0.0192666 , 0.83486738, 0.75425637, 0.87673755, 0.83246287]),\n",
       " 'std_test_score': array([0.00354948, 0.00191461, 0.00421105, 0.00301337, 0.00289854,\n",
       "        0.00184797, 0.00353423, 0.00309089, 0.00230077, 0.00215009]),\n",
       " 'rank_test_score': array([ 6,  9,  8,  7,  2, 10,  3,  5,  1,  4])}"
      ]
     },
     "execution_count": 27,
     "metadata": {},
     "output_type": "execute_result"
    }
   ],
   "source": [
    "print('Hyper Parameters tuning results from Randomized Search Cross Validation for Logistic Regression: ')\n",
    "model_lr_hyper.cv_results_"
   ]
  },
  {
   "cell_type": "markdown",
   "metadata": {},
   "source": [
    "Observations on hyper parameter tuning for Linear SVC: \n",
    " - Within count vectorizer, its chosen upto Bigrams (combination of upto 2-words) \n",
    " - Regularization parameter C = 0.05 is chosen\n",
    "   C is inverse of regularization strength and smaller values indicate stronger regularization\n",
    " - Class weights of None is chosen - both classes are weighed equally \n",
    " - With respect to baseline: \n",
    "   - Accuracy has dropped from baseline of 95% to 88% -> 1% better than MultinomialNB and same as LR\n",
    "   - Significantly improved: \n",
    "     - f1 score (73% to 88%) -> 1% better than MultinomialNB and same as LR\n",
    "     - AUC - Not Applicable as predict_proba is not present for this model"
   ]
  },
  {
   "cell_type": "code",
   "execution_count": 28,
   "metadata": {},
   "outputs": [
    {
     "name": "stdout",
     "output_type": "stream",
     "text": [
      "Tuned best parameters: {'vectorizer__ngram_range': (1, 2), 'model_lsvc__class_weight': None, 'model_lsvc__C': 0.05179474679231213}\n",
      "Accuracy Score: 0.8828115332260859\n",
      "\n",
      "Confusion Matrix:\n",
      " [[14617  1545]\n",
      " [ 2243 13919]]\n",
      "\n",
      "Classification Report:\n",
      "                precision    recall  f1-score   support\n",
      "\n",
      "     Sincere       0.87      0.90      0.89     16162\n",
      "   Insincere       0.90      0.86      0.88     16162\n",
      "\n",
      "    accuracy                           0.88     32324\n",
      "   macro avg       0.88      0.88      0.88     32324\n",
      "weighted avg       0.88      0.88      0.88     32324\n",
      "\n"
     ]
    }
   ],
   "source": [
    "# Specify the pipeline steps\n",
    "steps = [('vectorizer', CountVectorizer()), ('model_lsvc', LinearSVC(max_iter = 20000))]\n",
    "\n",
    "# Specify the hyperparameter space\n",
    "parameters = {'vectorizer__ngram_range': [(1,1),(1,2),(1,3)],               \n",
    "              'model_lsvc__C': np.logspace(-5, 8, 15),\n",
    "              'model_lsvc__class_weight': [None, 'balanced', {0: 0.06, 1: .94}, {0: 1, 1: 100}, {0: 100, 1: 1}]}\n",
    "             \n",
    "model_lsvc_hyper = model_optimization(steps, parameters, pred_prob = False)"
   ]
  },
  {
   "cell_type": "code",
   "execution_count": 29,
   "metadata": {},
   "outputs": [
    {
     "name": "stdout",
     "output_type": "stream",
     "text": [
      "Hyper Parameters tuning results from Randomized Search Cross Validation for Linear SVC: \n"
     ]
    },
    {
     "data": {
      "text/plain": [
       "{'mean_fit_time': array([  1.89693322,   8.78271971,   4.5472331 ,  13.78246884,\n",
       "          6.63219557,   5.63478055, 544.50005937,   5.68686838,\n",
       "         40.12712946, 663.07982421]),\n",
       " 'std_fit_time': array([ 0.19491445,  0.42357294,  0.26322759,  1.84531521,  0.51931232,\n",
       "         0.3719378 ,  9.51706467,  0.14504012,  6.36320343, 12.28859372]),\n",
       " 'mean_score_time': array([0.31177793, 0.75201612, 0.35626531, 0.64388919, 0.63272409,\n",
       "        0.6219574 , 0.76338334, 0.71309376, 0.83444495, 0.93348188]),\n",
       " 'std_score_time': array([0.0075523 , 0.06342928, 0.0956736 , 0.13818627, 0.14900261,\n",
       "        0.09673854, 0.04110142, 0.13514035, 0.02117514, 0.19805874]),\n",
       " 'param_vectorizer__ngram_range': masked_array(data=[(1, 1), (1, 3), (1, 1), (1, 2), (1, 2), (1, 2), (1, 3),\n",
       "                    (1, 2), (1, 3), (1, 3)],\n",
       "              mask=[False, False, False, False, False, False, False, False,\n",
       "                    False, False],\n",
       "        fill_value='?',\n",
       "             dtype=object),\n",
       " 'param_model_lsvc__class_weight': masked_array(data=[None, {0: 100, 1: 1}, {0: 100, 1: 1}, {0: 100, 1: 1},\n",
       "                    None, {0: 100, 1: 1}, {0: 100, 1: 1}, 'balanced', None,\n",
       "                    {0: 0.06, 1: 0.94}],\n",
       "              mask=[False, False, False, False, False, False, False, False,\n",
       "                    False, False],\n",
       "        fill_value='?',\n",
       "             dtype=object),\n",
       " 'param_model_lsvc__C': masked_array(data=[8.483428982440725e-05, 0.0007196856730011522,\n",
       "                    0.006105402296585327, 0.05179474679231213,\n",
       "                    0.05179474679231213, 0.0007196856730011522,\n",
       "                    2275.845926074791, 0.0007196856730011522,\n",
       "                    3.727593720314938, 163789.3706954068],\n",
       "              mask=[False, False, False, False, False, False, False, False,\n",
       "                    False, False],\n",
       "        fill_value='?',\n",
       "             dtype=object),\n",
       " 'params': [{'vectorizer__ngram_range': (1, 1),\n",
       "   'model_lsvc__class_weight': None,\n",
       "   'model_lsvc__C': 8.483428982440725e-05},\n",
       "  {'vectorizer__ngram_range': (1, 3),\n",
       "   'model_lsvc__class_weight': {0: 100, 1: 1},\n",
       "   'model_lsvc__C': 0.0007196856730011522},\n",
       "  {'vectorizer__ngram_range': (1, 1),\n",
       "   'model_lsvc__class_weight': {0: 100, 1: 1},\n",
       "   'model_lsvc__C': 0.006105402296585327},\n",
       "  {'vectorizer__ngram_range': (1, 2),\n",
       "   'model_lsvc__class_weight': {0: 100, 1: 1},\n",
       "   'model_lsvc__C': 0.05179474679231213},\n",
       "  {'vectorizer__ngram_range': (1, 2),\n",
       "   'model_lsvc__class_weight': None,\n",
       "   'model_lsvc__C': 0.05179474679231213},\n",
       "  {'vectorizer__ngram_range': (1, 2),\n",
       "   'model_lsvc__class_weight': {0: 100, 1: 1},\n",
       "   'model_lsvc__C': 0.0007196856730011522},\n",
       "  {'vectorizer__ngram_range': (1, 3),\n",
       "   'model_lsvc__class_weight': {0: 100, 1: 1},\n",
       "   'model_lsvc__C': 2275.845926074791},\n",
       "  {'vectorizer__ngram_range': (1, 2),\n",
       "   'model_lsvc__class_weight': 'balanced',\n",
       "   'model_lsvc__C': 0.0007196856730011522},\n",
       "  {'vectorizer__ngram_range': (1, 3),\n",
       "   'model_lsvc__class_weight': None,\n",
       "   'model_lsvc__C': 3.727593720314938},\n",
       "  {'vectorizer__ngram_range': (1, 3),\n",
       "   'model_lsvc__class_weight': {0: 0.06, 1: 0.94},\n",
       "   'model_lsvc__C': 163789.3706954068}],\n",
       " 'split0_test_score': array([0.75789199, 0.14753864, 0.22139867, 0.8113257 , 0.87564665,\n",
       "        0.09694028, 0.8441665 , 0.81689907, 0.8680271 , 0.81307221]),\n",
       " 'split1_test_score': array([0.75830986, 0.15608089, 0.22676885, 0.81228132, 0.87747255,\n",
       "        0.09828118, 0.83955063, 0.81478095, 0.86987382, 0.82847463]),\n",
       " 'split2_test_score': array([0.76181802, 0.15174875, 0.22701149, 0.81367327, 0.88131981,\n",
       "        0.09555359, 0.84848723, 0.8162048 , 0.87104412, 0.82182166]),\n",
       " 'split3_test_score': array([0.76193356, 0.15543525, 0.22287712, 0.80927835, 0.87461581,\n",
       "        0.09985316, 0.84104472, 0.81644288, 0.86934023, 0.82366343]),\n",
       " 'split4_test_score': array([0.75306495, 0.15237552, 0.22693096, 0.80782871, 0.87347942,\n",
       "        0.09732432, 0.83789391, 0.81180382, 0.86658497, 0.81348225]),\n",
       " 'mean_test_score': array([0.75860368, 0.15263581, 0.22499742, 0.81087747, 0.87650685,\n",
       "        0.0975905 , 0.8422286 , 0.8152263 , 0.86897405, 0.82010284]),\n",
       " 'std_test_score': array([0.00324624, 0.00305094, 0.00238243, 0.00208999, 0.00274148,\n",
       "        0.00143103, 0.00374936, 0.00185188, 0.00153839, 0.00598299]),\n",
       " 'rank_test_score': array([ 7,  9,  8,  6,  1, 10,  3,  5,  2,  4])}"
      ]
     },
     "execution_count": 29,
     "metadata": {},
     "output_type": "execute_result"
    }
   ],
   "source": [
    "print('Hyper Parameters tuning results from Randomized Search Cross Validation for Linear SVC: ')\n",
    "model_lsvc_hyper.cv_results_"
   ]
  },
  {
   "cell_type": "markdown",
   "metadata": {},
   "source": [
    "Use dropped records by under sampler for scoring purpose\n",
    "\n",
    "__Note:__ only those records with Target value '0' (i.e Sincere) were dropped by under sampler "
   ]
  },
  {
   "cell_type": "code",
   "execution_count": 76,
   "metadata": {},
   "outputs": [
    {
     "data": {
      "text/plain": [
       "(1144502, 3)"
      ]
     },
     "execution_count": 76,
     "metadata": {},
     "output_type": "execute_result"
    }
   ],
   "source": [
    "resampled_array = np.hstack([x_resampled, y_resampled.reshape(-1,1)])\n",
    "resampled_df = pd.DataFrame(resampled_array, columns = dataset_df.columns)\n",
    "\n",
    "temp_df = pd.merge(dataset_df, resampled_df, how = 'left', indicator = 'true')\n",
    "dropped_df = temp_df.loc[temp_df['true'] == 'left_only', temp_df.columns[:-1]]\n",
    "\n",
    "dropped_df.shape"
   ]
  },
  {
   "cell_type": "markdown",
   "metadata": {},
   "source": [
    "Score the dropped records from under sampling, to evaluate the best fit model's performance\n",
    " - We chose Logistic Regression as the best fit model based on f1, AUC and accuracy\n",
    "\n",
    "__Observations:__ \n",
    " - As there are no records with Target variable as '1' (Insincere):\n",
    "   - TP and FN will be zeroes, so precision and recall will be zeroes as well. Thus, AUC will not be available\n",
    " - The model accuracy is in line with previous test run \n",
    " - Recall has improve to 95% from 88%, but thats due to the fact that we had no True Positive's in the dataset \n",
    "\n",
    "__Conclusion:__ It is safe to assume that Logisitic Regression is the best performing model on our data and built model is generalized "
   ]
  },
  {
   "cell_type": "code",
   "execution_count": 78,
   "metadata": {},
   "outputs": [
    {
     "name": "stdout",
     "output_type": "stream",
     "text": [
      "Accuracy Score: 0.8979023190872537\n",
      "\n",
      "Confusion Matrix:\n",
      " [[1027651  116851]\n",
      " [      0       0]]\n",
      "\n",
      "Classification Report:\n",
      "                precision    recall  f1-score   support\n",
      "\n",
      "     Sincere       1.00      0.90      0.95   1144502\n",
      "   Insincere       0.00      0.00      0.00         0\n",
      "\n",
      "    accuracy                           0.90   1144502\n",
      "   macro avg       0.50      0.45      0.47   1144502\n",
      "weighted avg       1.00      0.90      0.95   1144502\n",
      "\n"
     ]
    },
    {
     "data": {
      "image/png": "[encoded data removed]",
      "text/plain": [
       "<Figure size 432x288 with 1 Axes>"
      ]
     },
     "metadata": {
      "needs_background": "light"
     },
     "output_type": "display_data"
    }
   ],
   "source": [
    "# Set up x and y for scoring dataset\n",
    "x_score = dropped_df.drop('target', axis=1).values\n",
    "\n",
    "# target variable is currently of type Object, converting to int64 \n",
    "# This is being done so that accuracy_score works fine when it compares y_pred (which is int64) with y_score \n",
    "y_score = dropped_df['target'].astype('int64').values \n",
    "\n",
    "# Preprocess the x_score prior to passing it to model \n",
    "array = x_score\n",
    "x_score_pp = preprocess(array)\n",
    "\n",
    "# Use the best fit model and predict on the dropped dataset to obtain predicted and probabilities for target variable\n",
    "y_pred = model_lr_hyper.predict(x_score_pp[:,1])\n",
    "y_pred_prob = model_lr_hyper.predict_proba(x_score_pp[:,1])[:,1]\n",
    "\n",
    "# Generate the metrics to evaluate model performance for generalization \n",
    "report_metrics(y_score, y_pred, y_pred_prob)"
   ]
  },
  {
   "cell_type": "code",
   "execution_count": 82,
   "metadata": {},
   "outputs": [
    {
     "data": {
      "text/plain": [
       "array([  1.,  12.,  23.,  34.,  45.,  56.,  67.,  78.,  89., 100.])"
      ]
     },
     "execution_count": 82,
     "metadata": {},
     "output_type": "execute_result"
    }
   ],
   "source": [
    "np.linspace(1,100,10)"
   ]
  },
  {
   "cell_type": "code",
   "execution_count": 78,
   "metadata": {},
   "outputs": [
    {
     "data": {
      "text/plain": [
       "array([0.001, 0.012, 0.023, 0.034, 0.045, 0.056, 0.067, 0.078, 0.089,\n",
       "       0.1  ])"
      ]
     },
     "execution_count": 78,
     "metadata": {},
     "output_type": "execute_result"
    }
   ],
   "source": []
  },
  {
   "cell_type": "code",
   "execution_count": null,
   "metadata": {},
   "outputs": [],
   "source": []
  }
 ],
 "metadata": {
  "kernelspec": {
   "display_name": "Python 3",
   "language": "python",
   "name": "python3"
  },
  "language_info": {
   "codemirror_mode": {
    "name": "ipython",
    "version": 3
   },
   "file_extension": ".py",
   "mimetype": "text/x-python",
   "name": "python",
   "nbconvert_exporter": "python",
   "pygments_lexer": "ipython3",
   "version": "3.7.4"
  }
 },
 "nbformat": 4,
 "nbformat_minor": 2
}
