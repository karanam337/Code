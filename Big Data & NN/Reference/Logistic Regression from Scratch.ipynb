{
 "cells": [
  {
   "cell_type": "markdown",
   "metadata": {},
   "source": [
    "In this notebook, we will write our own Logistic Regression model using gradient descent. Refer to the computational graph that we discussed in class. We will create functions to:\n",
    "1. Compute probability given X and the weights. Remember that we will have as many weights as there are X values (i.e., features). This is nothing but the sigmoid function.\n",
    "2. Compute loss using the binary crossentropy loss function (you should know this from your Data Science course).\n",
    "3. Compute gradient function to calculate the gradients or the delta weights (dw) that will be used to adjust the weights.\n",
    "\n",
    "Once we have these 3 functions, it is very easy to create our Logistic Regression model that learns from training data using gradient descent.\n",
    "\n",
    "Gradient descent:\n",
    "Repeat:\n",
    "Calaculate the output, a. a = sigmoid(z) and z = x1.w1 + x2.w2 + ....\n",
    "Compute loss.\n",
    "Get gradients (delta weights)\n",
    "Adjust weights (weights -= weights + (learning_rate * gradients))\n"
   ]
  },
  {
   "cell_type": "code",
   "execution_count": 3,
   "metadata": {},
   "outputs": [],
   "source": [
    "def probability(X, w):\n",
    "    \"\"\"\n",
    "    Uses the sigmoid function to calculate probabilities.\n",
    "    The function returns an array of predicted probabilities\n",
    "    \"\"\"\n",
    "    probs = 1 / (1 + np.exp(-(np.dot(w, X.T))))\n",
    "    return probs"
   ]
  },
  {
   "cell_type": "code",
   "execution_count": 4,
   "metadata": {},
   "outputs": [],
   "source": [
    "def compute_loss(X, y, w):\n",
    "    \"\"\"\n",
    "    Shape of X: m x (number of features or X values) where m is the \n",
    "    batch size\n",
    "    We will iterate through all m observations and sum up the losses\n",
    "    The function then returns the total loss divided by the batch size.\n",
    "    That is, the loss is averaged over the batch.\n",
    "    \"\"\"\n",
    "\n",
    "    loss = 0\n",
    "    for i in range(X.shape[0]):\n",
    "        loss += -(y[i] * np.log(probability(X[i,:], w))) - ((1 - y[i]) * np.log(1 - probability(X[i,:], w)))\n",
    "    return loss / X.shape[0]"
   ]
  },
  {
   "cell_type": "code",
   "execution_count": 5,
   "metadata": {},
   "outputs": [],
   "source": [
    "def compute_grad(X, y, w):\n",
    "    \"\"\"\n",
    "    This is the function that computes gradients.\n",
    "    dz = derivative of loss with respect to z = (a - y)\n",
    "    dw1 = X1 . dz, dw2 = X2 . dz, and so on.\n",
    "    \"\"\"\n",
    "    dz = probability(X,w) - y #same as (a - y)\n",
    "    grads = []\n",
    "    for i in range(len(w)):\n",
    "        dw = np.dot(X[:, i], dz)/X.shape[0]\n",
    "        grads.append(dw)\n",
    "    return grads #probably better to return np.array(grads)"
   ]
  },
  {
   "cell_type": "markdown",
   "metadata": {},
   "source": [
    "Let us use the breast cancer dataset from sklearn. "
   ]
  },
  {
   "cell_type": "code",
   "execution_count": 1,
   "metadata": {},
   "outputs": [],
   "source": [
    "from sklearn.datasets import load_breast_cancer\n",
    "data = load_breast_cancer()"
   ]
  },
  {
   "cell_type": "code",
   "execution_count": 2,
   "metadata": {},
   "outputs": [],
   "source": [
    "#Let get train and test samples\n",
    "from sklearn.model_selection import train_test_split\n",
    "x, y = data.data, data.target\n",
    "x_train, x_test, y_train, y_test = train_test_split(x, y, test_size = 0.2, random_state=42)"
   ]
  },
  {
   "cell_type": "code",
   "execution_count": 3,
   "metadata": {},
   "outputs": [],
   "source": [
    "#Always a good idea to scale your data when you use gradient descent\n",
    "from sklearn.preprocessing import StandardScaler\n",
    "scale = StandardScaler()\n",
    "scale.fit(x_train)\n",
    "x_train = scale.transform(x_train)\n",
    "x_test = scale.transform(x_test)"
   ]
  },
  {
   "cell_type": "code",
   "execution_count": 23,
   "metadata": {},
   "outputs": [],
   "source": [
    "#This function will be used to train our model. It is in this\n",
    "#function that gradient descent happens. You may have to play around with\n",
    "#the epochs, batch size, and learning rate.We will initialize our weights\n",
    "#to 0, something that is not recommended for Deep Learning. \n",
    "#However, it is okay for Logistic Regression\n",
    "\n",
    "import math\n",
    "import numpy as np\n",
    "weights = np.zeros(x_train.shape[1])\n",
    "losses = []\n",
    "def train(x_train, y_train, weights, epochs = 200, batch_size = 16, lr = 0.001):\n",
    "    numbers = range(x_train.shape[0])\n",
    "    batches_per_iteration = math.ceil(x_train.shape[0] / batch_size)\n",
    "    for i in range(epochs):\n",
    "        loss = 0\n",
    "        for b in range(batches_per_iteration):\n",
    "            sample_list = np.random.choice(numbers, batch_size, replace = False)\n",
    "            #print(sample_list)\n",
    "            x_train_sample = x_train[sample_list,:]\n",
    "            y_train_sample = list(y_train[sample_list])\n",
    "            #print(x_train_sample.shape, y_train_sample.shape)\n",
    "            loss += compute_loss(x_train_sample, y_train_sample, weights)\n",
    "            weights -= (lr * np.array(\n",
    "                compute_grad(x_train_sample, y_train_sample, weights)))\n",
    "            #print(\"Loss: \", loss)\n",
    "        avg_loss = loss / batches_per_iteration\n",
    "        losses.append(avg_loss)\n",
    "        if i % 10 == 0:\n",
    "            print(\"Epoch: \", i, avg_loss)"
   ]
  },
  {
   "cell_type": "code",
   "execution_count": 22,
   "metadata": {},
   "outputs": [
    {
     "name": "stdout",
     "output_type": "stream",
     "text": [
      "Epoch:  0 0.6081764067256487\n",
      "Epoch:  10 0.23677278963914125\n",
      "Epoch:  20 0.16494255086425627\n",
      "Epoch:  30 0.1735486765007574\n",
      "Epoch:  40 0.16062565034387594\n",
      "Epoch:  50 0.12213355453860236\n",
      "Epoch:  60 0.13794095813126842\n",
      "Epoch:  70 0.11927747569258698\n",
      "Epoch:  80 0.09640591513603583\n",
      "Epoch:  90 0.11667187122097149\n",
      "Epoch:  100 0.12558253628990843\n",
      "Epoch:  110 0.12179090527636607\n",
      "Epoch:  120 0.10006316921732622\n",
      "Epoch:  130 0.08825524070995491\n",
      "Epoch:  140 0.0924268376308984\n",
      "Epoch:  150 0.09291187835956678\n",
      "Epoch:  160 0.1028427648420114\n",
      "Epoch:  170 0.09036121950443474\n",
      "Epoch:  180 0.08801936475491254\n",
      "Epoch:  190 0.08827876513313215\n"
     ]
    }
   ],
   "source": [
    "#Let us train our model\n",
    "train(x_train, y_train, weights, batch_size = 4)"
   ]
  },
  {
   "cell_type": "code",
   "execution_count": 12,
   "metadata": {},
   "outputs": [
    {
     "data": {
      "text/plain": [
       "array([1, 0, 0, 1, 1])"
      ]
     },
     "execution_count": 12,
     "metadata": {},
     "output_type": "execute_result"
    }
   ],
   "source": [
    "probs = probability(x_test, weights) #Get the probabilties for the test cases\n",
    "results = np.where(probs >= 0.5, 1, 0) #convert them to 0s and 1s\n",
    "results[:5] #take a look at the first five"
   ]
  },
  {
   "cell_type": "code",
   "execution_count": 13,
   "metadata": {},
   "outputs": [
    {
     "data": {
      "text/plain": [
       "array([-0.49242157, -0.55251132, -0.48233869, -0.57043132, -0.16797021,\n",
       "        0.03726538, -0.53359057, -0.66146946, -0.05997868,  0.1972913 ,\n",
       "       -0.73387435, -0.00907677, -0.55294051, -0.64070556, -0.13198965,\n",
       "        0.39541282,  0.14778086,  0.02203011,  0.12122202,  0.35233038,\n",
       "       -0.71419994, -0.76624066, -0.64865598, -0.75165812, -0.56068203,\n",
       "       -0.18289979, -0.50896227, -0.58372268, -0.60055223, -0.16502511])"
      ]
     },
     "execution_count": 13,
     "metadata": {},
     "output_type": "execute_result"
    }
   ],
   "source": [
    "weights"
   ]
  },
  {
   "cell_type": "code",
   "execution_count": 14,
   "metadata": {},
   "outputs": [
    {
     "name": "stdout",
     "output_type": "stream",
     "text": [
      "              precision    recall  f1-score   support\n",
      "\n",
      "           0       0.98      0.98      0.98        43\n",
      "           1       0.99      0.99      0.99        71\n",
      "\n",
      "    accuracy                           0.98       114\n",
      "   macro avg       0.98      0.98      0.98       114\n",
      "weighted avg       0.98      0.98      0.98       114\n",
      "\n"
     ]
    }
   ],
   "source": [
    "from sklearn.metrics import classification_report\n",
    "print(classification_report(y_test, results))"
   ]
  },
  {
   "cell_type": "code",
   "execution_count": 15,
   "metadata": {},
   "outputs": [
    {
     "data": {
      "image/png": "[encoded data removed]",
      "text/plain": [
       "<Figure size 432x288 with 1 Axes>"
      ]
     },
     "metadata": {
      "needs_background": "light"
     },
     "output_type": "display_data"
    }
   ],
   "source": [
    "import matplotlib.pyplot as plt\n",
    "plt.plot(range(len(losses)), losses)\n",
    "plt.show()"
   ]
  },
  {
   "cell_type": "markdown",
   "metadata": {},
   "source": [
    "Your turn! Try the model on the Pima Indian diabetes dataset given below:\n",
    "\n",
    "https://raw.githubusercontent.com/jbrownlee/Datasets/master/pima-indians-diabetes.data.csv\n",
    "\n",
    "How did the model do? Compare the performance of your model with sklearn's implementation of Logistic Regression. Try other models (e.g., Ensembles) as well."
   ]
  }
 ],
 "metadata": {
  "kernelspec": {
   "display_name": "Python 3",
   "language": "python",
   "name": "python3"
  },
  "language_info": {
   "codemirror_mode": {
    "name": "ipython",
    "version": 3
   },
   "file_extension": ".py",
   "mimetype": "text/x-python",
   "name": "python",
   "nbconvert_exporter": "python",
   "pygments_lexer": "ipython3",
   "version": "3.7.4"
  }
 },
 "nbformat": 4,
 "nbformat_minor": 2
}
