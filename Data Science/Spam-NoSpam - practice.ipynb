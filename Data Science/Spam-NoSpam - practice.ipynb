{
 "cells": [
  {
   "cell_type": "code",
   "execution_count": 1,
   "metadata": {},
   "outputs": [],
   "source": [
    "import os\n",
    "\n",
    "os.chdir('C:/MSBA/Summer 2020/2205-INSY-5378-Data Science/Spam-NoSpam/')"
   ]
  },
  {
   "cell_type": "code",
   "execution_count": 2,
   "metadata": {},
   "outputs": [],
   "source": [
    "def create_data(folder, alist):\n",
    "    files = glob.glob(folder + '/*txt')\n",
    "    for file in files: \n",
    "        with open(file) as infile: \n",
    "            alist.append(infile.read())"
   ]
  },
  {
   "cell_type": "code",
   "execution_count": 4,
   "metadata": {},
   "outputs": [
    {
     "name": "stdout",
     "output_type": "stream",
     "text": [
      "350 130 350 130\n"
     ]
    }
   ],
   "source": [
    "import glob as glob \n",
    "\n",
    "nonspam_train = []\n",
    "nonspam_test = []\n",
    "spam_train = []\n",
    "spam_test = []\n",
    "\n",
    "create_data('nonspam-train', nonspam_train)\n",
    "create_data('nonspam-test', nonspam_test)\n",
    "create_data('spam-train', spam_train)\n",
    "create_data('spam-test', spam_test)\n",
    "\n",
    "print(len(nonspam_train), len(nonspam_test), len(spam_train), len(spam_test)) "
   ]
  },
  {
   "cell_type": "code",
   "execution_count": 5,
   "metadata": {},
   "outputs": [
    {
     "name": "stdout",
     "output_type": "stream",
     "text": [
      "700 260 700 260\n"
     ]
    }
   ],
   "source": [
    "import numpy as np\n",
    "\n",
    "x_train = nonspam_train + spam_train\n",
    "x_test = nonspam_test + spam_test\n",
    "\n",
    "y_train = list(np.zeros(len(nonspam_train))) + list(np.ones(len(spam_train)))\n",
    "y_test = list(np.zeros(len(nonspam_test))) + list(np.ones(len(spam_test)))\n",
    "\n",
    "print(len(x_train), len(x_test), len(y_train), len(y_test))"
   ]
  },
  {
   "cell_type": "code",
   "execution_count": 6,
   "metadata": {},
   "outputs": [
    {
     "data": {
      "text/plain": [
       "(700, 19073)"
      ]
     },
     "execution_count": 6,
     "metadata": {},
     "output_type": "execute_result"
    }
   ],
   "source": [
    "from sklearn.feature_extraction.text import CountVectorizer\n",
    "\n",
    "vectorizer = CountVectorizer()\n",
    "features_train = vectorizer.fit_transform(x_train)\n",
    "features_train_dense = features_train.todense()\n",
    "features_train_dense.shape"
   ]
  },
  {
   "cell_type": "code",
   "execution_count": 51,
   "metadata": {},
   "outputs": [
    {
     "data": {
      "text/plain": [
       "MultinomialNB(alpha=0.1, class_prior=None, fit_prior=True)"
      ]
     },
     "execution_count": 51,
     "metadata": {},
     "output_type": "execute_result"
    }
   ],
   "source": [
    "from sklearn.naive_bayes import MultinomialNB\n",
    "\n",
    "model = MultinomialNB(alpha = 0.1)\n",
    "model.fit(features_train_dense, y_train)"
   ]
  },
  {
   "cell_type": "markdown",
   "metadata": {},
   "source": [
    " - fit -> Learn a vocabulary dictionary of all tokens in the raw documents\n",
    " - fit_transform -> Learn the vocabulary dictionary and return document-term matrix\n",
    " - transform -> Transform documents to document-term matrix"
   ]
  },
  {
   "cell_type": "code",
   "execution_count": 56,
   "metadata": {},
   "outputs": [
    {
     "data": {
      "text/plain": [
       "(260, 19073)"
      ]
     },
     "execution_count": 56,
     "metadata": {},
     "output_type": "execute_result"
    }
   ],
   "source": [
    "features_test = vectorizer.transform(x_test)\n",
    "features_test_dense = features_test.todense()\n",
    "features_test_dense.shape"
   ]
  },
  {
   "cell_type": "code",
   "execution_count": 58,
   "metadata": {},
   "outputs": [
    {
     "data": {
      "text/plain": [
       "(260,)"
      ]
     },
     "execution_count": 58,
     "metadata": {},
     "output_type": "execute_result"
    }
   ],
   "source": [
    "y_pred = model.predict(features_test_dense)\n",
    "y_pred.shape"
   ]
  },
  {
   "cell_type": "code",
   "execution_count": 68,
   "metadata": {},
   "outputs": [
    {
     "name": "stdout",
     "output_type": "stream",
     "text": [
      "Accuracy Score:  0.9769230769230769\n",
      "\n",
      "Confusion Matrix:\n",
      " [[126   4]\n",
      " [  2 128]]\n",
      "\n",
      "Classification Report:\n",
      "                precision    recall  f1-score   support\n",
      "\n",
      "     No-Spam       0.98      0.97      0.98       130\n",
      "        Spam       0.97      0.98      0.98       130\n",
      "\n",
      "    accuracy                           0.98       260\n",
      "   macro avg       0.98      0.98      0.98       260\n",
      "weighted avg       0.98      0.98      0.98       260\n",
      "\n"
     ]
    }
   ],
   "source": [
    "from sklearn.metrics import accuracy_score, confusion_matrix, classification_report\n",
    "\n",
    "print(\"Accuracy Score: \", accuracy_score(y_test, y_pred))\n",
    "print(\"\\nConfusion Matrix:\\n\", confusion_matrix(y_test, y_pred))\n",
    "print(\"\\nClassification Report:\\n \", classification_report(y_test, y_pred, target_names = ['No-Spam', 'Spam']))"
   ]
  },
  {
   "cell_type": "code",
   "execution_count": 79,
   "metadata": {},
   "outputs": [
    {
     "name": "stdout",
     "output_type": "stream",
     "text": [
      "Area under Curve: 0.99\n"
     ]
    }
   ],
   "source": [
    "from sklearn.metrics import precision_recall_curve, auc\n",
    "\n",
    "y_pred_prob = model.predict_proba(features_test_dense)[:, 1]\n",
    "precision, recall, thresholds = precision_recall_curve(y_test, y_pred_prob)\n",
    "\n",
    "area = auc(recall, precision)\n",
    "print('Area under Curve: %0.2f' % area)"
   ]
  },
  {
   "cell_type": "code",
   "execution_count": 84,
   "metadata": {},
   "outputs": [
    {
     "data": {
      "image/png": "[encoded data removed]",
      "text/plain": [
       "<Figure size 432x288 with 1 Axes>"
      ]
     },
     "metadata": {
      "needs_background": "light"
     },
     "output_type": "display_data"
    }
   ],
   "source": [
    "import matplotlib.pyplot as plt\n",
    "\n",
    "plt.plot(recall, precision, label = 'P-R curve')\n",
    "plt.legend(loc = 'lower left')\n",
    "plt.xlabel('Recall')\n",
    "plt.ylabel('Precision')\n",
    "plt.xlim([0.1, 1.0])\n",
    "plt.ylim([0.1, 1.1])\n",
    "plt.title('P-R curve with Area: %0.2f' % area)\n",
    "plt.show()"
   ]
  },
  {
   "cell_type": "code",
   "execution_count": 85,
   "metadata": {},
   "outputs": [
    {
     "data": {
      "text/plain": [
       "array([1.])"
      ]
     },
     "execution_count": 85,
     "metadata": {},
     "output_type": "execute_result"
    }
   ],
   "source": [
    "test_input = vectorizer.transform([\"success guaranteed only few dollars\"])\n",
    "model.predict(test_input)"
   ]
  },
  {
   "cell_type": "code",
   "execution_count": 86,
   "metadata": {},
   "outputs": [
    {
     "data": {
      "text/plain": [
       "array([0.])"
      ]
     },
     "execution_count": 86,
     "metadata": {},
     "output_type": "execute_result"
    }
   ],
   "source": [
    "test_input = vectorizer.transform([\"conference for information systems and telecom\"])\n",
    "model.predict(test_input)"
   ]
  },
  {
   "cell_type": "code",
   "execution_count": 8,
   "metadata": {},
   "outputs": [
    {
     "data": {
      "text/plain": [
       "['posting hi m work phonetics project modern irish m hard source anyone recommend book article english specifically interest palatal slender consonant work helpful too thank laurel sutton sutton garnet berkeley edu ',\n",
       " 're help re iaupe hay alguien que sepa como se puede comunicar con lo ordenadore de la universidad de texa es que busco informacus sobre el programa de educacus bile de lo distinto condado que forman la ciudad de austin y area limitrofe gracia brett ',\n",
       " 'proofread medieval e text humanist discussion group vol monday apr seek volunteer proofread transcription attach list medieval text prepare archivo digital de manuscrito y texto espan ole admyte cdrom disk publish summer sociedad estatal quinto centenario addition several hundr medieval text transcribe accord norm manual manuscript transcription dictionary old spanish language th ed madison disk contain special version tact text analysis retrieval program u toronto bibliography old spanish text unite program computerassist textual criticism available text represent interest crosssection medieval spanish literary culture history alfonsine tradition medical legal work translation classic medieval literature provide photocopy original ms print edition printout transcription electronic version transcription copy madison manual mention above copy special version tact page manual participant project receive full credit work admyte mention satisfaction help bring fruition one most important scholarly project quincentenary lista de lo texto castellano que se han transcrito expresamente para admyte actualmente obran en mi poder y esta n listo para corregir abreviatura bnm madrid biblioteca nacional bu biblioteca universitarium esc escorial monasterio cuando se tra de vario texto dentro de un mismo ms o edicio n se han agrupado bajo la signatura del voluman que lo contiene al final de cada texto se indica su taman o o en byte o en folio alfonso martus nez de toledo invencionario bnm ff transcr p gericke cro nica de parte madrid zaba lburu ff r mb listo para corregir transcr j da cruz domingo marco dura n lux bellum impreso sevillum bnm ff mu s ica transcr d burton domingo marco dura n glosa sobre lux bellum impreso salamanca bnm ff mu s ica transcr d burton fuero de la novenera salamanca bu ff r v transcr f waltman bnm impreso zaragoza ca transcr h torr thoma kempi imitatio christus ff ar or jean gerson de meditatione cordi ff or ov pablo de santa marus suma de la cro nica de espan esc h ii ff r v transcr j krieger seudo san bernardo infancium del salvador impreso burgo juan de burgo ca bnm kb e realmente una traduccio n de la meditatione de seudo agustus n transcr f waltman ',\n",
       " 'learn french quebec city de ami de l universite laval ecole de langue vivant m ont demande de poster cette annonce learn french quebec city intensive french course elementary intermediate advance level session admission deadline autumn septemberdecember week credit june th winter january april week credit november st spring mayjune week credit april st summer julyaugust week credit st small class communicative approach integration french speak milieu exceptional sport facility campus house accomodation francophone age older information ecole de langue vivant pavillon charle de koninck universite laval quebec gk p canada phone fax ',\n",
       " 'basic journal face major cut library periodical budget university alabama ask eliminate linguistics journal univ alabama birmingham b linguistics strong syntactician here tuscaloosa ad hoc interdepartmental program graduate level strength apply linguistics inter actional sociolinguistic pragmatic appreciate advice matter particular re wonder consensus set essential journal undergraduate major pragmatic ',\n",
       " 'query tagalog philippine informant are native speaker tagalog philippine language receive answer question usage ',\n",
       " 'rule marttus arnold nyman manyman finuha bitnet write is man tall room b is man tall room speaker proceed basis inductive generalisation analogy principle one expect less random distribution over a b acquisition stage quod non why less random distribution over a b expectable acquisition stage speaker unfailingly pattern child base inductive generalization produce a assumption implicit nyman s question child produce hear plainly incorrect children hear form buy eat goe yet through stage where produce form generalisation rule beyond hear main source evidence yesno question child s disposal overwhelmingly consist simple sentence form is man room child generalisation either term linear precedence front first finite verb yield b term hierarchical structure front finite verb follow subject yield a fact child mistake respect ie form b clearly show rule one learn experience relevant experience rich enough determine nature rule able explain absence mistake far rest nyman s remark concern still fail why motivate distinction between grule lrule opinion rule exemplify lrule whisland rule grule cannot argument post lend credibility contrast g vanden wyngaerd ',\n",
       " 'th nottingham international systemic workshop fourth nottingham international systemic workshop provisional programme keynote speaker john swale michigan genre contributor katja pelsmaeker antwerp aspect genre perspective translation bill greave toronto speak dimension genre glenn stillar ontario modelinstance perspective genre marta carretero madrid influence genre modality francisca gonzalez cordoba interlanua development communicative competence ann charlotte lindeberg helsinkus research article economic science francesca bargielum nottingham business meetin genre azavelus lwaitama dar e salaam academic lecture political harangue kiswahilus tim gibson nottingham theme one means differentiate between subgenr abstract ignacio vazquez zaragoza genre theory translation maria gonzalez santiago theme initial position relevance margaret berry nottingham genre register mujib rahman edinburh evaluation car model ra introduction caroline stainton nottingham genrebase approach understand rhetorical dimension discourse david hilborn nottingham problem genredefinition liturical discourse jesus trillo madrid continuative theme oral discourse susan cockcroft nottingham persuade christopher taylor udine sl translation m hazadiah selangor exchange element topicframework dirk noel antwerp conjunction reconsider geert crap leuven thematic progression analysis reconsider dionysis goutso birmingham aspect halliday s notion theme application greek adrian hbe selangor modality law text sara mill loughborough gender language further information registration write hilary hillier department english study university nottingham ng rd uk fax telephone ',\n",
       " 're chomsky citation m neither surprise number chomsky citation nor nature agree linguistics owe much current status chomsky s work however nt ought overemphasize political citation since clearly linguistic one drove while vickus s nobel prize winner citation speak point let us shun our profession honor one favorite woody allan whore mensa m road lot lonely sure guy meet bimbo want really brainy woman re easy short notice hear young girl price ll over discuss subject symbolism s extra suppose want noam chomsky explain two girl d cost hasten disassociate myself sexism citation lyle campbell ',\n",
       " 're query language speaker syntax text address issue speak language seem big problem while linguist study structure various kind language teacher study literature re lucky pedagogy few graduate school offer theoretical orientation teach literature student where most college language teacher thus many college language teacher must teach without background resentment while research different area entirely linguist teach language teach structure speak thus unusuallytaught language under auspices linguistics department talk structure never learn speak talk language throw many ago learn speak neither group unhappy literature teacher nor structurehappy linguist likely improve image language learn country leslie morgan morgan loyvax ']"
      ]
     },
     "execution_count": 8,
     "metadata": {},
     "output_type": "execute_result"
    }
   ],
   "source": [
    "x_train[0:10]"
   ]
  },
  {
   "cell_type": "code",
   "execution_count": 10,
   "metadata": {},
   "outputs": [
    {
     "name": "stdout",
     "output_type": "stream",
     "text": [
      "  (0, 13076)\t1\n",
      "  (0, 7349)\t1\n",
      "  (0, 18708)\t2\n",
      "  (0, 12752)\t1\n",
      "  (0, 13405)\t1\n",
      "  (0, 10903)\t1\n",
      "  (0, 8409)\t1\n",
      "  (0, 7119)\t1\n",
      "  (0, 15711)\t1\n",
      "  (0, 846)\t1\n",
      "  (0, 13912)\t1\n",
      "  (0, 1954)\t1\n",
      "  (0, 1031)\t1\n",
      "  (0, 5194)\t1\n",
      "  (0, 15777)\t1\n",
      "  (0, 8248)\t1\n",
      "  (0, 12328)\t1\n",
      "  (0, 15527)\t1\n",
      "  (0, 3368)\t1\n",
      "  (0, 7276)\t1\n",
      "  (0, 17055)\t1\n",
      "  (0, 16792)\t1\n",
      "  (0, 9455)\t1\n",
      "  (0, 16379)\t2\n",
      "  (0, 6450)\t1\n",
      "  :\t:\n",
      "  (699, 6685)\t1\n",
      "  (699, 17368)\t1\n",
      "  (699, 15765)\t1\n",
      "  (699, 5130)\t1\n",
      "  (699, 13537)\t1\n",
      "  (699, 551)\t1\n",
      "  (699, 16785)\t1\n",
      "  (699, 1838)\t1\n",
      "  (699, 1542)\t1\n",
      "  (699, 6967)\t1\n",
      "  (699, 8169)\t1\n",
      "  (699, 15550)\t1\n",
      "  (699, 9632)\t1\n",
      "  (699, 9709)\t1\n",
      "  (699, 5301)\t1\n",
      "  (699, 13429)\t1\n",
      "  (699, 12007)\t1\n",
      "  (699, 17123)\t1\n",
      "  (699, 17797)\t1\n",
      "  (699, 3695)\t1\n",
      "  (699, 14228)\t2\n",
      "  (699, 10275)\t1\n",
      "  (699, 13426)\t1\n",
      "  (699, 11271)\t1\n",
      "  (699, 17427)\t1\n"
     ]
    }
   ],
   "source": []
  },
  {
   "cell_type": "code",
   "execution_count": null,
   "metadata": {},
   "outputs": [],
   "source": []
  }
 ],
 "metadata": {
  "kernelspec": {
   "display_name": "Python 3",
   "language": "python",
   "name": "python3"
  },
  "language_info": {
   "codemirror_mode": {
    "name": "ipython",
    "version": 3
   },
   "file_extension": ".py",
   "mimetype": "text/x-python",
   "name": "python",
   "nbconvert_exporter": "python",
   "pygments_lexer": "ipython3",
   "version": "3.7.4"
  }
 },
 "nbformat": 4,
 "nbformat_minor": 2
}
