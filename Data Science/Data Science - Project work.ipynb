{
 "cells": [
  {
   "cell_type": "markdown",
   "metadata": {},
   "source": [
    "# Summer 2020 -> INSY 5378 -> Data Science\n",
    "## Project work\n",
    "### Team Members: Phanikrishna Karanam, Swetha Gollamudi, Amruta Joshi, Haripriya Jujjavarapu"
   ]
  },
  {
   "cell_type": "markdown",
   "metadata": {},
   "source": [
    "#### Project on Text Classification \n",
    "\n",
    "__Objective__: Predict whether a question asked on Quora is sincere or not. \n",
    "\n",
    "__Dataset Summary__: Quora is a platform that empowers people to learn from each other. On Quora, people can ask questions and connect with others who contribute unique insights and quality answers. \n",
    "\n",
    "A key challenge is to weed out insincere questions by better handling toxic and divisive content. An insincere question is defined as a question intended to make a statement rather than look for helpful answers.\n",
    "\n",
    "__Overview on this notebook__:\n",
    "Used concepts and techniques learnt during the class, to build models that reasonably classify questions as “Sincere / Insincere”. \n",
    " - Preprocessed the text data\n",
    " - Explored classification algorithms and analyzed the metrics\n",
    " - Tune hyper parameters to improve model performance\n",
    " - Model evaluation and selection of best fit model. Test against the hold out sample for generalization evaluation "
   ]
  },
  {
   "cell_type": "code",
   "execution_count": 1,
   "metadata": {},
   "outputs": [],
   "source": [
    "# Suppress warnings\n",
    "\n",
    "import warnings\n",
    "\n",
    "warnings.filterwarnings('ignore')"
   ]
  },
  {
   "cell_type": "code",
   "execution_count": 2,
   "metadata": {},
   "outputs": [],
   "source": [
    "# change the default system directory to project location\n",
    "\n",
    "import os\n",
    "\n",
    "os.chdir('C:/MSBA/Summer 2020/2205-INSY-5378-Data Science/Project')"
   ]
  },
  {
   "cell_type": "code",
   "execution_count": 3,
   "metadata": {},
   "outputs": [
    {
     "name": "stdout",
     "output_type": "stream",
     "text": [
      "Dataset shape:  (1306122, 3) \n",
      "\n",
      "<class 'pandas.core.frame.DataFrame'>\n",
      "RangeIndex: 1306122 entries, 0 to 1306121\n",
      "Data columns (total 3 columns):\n",
      "qid              1306122 non-null object\n",
      "question_text    1306122 non-null object\n",
      "target           1306122 non-null int64\n",
      "dtypes: int64(1), object(2)\n",
      "memory usage: 29.9+ MB\n"
     ]
    }
   ],
   "source": [
    "# read the input dataset and setup the x and y arrays\n",
    "# we see that there are no NULL values in the data\n",
    "\n",
    "import pandas as pd\n",
    "\n",
    "dataset_df = pd.read_csv('dataset.csv')\n",
    "x_dataset = dataset_df.drop('target', axis=1).values\n",
    "y_dataset = dataset_df['target'].values\n",
    "\n",
    "print('Dataset shape: ', dataset_df.shape, '\\n')\n",
    "dataset_df.info()"
   ]
  },
  {
   "cell_type": "code",
   "execution_count": 4,
   "metadata": {},
   "outputs": [
    {
     "data": {
      "text/html": [
       "<div>\n",
       "<style scoped>\n",
       "    .dataframe tbody tr th:only-of-type {\n",
       "        vertical-align: middle;\n",
       "    }\n",
       "\n",
       "    .dataframe tbody tr th {\n",
       "        vertical-align: top;\n",
       "    }\n",
       "\n",
       "    .dataframe thead th {\n",
       "        text-align: right;\n",
       "    }\n",
       "</style>\n",
       "<table border=\"1\" class=\"dataframe\">\n",
       "  <thead>\n",
       "    <tr style=\"text-align: right;\">\n",
       "      <th></th>\n",
       "      <th>qid</th>\n",
       "      <th>question_text</th>\n",
       "      <th>target</th>\n",
       "    </tr>\n",
       "  </thead>\n",
       "  <tbody>\n",
       "    <tr>\n",
       "      <td>0</td>\n",
       "      <td>00002165364db923c7e6</td>\n",
       "      <td>How did Quebec nationalists see their province...</td>\n",
       "      <td>0</td>\n",
       "    </tr>\n",
       "    <tr>\n",
       "      <td>1</td>\n",
       "      <td>000032939017120e6e44</td>\n",
       "      <td>Do you have an adopted dog, how would you enco...</td>\n",
       "      <td>0</td>\n",
       "    </tr>\n",
       "    <tr>\n",
       "      <td>2</td>\n",
       "      <td>0000412ca6e4628ce2cf</td>\n",
       "      <td>Why does velocity affect time? Does velocity a...</td>\n",
       "      <td>0</td>\n",
       "    </tr>\n",
       "    <tr>\n",
       "      <td>3</td>\n",
       "      <td>000042bf85aa498cd78e</td>\n",
       "      <td>How did Otto von Guericke used the Magdeburg h...</td>\n",
       "      <td>0</td>\n",
       "    </tr>\n",
       "    <tr>\n",
       "      <td>4</td>\n",
       "      <td>0000455dfa3e01eae3af</td>\n",
       "      <td>Can I convert montra helicon D to a mountain b...</td>\n",
       "      <td>0</td>\n",
       "    </tr>\n",
       "  </tbody>\n",
       "</table>\n",
       "</div>"
      ],
      "text/plain": [
       "                    qid                                      question_text  \\\n",
       "0  00002165364db923c7e6  How did Quebec nationalists see their province...   \n",
       "1  000032939017120e6e44  Do you have an adopted dog, how would you enco...   \n",
       "2  0000412ca6e4628ce2cf  Why does velocity affect time? Does velocity a...   \n",
       "3  000042bf85aa498cd78e  How did Otto von Guericke used the Magdeburg h...   \n",
       "4  0000455dfa3e01eae3af  Can I convert montra helicon D to a mountain b...   \n",
       "\n",
       "   target  \n",
       "0       0  \n",
       "1       0  \n",
       "2       0  \n",
       "3       0  \n",
       "4       0  "
      ]
     },
     "execution_count": 4,
     "metadata": {},
     "output_type": "execute_result"
    }
   ],
   "source": [
    "# display the head of dataset to explore the columns and values\n",
    "\n",
    "dataset_df.head()"
   ]
  },
  {
   "cell_type": "markdown",
   "metadata": {},
   "source": [
    "Below function is to display the Target counts in the dataset passed. This is to understand the class imbalance in datasets"
   ]
  },
  {
   "cell_type": "code",
   "execution_count": 5,
   "metadata": {},
   "outputs": [],
   "source": [
    "import numpy as np\n",
    "import matplotlib.pyplot as plt\n",
    "\n",
    "def target_distribution(array, data):\n",
    "    ones = np.count_nonzero(array)\n",
    "    zeros = len(array) - ones\n",
    "    print('Target counts in {} set:'.format(data))\n",
    "    print('0: ', zeros)\n",
    "    print('1: ', ones)\n",
    "\n",
    "    plt.pie([zeros, ones], labels = ['Sincere', 'Insincere'], autopct='%.1f%%')\n",
    "    plt.title('Target Distribution in {}'.format(data))\n",
    "    plt.show()"
   ]
  },
  {
   "cell_type": "code",
   "execution_count": 6,
   "metadata": {},
   "outputs": [
    {
     "name": "stdout",
     "output_type": "stream",
     "text": [
      "Target counts in dataset set:\n",
      "0:  1225312\n",
      "1:  80810\n"
     ]
    },
    {
     "data": {
      "image/png": "[encoded data removed]",
      "text/plain": [
       "<Figure size 432x288 with 1 Axes>"
      ]
     },
     "metadata": {},
     "output_type": "display_data"
    }
   ],
   "source": [
    "target_distribution(dataset_df['target'], 'dataset')"
   ]
  },
  {
   "cell_type": "markdown",
   "metadata": {},
   "source": [
    "Perform a Train Test split using 80%-20% split. We are doing a stratified split based on target variable, inorder to maintain same ratio of the target class within the training and testing datasets"
   ]
  },
  {
   "cell_type": "code",
   "execution_count": 7,
   "metadata": {},
   "outputs": [],
   "source": [
    "def split_data(x_dataset, y_dataset): \n",
    "    x_train, x_test, y_train, y_test = \\\n",
    "                        train_test_split(x_dataset, y_dataset, test_size = 0.20, stratify = y_dataset, random_state = 32)\n",
    "\n",
    "    print('x_train shape :', x_train.shape)\n",
    "    print('x_test shape  :', x_test.shape)\n",
    "    print('y_train shape :', y_train.shape)\n",
    "    print('y_test shape  :', y_test.shape)\n",
    "    \n",
    "    return(x_train, x_test, y_train, y_test)"
   ]
  },
  {
   "cell_type": "code",
   "execution_count": 8,
   "metadata": {},
   "outputs": [
    {
     "name": "stdout",
     "output_type": "stream",
     "text": [
      "x_train shape : (1044897, 2)\n",
      "x_test shape  : (261225, 2)\n",
      "y_train shape : (1044897,)\n",
      "y_test shape  : (261225,)\n",
      "\n",
      "\n",
      "Target counts in Training set:\n",
      "0:  980249\n",
      "1:  64648\n"
     ]
    },
    {
     "data": {
      "image/png": "[encoded data removed]",
      "text/plain": [
       "<Figure size 432x288 with 1 Axes>"
      ]
     },
     "metadata": {},
     "output_type": "display_data"
    },
    {
     "name": "stdout",
     "output_type": "stream",
     "text": [
      "Target counts in Test set:\n",
      "0:  245063\n",
      "1:  16162\n"
     ]
    },
    {
     "data": {
      "image/png": "[encoded data removed]",
      "text/plain": [
       "<Figure size 432x288 with 1 Axes>"
      ]
     },
     "metadata": {},
     "output_type": "display_data"
    }
   ],
   "source": [
    "from sklearn.model_selection import train_test_split\n",
    "\n",
    "x_train, x_test, y_train, y_test = split_data(x_dataset, y_dataset)\n",
    "\n",
    "print('\\n')\n",
    "target_distribution(y_train, 'Training')\n",
    "target_distribution(y_test, 'Test')"
   ]
  },
  {
   "cell_type": "markdown",
   "metadata": {},
   "source": [
    "Below function performs the preprocesing of the text array passed\n",
    " - Convert to lower case\n",
    " - Remove digits and punctuations \n",
    " - Remove the stop words\n",
    " - Lemmatize the words to their root form "
   ]
  },
  {
   "cell_type": "code",
   "execution_count": 9,
   "metadata": {},
   "outputs": [],
   "source": [
    "def preprocess(array):\n",
    "    \n",
    "    # for removing punctuations and digits\n",
    "    exclude = string.punctuation + string.digits\n",
    "    table = str.maketrans(exclude, len(exclude) * \" \")\n",
    "\n",
    "    # for removing stopwords \n",
    "    stopwords = nltk.corpus.stopwords.words('english')\n",
    "\n",
    "    # Instantiate Lemmatizer \n",
    "    lemmatizer = nltk.stem.WordNetLemmatizer()\n",
    "\n",
    "    for i in range(len(array)):\n",
    "        text = array[i, 1]\n",
    "\n",
    "        # convert to lower case and remove punctuation & digits \n",
    "        text = text.lower().translate(table)\n",
    "\n",
    "        #remove stopwords and lemmatize the word\n",
    "        word_list = [lemmatizer.lemmatize(word) for word in text.split() if word not in stopwords]\n",
    "\n",
    "        text = \" \".join(word_list)\n",
    "        array[i, 1] = text\n",
    "\n",
    "    return(array)"
   ]
  },
  {
   "cell_type": "code",
   "execution_count": 10,
   "metadata": {},
   "outputs": [],
   "source": [
    "import string\n",
    "import nltk\n",
    "\n",
    "array = x_train.copy()\n",
    "x_train_pp = preprocess(array)\n",
    "\n",
    "array = x_test.copy()\n",
    "x_test_pp = preprocess(array)"
   ]
  },
  {
   "cell_type": "code",
   "execution_count": 11,
   "metadata": {},
   "outputs": [
    {
     "name": "stdout",
     "output_type": "stream",
     "text": [
      "['join nlsiu age five year course' 'fanacially freedom'\n",
      " 'meaning ligamentum flavum hypertrophy'\n",
      " 'sephardic jew integrated host gentile society ashkenazi jew would'\n",
      " 'processor join ncc junior study'\n",
      " 'three piece advice would give college student want become entrepreneur'\n",
      " 'legal system prevent spouse child testifying spouse parent rationale'\n",
      " 'father name' 'key fact life would tell someone order maximise happiness'\n",
      " 'good teen writer quora'] \n",
      "\n",
      "['best melody'\n",
      " 'racist united state know racist think right donald trump acknowledge'\n",
      " 'best photo shopped picture seen' 'solve inequality x x'\n",
      " 'relationship faith reason islam' 'give strategy use academic reading'\n",
      " 'ordinary citizen india control population growth'\n",
      " 'people belief christianity islam begun fall information internet'\n",
      " 'best artificial intelligence startup mangalore'\n",
      " 'nigeria government insensitive plight people']\n"
     ]
    }
   ],
   "source": [
    "# displaying the top 10 records text column after preprocesing \n",
    "\n",
    "print(x_train_pp[:10, 1],'\\n')\n",
    "print(x_test_pp[:10, 1])"
   ]
  },
  {
   "cell_type": "markdown",
   "metadata": {},
   "source": [
    "Below function is for displaying the metrics of classification model: \n",
    " - Calculate and display the Accuracy score for the model (by comparing Actual and Predicted values)\n",
    " - Display the confusion matrix to view the TP, TN, FP, FN counts \n",
    " - Plot the Precision Recall curve to visualize the trade-off between Precision-Recall\n",
    " - Calculate and display the Area Under Curve (AUC)"
   ]
  },
  {
   "cell_type": "code",
   "execution_count": 12,
   "metadata": {},
   "outputs": [],
   "source": [
    "def report_metrics(y_test, y_pred, y_pred_prob, pred_prob = True):\n",
    "    print('Accuracy Score: {}'.format(accuracy_score(y_test, y_pred)))\n",
    "    print('\\nConfusion Matrix:\\n', confusion_matrix(y_test, y_pred))\n",
    "    print('\\nClassification Report:\\n ', classification_report(y_test, y_pred, target_names = ['Sincere', 'Insincere']))\n",
    "\n",
    "    if pred_prob: \n",
    "        precision, recall, thresholds = precision_recall_curve(y_test, y_pred_prob)\n",
    "        area = auc(recall, precision)\n",
    "\n",
    "        plt.plot(recall, precision, label = 'P-R curve')\n",
    "        plt.legend(loc = 'lower left')\n",
    "        plt.xlabel('Recall')\n",
    "        plt.ylabel('Precision')\n",
    "        plt.xlim([0.1, 1.0])\n",
    "        plt.ylim([0.1, 1.1])\n",
    "        plt.title('P-R curve with Area Under Curve: {:0.2f}'.format(area))\n",
    "        plt.show()"
   ]
  },
  {
   "cell_type": "markdown",
   "metadata": {},
   "source": [
    "Below function is to build a baseline model and report metrics of the model performance\n",
    " - Vectorize the input data using either Count or TFIDF Vectorizer (fit_transform)\n",
    " - Instantiate the model along with necessary parameters\n",
    " - Train the model on training data by performing a model.fit\n",
    " - Transform the test data using the previous vectorizer\n",
    " - Predict on the transformed test data\n",
    " - Pass the predicted target values, probabilities along with actual target values to display the metrics"
   ]
  },
  {
   "cell_type": "code",
   "execution_count": 13,
   "metadata": {},
   "outputs": [],
   "source": [
    "def model_baseline(x_train_pp, y_train, x_test_pp, y_test, vectorizer_type, model_type, pred_prob = True): \n",
    "\n",
    "    vectorizer = vectorizer_type\n",
    "    features_train = vectorizer.fit_transform(x_train_pp[:,1])\n",
    "    #features_train_dense = features_train.todense()\n",
    "\n",
    "    model = model_type\n",
    "    model.fit(features_train, y_train)\n",
    "\n",
    "    features_test = vectorizer.transform(x_test_pp[:,1])\n",
    "    #features_test_dense = features_test.todense()\n",
    "\n",
    "    y_pred = model.predict(features_test)\n",
    "    \n",
    "    if pred_prob:\n",
    "        y_pred_prob = model.predict_proba(features_test)[:, 1]\n",
    "    else: \n",
    "        y_pred_prob = 0\n",
    "    \n",
    "    report_metrics(y_test, y_pred, y_pred_prob, pred_prob)\n",
    "    \n",
    "    return(model)"
   ]
  },
  {
   "cell_type": "code",
   "execution_count": 14,
   "metadata": {},
   "outputs": [
    {
     "name": "stdout",
     "output_type": "stream",
     "text": [
      "Accuracy Score: 0.9353813762082496\n",
      "\n",
      "Confusion Matrix:\n",
      " [[234283  10780]\n",
      " [  6100  10062]]\n",
      "\n",
      "Classification Report:\n",
      "                precision    recall  f1-score   support\n",
      "\n",
      "     Sincere       0.97      0.96      0.97    245063\n",
      "   Insincere       0.48      0.62      0.54     16162\n",
      "\n",
      "    accuracy                           0.94    261225\n",
      "   macro avg       0.73      0.79      0.75    261225\n",
      "weighted avg       0.94      0.94      0.94    261225\n",
      "\n"
     ]
    },
    {
     "data": {
      "image/png": "[encoded data removed]",
      "text/plain": [
       "<Figure size 432x288 with 1 Axes>"
      ]
     },
     "metadata": {
      "needs_background": "light"
     },
     "output_type": "display_data"
    }
   ],
   "source": [
    "# Build a baseline model using Multinomial Naive Bayes Classifier (using Count Vectorizer)\n",
    "\n",
    "from sklearn.feature_extraction.text import CountVectorizer\n",
    "from sklearn.metrics import accuracy_score, confusion_matrix, classification_report, precision_recall_curve, auc\n",
    "from sklearn.naive_bayes import MultinomialNB\n",
    "\n",
    "model_mnb_countvect = model_baseline(x_train_pp, y_train, x_test_pp, y_test, CountVectorizer(), MultinomialNB())"
   ]
  },
  {
   "cell_type": "markdown",
   "metadata": {},
   "source": [
    "Trying TfidfVectorizer instead of CountVectorizer: \n",
    "    - Although accuracy has increased, Recall and F1 are significantly impacted. We will use CountVectorizer only for MNB"
   ]
  },
  {
   "cell_type": "code",
   "execution_count": 15,
   "metadata": {},
   "outputs": [
    {
     "name": "stdout",
     "output_type": "stream",
     "text": [
      "Accuracy Score: 0.9406871470954158\n",
      "\n",
      "Confusion Matrix:\n",
      " [[244663    400]\n",
      " [ 15094   1068]]\n",
      "\n",
      "Classification Report:\n",
      "                precision    recall  f1-score   support\n",
      "\n",
      "     Sincere       0.94      1.00      0.97    245063\n",
      "   Insincere       0.73      0.07      0.12     16162\n",
      "\n",
      "    accuracy                           0.94    261225\n",
      "   macro avg       0.83      0.53      0.55    261225\n",
      "weighted avg       0.93      0.94      0.92    261225\n",
      "\n"
     ]
    },
    {
     "data": {
      "image/png": "[encoded data removed]",
      "text/plain": [
       "<Figure size 432x288 with 1 Axes>"
      ]
     },
     "metadata": {
      "needs_background": "light"
     },
     "output_type": "display_data"
    }
   ],
   "source": [
    "# Build a baseline model using Multinomial Naive Bayes Classifier (using Tfidf Vectorizer)\n",
    "\n",
    "from sklearn.feature_extraction.text import TfidfVectorizer\n",
    "\n",
    "model_mbn_tfidf = model_baseline(x_train_pp, y_train, x_test_pp, y_test, TfidfVectorizer(), MultinomialNB())"
   ]
  },
  {
   "cell_type": "markdown",
   "metadata": {},
   "source": [
    " - Using Logistic Regression has improved the Accuracy. When compared to MNB (with count vectorizer), although recall is less\n",
    "   f1 score is same and AUC in PR curve has improved (from 0.52 to 0.59)"
   ]
  },
  {
   "cell_type": "code",
   "execution_count": 16,
   "metadata": {},
   "outputs": [
    {
     "name": "stdout",
     "output_type": "stream",
     "text": [
      "Accuracy Score: 0.9506517370083262\n",
      "\n",
      "Confusion Matrix:\n",
      " [[241825   3238]\n",
      " [  9653   6509]]\n",
      "\n",
      "Classification Report:\n",
      "                precision    recall  f1-score   support\n",
      "\n",
      "     Sincere       0.96      0.99      0.97    245063\n",
      "   Insincere       0.67      0.40      0.50     16162\n",
      "\n",
      "    accuracy                           0.95    261225\n",
      "   macro avg       0.81      0.69      0.74    261225\n",
      "weighted avg       0.94      0.95      0.94    261225\n",
      "\n"
     ]
    },
    {
     "data": {
      "image/png": "[encoded data removed]",
      "text/plain": [
       "<Figure size 432x288 with 1 Axes>"
      ]
     },
     "metadata": {
      "needs_background": "light"
     },
     "output_type": "display_data"
    }
   ],
   "source": [
    "# Build a baseline model using Logistic Regression (using Count Vectorizer)\n",
    "\n",
    "from sklearn.linear_model import LogisticRegression\n",
    "\n",
    "model_lr_cv = model_baseline(x_train_pp, y_train, x_test_pp, y_test, CountVectorizer(), LogisticRegression(max_iter=1000))"
   ]
  },
  {
   "cell_type": "markdown",
   "metadata": {},
   "source": [
    " - Logistic Regression using Tfidfvectorizer\n",
    "   - Overall metrics are matching MNB and Logistic Regression using CountVectorizer\n",
    "   - LR using CountVectorizer has slightly better results when compared with TfidfVectrizer"
   ]
  },
  {
   "cell_type": "code",
   "execution_count": 17,
   "metadata": {},
   "outputs": [
    {
     "name": "stdout",
     "output_type": "stream",
     "text": [
      "Accuracy Score: 0.9495186142214566\n",
      "\n",
      "Confusion Matrix:\n",
      " [[242135   2928]\n",
      " [ 10259   5903]]\n",
      "\n",
      "Classification Report:\n",
      "                precision    recall  f1-score   support\n",
      "\n",
      "     Sincere       0.96      0.99      0.97    245063\n",
      "   Insincere       0.67      0.37      0.47     16162\n",
      "\n",
      "    accuracy                           0.95    261225\n",
      "   macro avg       0.81      0.68      0.72    261225\n",
      "weighted avg       0.94      0.95      0.94    261225\n",
      "\n"
     ]
    },
    {
     "data": {
      "image/png": "[encoded data removed]",
      "text/plain": [
       "<Figure size 432x288 with 1 Axes>"
      ]
     },
     "metadata": {
      "needs_background": "light"
     },
     "output_type": "display_data"
    }
   ],
   "source": [
    "# Build a baseline model using Logistic Regregssion (using Tfidf Vectorizer)\n",
    "\n",
    "model_lr_tfidf = model_baseline(x_train_pp, y_train, x_test_pp, y_test,\n",
    "                                TfidfVectorizer(sublinear_tf = True), LogisticRegression(max_iter=1000))"
   ]
  },
  {
   "cell_type": "markdown",
   "metadata": {},
   "source": [
    " - Results for Linear SVC are similar to MNB and LR\n",
    " - predic_proba is not available for Linear SVC, hence PR curve is not shown"
   ]
  },
  {
   "cell_type": "code",
   "execution_count": 18,
   "metadata": {},
   "outputs": [
    {
     "name": "stdout",
     "output_type": "stream",
     "text": [
      "Accuracy Score: 0.9499818164417647\n",
      "\n",
      "Confusion Matrix:\n",
      " [[241855   3208]\n",
      " [  9858   6304]]\n",
      "\n",
      "Classification Report:\n",
      "                precision    recall  f1-score   support\n",
      "\n",
      "     Sincere       0.96      0.99      0.97    245063\n",
      "   Insincere       0.66      0.39      0.49     16162\n",
      "\n",
      "    accuracy                           0.95    261225\n",
      "   macro avg       0.81      0.69      0.73    261225\n",
      "weighted avg       0.94      0.95      0.94    261225\n",
      "\n"
     ]
    }
   ],
   "source": [
    "# Build a baseline model using Linear Support Vector Classifier (using Count Vectorizer)\n",
    "\n",
    "from sklearn.svm import LinearSVC\n",
    "\n",
    "model_linsvc = model_baseline(x_train_pp, y_train, x_test_pp, y_test, CountVectorizer(), \n",
    "                              LinearSVC(max_iter = 10000), pred_prob = False)"
   ]
  },
  {
   "cell_type": "markdown",
   "metadata": {},
   "source": [
    "For handling Class imbalance, below are our considerations:  \n",
    "    - Tried hyper parameter tuning on entire training dataset, however code is running for longer period. As Over Sampling\n",
    "      increase the volume of records & Class weights doesn't reduce volume of records, we didn't opt for these techniques\n",
    "    - Under Sampling -> Considering processing time and to explore hyper parameter tuning, we are chosing this method"
   ]
  },
  {
   "cell_type": "code",
   "execution_count": 19,
   "metadata": {},
   "outputs": [
    {
     "name": "stdout",
     "output_type": "stream",
     "text": [
      "Target counts in dataset after Under Sampling set:\n",
      "0:  80810\n",
      "1:  80810\n"
     ]
    },
    {
     "data": {
      "image/png": "[encoded data removed]",
      "text/plain": [
       "<Figure size 432x288 with 1 Axes>"
      ]
     },
     "metadata": {},
     "output_type": "display_data"
    }
   ],
   "source": [
    "# Perform under sampling to match the target variable's number of 1's (Insincere) with 0's (Sincere) on dataset \n",
    "\n",
    "from imblearn.under_sampling import RandomUnderSampler \n",
    "\n",
    "sampler = RandomUnderSampler(random_state = 32)\n",
    "x_resampled, y_resampled = sampler.fit_sample(x_dataset, y_dataset)\n",
    "\n",
    "target_distribution(y_resampled, 'dataset after Under Sampling')"
   ]
  },
  {
   "cell_type": "code",
   "execution_count": 20,
   "metadata": {},
   "outputs": [
    {
     "name": "stdout",
     "output_type": "stream",
     "text": [
      "x_train shape : (129296, 2)\n",
      "x_test shape  : (32324, 2)\n",
      "y_train shape : (129296,)\n",
      "y_test shape  : (32324,)\n",
      "\n",
      "\n",
      "Target counts in Training after Under Sampling set:\n",
      "0:  64648\n",
      "1:  64648\n"
     ]
    },
    {
     "data": {
      "image/png": "[encoded data removed]",
      "text/plain": [
       "<Figure size 432x288 with 1 Axes>"
      ]
     },
     "metadata": {},
     "output_type": "display_data"
    },
    {
     "name": "stdout",
     "output_type": "stream",
     "text": [
      "Target counts in Test after Under Sampling set:\n",
      "0:  16162\n",
      "1:  16162\n"
     ]
    },
    {
     "data": {
      "image/png": "[encoded data removed]",
      "text/plain": [
       "<Figure size 432x288 with 1 Axes>"
      ]
     },
     "metadata": {},
     "output_type": "display_data"
    }
   ],
   "source": [
    "# Perform a train test split of the undersampled dataset. 80%-20% split and stratified on target variable \n",
    "\n",
    "x_train_us, x_test_us, y_train_us, y_test_us = split_data(x_resampled, y_resampled)\n",
    "\n",
    "print('\\n')\n",
    "target_distribution(y_train_us, 'Training after Under Sampling')\n",
    "target_distribution(y_test_us, 'Test after Under Sampling')"
   ]
  },
  {
   "cell_type": "code",
   "execution_count": 21,
   "metadata": {},
   "outputs": [],
   "source": [
    "# preprocess the sampled data\n",
    "\n",
    "array = x_train_us.copy()\n",
    "x_train_us_pp = preprocess(array) \n",
    "\n",
    "array = x_test_us.copy()\n",
    "x_test_us_pp = preprocess(array) "
   ]
  },
  {
   "cell_type": "code",
   "execution_count": 22,
   "metadata": {},
   "outputs": [
    {
     "name": "stdout",
     "output_type": "stream",
     "text": [
      "['jewish people’s stance noel ignatieff’s position white race must eliminated'\n",
      " 'mma referee separate two fighter' 'wear first date female club'\n",
      " 'people damn unpopular'\n",
      " 'men find hypnotic ultimately sniff woman pantyhose sweat'\n",
      " 'talk severely depressed person' 'white culture racist'\n",
      " 'many piece clothing would pack going island hopping one country next'\n",
      " 'major characteristic mountain basin'\n",
      " 'religious afraid experience reality without safety net religion contemplation existence truly upsetting'] \n",
      "\n",
      "['jesus reply question quora' 'left winger hateful compared right winger'\n",
      " 'cause headache stomach virus' 'economics subject english'\n",
      " 'germany country full muslim like iraq first world country'\n",
      " 'jewish cemetery muslim christian etc'\n",
      " 'american using police violate civil right neighbor based race paid product placement story news intended race bait'\n",
      " 'eating walnut everyday control hair fall promote hair growth'\n",
      " 'check viteee result' 'safely escort muslim dreamland pakistan']\n"
     ]
    }
   ],
   "source": [
    "# display the top 10 records text column, from both train and test \n",
    "\n",
    "print(x_train_us_pp[:10, 1],'\\n')\n",
    "print(x_test_us_pp[:10, 1])"
   ]
  },
  {
   "cell_type": "markdown",
   "metadata": {},
   "source": [
    "Function for tuning hyper parameters on various models using randomized search cross validation:\n",
    " - Build a Pipeline of estimators / transformers\n",
    " - Perform a Randomized Search 5 fold cross validation on the training dataset\n",
    " - Optimize on f1 score\n",
    " - Predict on the test dataset and pass the actual and predicted values for metrics reporting"
   ]
  },
  {
   "cell_type": "code",
   "execution_count": 23,
   "metadata": {},
   "outputs": [],
   "source": [
    "def model_optimization(steps, parameters, pred_prob = True):\n",
    "    \n",
    "    # Create the pipeline \n",
    "    pipeline = Pipeline(steps)\n",
    "\n",
    "    # Create the RandomizedSearchCV object: model_cv\n",
    "    model_cv = RandomizedSearchCV(estimator = pipeline, param_distributions = parameters, \n",
    "                                  cv = 5, random_state = 337, scoring = 'f1')\n",
    "\n",
    "    # Fit to the training set\n",
    "    model_cv.fit(x_train_us_pp[:,1], y_train_us)\n",
    "\n",
    "    # Compute and print the metrics\n",
    "    print(\"Tuned best parameters: {}\".format(model_cv.best_params_))\n",
    "\n",
    "    # Predit on the test set using best parameters \n",
    "    y_pred = model_cv.predict(x_test_us_pp[:,1])\n",
    "    \n",
    "    if pred_prob:\n",
    "        y_pred_prob = model_cv.predict_proba(x_test_us_pp[:,1])[:,1]\n",
    "    else: \n",
    "        y_pred_prob = 0\n",
    "        \n",
    "    # Generate the metrics to evaluate model performance\n",
    "    report_metrics(y_test_us, y_pred, y_pred_prob, pred_prob)\n",
    "    \n",
    "    return(model_cv)"
   ]
  },
  {
   "cell_type": "markdown",
   "metadata": {},
   "source": [
    "Observations on hyper parameter tuning for Multinomial Naive Bayes: \n",
    " - Within count vectorizer, its chosen upto Trigrams (combination of upto 3-words) \n",
    " - Smoothing parameter alpha = 0.8 is chosen with MNB model\n",
    " - Although target distribution is of equal ratio, algorithm chose [0.94, 0.06] as priors. \n",
    "   Default is None (i.e use priors as per data)\n",
    " - With respect to baseline:\n",
    "   - Accuracy has dropped from baseline of 94% to 87% \n",
    "   - Significantly improved:\n",
    "     - f1 score (75% to 87%) \n",
    "     - AUC (52% to 92%) "
   ]
  },
  {
   "cell_type": "code",
   "execution_count": 24,
   "metadata": {},
   "outputs": [
    {
     "name": "stdout",
     "output_type": "stream",
     "text": [
      "Tuned best parameters: {'vectorizer__ngram_range': (1, 3), 'model_mnb__class_prior': [0.94, 0.06], 'model_mnb__alpha': 0.8}\n",
      "Accuracy Score: 0.8653941343893082\n",
      "\n",
      "Confusion Matrix:\n",
      " [[14326  1836]\n",
      " [ 2515 13647]]\n",
      "\n",
      "Classification Report:\n",
      "                precision    recall  f1-score   support\n",
      "\n",
      "     Sincere       0.85      0.89      0.87     16162\n",
      "   Insincere       0.88      0.84      0.86     16162\n",
      "\n",
      "    accuracy                           0.87     32324\n",
      "   macro avg       0.87      0.87      0.87     32324\n",
      "weighted avg       0.87      0.87      0.87     32324\n",
      "\n"
     ]
    },
    {
     "data": {
      "image/png": "[encoded data removed]",
      "text/plain": [
       "<Figure size 432x288 with 1 Axes>"
      ]
     },
     "metadata": {
      "needs_background": "light"
     },
     "output_type": "display_data"
    }
   ],
   "source": [
    "from sklearn.pipeline import Pipeline\n",
    "from sklearn.model_selection import RandomizedSearchCV\n",
    "\n",
    "# Specify the pipeline steps\n",
    "steps = [('vectorizer', CountVectorizer()), ('model_mnb', MultinomialNB())]\n",
    "\n",
    "# Specify the hyperparameter space\n",
    "parameters = {'vectorizer__ngram_range':[(1,1),(1,2),(1,3)], \n",
    "            'model_mnb__alpha': np.linspace(0.1,1,10), 'model_mnb__class_prior' : [None, [.06, .94], [.94, .06], [.5, .5]]}\n",
    "\n",
    "model_mnb_hyper = model_optimization(steps, parameters)"
   ]
  },
  {
   "cell_type": "code",
   "execution_count": 25,
   "metadata": {},
   "outputs": [
    {
     "name": "stdout",
     "output_type": "stream",
     "text": [
      "Hyper Parameters tuning results from Randomized Search Cross Validation for Multinomial NB Classifier: \n"
     ]
    },
    {
     "data": {
      "text/plain": [
       "{'mean_fit_time': array([4.47044926, 4.32629571, 1.42079678, 7.5103209 , 7.56952362,\n",
       "        7.58013339, 7.47792001, 1.37013822, 5.06065917, 7.90227509]),\n",
       " 'std_fit_time': array([0.30016989, 0.15066433, 0.17505606, 0.23900524, 0.24126615,\n",
       "        0.31887694, 0.14864547, 0.13239698, 1.00491935, 0.61099861]),\n",
       " 'mean_score_time': array([0.56993093, 0.5617177 , 0.29302864, 0.73266277, 0.8164259 ,\n",
       "        0.77593584, 0.73564277, 0.32335076, 0.68340459, 0.77493773]),\n",
       " 'std_score_time': array([0.01850761, 0.00600227, 0.00846814, 0.00826286, 0.13594673,\n",
       "        0.07684008, 0.01149322, 0.06280839, 0.22535365, 0.06141672]),\n",
       " 'param_vectorizer__ngram_range': masked_array(data=[(1, 2), (1, 2), (1, 1), (1, 3), (1, 3), (1, 3), (1, 3),\n",
       "                    (1, 1), (1, 2), (1, 3)],\n",
       "              mask=[False, False, False, False, False, False, False, False,\n",
       "                    False, False],\n",
       "        fill_value='?',\n",
       "             dtype=object),\n",
       " 'param_model_mnb__class_prior': masked_array(data=[None, list([0.5, 0.5]), None, list([0.06, 0.94]),\n",
       "                    list([0.94, 0.06]), list([0.94, 0.06]), None,\n",
       "                    list([0.06, 0.94]), list([0.06, 0.94]),\n",
       "                    list([0.94, 0.06])],\n",
       "              mask=[False, False, False, False, False, False, False, False,\n",
       "                    False, False],\n",
       "        fill_value='?',\n",
       "             dtype=object),\n",
       " 'param_model_mnb__alpha': masked_array(data=[0.1, 0.1, 0.9, 0.9, 0.2, 0.6, 0.7000000000000001,\n",
       "                    0.30000000000000004, 0.7000000000000001, 0.8],\n",
       "              mask=[False, False, False, False, False, False, False, False,\n",
       "                    False, False],\n",
       "        fill_value='?',\n",
       "             dtype=object),\n",
       " 'params': [{'vectorizer__ngram_range': (1, 2),\n",
       "   'model_mnb__class_prior': None,\n",
       "   'model_mnb__alpha': 0.1},\n",
       "  {'vectorizer__ngram_range': (1, 2),\n",
       "   'model_mnb__class_prior': [0.5, 0.5],\n",
       "   'model_mnb__alpha': 0.1},\n",
       "  {'vectorizer__ngram_range': (1, 1),\n",
       "   'model_mnb__class_prior': None,\n",
       "   'model_mnb__alpha': 0.9},\n",
       "  {'vectorizer__ngram_range': (1, 3),\n",
       "   'model_mnb__class_prior': [0.06, 0.94],\n",
       "   'model_mnb__alpha': 0.9},\n",
       "  {'vectorizer__ngram_range': (1, 3),\n",
       "   'model_mnb__class_prior': [0.94, 0.06],\n",
       "   'model_mnb__alpha': 0.2},\n",
       "  {'vectorizer__ngram_range': (1, 3),\n",
       "   'model_mnb__class_prior': [0.94, 0.06],\n",
       "   'model_mnb__alpha': 0.6},\n",
       "  {'vectorizer__ngram_range': (1, 3),\n",
       "   'model_mnb__class_prior': None,\n",
       "   'model_mnb__alpha': 0.7000000000000001},\n",
       "  {'vectorizer__ngram_range': (1, 1),\n",
       "   'model_mnb__class_prior': [0.06, 0.94],\n",
       "   'model_mnb__alpha': 0.30000000000000004},\n",
       "  {'vectorizer__ngram_range': (1, 2),\n",
       "   'model_mnb__class_prior': [0.06, 0.94],\n",
       "   'model_mnb__alpha': 0.7000000000000001},\n",
       "  {'vectorizer__ngram_range': (1, 3),\n",
       "   'model_mnb__class_prior': [0.94, 0.06],\n",
       "   'model_mnb__alpha': 0.8}],\n",
       " 'split0_test_score': array([0.85355406, 0.85355406, 0.85799224, 0.79292913, 0.85118763,\n",
       "        0.85971849, 0.85726426, 0.79424168, 0.8007769 , 0.86078941]),\n",
       " 'split1_test_score': array([0.8524149 , 0.8524149 , 0.85074137, 0.79003045, 0.85248796,\n",
       "        0.85864752, 0.85459519, 0.79075966, 0.79727883, 0.86011846]),\n",
       " 'split2_test_score': array([0.85581362, 0.85581362, 0.85672738, 0.79009951, 0.85465511,\n",
       "        0.86089614, 0.85868561, 0.79183544, 0.79637608, 0.86256974]),\n",
       " 'split3_test_score': array([0.85205094, 0.85315797, 0.85204746, 0.78796418, 0.85061679,\n",
       "        0.85648752, 0.85306584, 0.79028739, 0.79477505, 0.85914495]),\n",
       " 'split4_test_score': array([0.85349579, 0.85474495, 0.85606253, 0.78989328, 0.85155002,\n",
       "        0.85793717, 0.85636183, 0.79239413, 0.79744014, 0.86040067]),\n",
       " 'mean_test_score': array([0.85346586, 0.8539371 , 0.8547142 , 0.79018331, 0.8520995 ,\n",
       "        0.85873737, 0.85599455, 0.79190366, 0.7973294 , 0.86060465]),\n",
       " 'std_test_score': array([0.00131356, 0.00120373, 0.0028111 , 0.0015861 , 0.0014152 ,\n",
       "        0.00150553, 0.00197608, 0.00138799, 0.0019664 , 0.00112289]),\n",
       " 'rank_test_score': array([ 6,  5,  4, 10,  7,  2,  3,  9,  8,  1])}"
      ]
     },
     "execution_count": 25,
     "metadata": {},
     "output_type": "execute_result"
    }
   ],
   "source": [
    "print('Hyper Parameters tuning results from Randomized Search Cross Validation for Multinomial NB Classifier: ')\n",
    "model_mnb_hyper.cv_results_"
   ]
  },
  {
   "cell_type": "markdown",
   "metadata": {},
   "source": [
    "Observations on hyper parameter tuning for Logistic Regression: \n",
    " - Within count vectorizer, its chosen upto Trigrams (combination of upto 3-words) \n",
    " - Regularization parameter C = 3.72 is chosen\n",
    "   C is inverse of regularization strength and smaller values indicate stronger regularization\n",
    " - Class weights of None is chosen - both classes are weighed equally \n",
    " - With respect to baseline: \n",
    "   - Accuracy has dropped from baseline of 95% to 88% -> 1% better than MultinomialNB\n",
    "   - Significantly improved: \n",
    "     - f1 score (74% to 88%) -> 1% better than MultinomialNB\n",
    "     - AUC (59% to 94%) -> 2% better than MultinomialNB"
   ]
  },
  {
   "cell_type": "code",
   "execution_count": 26,
   "metadata": {},
   "outputs": [
    {
     "name": "stdout",
     "output_type": "stream",
     "text": [
      "Tuned best parameters: {'vectorizer__ngram_range': (1, 3), 'model_lr__class_weight': None, 'model_lr__C': 3.727593720314938}\n",
      "Accuracy Score: 0.8820071773295384\n",
      "\n",
      "Confusion Matrix:\n",
      " [[14543  1619]\n",
      " [ 2195 13967]]\n",
      "\n",
      "Classification Report:\n",
      "                precision    recall  f1-score   support\n",
      "\n",
      "     Sincere       0.87      0.90      0.88     16162\n",
      "   Insincere       0.90      0.86      0.88     16162\n",
      "\n",
      "    accuracy                           0.88     32324\n",
      "   macro avg       0.88      0.88      0.88     32324\n",
      "weighted avg       0.88      0.88      0.88     32324\n",
      "\n"
     ]
    },
    {
     "data": {
      "image/png": "[encoded data removed]",
      "text/plain": [
       "<Figure size 432x288 with 1 Axes>"
      ]
     },
     "metadata": {
      "needs_background": "light"
     },
     "output_type": "display_data"
    }
   ],
   "source": [
    "# Specify the pipeline steps\n",
    "steps = [('vectorizer', CountVectorizer()), ('model_lr', LogisticRegression(random_state = 337, max_iter = 10000))]\n",
    "\n",
    "# Specify the hyperparameter space\n",
    "parameters = {'vectorizer__ngram_range': [(1,1),(1,2),(1,3)],               \n",
    "              'model_lr__C': np.logspace(-5, 8, 15),\n",
    "              'model_lr__class_weight': [None, 'balanced', {0: 0.06, 1: .94}, {0: 1, 1: 100}, {0: 100, 1: 1}]}\n",
    "             \n",
    "model_lr_hyper = model_optimization(steps, parameters)"
   ]
  },
  {
   "cell_type": "code",
   "execution_count": 27,
   "metadata": {},
   "outputs": [
    {
     "name": "stdout",
     "output_type": "stream",
     "text": [
      "Hyper Parameters tuning results from Randomized Search Cross Validation for Logistic Regression: \n"
     ]
    },
    {
     "data": {
      "text/plain": [
       "{'mean_fit_time': array([  1.63486738,  12.55974617,   2.54372549,  16.31912727,\n",
       "          9.97315884,   7.15128875, 187.98808522,   6.09645281,\n",
       "         49.63937569, 301.96243672]),\n",
       " 'std_fit_time': array([ 0.12485281,  0.27215301,  0.21441588,  0.37809277,  0.35674469,\n",
       "         0.20342952, 11.49384432,  0.23475121,  1.92481713, 17.30825546]),\n",
       " 'mean_score_time': array([0.33811483, 0.7743485 , 0.32793484, 0.56430988, 0.58984041,\n",
       "        0.56213465, 0.83617706, 0.57347279, 0.85303636, 0.78191037]),\n",
       " 'std_score_time': array([0.04456231, 0.10655381, 0.02446305, 0.01289509, 0.05568503,\n",
       "        0.00318077, 0.09323368, 0.01299423, 0.14771811, 0.05761467]),\n",
       " 'param_vectorizer__ngram_range': masked_array(data=[(1, 1), (1, 3), (1, 1), (1, 2), (1, 2), (1, 2), (1, 3),\n",
       "                    (1, 2), (1, 3), (1, 3)],\n",
       "              mask=[False, False, False, False, False, False, False, False,\n",
       "                    False, False],\n",
       "        fill_value='?',\n",
       "             dtype=object),\n",
       " 'param_model_lr__class_weight': masked_array(data=[None, {0: 100, 1: 1}, {0: 100, 1: 1}, {0: 100, 1: 1},\n",
       "                    None, {0: 100, 1: 1}, {0: 100, 1: 1}, 'balanced', None,\n",
       "                    {0: 0.06, 1: 0.94}],\n",
       "              mask=[False, False, False, False, False, False, False, False,\n",
       "                    False, False],\n",
       "        fill_value='?',\n",
       "             dtype=object),\n",
       " 'param_model_lr__C': masked_array(data=[8.483428982440725e-05, 0.0007196856730011522,\n",
       "                    0.006105402296585327, 0.05179474679231213,\n",
       "                    0.05179474679231213, 0.0007196856730011522,\n",
       "                    2275.845926074791, 0.0007196856730011522,\n",
       "                    3.727593720314938, 163789.3706954068],\n",
       "              mask=[False, False, False, False, False, False, False, False,\n",
       "                    False, False],\n",
       "        fill_value='?',\n",
       "             dtype=object),\n",
       " 'params': [{'vectorizer__ngram_range': (1, 1),\n",
       "   'model_lr__class_weight': None,\n",
       "   'model_lr__C': 8.483428982440725e-05},\n",
       "  {'vectorizer__ngram_range': (1, 3),\n",
       "   'model_lr__class_weight': {0: 100, 1: 1},\n",
       "   'model_lr__C': 0.0007196856730011522},\n",
       "  {'vectorizer__ngram_range': (1, 1),\n",
       "   'model_lr__class_weight': {0: 100, 1: 1},\n",
       "   'model_lr__C': 0.006105402296585327},\n",
       "  {'vectorizer__ngram_range': (1, 2),\n",
       "   'model_lr__class_weight': {0: 100, 1: 1},\n",
       "   'model_lr__C': 0.05179474679231213},\n",
       "  {'vectorizer__ngram_range': (1, 2),\n",
       "   'model_lr__class_weight': None,\n",
       "   'model_lr__C': 0.05179474679231213},\n",
       "  {'vectorizer__ngram_range': (1, 2),\n",
       "   'model_lr__class_weight': {0: 100, 1: 1},\n",
       "   'model_lr__C': 0.0007196856730011522},\n",
       "  {'vectorizer__ngram_range': (1, 3),\n",
       "   'model_lr__class_weight': {0: 100, 1: 1},\n",
       "   'model_lr__C': 2275.845926074791},\n",
       "  {'vectorizer__ngram_range': (1, 2),\n",
       "   'model_lr__class_weight': 'balanced',\n",
       "   'model_lr__C': 0.0007196856730011522},\n",
       "  {'vectorizer__ngram_range': (1, 3),\n",
       "   'model_lr__class_weight': None,\n",
       "   'model_lr__C': 3.727593720314938},\n",
       "  {'vectorizer__ngram_range': (1, 3),\n",
       "   'model_lr__class_weight': {0: 0.06, 1: 0.94},\n",
       "   'model_lr__C': 163789.3706954068}],\n",
       " 'split0_test_score': array([0.70267792, 0.01914828, 0.11602009, 0.48096705, 0.8596309 ,\n",
       "        0.01808568, 0.83404361, 0.75315819, 0.87670586, 0.83053621]),\n",
       " 'split1_test_score': array([0.7104988 , 0.02232245, 0.12252592, 0.47720117, 0.85722305,\n",
       "        0.02141655, 0.83448418, 0.75446701, 0.87698256, 0.83346668]),\n",
       " 'split2_test_score': array([0.71056718, 0.01808706, 0.1221795 , 0.4828027 , 0.86258536,\n",
       "        0.01641482, 0.84017207, 0.75787822, 0.88074622, 0.83511125]),\n",
       " 'split3_test_score': array([0.71152191, 0.02323626, 0.1286499 , 0.48517832, 0.85651689,\n",
       "        0.02096725, 0.83636065, 0.7567403 , 0.87547051, 0.83382408]),\n",
       " 'split4_test_score': array([0.70492775, 0.02050968, 0.12566961, 0.47775966, 0.85406056,\n",
       "        0.0194487 , 0.82927641, 0.74903813, 0.87378258, 0.82937612]),\n",
       " 'mean_test_score': array([0.70803871, 0.02066075, 0.123009  , 0.48078178, 0.85800335,\n",
       "        0.0192666 , 0.83486738, 0.75425637, 0.87673755, 0.83246287]),\n",
       " 'std_test_score': array([0.00354948, 0.00191461, 0.00421105, 0.00301337, 0.00289854,\n",
       "        0.00184797, 0.00353423, 0.00309089, 0.00230077, 0.00215009]),\n",
       " 'rank_test_score': array([ 6,  9,  8,  7,  2, 10,  3,  5,  1,  4])}"
      ]
     },
     "execution_count": 27,
     "metadata": {},
     "output_type": "execute_result"
    }
   ],
   "source": [
    "print('Hyper Parameters tuning results from Randomized Search Cross Validation for Logistic Regression: ')\n",
    "model_lr_hyper.cv_results_"
   ]
  },
  {
   "cell_type": "markdown",
   "metadata": {},
   "source": [
    "Observations on hyper parameter tuning for Linear SVC: \n",
    " - Within count vectorizer, its chosen upto Bigrams (combination of upto 2-words) \n",
    " - Regularization parameter C = 0.05 is chosen\n",
    "   C is inverse of regularization strength and smaller values indicate stronger regularization\n",
    " - Class weights of None is chosen - both classes are weighed equally \n",
    " - With respect to baseline: \n",
    "   - Accuracy has dropped from baseline of 95% to 88% -> 1% better than MultinomialNB and same as LR\n",
    "   - Significantly improved: \n",
    "     - f1 score (73% to 88%) -> 1% better than MultinomialNB and same as LR\n",
    "     - AUC - Not Applicable as predict_proba is not present for this model"
   ]
  },
  {
   "cell_type": "code",
   "execution_count": 28,
   "metadata": {},
   "outputs": [
    {
     "name": "stdout",
     "output_type": "stream",
     "text": [
      "Tuned best parameters: {'vectorizer__ngram_range': (1, 2), 'model_lsvc__class_weight': None, 'model_lsvc__C': 0.05179474679231213}\n",
      "Accuracy Score: 0.8828115332260859\n",
      "\n",
      "Confusion Matrix:\n",
      " [[14617  1545]\n",
      " [ 2243 13919]]\n",
      "\n",
      "Classification Report:\n",
      "                precision    recall  f1-score   support\n",
      "\n",
      "     Sincere       0.87      0.90      0.89     16162\n",
      "   Insincere       0.90      0.86      0.88     16162\n",
      "\n",
      "    accuracy                           0.88     32324\n",
      "   macro avg       0.88      0.88      0.88     32324\n",
      "weighted avg       0.88      0.88      0.88     32324\n",
      "\n"
     ]
    }
   ],
   "source": [
    "# Specify the pipeline steps\n",
    "steps = [('vectorizer', CountVectorizer()), ('model_lsvc', LinearSVC(max_iter = 20000))]\n",
    "\n",
    "# Specify the hyperparameter space\n",
    "parameters = {'vectorizer__ngram_range': [(1,1),(1,2),(1,3)],               \n",
    "              'model_lsvc__C': np.logspace(-5, 8, 15),\n",
    "              'model_lsvc__class_weight': [None, 'balanced', {0: 0.06, 1: .94}, {0: 1, 1: 100}, {0: 100, 1: 1}]}\n",
    "             \n",
    "model_lsvc_hyper = model_optimization(steps, parameters, pred_prob = False)"
   ]
  },
  {
   "cell_type": "code",
   "execution_count": 29,
   "metadata": {},
   "outputs": [
    {
     "name": "stdout",
     "output_type": "stream",
     "text": [
      "Hyper Parameters tuning results from Randomized Search Cross Validation for Linear SVC: \n"
     ]
    },
    {
     "data": {
      "text/plain": [
       "{'mean_fit_time': array([  1.89693322,   8.78271971,   4.5472331 ,  13.78246884,\n",
       "          6.63219557,   5.63478055, 544.50005937,   5.68686838,\n",
       "         40.12712946, 663.07982421]),\n",
       " 'std_fit_time': array([ 0.19491445,  0.42357294,  0.26322759,  1.84531521,  0.51931232,\n",
       "         0.3719378 ,  9.51706467,  0.14504012,  6.36320343, 12.28859372]),\n",
       " 'mean_score_time': array([0.31177793, 0.75201612, 0.35626531, 0.64388919, 0.63272409,\n",
       "        0.6219574 , 0.76338334, 0.71309376, 0.83444495, 0.93348188]),\n",
       " 'std_score_time': array([0.0075523 , 0.06342928, 0.0956736 , 0.13818627, 0.14900261,\n",
       "        0.09673854, 0.04110142, 0.13514035, 0.02117514, 0.19805874]),\n",
       " 'param_vectorizer__ngram_range': masked_array(data=[(1, 1), (1, 3), (1, 1), (1, 2), (1, 2), (1, 2), (1, 3),\n",
       "                    (1, 2), (1, 3), (1, 3)],\n",
       "              mask=[False, False, False, False, False, False, False, False,\n",
       "                    False, False],\n",
       "        fill_value='?',\n",
       "             dtype=object),\n",
       " 'param_model_lsvc__class_weight': masked_array(data=[None, {0: 100, 1: 1}, {0: 100, 1: 1}, {0: 100, 1: 1},\n",
       "                    None, {0: 100, 1: 1}, {0: 100, 1: 1}, 'balanced', None,\n",
       "                    {0: 0.06, 1: 0.94}],\n",
       "              mask=[False, False, False, False, False, False, False, False,\n",
       "                    False, False],\n",
       "        fill_value='?',\n",
       "             dtype=object),\n",
       " 'param_model_lsvc__C': masked_array(data=[8.483428982440725e-05, 0.0007196856730011522,\n",
       "                    0.006105402296585327, 0.05179474679231213,\n",
       "                    0.05179474679231213, 0.0007196856730011522,\n",
       "                    2275.845926074791, 0.0007196856730011522,\n",
       "                    3.727593720314938, 163789.3706954068],\n",
       "              mask=[False, False, False, False, False, False, False, False,\n",
       "                    False, False],\n",
       "        fill_value='?',\n",
       "             dtype=object),\n",
       " 'params': [{'vectorizer__ngram_range': (1, 1),\n",
       "   'model_lsvc__class_weight': None,\n",
       "   'model_lsvc__C': 8.483428982440725e-05},\n",
       "  {'vectorizer__ngram_range': (1, 3),\n",
       "   'model_lsvc__class_weight': {0: 100, 1: 1},\n",
       "   'model_lsvc__C': 0.0007196856730011522},\n",
       "  {'vectorizer__ngram_range': (1, 1),\n",
       "   'model_lsvc__class_weight': {0: 100, 1: 1},\n",
       "   'model_lsvc__C': 0.006105402296585327},\n",
       "  {'vectorizer__ngram_range': (1, 2),\n",
       "   'model_lsvc__class_weight': {0: 100, 1: 1},\n",
       "   'model_lsvc__C': 0.05179474679231213},\n",
       "  {'vectorizer__ngram_range': (1, 2),\n",
       "   'model_lsvc__class_weight': None,\n",
       "   'model_lsvc__C': 0.05179474679231213},\n",
       "  {'vectorizer__ngram_range': (1, 2),\n",
       "   'model_lsvc__class_weight': {0: 100, 1: 1},\n",
       "   'model_lsvc__C': 0.0007196856730011522},\n",
       "  {'vectorizer__ngram_range': (1, 3),\n",
       "   'model_lsvc__class_weight': {0: 100, 1: 1},\n",
       "   'model_lsvc__C': 2275.845926074791},\n",
       "  {'vectorizer__ngram_range': (1, 2),\n",
       "   'model_lsvc__class_weight': 'balanced',\n",
       "   'model_lsvc__C': 0.0007196856730011522},\n",
       "  {'vectorizer__ngram_range': (1, 3),\n",
       "   'model_lsvc__class_weight': None,\n",
       "   'model_lsvc__C': 3.727593720314938},\n",
       "  {'vectorizer__ngram_range': (1, 3),\n",
       "   'model_lsvc__class_weight': {0: 0.06, 1: 0.94},\n",
       "   'model_lsvc__C': 163789.3706954068}],\n",
       " 'split0_test_score': array([0.75789199, 0.14753864, 0.22139867, 0.8113257 , 0.87564665,\n",
       "        0.09694028, 0.8441665 , 0.81689907, 0.8680271 , 0.81307221]),\n",
       " 'split1_test_score': array([0.75830986, 0.15608089, 0.22676885, 0.81228132, 0.87747255,\n",
       "        0.09828118, 0.83955063, 0.81478095, 0.86987382, 0.82847463]),\n",
       " 'split2_test_score': array([0.76181802, 0.15174875, 0.22701149, 0.81367327, 0.88131981,\n",
       "        0.09555359, 0.84848723, 0.8162048 , 0.87104412, 0.82182166]),\n",
       " 'split3_test_score': array([0.76193356, 0.15543525, 0.22287712, 0.80927835, 0.87461581,\n",
       "        0.09985316, 0.84104472, 0.81644288, 0.86934023, 0.82366343]),\n",
       " 'split4_test_score': array([0.75306495, 0.15237552, 0.22693096, 0.80782871, 0.87347942,\n",
       "        0.09732432, 0.83789391, 0.81180382, 0.86658497, 0.81348225]),\n",
       " 'mean_test_score': array([0.75860368, 0.15263581, 0.22499742, 0.81087747, 0.87650685,\n",
       "        0.0975905 , 0.8422286 , 0.8152263 , 0.86897405, 0.82010284]),\n",
       " 'std_test_score': array([0.00324624, 0.00305094, 0.00238243, 0.00208999, 0.00274148,\n",
       "        0.00143103, 0.00374936, 0.00185188, 0.00153839, 0.00598299]),\n",
       " 'rank_test_score': array([ 7,  9,  8,  6,  1, 10,  3,  5,  2,  4])}"
      ]
     },
     "execution_count": 29,
     "metadata": {},
     "output_type": "execute_result"
    }
   ],
   "source": [
    "print('Hyper Parameters tuning results from Randomized Search Cross Validation for Linear SVC: ')\n",
    "model_lsvc_hyper.cv_results_"
   ]
  },
  {
   "cell_type": "markdown",
   "metadata": {},
   "source": [
    "Use dropped records by under sampler for scoring purpose\n",
    "\n",
    "__Note:__ only those records with Target value '0' (i.e Sincere) were dropped by under sampler "
   ]
  },
  {
   "cell_type": "code",
   "execution_count": 76,
   "metadata": {},
   "outputs": [
    {
     "data": {
      "text/plain": [
       "(1144502, 3)"
      ]
     },
     "execution_count": 76,
     "metadata": {},
     "output_type": "execute_result"
    }
   ],
   "source": [
    "resampled_array = np.hstack([x_resampled, y_resampled.reshape(-1,1)])\n",
    "resampled_df = pd.DataFrame(resampled_array, columns = dataset_df.columns)\n",
    "\n",
    "temp_df = pd.merge(dataset_df, resampled_df, how = 'left', indicator = 'true')\n",
    "dropped_df = temp_df.loc[temp_df['true'] == 'left_only', temp_df.columns[:-1]]\n",
    "\n",
    "dropped_df.shape"
   ]
  },
  {
   "cell_type": "markdown",
   "metadata": {},
   "source": [
    "Score the dropped records from under sampling, to evaluate the best fit model's performance\n",
    " - We chose Logistic Regression as the best fit model based on f1, AUC and accuracy\n",
    "\n",
    "__Observations:__ \n",
    " - As there are no records with Target variable as '1' (Insincere):\n",
    "   - TP and FN will be zeroes, so precision and recall will be zeroes as well. Thus, AUC will not be available\n",
    " - The model accuracy is in line with previous test run \n",
    " - Recall has improve to 95% from 88%, but thats due to the fact that we had no True Positive's in the dataset \n",
    "\n",
    "__Conclusion:__ It is safe to assume that Logisitic Regression is the best performing model on our data and built model is generalized "
   ]
  },
  {
   "cell_type": "code",
   "execution_count": 78,
   "metadata": {},
   "outputs": [
    {
     "name": "stdout",
     "output_type": "stream",
     "text": [
      "Accuracy Score: 0.8979023190872537\n",
      "\n",
      "Confusion Matrix:\n",
      " [[1027651  116851]\n",
      " [      0       0]]\n",
      "\n",
      "Classification Report:\n",
      "                precision    recall  f1-score   support\n",
      "\n",
      "     Sincere       1.00      0.90      0.95   1144502\n",
      "   Insincere       0.00      0.00      0.00         0\n",
      "\n",
      "    accuracy                           0.90   1144502\n",
      "   macro avg       0.50      0.45      0.47   1144502\n",
      "weighted avg       1.00      0.90      0.95   1144502\n",
      "\n"
     ]
    },
    {
     "data": {
      "image/png": "[encoded data removed]",
      "text/plain": [
       "<Figure size 432x288 with 1 Axes>"
      ]
     },
     "metadata": {
      "needs_background": "light"
     },
     "output_type": "display_data"
    }
   ],
   "source": [
    "# Set up x and y for scoring dataset\n",
    "x_score = dropped_df.drop('target', axis=1).values\n",
    "\n",
    "# target variable is currently of type Object, converting to int64 \n",
    "# This is being done so that accuracy_score works fine when it compares y_pred (which is int64) with y_score \n",
    "y_score = dropped_df['target'].astype('int64').values \n",
    "\n",
    "# Preprocess the x_score prior to passing it to model \n",
    "array = x_score\n",
    "x_score_pp = preprocess(array)\n",
    "\n",
    "# Use the best fit model and predict on the dropped dataset to obtain predicted and probabilities for target variable\n",
    "y_pred = model_lr_hyper.predict(x_score_pp[:,1])\n",
    "y_pred_prob = model_lr_hyper.predict_proba(x_score_pp[:,1])[:,1]\n",
    "\n",
    "# Generate the metrics to evaluate model performance for generalization \n",
    "report_metrics(y_score, y_pred, y_pred_prob)"
   ]
  }
 ],
 "metadata": {
  "kernelspec": {
   "display_name": "Python 3",
   "language": "python",
   "name": "python3"
  },
  "language_info": {
   "codemirror_mode": {
    "name": "ipython",
    "version": 3
   },
   "file_extension": ".py",
   "mimetype": "text/x-python",
   "name": "python",
   "nbconvert_exporter": "python",
   "pygments_lexer": "ipython3",
   "version": "3.7.4"
  }
 },
 "nbformat": 4,
 "nbformat_minor": 2
}
