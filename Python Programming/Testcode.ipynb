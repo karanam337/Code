{
 "cells": [
  {
   "cell_type": "code",
   "execution_count": null,
   "metadata": {},
   "outputs": [],
   "source": [
    "print(\"hello world\")"
   ]
  },
  {
   "cell_type": "code",
   "execution_count": null,
   "metadata": {},
   "outputs": [],
   "source": [
    "print(\"test data\")\n",
    "print(\"abc\")"
   ]
  },
  {
   "cell_type": "markdown",
   "metadata": {},
   "source": [
    "# INSY5336 Homework Assignment 1\n",
    "Program a 6 faced dice\n",
    "\n",
    "## Execution Instructions\n",
    "1. Run the next cell\n",
    "2. Proceed to second *cell* if the first cell __executes__ correctly \n",
    "\n",
    "``` x=0.6 ```\n",
    "``` print (\"test data\") ```\n",
    "- test2\n",
    " - test2.1\n",
    "   - test2.3\n",
    "   click here [Google](https://www.google.com)\n"
   ]
  },
  {
   "cell_type": "code",
   "execution_count": 1,
   "metadata": {},
   "outputs": [
    {
     "name": "stdout",
     "output_type": "stream",
     "text": [
      "12.2\n",
      "14\n",
      "12\n",
      "12\n",
      "ABC\n",
      "52\n",
      "7.5\n"
     ]
    }
   ],
   "source": [
    "x=12.2\n",
    "print(x)\n",
    "y=14\n",
    "print(y)\n",
    "x=12\n",
    "print(x)\n",
    "x='12'\n",
    "print(x)\n",
    "### above 12's are different -> one being interger and other being a string\n",
    "x='ABC'\n",
    "print(x)\n",
    "\n",
    "x='5'\n",
    "y='2'\n",
    "print(x+y)\n",
    "\n",
    "x=5\n",
    "y=2.5\n",
    "print(x+y)"
   ]
  },
  {
   "cell_type": "code",
   "execution_count": null,
   "metadata": {},
   "outputs": [],
   "source": [
    "x='12'"
   ]
  },
  {
   "cell_type": "code",
   "execution_count": null,
   "metadata": {},
   "outputs": [],
   "source": [
    "print(x)"
   ]
  },
  {
   "cell_type": "code",
   "execution_count": null,
   "metadata": {},
   "outputs": [],
   "source": [
    "x= (1 + (2 * 3) - (4 / (5 ** 6)))\n",
    "print(x)"
   ]
  },
  {
   "cell_type": "code",
   "execution_count": 2,
   "metadata": {},
   "outputs": [
    {
     "name": "stdout",
     "output_type": "stream",
     "text": [
      "16\n"
     ]
    }
   ],
   "source": [
    "x = 2 ** 4\n",
    "print (x)"
   ]
  },
  {
   "cell_type": "code",
   "execution_count": 3,
   "metadata": {},
   "outputs": [
    {
     "ename": "TypeError",
     "evalue": "unsupported operand type(s) for +: 'int' and 'str'",
     "output_type": "error",
     "traceback": [
      "\u001b[1;31m---------------------------------------------------------------------------\u001b[0m",
      "\u001b[1;31mTypeError\u001b[0m                                 Traceback (most recent call last)",
      "\u001b[1;32m<ipython-input-3-20d8f199aa4a>\u001b[0m in \u001b[0;36m<module>\u001b[1;34m\u001b[0m\n\u001b[1;32m----> 1\u001b[1;33m \u001b[0mddd\u001b[0m \u001b[1;33m=\u001b[0m \u001b[1;36m1\u001b[0m\u001b[1;33m+\u001b[0m\u001b[1;34m'4'\u001b[0m\u001b[1;33m\u001b[0m\u001b[1;33m\u001b[0m\u001b[0m\n\u001b[0m\u001b[0;32m      2\u001b[0m \u001b[0mprint\u001b[0m\u001b[1;33m(\u001b[0m\u001b[0mddd\u001b[0m\u001b[1;33m)\u001b[0m\u001b[1;33m\u001b[0m\u001b[1;33m\u001b[0m\u001b[0m\n",
      "\u001b[1;31mTypeError\u001b[0m: unsupported operand type(s) for +: 'int' and 'str'"
     ]
    }
   ],
   "source": [
    "ddd = 1+'4'\n",
    "print(ddd)"
   ]
  },
  {
   "cell_type": "code",
   "execution_count": 4,
   "metadata": {},
   "outputs": [
    {
     "name": "stdout",
     "output_type": "stream",
     "text": [
      "HelloWorld\n"
     ]
    }
   ],
   "source": [
    "mystr='Hello'+'World'\n",
    "print(mystr)"
   ]
  },
  {
   "cell_type": "code",
   "execution_count": 5,
   "metadata": {},
   "outputs": [
    {
     "name": "stdout",
     "output_type": "stream",
     "text": [
      "helloworlds\n",
      "<class 'str'>\n"
     ]
    },
    {
     "data": {
      "text/plain": [
       "int"
      ]
     },
     "execution_count": 5,
     "metadata": {},
     "output_type": "execute_result"
    }
   ],
   "source": [
    "var1='hello'\n",
    "mystr = var1 + 'worlds' \n",
    "print(mystr)\n",
    "print(type(mystr))\n",
    "x=10\n",
    "type(x)"
   ]
  },
  {
   "cell_type": "code",
   "execution_count": 6,
   "metadata": {},
   "outputs": [
    {
     "name": "stdout",
     "output_type": "stream",
     "text": [
      "2.0\n",
      "0\n",
      "2\n"
     ]
    }
   ],
   "source": [
    "x=4\n",
    "y=2\n",
    "print(x/y) #to get quotient for division - will be float always\n",
    "print(x%y) #modulo operator for remainder\n",
    "print(x//y) #floor operator for getting integer part of quotient"
   ]
  },
  {
   "cell_type": "code",
   "execution_count": null,
   "metadata": {},
   "outputs": [],
   "source": [
    "# to separate integer and decimal values\n",
    "var1=99.6\n",
    "#var2='98.0'\n",
    "print(int(var1))\n",
    "print(var1-int(var1))\n",
    "#print(int(var2))"
   ]
  },
  {
   "cell_type": "code",
   "execution_count": null,
   "metadata": {},
   "outputs": [],
   "source": [
    "i=5\n",
    "print(type(i))\n",
    "i=float(i)\n",
    "print(type(i))"
   ]
  },
  {
   "cell_type": "code",
   "execution_count": null,
   "metadata": {},
   "outputs": [],
   "source": [
    "x=10.0\n",
    "y=10.5\n",
    "\n",
    "#Convert only if decimal part is greater than zero without using conditional statement "
   ]
  },
  {
   "cell_type": "code",
   "execution_count": null,
   "metadata": {},
   "outputs": [],
   "source": [
    "svar='123'\n",
    "myoutput=int(svar)+1\n",
    "print(myoutput)\n",
    "\n",
    "svar1='123.0'\n",
    "myoutput1=float(svar1)+1\n",
    "print(myoutput1)\n",
    "\n",
    "x=123.5\n",
    "y=5\n",
    "z=x+y\n",
    "print(z)"
   ]
  },
  {
   "cell_type": "code",
   "execution_count": null,
   "metadata": {},
   "outputs": [],
   "source": [
    "x=123\n",
    "print(x)\n",
    "y=str(x)\n",
    "print(y)"
   ]
  },
  {
   "cell_type": "code",
   "execution_count": null,
   "metadata": {},
   "outputs": [],
   "source": [
    "x=123.0\n",
    "y=str(x)\n",
    "print(type(y),y)"
   ]
  },
  {
   "cell_type": "code",
   "execution_count": null,
   "metadata": {},
   "outputs": [],
   "source": [
    "name = input('whats your name? ')\n",
    "print('hello', name) # this statement is test comments "
   ]
  },
  {
   "cell_type": "code",
   "execution_count": null,
   "metadata": {},
   "outputs": [],
   "source": [
    "print('this is a program to add two numbers')\n",
    "num1 = input ('enter first number: ')\n",
    "num2 = input ('enter second number: ')\n",
    "print('Sum of both inputs is: ', float(num1) + float(num2))\n"
   ]
  },
  {
   "cell_type": "code",
   "execution_count": null,
   "metadata": {},
   "outputs": [],
   "source": [
    "print('this is a program to add two numbers')\n",
    "num1 = input ('enter first number: ')\n",
    "num2 = input ('enter second number: ')\n",
    "num3 = float (num1) + float (num2)\n",
    "print('Sum of both inputs is: ', num3) \n"
   ]
  },
  {
   "cell_type": "code",
   "execution_count": null,
   "metadata": {},
   "outputs": [],
   "source": [
    "x=5\n",
    "y=6\n",
    "z=x+y\n",
    "print(z)\n",
    "\n",
    "a=1\n",
    "b=3\n",
    "print(a+b)\n",
    "\n",
    "print('this is a program to add two numbers')\n",
    "num1 = input ('enter first number: ')\n",
    "num2 = input ('enter second number: ')\n",
    "num3 = num1 + num2\n",
    "print('Sum of both inputs is: ', num3)"
   ]
  },
  {
   "cell_type": "code",
   "execution_count": 11,
   "metadata": {},
   "outputs": [
    {
     "name": "stdout",
     "output_type": "stream",
     "text": [
      "2 <class 'int'>\n",
      "True <class 'bool'>\n",
      "6.5\n",
      "5.0\n",
      "4.5\n"
     ]
    },
    {
     "ename": "ZeroDivisionError",
     "evalue": "division by zero",
     "output_type": "error",
     "traceback": [
      "\u001b[1;31m---------------------------------------------------------------------------\u001b[0m",
      "\u001b[1;31mZeroDivisionError\u001b[0m                         Traceback (most recent call last)",
      "\u001b[1;32m<ipython-input-11-45740a672546>\u001b[0m in \u001b[0;36m<module>\u001b[1;34m\u001b[0m\n\u001b[0;32m     13\u001b[0m \u001b[0mprint\u001b[0m\u001b[1;33m(\u001b[0m\u001b[0mx\u001b[0m\u001b[1;33m)\u001b[0m\u001b[1;33m\u001b[0m\u001b[1;33m\u001b[0m\u001b[0m\n\u001b[0;32m     14\u001b[0m \u001b[1;33m\u001b[0m\u001b[0m\n\u001b[1;32m---> 15\u001b[1;33m \u001b[0mx\u001b[0m \u001b[1;33m=\u001b[0m \u001b[1;36m5\u001b[0m \u001b[1;33m/\u001b[0m \u001b[1;32mFalse\u001b[0m\u001b[1;33m\u001b[0m\u001b[1;33m\u001b[0m\u001b[0m\n\u001b[0m\u001b[0;32m     16\u001b[0m \u001b[0mprint\u001b[0m\u001b[1;33m(\u001b[0m\u001b[0mx\u001b[0m\u001b[1;33m)\u001b[0m\u001b[1;33m\u001b[0m\u001b[1;33m\u001b[0m\u001b[0m\n",
      "\u001b[1;31mZeroDivisionError\u001b[0m: division by zero"
     ]
    }
   ],
   "source": [
    "x = (5==5) + 1\n",
    "print(x, type(x))\n",
    "y = 5==5\n",
    "print(y, type(y))\n",
    "\n",
    "x = 5.5 + True\n",
    "print(x)\n",
    "\n",
    "x = 5 / True \n",
    "print(x)\n",
    "\n",
    "x = 5.5 - True\n",
    "print(x)\n",
    "\n",
    "x = 5 / False \n",
    "print(x)"
   ]
  },
  {
   "cell_type": "code",
   "execution_count": 12,
   "metadata": {},
   "outputs": [
    {
     "name": "stdout",
     "output_type": "stream",
     "text": [
      "6\n",
      "0\n",
      "5\n",
      "-4\n",
      "0.0\n",
      "0.2\n",
      "5.0\n"
     ]
    }
   ],
   "source": [
    "# Python's implementation of boolean algebra is not strict\n",
    "print(True + 5)\n",
    "print(False * 5)\n",
    "print(True * 5)\n",
    "print(True - 5)\n",
    "print(False / 5)\n",
    "print(True / 5)\n",
    "print(5 / True)"
   ]
  },
  {
   "cell_type": "code",
   "execution_count": null,
   "metadata": {},
   "outputs": [],
   "source": [
    "x=(5==5)+1.1\n",
    "print(x, type(x))"
   ]
  },
  {
   "cell_type": "code",
   "execution_count": null,
   "metadata": {},
   "outputs": [],
   "source": [
    "x=((5==5)+1.1)==2.1\n",
    "print(x, type(x))"
   ]
  },
  {
   "cell_type": "code",
   "execution_count": 13,
   "metadata": {},
   "outputs": [
    {
     "name": "stdout",
     "output_type": "stream",
     "text": [
      "True\n",
      "False\n"
     ]
    }
   ],
   "source": [
    "x = (5==5)\n",
    "print(x)\n",
    "y = (x==4) # if x == 1, then it will print true\n",
    "print (y)"
   ]
  },
  {
   "cell_type": "code",
   "execution_count": null,
   "metadata": {},
   "outputs": [],
   "source": [
    "x = 2\n",
    "if x < 4:\n",
    "    print('small')\n",
    "elif x < 10:\n",
    "    print('medium')\n",
    "else:\n",
    "    print('large')\n",
    "print('All done')"
   ]
  },
  {
   "cell_type": "code",
   "execution_count": null,
   "metadata": {},
   "outputs": [],
   "source": [
    "int_array = list()\n",
    "counter = 1\n",
    "number_choice = input(\"Enter whether you want to input 3 or 4 integers: \")\n",
    "for i in range(int(number_choice)):\n",
    "    print(\"Enter number \", counter, \": \")\n",
    "    n = input()\n",
    "    counter += 1 \n",
    "    int_array.append(int(n))\n",
    "    \n",
    "int_array_temp = int_array\n",
    "print ('ARRAY: ', int_array)\n",
    "\n",
    "max_number = max(int_array)\n",
    "print(\"The maximum of the\", number_choice, \"numbers is:\", max_number)\n",
    "\n",
    "min_number = min(int_array)\n",
    "print(\"The minimum of the\", number_choice, \"numbers is:\", min_number)\n",
    "\n",
    "list_len = len(int_array) \n",
    "print(list_len)\n",
    "avg_number = sum(int_array) / list_len \n",
    "#print(\"The sum of the\", number_choice, \"numbers is:\", sum(int_array))\n",
    "print(\"The average of the\", number_choice, \"numbers is:\", avg_number)\n",
    "\n",
    "#import statistics \n",
    "#med_number=statistics.median(int_array)\n",
    "#print(\"The median of the\", number_choice, \"numbers is:\", med_number)\n",
    "\n",
    "int_array.sort()\n",
    "print(\"Sorted array is: \", int_array)\n",
    "print(int_array[0]) \n",
    "print(int_array[1])\n",
    "print(int_array[2])\n",
    "print(int_array[3])\n",
    "if list_len % 2 == 0: \n",
    "    median_1 = int_array[list_len // 2] \n",
    "    print(median_1)\n",
    "    median_2 = int_array[(list_len // 2) - 1] \n",
    "    print(median_2)\n",
    "    median = (median_1 + median_2) / 2\n",
    "else: \n",
    "    median = int_array[list_len // 2] \n",
    "print(\"The median of the\", number_choice, \"numbers is:\", median)"
   ]
  },
  {
   "cell_type": "code",
   "execution_count": null,
   "metadata": {},
   "outputs": [],
   "source": [
    "a=3\n",
    "b=(input('enter the number'))\n",
    "b=int(b)\n",
    "if (a == b):\n",
    "    print(\"equal\")\n",
    "else:\n",
    "    print(\"not equal\")"
   ]
  },
  {
   "cell_type": "code",
   "execution_count": null,
   "metadata": {},
   "outputs": [],
   "source": [
    "input_choice = input(\"Enter whether you want to input 3 or 4 integers: \")\n",
    "\n",
    "try: \n",
    "    for i in int(input_choice):\n",
    "        if (input_choice == 3 or 4):\n",
    "            print(\"You entered a valid input\")\n",
    "            break\n",
    "        else:\n",
    "            print(\"You did not enter a valid input. Please re-enter either 3 or 4 only\")\n",
    "            input_choice = input(\"Enter whether you want to input 3 or 4 integers: \")\n",
    "except ValueError:\n",
    "    print(\"in exception block\") \n",
    "    print(\"You did not enter a valid input. Please re-enter either 3 or 4 only\")\n",
    "\n",
    "print(\"outside of for loop\")\n",
    "#int_array = list()\n",
    "#counter = 1\n",
    "\n",
    "#for i in range(int(number_choice)):\n",
    "#    print(\"Enter number \", counter, \": \")\n",
    "#    n = input()\n",
    "#    counter += 1 \n",
    "#    int_array.append(int(n))"
   ]
  },
  {
   "cell_type": "code",
   "execution_count": null,
   "metadata": {},
   "outputs": [],
   "source": [
    "input_choice = input(\"Enter whether you want to input 3 or 4 integers: \")\n",
    "while_counter = 0\n",
    "while (while_counter == 0):\n",
    "    if (input_choice.isnumeric() and ((input_choice == '3') or (input_choice == '4'))):\n",
    "        int_input_choice = int(input_choice)\n",
    "        #print(\"You entered a valid input\")\n",
    "        while_counter = 1\n",
    "    else:\n",
    "        print(\"You did not enter a valid input. Please re-enter either 3 or 4 only\")\n",
    "        input_choice = input(\"Enter whether you want to input 3 or 4 integers: \")\n",
    "\n",
    "#print(\"outside of while loop\")\n",
    "\n",
    "number_list=list()\n",
    "num_counter = 1\n",
    "\n",
    "for a in range(int_input_choice):\n",
    "    print(\"Enter number\", num_counter, \": \")\n",
    "    tempnum = input()\n",
    "    while_counter = 0\n",
    "    while (while_counter == 0):\n",
    "        if (tempnum.isnumeric()):\n",
    "            #print(\"You entered a valid number\", num_counter, \": \") \n",
    "            number_list.append(int(tempnum))\n",
    "            while_counter = 1\n",
    "            num_counter += 1\n",
    "        else:\n",
    "            print(\"You did not enter a valid integer. Please re-enter valid number\", num_counter, \": \") \n",
    "            tempnum = input()\n",
    "\n",
    "print(\"outside of for & while loop\")"
   ]
  },
  {
   "cell_type": "code",
   "execution_count": 18,
   "metadata": {},
   "outputs": [
    {
     "name": "stdout",
     "output_type": "stream",
     "text": [
      "entered if\n"
     ]
    }
   ],
   "source": [
    "if(5): # if 1 goes to if, if 0 then goes to else. for remaining values, goes to if\n",
    "    print(\"entered if\")\n",
    "else:\n",
    "    print(\"in else\")"
   ]
  },
  {
   "cell_type": "code",
   "execution_count": 36,
   "metadata": {},
   "outputs": [
    {
     "name": "stdout",
     "output_type": "stream",
     "text": [
      "a\n",
      "abc\n"
     ]
    }
   ],
   "source": [
    "_1 = 'a'\n",
    "print(_1)\n",
    "a_1 = 'abc'\n",
    "print(a_1)"
   ]
  },
  {
   "cell_type": "code",
   "execution_count": 23,
   "metadata": {},
   "outputs": [
    {
     "name": "stdout",
     "output_type": "stream",
     "text": [
      "try\n",
      "else\n",
      "finally\n"
     ]
    }
   ],
   "source": [
    "try: \n",
    "    print('try')\n",
    "    #a = int('string')\n",
    "except: \n",
    "    print('except')\n",
    "else:\n",
    "    print('else')\n",
    "finally: \n",
    "    print('finally')"
   ]
  },
  {
   "cell_type": "code",
   "execution_count": null,
   "metadata": {},
   "outputs": [],
   "source": [
    "input_choice = input(\"Enter whether you want to input 3 or 4 integers: \")\n",
    "\n",
    "while_counter = 0\n",
    "while (while_counter == 0):\n",
    "    try:\n",
    "        int_input_choice = int(input_choice)  \n",
    "        if ((int_input_choice == 3) or (int_input_choice == 4)):\n",
    "            while_counter = 1\n",
    "        else:\n",
    "            print(\"You did not enter a valid input. Please re-enter either 3 or 4 only\")\n",
    "            input_choice = input(\"Enter whether you want to input 3 or 4 integers: \")\n",
    "    except:\n",
    "        print(\"You did not enter a valid input. Please re-enter either 3 or 4 only\")\n",
    "        input_choice = input(\"Enter whether you want to input 3 or 4 integers: \")\n",
    "        \n",
    "while_counter = 0\n",
    "number_1 = input('Enter first number: ')        \n",
    "while (while_counter == 0):\n",
    "    if (number_1.isnumeric()):\n",
    "        int_number_1 = int(number_1)\n",
    "        while_counter = 1\n",
    "    else:\n",
    "        print(\"You did not enter a valid integer. Please re-enter first number\") \n",
    "        number_1 = input(\"Enter first number: \")\n",
    "\n",
    "while_counter = 0\n",
    "number_2 = input('Enter second number: ')        \n",
    "while (while_counter == 0):\n",
    "    if (number_2.isnumeric()):\n",
    "        int_number_2 = int(number_2)\n",
    "        while_counter = 1\n",
    "    else:\n",
    "        print(\"You did not enter a valid integer. Please re-enter second number\") \n",
    "        number_2 = input(\"Enter second number: \")\n",
    "\n",
    "while_counter = 0\n",
    "number_3 = input('Enter third number: ')        \n",
    "while (while_counter == 0):\n",
    "    if (number_3.isnumeric()):\n",
    "        int_number_3 = int(number_3)\n",
    "        while_counter = 1\n",
    "    else:\n",
    "        print(\"You did not enter a valid integer. Please re-enter third number\") \n",
    "        number_3 = input(\"Enter third number: \")\n",
    "\n",
    "number_list=list()\n",
    "number_list.append(int_number_1) \n",
    "number_list.append(int_number_2)\n",
    "number_list.append(int_number_3)\n",
    "print(number_list)\n",
    "        \n",
    "if (int_input_choice == 4):        \n",
    "    while_counter = 0\n",
    "    number_4 = input('Enter fourth number: ')        \n",
    "    while (while_counter == 0):\n",
    "        if (number_4.isnumeric()):\n",
    "            int_number_4 = int(number_4)\n",
    "            number_list.append(int_number_4) \n",
    "            print(number_list)\n",
    "            while_counter = 1\n",
    "        else:\n",
    "            print(\"You did not enter a valid integer. Please re-enter fourth number\") \n",
    "            number_4 = input(\"Enter fourth number: \")\n",
    "\n",
    "print(\"outside of last while loop\")"
   ]
  },
  {
   "cell_type": "code",
   "execution_count": null,
   "metadata": {},
   "outputs": [],
   "source": [
    "a = input('enter an integer: ')\n",
    "try:\n",
    "    a=int(a)\n",
    "    print(a)\n",
    "except:  \n",
    "    print('not numeric')"
   ]
  },
  {
   "cell_type": "code",
   "execution_count": null,
   "metadata": {},
   "outputs": [],
   "source": [
    "while_flag = 0\n",
    "while (while_flag == 0):\n",
    "    try:\n",
    "        input_choice = input(\"Enter set of 3 or 4 integers: \")\n",
    "        int_input_choice = int(input_choice)  \n",
    "    except ValueError:\n",
    "        print(\"Invalid integer. Valid inputs are 3 or 4 only\")\n",
    "    else:\n",
    "        if ((int_input_choice == 3) or (int_input_choice == 4)):\n",
    "            while_flag = 1\n",
    "            print(\"entered input choice is:\", int_input_choice)\n",
    "        else:\n",
    "            print(\"Invalid input. Valid inputs are 3 or 4 only\")\n",
    "            \n",
    "number_list=list()\n",
    "\n",
    "while_flag = 0\n",
    "while (while_flag == 0):\n",
    "    try: \n",
    "        number_1 = input('Enter first number: ')        \n",
    "        int_number_1 = int(number_1)\n",
    "    except ValueError:\n",
    "        print(\"Invalid integer. Please re-enter\") \n",
    "    else:\n",
    "        number_list.append(int_number_1) \n",
    "        while_flag = 1\n",
    "\n",
    "while_flag = 0\n",
    "while (while_flag == 0):\n",
    "    try: \n",
    "        number_2 = input('Enter second number: ')        \n",
    "        int_number_2 = int(number_2)\n",
    "    except ValueError:\n",
    "        print(\"Invalid integer. Please re-enter\") \n",
    "    else:\n",
    "        number_list.append(int_number_2) \n",
    "        while_flag = 1\n",
    "\n",
    "while_flag = 0\n",
    "while (while_flag == 0):\n",
    "    try:\n",
    "        number_3 = input('Enter third number: ')        \n",
    "        int_number_3 = int(number_3)\n",
    "    except ValueError:\n",
    "        print(\"Invalid integer. Please re-enter\") \n",
    "    else:\n",
    "        number_list.append(int_number_3) \n",
    "        while_flag = 1\n",
    "\n",
    "if (int_input_choice == 4):        \n",
    "    while_flag = 0\n",
    "    while (while_flag == 0):\n",
    "        try: \n",
    "            number_4 = input('Enter fourth number: ')        \n",
    "            int_number_4 = int(number_4)\n",
    "        except ValueError:\n",
    "            print(\"Invalid integer. Please re-enter\") \n",
    "        else:\n",
    "            number_list.append(int_number_4) \n",
    "            while_flag = 1\n",
    "\n",
    "print('out of while loop')\n",
    "print(number_list)\n"
   ]
  },
  {
   "cell_type": "code",
   "execution_count": null,
   "metadata": {},
   "outputs": [],
   "source": [
    "while_flag = 0\n",
    "while (while_flag == 0):\n",
    "    try:\n",
    "        input_choice = input(\"Enter set of 3 or 4 integers: \")\n",
    "        int_input_choice = int(input_choice)  \n",
    "    except ValueError:\n",
    "        print(\"Invalid integer. Valid inputs are 3 or 4 only\")\n",
    "    else:\n",
    "        if ((int_input_choice == 3) or (int_input_choice == 4)):\n",
    "            while_flag = 1\n",
    "            print(\"entered input choice is:\", int_input_choice)\n",
    "        else:\n",
    "            print(\"Invalid input. Valid inputs are 3 or 4 only\")\n",
    "\n",
    "while_flag = 1\n",
    "num_counter = 1\n",
    "number_list = list()\n",
    "\n",
    "while (while_flag <= int_input_choice):\n",
    "    try: \n",
    "        tempnum = input(\"Enter number {}: \".format(num_counter))      \n",
    "        int_tempnum = int(tempnum)  \n",
    "    except ValueError:\n",
    "        print(\"Invalid integer. Please re-enter\") \n",
    "    else:\n",
    "        number_list.append(int_tempnum) \n",
    "        while_flag +=1\n",
    "        num_counter +=1\n",
    "        \n",
    "max_number = max(number_list)\n",
    "print(\"The maximum of the {} numbers is: \".format(int_input_choice), max_number)\n",
    "\n",
    "min_number = min(number_list)\n",
    "print(\"The minimum of the {} numbers is: \".format(int_input_choice), min_number)\n",
    "\n",
    "list_len = len(number_list) \n",
    "#print(list_len)\n",
    "#print(\"The sum of the {} numbers is: \".format(int_input_choice), sum(number_list))\n",
    "avg_number = sum(number_list) / list_len \n",
    "\n",
    "num_1 = number_list[0]\n",
    "num_2 = number_list[1]\n",
    "num_3 = number_list[2]\n",
    "       \n",
    "if (int_input_choice == 3):\n",
    "    print(\"The average of {}, {} and {} is: \".format(num_1, num_2, num_3), avg_number) \n",
    "else:\n",
    "    num_4 = number_list[3]\n",
    "    print(\"The average of {}, {}, {} and {} is: \".format(num_1, num_2, num_3, num_4), avg_number) \n",
    "\n",
    "number_list_temp = number_list\n",
    "print(\"Entered numbers are: \", number_list)\n",
    "      \n",
    "number_list_temp.sort()\n",
    "print(\"Sorted list is: \", number_list_temp)    \n",
    "    \n",
    "if list_len % 2 == 0: \n",
    "    median_1 = number_list_temp[list_len // 2] \n",
    "    print(median_1)\n",
    "    median_2 = number_list_temp[(list_len // 2) - 1] \n",
    "    print(median_2)\n",
    "    median = (median_1 + median_2) / 2\n",
    "else: \n",
    "    median = number_list_temp[list_len // 2] \n",
    "print(\"The median of the {} numbers is: \".format(int_input_choice), median)"
   ]
  },
  {
   "cell_type": "code",
   "execution_count": null,
   "metadata": {},
   "outputs": [],
   "source": [
    "while_flag = 0\n",
    "while (while_flag == 0):\n",
    "    try:\n",
    "        input_choice = input(\"Enter set of 3 or 4 integers: \")\n",
    "        int_input_choice = int(input_choice)  \n",
    "    except ValueError:\n",
    "        print(\"Invalid integer. Valid inputs are 3 or 4 only\")\n",
    "    else:\n",
    "        if ((int_input_choice == 3) or (int_input_choice == 4)):\n",
    "            while_flag = 1\n",
    "            print(\"entered input choice is:\", int_input_choice)\n",
    "        else:\n",
    "            print(\"Invalid input. Valid inputs are 3 or 4 only\")\n",
    "\n",
    "while_flag = 1\n",
    "num_counter = 1\n",
    "number_list = list()\n",
    "\n",
    "while (while_flag <= int_input_choice):\n",
    "    try: \n",
    "        tempnum = input(\"Enter number {}: \".format(num_counter))      \n",
    "        int_tempnum = int(tempnum)  \n",
    "    except ValueError:\n",
    "        print(\"Invalid integer. Please re-enter\") \n",
    "    else:\n",
    "        number_list.append(int_tempnum) \n",
    "        while_flag +=1\n",
    "        num_counter +=1\n",
    "        \n",
    "max_number = max(number_list)\n",
    "print(\"The maximum of the {} numbers is: \".format(int_input_choice), max_number)\n",
    "\n",
    "min_number = min(number_list)\n",
    "print(\"The minimum of the {} numbers is: \".format(int_input_choice), min_number)\n",
    "\n",
    "def round_int(parm_number):  \n",
    "    \n",
    "    int_parm_number = int(parm_number)\n",
    "    fraction_parm_number = parm_number - int_parm_number\n",
    "    \n",
    "    if (int_parm_number >= 0) and (fraction_parm_number >= 0.5):\n",
    "        int_parm_number +=1\n",
    "    elif (int_parm_number <= 0) and (fraction_parm_number <= -0.5):\n",
    "        int_parm_number -=1\n",
    "        \n",
    "    return int_parm_number\n",
    "        \n",
    "list_len = len(number_list) \n",
    "avg_number = sum(number_list) / list_len \n",
    "\n",
    "int_avg_number = round_int(avg_number)\n",
    "\n",
    "# int_avg_number = int(avg_number)\n",
    "# fraction_avg_number = avg_number - int_avg_number\n",
    "\n",
    "# if (int_avg_number >= 0) and (fraction_avg_number >= 0.5):\n",
    "#     int_avg_number +=1\n",
    "# elif (int_avg_number <= 0) and (fraction_avg_number <= -0.5):\n",
    "#     int_avg_number -=1\n",
    "    \n",
    "\n",
    "num_1 = number_list[0]\n",
    "num_2 = number_list[1]\n",
    "num_3 = number_list[2]\n",
    "\n",
    "if (int_input_choice == 3):\n",
    "    print(\"The average of {}, {} and {} is: \".format(num_1, num_2, num_3), int_avg_number) \n",
    "else:\n",
    "    num_4 = number_list[3]\n",
    "    print(\"The average of {}, {}, {} and {} is: \".format(num_1, num_2, num_3, num_4), int_avg_number) \n",
    "\n",
    "number_list_temp = number_list\n",
    "print(\"Entered numbers are: \", number_list)\n",
    "      \n",
    "number_list_temp.sort()\n",
    "print(\"Sorted list is: \", number_list_temp)    \n",
    "    \n",
    "if list_len % 2 == 0: \n",
    "    median_1 = number_list_temp[list_len // 2] \n",
    "    print(median_1)\n",
    "    median_2 = number_list_temp[(list_len // 2) - 1] \n",
    "    print(median_2)\n",
    "    temp_median = (median_1 + median_2) / 2\n",
    "    int_median = round_int(temp_median)    \n",
    "else: \n",
    "    int_median = number_list_temp[list_len // 2] \n",
    "print(\"The median of the {} numbers is: \".format(int_input_choice), int_median)"
   ]
  },
  {
   "cell_type": "code",
   "execution_count": null,
   "metadata": {},
   "outputs": [],
   "source": [
    "avg_number = 51.5\n",
    "\n",
    "int_avg_number = int(avg_number)\n",
    "fraction_avg_number = avg_number - int_avg_number\n",
    "\n",
    "if (int_avg_number >= 0) and (fraction_avg_number >= 0.5):\n",
    "    int_avg_number +=1\n",
    "elif (int_avg_number <= 0) and (fraction_avg_number <= -0.5):\n",
    "    int_avg_number -=1\n",
    "    \n",
    "print(\"from code: \", int_avg_number)\n",
    "\n",
    "a = round(avg_number)\n",
    "print(\"from function: \", a)"
   ]
  },
  {
   "cell_type": "code",
   "execution_count": null,
   "metadata": {},
   "outputs": [],
   "source": [
    "def round_int(parm_number):\n",
    "    \n",
    "    int_parm_number = int(parm_number)\n",
    "    fraction_parm_number = parm_number - int_parm_number\n",
    "    \n",
    "    if (int_parm_number >= 0) and (fraction_parm_number >= 0.5):\n",
    "        int_parm_number +=1\n",
    "    elif (int_parm_number <= 0) and (fraction_parm_number <= -0.5):\n",
    "        int_parm_number -=1\n",
    "        \n",
    "    return int_parm_number\n",
    "        \n",
    "avg_number = 0\n",
    "result = round_int(avg_number)\n",
    " \n",
    "print(result)"
   ]
  },
  {
   "cell_type": "code",
   "execution_count": null,
   "metadata": {},
   "outputs": [],
   "source": [
    "while_flag = 0\n",
    "while (while_flag == 0):\n",
    "    try:\n",
    "        input_choice = input(\"Enter set of 3 or 4 integers: \")\n",
    "        int_input_choice = int(input_choice)  \n",
    "    except ValueError:\n",
    "        print(\"Invalid integer. Valid inputs are 3 or 4 only\")\n",
    "    else:\n",
    "        if ((int_input_choice == 3) or (int_input_choice == 4)):\n",
    "            while_flag = 1\n",
    "        else:\n",
    "            print(\"Invalid input. Valid inputs are 3 or 4 only\")\n",
    "\n",
    "while_flag = 1\n",
    "num_counter = 1\n",
    "number_list = list()\n",
    "\n",
    "while (while_flag <= int_input_choice):\n",
    "    try: \n",
    "        tempnum = input(\"Enter number {}: \".format(num_counter))      \n",
    "        int_tempnum = int(tempnum)  \n",
    "    except ValueError:\n",
    "        print(\"Invalid integer. Please re-enter\") \n",
    "    else:\n",
    "        number_list.append(int_tempnum) \n",
    "        while_flag +=1\n",
    "        num_counter +=1\n",
    "\n",
    "print(number_list, type(number_list))        \n",
    "        \n",
    "def round_int(parm_number):  \n",
    "    \n",
    "    int_parm_number = int(parm_number)\n",
    "    fraction_parm_number = parm_number - int_parm_number\n",
    "    \n",
    "    if (int_parm_number >= 0) and (fraction_parm_number >= 0.5):\n",
    "        int_parm_number +=1\n",
    "    elif (int_parm_number <= 0) and (fraction_parm_number <= -0.5):\n",
    "        int_parm_number -=1\n",
    "        \n",
    "    return int_parm_number\n",
    "        \n",
    "list_len = len(number_list) \n",
    "avg_number = sum(number_list) / list_len \n",
    "int_avg_number = round_int(avg_number)\n",
    "num_1 = number_list[0]\n",
    "num_2 = number_list[1]\n",
    "num_3 = number_list[2]\n",
    "\n",
    "if (int_input_choice == 3):\n",
    "    print(\"The average of {}, {} and {} is:\".format(num_1, num_2, num_3), int_avg_number) \n",
    "else:\n",
    "    num_4 = number_list[3]\n",
    "    print(\"The average of {}, {}, {} and {} is:\".format(num_1, num_2, num_3, num_4), int_avg_number) \n",
    "\n",
    "max_number = max(number_list)\n",
    "print(\"The maximum of the {} numbers is:\".format(int_input_choice), max_number)\n",
    "\n",
    "min_number = min(number_list)\n",
    "print(\"The minimum of the {} numbers is:\".format(int_input_choice), min_number)\n",
    "    \n",
    "number_list_temp = number_list     \n",
    "number_list_temp.sort()\n",
    "    \n",
    "if list_len % 2 == 0: \n",
    "    median_1 = number_list_temp[list_len // 2] \n",
    "    median_2 = number_list_temp[(list_len // 2) - 1] \n",
    "    temp_median = (median_1 + median_2) / 2\n",
    "    int_median = round_int(temp_median)    \n",
    "else: \n",
    "    int_median = number_list_temp[list_len // 2] \n",
    "print(\"The median of the {} numbers is:\".format(int_input_choice), int_median)"
   ]
  },
  {
   "cell_type": "code",
   "execution_count": 27,
   "metadata": {},
   "outputs": [
    {
     "name": "stdout",
     "output_type": "stream",
     "text": [
      "<class 'list'>\n"
     ]
    }
   ],
   "source": [
    "a=[1,2]\n",
    "print(type(a))"
   ]
  },
  {
   "cell_type": "code",
   "execution_count": 28,
   "metadata": {},
   "outputs": [
    {
     "name": "stdout",
     "output_type": "stream",
     "text": [
      "<class 'tuple'>\n"
     ]
    }
   ],
   "source": [
    "a=(1,2)\n",
    "print(type(a))"
   ]
  },
  {
   "cell_type": "code",
   "execution_count": 24,
   "metadata": {},
   "outputs": [
    {
     "name": "stdout",
     "output_type": "stream",
     "text": [
      "4.0\n",
      "4\n",
      "0\n"
     ]
    }
   ],
   "source": [
    "x = 4\n",
    "y = x/1\n",
    "print(y)\n",
    "\n",
    "y = x//1\n",
    "print(y)\n",
    "\n",
    "y = x%1\n",
    "print(y)"
   ]
  },
  {
   "cell_type": "code",
   "execution_count": null,
   "metadata": {},
   "outputs": [],
   "source": [
    "input_number = input(\"Enter positive integer: \")\n",
    "\n",
    "if (input_number.isnumeric()):\n",
    "    int_input_number = int(input_number)\n",
    "    if ((int_input_number == 0) or (int_input_number == 1)): \n",
    "        print(\"It is neither prime nor composite\")\n",
    "    elif int_input_number == 2:    \n",
    "        print(\"It is a prime\") \n",
    "    elif int_input_number > 2: \n",
    "        i = 2\n",
    "        loop_limit = int_input_number // 2   \n",
    "        while i <= loop_limit: \n",
    "            if int_input_number % i == 0:\n",
    "                print(\"It is a composite\")\n",
    "                break \n",
    "            else: \n",
    "                i +=1\n",
    "        else: \n",
    "            print(\"It is a prime\")\n",
    "else:\n",
    "    print(\"You did not enter a positive integer\")"
   ]
  },
  {
   "cell_type": "code",
   "execution_count": null,
   "metadata": {},
   "outputs": [],
   "source": [
    "input_number = input(\"Enter positive integer: \")\n",
    "\n",
    "if input_number.isnumeric():\n",
    "    int_input_number = int(input_number)\n",
    "    if ((int_input_number == 0) or (int_input_number == 1)): \n",
    "        print(\"It is neither prime nor composite\")\n",
    "    elif int_input_number > 1: \n",
    "        for i in range(2, int_input_number): \n",
    "            if (int_input_number % i) == 0:\n",
    "                print(\"It is a composite\")\n",
    "                break \n",
    "        else: \n",
    "            print(\"It is a prime\")\n",
    "else:\n",
    "    print(\"You did not enter a positive integer\")"
   ]
  },
  {
   "cell_type": "code",
   "execution_count": null,
   "metadata": {},
   "outputs": [],
   "source": [
    "input_number = input(\"Enter positive integer: \")\n",
    "\n",
    "if input_number.isnumeric():     \n",
    "    if ((input_number == '0') or (input_number == '1')): \n",
    "        print(\"It is neither prime nor composite\")\n",
    "    elif input_number > '1': \n",
    "        for i in range(2, int(input_number)): \n",
    "            if (int(input_number) % i) == 0:\n",
    "                print(\"It is a composite\")\n",
    "                break \n",
    "        else: \n",
    "            print(\"It is a prime\")\n",
    "else:\n",
    "    print(\"You did not enter a positive integer\")"
   ]
  },
  {
   "cell_type": "code",
   "execution_count": null,
   "metadata": {},
   "outputs": [],
   "source": [
    "def SmartDivision(num, dem):\n",
    "    quotient = num / dem\n",
    "    remainder = num % dem\n",
    "    if (remainder == 0):\n",
    "        quotient = int(quotient) \n",
    "    return quotient"
   ]
  },
  {
   "cell_type": "code",
   "execution_count": 31,
   "metadata": {},
   "outputs": [
    {
     "name": "stdout",
     "output_type": "stream",
     "text": [
      "Enter an integer value for numerator: -1\n",
      "Invalid value entered in numerator. Only integers are accepted\n"
     ]
    }
   ],
   "source": [
    "## For Positive integers only\n",
    "inp1 = input(\"Enter an integer value for numerator: \")\n",
    "\n",
    "if inp1.isnumeric(): \n",
    "    int_inp1 = int(inp1)\n",
    "    inp2 = input(\"Enter an integer value for denominator: \")\n",
    "    if inp2.isnumeric():\n",
    "        int_inp2 = int(inp2)\n",
    "        if int_inp2 == 0:\n",
    "            print(\"Invalid value entered in denominator. Only non zero integers are accepted\") \n",
    "        else: \n",
    "            result = SmartDivision(int_inp1, int_inp2)\n",
    "            print(\"Result of division {}/{} = {} and return type is: {}\".format(inp1,inp2,result,type(result)))            \n",
    "    else: \n",
    "        print(\"Invalid value entered in denominator. Only integers are accepted\")\n",
    "else: \n",
    "    print(\"Invalid value entered in numerator. Only integers are accepted\")"
   ]
  },
  {
   "cell_type": "code",
   "execution_count": null,
   "metadata": {},
   "outputs": [],
   "source": [
    "def SmartDivision(num, dem):\n",
    "    quotient = num / dem\n",
    "    remainder = num % dem\n",
    "    if (remainder == 0):\n",
    "        quotient = int(quotient) \n",
    "    return quotient\n",
    "\n",
    "try: \n",
    "    inp1 = input(\"Enter an integer for numerator: \")\n",
    "    int_inp1 = int(inp1)\n",
    "    inp2 = input(\"Enter a non-zero integer for denominator: \")\n",
    "    int_inp2 = int(inp2)\n",
    "except ValueError: \n",
    "    print(\"Invalid input value entered. Only integers are accepted\")\n",
    "else:     \n",
    "    if int_inp2 == 0:\n",
    "        print(\"Denominator value cannot be zero. Only non-zero integers are accepted\") \n",
    "    else: \n",
    "        result = SmartDivision(int_inp1, int_inp2)\n",
    "        print(\"Result of division {}/{} = {} and return type is: {}\".format(inp1,inp2,result,type(result)))"
   ]
  },
  {
   "cell_type": "code",
   "execution_count": null,
   "metadata": {},
   "outputs": [],
   "source": [
    "axis_point = 'x'\n",
    "num_counter = 1\n",
    "input_counter = 1\n",
    "co_ordinates = list()\n",
    "\n",
    "while True: \n",
    "    try: \n",
    "        input_point = float(input(\"Enter {}{}: \".format(axis_point, num_counter)))     \n",
    "    except ValueError: \n",
    "        print(\"Invalid input. Enter only Float or Integer value\") \n",
    "    else: \n",
    "        co_ordinates.append(input_point)\n",
    "        input_counter +=1 \n",
    "        if (input_counter % 2 == 0): \n",
    "            axis_point = 'y'                \n",
    "        else:  \n",
    "            axis_point = 'x'\n",
    "        \n",
    "        if (3 <= input_counter <= 4): \n",
    "            num_counter = 2\n",
    "        elif (4 <= input_counter <=6): \n",
    "            num_counter = ' '         \n",
    "        elif input_counter > 6:\n",
    "            x1 = co_ordinates[0] \n",
    "            y1 = co_ordinates[1] \n",
    "            x2 = co_ordinates[2] \n",
    "            y2 = co_ordinates[3] \n",
    "            x  = co_ordinates[4] \n",
    "            y  = co_ordinates[5] \n",
    "            print(\"Entered co-ordinates: (x1 = {}, y1 = {}), (x2 = {}, y2 = {}), (x = {}, y = {})\".format(x1,y1,x2,y2,x,y)) \n",
    "        \n",
    "            if (((x1 <= x <= x2) or (x2 <= x <= x1)) and ((y1 <= y <= y2) or (y2 <= y <= y1))):\n",
    "                print(\"True\")\n",
    "            else: \n",
    "                print(\"False\")\n",
    "            \n",
    "            while_flag = 1\n",
    "            while (while_flag == 1): \n",
    "                run_continue = input(\"Do you want to continue (Y/N): \") \n",
    "                if (run_continue == 'Y' or run_continue == 'y'):\n",
    "                    while_flag = 2\n",
    "                elif (run_continue == 'N' or run_continue == 'n'):\n",
    "                    while_flag = 3\n",
    "                else: \n",
    "                    print(\"Invalid value. Enter Y / N: \")\n",
    "                    continue \n",
    "              \n",
    "            if (while_flag == 2): \n",
    "                axis_point = 'x'\n",
    "                num_counter = 1\n",
    "                input_counter = 1\n",
    "            else: \n",
    "                print(\"Good bye!\")\n",
    "                break"
   ]
  },
  {
   "cell_type": "code",
   "execution_count": null,
   "metadata": {},
   "outputs": [],
   "source": [
    "print('phanistest')"
   ]
  },
  {
   "cell_type": "code",
   "execution_count": 32,
   "metadata": {},
   "outputs": [
    {
     "name": "stdout",
     "output_type": "stream",
     "text": [
      "phaniphani\n"
     ]
    }
   ],
   "source": [
    "b = 'phani'\n",
    "a = 2\n",
    "c = a * b\n",
    "print(c)"
   ]
  },
  {
   "cell_type": "code",
   "execution_count": null,
   "metadata": {},
   "outputs": [],
   "source": [
    "a = '123.8'\n",
    "print(float(a))"
   ]
  },
  {
   "cell_type": "code",
   "execution_count": null,
   "metadata": {},
   "outputs": [],
   "source": [
    "a = 123\n",
    "b = 123.0\n",
    "c=str(a)\n",
    "d=str(b)\n",
    "print(c)\n",
    "print(d)"
   ]
  },
  {
   "cell_type": "code",
   "execution_count": 33,
   "metadata": {},
   "outputs": [
    {
     "name": "stdout",
     "output_type": "stream",
     "text": [
      "1\n"
     ]
    }
   ],
   "source": [
    "a = 0 \n",
    "b = 1\n",
    "c = b ^ a ### bitwise XOR operator ^\n",
    "print(c)"
   ]
  },
  {
   "cell_type": "code",
   "execution_count": 34,
   "metadata": {},
   "outputs": [
    {
     "name": "stdout",
     "output_type": "stream",
     "text": [
      "1\n",
      "0\n",
      "2\n",
      "1\n",
      "3\n",
      "2\n",
      "done\n"
     ]
    }
   ],
   "source": [
    "for i in range(1,4):\n",
    "    print(i)\n",
    "    i = i-1\n",
    "    print(i)\n",
    "print('done')"
   ]
  },
  {
   "cell_type": "code",
   "execution_count": 37,
   "metadata": {
    "scrolled": true
   },
   "outputs": [
    {
     "name": "stdout",
     "output_type": "stream",
     "text": [
      "But soft what light through yonder window breaks\n",
      "It is the east and Juliet is the sun\n",
      "Arise fair sun and kill the envious moon\n",
      "Who is already sick and pale with grief\n"
     ]
    }
   ],
   "source": [
    "import urllib.request, urllib.parse, urllib.error\n",
    "fhand = urllib.request.urlopen('http://data.pr4e.org/romeo.txt')\n",
    "for line in fhand:\n",
    "    print(line.decode().strip()) "
   ]
  },
  {
   "cell_type": "code",
   "execution_count": 38,
   "metadata": {},
   "outputs": [
    {
     "name": "stdout",
     "output_type": "stream",
     "text": [
      "<h1>The First Page</h1>\n",
      "<p>\n",
      "If you like, you can switch to the\n",
      "<a href=\"http://www.dr-chuck.com/page2.htm\">\n",
      "Second Page</a>.\n",
      "</p>\n"
     ]
    }
   ],
   "source": [
    "import urllib.request, urllib.parse, urllib.error\n",
    "fhand = urllib.request.urlopen('http://www.dr-chuck.com/page1.htm')\n",
    "for line in fhand:\n",
    "    print(line.decode().strip()) "
   ]
  },
  {
   "cell_type": "code",
   "execution_count": 39,
   "metadata": {},
   "outputs": [
    {
     "name": "stdout",
     "output_type": "stream",
     "text": [
      "{'But': 1, 'soft': 1, 'what': 1, 'light': 1, 'through': 1, 'yonder': 1, 'window': 1, 'breaks': 1, 'It': 1, 'is': 3, 'the': 3, 'east': 1, 'and': 3, 'Juliet': 1, 'sun': 2, 'Arise': 1, 'fair': 1, 'kill': 1, 'envious': 1, 'moon': 1, 'Who': 1, 'already': 1, 'sick': 1, 'pale': 1, 'with': 1, 'grief': 1}\n"
     ]
    }
   ],
   "source": [
    "import urllib.request, urllib.parse, urllib.error\n",
    "fhand = urllib.request.urlopen('http://data.pr4e.org/romeo.txt')\n",
    "\n",
    "counts = dict()\n",
    "for line in fhand:\n",
    "    words = line.decode().split() \n",
    "    for word in words:\n",
    "        counts[word] = counts.get(word, 0) + 1\n",
    "print(counts)"
   ]
  },
  {
   "cell_type": "code",
   "execution_count": null,
   "metadata": {},
   "outputs": [],
   "source": [
    "import random\n",
    "\n",
    "def build_dict(f_handle):\n",
    "    f_dict = {}\n",
    "    f_atpos = 0\n",
    "    for line in f_handle:                                      # loop thru the file. Reads one line (upto \\n) at a time \n",
    "        if line.isspace():                                     # If the line is empty or spaces, then skip processing \n",
    "            continue\n",
    "        else: \n",
    "            temp_line = line.strip()\n",
    "            f_atpos = temp_line.find(',')\n",
    "            if f_atpos == -1: \n",
    "                break \n",
    "            else: \n",
    "                f_dict_key = temp_line[:f_atpos]\n",
    "                f_dict_value = temp_line[f_atpos+1:]\n",
    "                f_dict[f_dict_key] = f_dict_value\n",
    "    f_handle.close()                                           # Close the file  \n",
    "    return(f_dict , f_atpos)\n",
    "\n",
    "def scramble(dic):\n",
    "    key , value = random.choice(list(dic.items())) \n",
    "    scramble_key = ''.join(random.sample(key.lower(), len(key)))\n",
    "    print('Unscramble following letters to form a word. Type “?” for meaning of the unscrambled word:', scramble_key)\n",
    "    func_input = input('Enter the answer [or ? for the meaning]: ' ).lower()\n",
    "    return(func_input, key, value)\n",
    "\n",
    "def invalid_input(u_input):\n",
    "    while True: \n",
    "        if not (u_input == 'yes' or u_input == 'no'):\n",
    "            u_input = input('Invalid input entered. Do you want to continue [yes or no]: ').lower()\n",
    "        else:\n",
    "            break\n",
    "    return(u_input)\n",
    "\n",
    "file_name = input('Give the name of the “words and their meanings” file: ') # Prompt user to enter input file name \n",
    "\n",
    "try: \n",
    "    file_handle = open(file_name,'r')                             # open the entered input file in read mode  \n",
    "except:                                                           # Handle exception when file name is incorrect or -  \n",
    "    print('Invalid file name / not present in directory')         # - present in invalid directory location \n",
    "else:  \n",
    "    dictionary , atpos = build_dict(file_handle)\n",
    "    \n",
    "    if atpos == -1: \n",
    "        print('Invalid format of records in Input file')  \n",
    "    elif len(dictionary) == 0:\n",
    "        print('Input file is empty')                          # Error message when input file is empty \n",
    "    else:       \n",
    "        user_input, random_key, random_value = scramble(dictionary)\n",
    "        while True: \n",
    "            if user_input == '?':\n",
    "                print('The word means:', random_value)\n",
    "                user_input = input('Enter the answer [or ? for the meaning]: ' ).lower()\n",
    "            elif user_input == random_key.lower():\n",
    "                user_input = input('You got it! Do you want to continue [yes or no]: ').lower()\n",
    "                user_input = invalid_input(user_input)\n",
    "                if user_input == 'yes':\n",
    "                    user_input, random_key, random_value = scramble(dictionary) \n",
    "                elif user_input == 'no':  \n",
    "                    break\n",
    "            else:\n",
    "                user_input = input('Wrong try. Do you want to continue [yes or no]: ').lower()\n",
    "                user_input = invalid_input(user_input)\n",
    "                if user_input == 'yes':\n",
    "                    user_input = input('Enter the answer [or ? for the meaning]: ' ).lower() \n",
    "                elif user_input == 'no':  \n",
    "                    break\n",
    "        print('Goodbye!')       "
   ]
  },
  {
   "cell_type": "code",
   "execution_count": null,
   "metadata": {},
   "outputs": [],
   "source": [
    "d = {'opulence': 'great wealth', 'penury': 'extremely poor', 'gregarious': 'fond of company; sociable', 'entomology': 'study of insects'}\n",
    "print(d)\n",
    "a = list(d.items())\n",
    "print(a)\n",
    "a0 = a[0]\n",
    "print(a0, type(a0))\n",
    "print(a0[0], type(a0[0]))\n",
    "print(a0[1], type(a0[1]))\n",
    "b = list(d.keys())\n",
    "print(b)\n",
    "c = list(d.values())\n",
    "print(c)\n",
    "key , value = random.choice(list(d.items()))\n",
    "print(key, value)\n",
    "print(type(key),type(value))"
   ]
  },
  {
   "cell_type": "code",
   "execution_count": null,
   "metadata": {},
   "outputs": [],
   "source": [
    "a = [1,2,3,4]\n",
    "b = a[0]\n",
    "print(b,type(b))"
   ]
  },
  {
   "cell_type": "code",
   "execution_count": null,
   "metadata": {},
   "outputs": [],
   "source": [
    "import random\n",
    "word = 'phani'\n",
    "charlst = list(word)        # convert the string into a list of characters\n",
    "random.shuffle(charlst)     # shuffle the list of characters randomly\n",
    "new_word = ''.join(charlst) # convert the list of characters back into a string\n",
    "print(new_word)"
   ]
  },
  {
   "cell_type": "code",
   "execution_count": null,
   "metadata": {},
   "outputs": [],
   "source": [
    "import random\n",
    "a = 'phani'\n",
    "b = list(a)\n",
    "random.shuffle(b) \n",
    "c = ''.join(b)\n",
    "print(c)"
   ]
  },
  {
   "cell_type": "code",
   "execution_count": null,
   "metadata": {},
   "outputs": [],
   "source": [
    "import random\n",
    "a = 'SWATHI'\n",
    "test = ''.join(random.sample(a.lower(), len(a)))\n",
    "print(test)"
   ]
  },
  {
   "cell_type": "code",
   "execution_count": null,
   "metadata": {},
   "outputs": [],
   "source": [
    "x = input('enter the text: ').lower()\n",
    "print(x)"
   ]
  },
  {
   "cell_type": "code",
   "execution_count": null,
   "metadata": {},
   "outputs": [],
   "source": [
    "import random\n",
    "a = 'SWATHI'\n",
    "test = random.sample(a.lower(), len(a))\n",
    "print(test)\n",
    "test1=''.join(test)\n",
    "print(test1)"
   ]
  },
  {
   "cell_type": "code",
   "execution_count": null,
   "metadata": {},
   "outputs": [],
   "source": []
  },
  {
   "cell_type": "code",
   "execution_count": null,
   "metadata": {},
   "outputs": [],
   "source": [
    "dict={'Nancy Pollock': {'Lawrence of Arabia': 2.5, 'Gravity': 3.5,\n",
    " 'The Godfather': 3.0, 'Prometheus': 3.5, 'For a Few Dollars More': 2.5, \n",
    " 'The Guns of Navarone': 3.0},'Jack Holmes': {'Lawrence of Arabia': 3.0, 'Gravity': 3.5, 'The Godfather': 1.5, 'Prometheus': 5.0, 'The Guns of Navarone': 3.0, \n",
    " 'For a Few Dollars More': 3.5}}\n",
    "#print(dict)\n",
    "\n",
    "dict1={}\n",
    "for keys, values in dict.items():\n",
    "    print(keys)\n",
    "    for keys1, values1 in values.items():\n",
    "        print(keys1, values1)"
   ]
  },
  {
   "cell_type": "code",
   "execution_count": null,
   "metadata": {},
   "outputs": [],
   "source": [
    "# test for condition when one of the review score is not numeric\n",
    "\n",
    "def build_dict(f_handle):\n",
    "    f_comma_count = 0\n",
    "    f_dict={}\n",
    "    for line in f_handle:                                      # loop thru the file. Reads one line (upto \\n) at a time \n",
    "        if line.isspace():                                     # If the line is empty or spaces, then skip processing \n",
    "            continue\n",
    "        else: \n",
    "            f_dict_temp={}\n",
    "            temp_line = line.strip()\n",
    "            f_comma_count = temp_line.count(',')\n",
    "            if f_comma_count > 1:\n",
    "                line_list = temp_line.split(',')\n",
    "                for i in range(1,len(line_list),2):\n",
    "                    try: \n",
    "                        review_point = float(line_list[i+1])\n",
    "                    except: \n",
    "                        f_comma_count = 1\n",
    "                        break \n",
    "                    else: \n",
    "                        f_dict_temp[line_list[i]] = review_point\n",
    "                f_dict[line_list[0]] = f_dict_temp\n",
    "            else: \n",
    "                break\n",
    "        if f_comma_count == 1:\n",
    "            break\n",
    "    f_handle.close()\n",
    "    return(f_dict,f_comma_count)\n",
    "\n",
    "def prompt_choice():\n",
    "    f_user_choice = input('What do you want to do? Input 1 for similarity between two reviewers, or Input 2 for similarity between one reviewer and all others in the database or 3 to quit: ')\n",
    "    while True: \n",
    "        if (f_user_choice == '1' or f_user_choice == '2' or f_user_choice == '3'): \n",
    "            break \n",
    "        else: \n",
    "            f_user_choice = input('Invalid input choice. Please enter 1 or 2 or 3: ')\n",
    "    return (f_user_choice)                    \n",
    "\n",
    "def case_insensitive(dict_inp , rev):\n",
    "    for i in dict_inp:\n",
    "        if rev.lower() == i.lower():\n",
    "            return(True) \n",
    "\n",
    "def build_subdict(dict , f_rev):\n",
    "    for keys, values in dict.items():\n",
    "        if f_rev.lower() == keys.lower():\n",
    "            f_keys_temp = keys\n",
    "            f_dict_rev = values\n",
    "    return(f_dict_rev , f_keys_temp)\n",
    "        \n",
    "def option_1(f_dict):\n",
    "    sim_score_temp = 0\n",
    "    sim_score = 0   \n",
    "    rev1 = input('Provide Reviewer1 name: ')\n",
    "    rev2 = input('Provide Reviewer2 name: ')\n",
    "    if rev1.isspace() or len(rev1) == 0: \n",
    "        print('Reviewer1 name not entered') \n",
    "    elif not (case_insensitive(f_dict, rev1)):\n",
    "        print('Reviewer1 is not present in database') \n",
    "    elif rev2.isspace() or len(rev2) == 0:  \n",
    "        print('Reviewer2 name not entered') \n",
    "    elif not (case_insensitive(f_dict, rev2)):\n",
    "        print('Reviewer2 is not present in database') \n",
    "    else:    \n",
    "        #for keys, values in f_dict.items(): \n",
    "        #    if rev1.lower() == keys.lower():\n",
    "        #        keys_temp1 = keys\n",
    "        #        dict_rev1 = values\n",
    "        dict_rev1 , keys_temp1 = build_subdict(f_dict , rev1)\n",
    "        dict_rev2 , keys_temp2 = build_subdict(f_dict , rev2)\n",
    "        #for keys, values in f_dict.items(): \n",
    "        #    if rev2.lower() == keys.lower():\n",
    "        #        keys_temp2 = keys\n",
    "        #        dict_rev2 = values\n",
    "        for keys, values in dict_rev1.items():\n",
    "            if keys in dict_rev2: \n",
    "                sim_score_temp = (values - dict_rev2[keys]) ** 2\n",
    "                sim_score = sim_score + sim_score_temp\n",
    "        sim_score = sim_score ** 0.5\n",
    "        print('The similarity score between {} and {} is: {}'.format(keys_temp1, keys_temp2, round(sim_score,4)))\n",
    "    return()\n",
    "\n",
    "def option_2(f_dict): \n",
    "    rev = input('Provide Reviewer name: ')\n",
    "    if rev.isspace() or len(rev) == 0: \n",
    "        print('Reviewer name not entered') \n",
    "    elif not (case_insensitive(f_dict, rev)):\n",
    "        print('Reviewer is not present in database') \n",
    "    else:    \n",
    "        #for keys, values in f_dict.items(): \n",
    "        #    if rev.lower() == keys.lower():\n",
    "        #        dict_rev = values\n",
    "        #        keys_temp1 = keys\n",
    "        dict_rev , keys_temp1 = build_subdict(f_dict , rev)\n",
    "        print('The Similarity Scores are: ')\n",
    "        for keys, values in f_dict.items():\n",
    "            sim_score_temp = 0\n",
    "            sim_score = 0\n",
    "            if rev.lower() == keys.lower():\n",
    "                continue \n",
    "            else: \n",
    "                for keys1, values1 in values.items():\n",
    "                    if keys1 in dict_rev:\n",
    "                        sim_score_temp = (dict_rev[keys1] - values1) ** 2\n",
    "                        sim_score = sim_score + sim_score_temp    \n",
    "                sim_score = sim_score ** 0.5    \n",
    "                print('%-20s %-20s %4.2f'%(keys_temp1, keys, sim_score))\n",
    "                #print('{}     {}          {}'.format(keys_temp1, keys, round(sim_score,2)))\n",
    "    return()\n",
    "                \n",
    "file_name = input('Give the name of the movie reviews file: ') # Prompt user to enter input file name \n",
    "\n",
    "try: \n",
    "    file_handle = open(file_name,'r')                             # open the entered input file in read mode  \n",
    "except:                                                           # Handle exception when file name is incorrect or -  \n",
    "    print('Invalid file name / not present in directory')         # - present in invalid directory location \n",
    "else:   \n",
    "    dictionary , comma_count = build_dict(file_handle)    \n",
    "    if comma_count <= 1: \n",
    "        print('Invalid format of records in Input file')\n",
    "    else: \n",
    "        while True: \n",
    "            user_choice = prompt_choice()\n",
    "            if user_choice == '1':\n",
    "                option_1(dictionary)\n",
    "            elif user_choice == '2':\n",
    "                option_2(dictionary)\n",
    "            else: \n",
    "                print('Goodbye!')\n",
    "                break "
   ]
  },
  {
   "cell_type": "code",
   "execution_count": null,
   "metadata": {},
   "outputs": [],
   "source": [
    "a = ['a','b',1,'c',2,'d',3]\n",
    "dict1={}\n",
    "dict2={}\n",
    "\n",
    "for i in range(1,len(a),2): \n",
    "    dict1[a[i]] = a[i+1]\n",
    "\n",
    "dict2[a[0]] = dict1    \n",
    "    \n",
    "print(dict1, type(dict1))\n",
    "print(dict2, type(dict2))\n",
    "\n",
    "for keys1, values1 in dict2.items():\n",
    "    print(keys1)\n",
    "    print(values1, type(values1))\n",
    "    for keys2, values2 in values1.items():\n",
    "        print(keys2, values2)"
   ]
  },
  {
   "cell_type": "code",
   "execution_count": null,
   "metadata": {},
   "outputs": [],
   "source": [
    "def case_insensitive(f_dict,f_rev):\n",
    "    for i in dict: \n",
    "        if f_rev.lower() == i.lower():\n",
    "            return(True)\n",
    "\n",
    "dict = {'Nancy Pollock': {'Lawrence of Arabia': 2.5, 'Gravity': 3.5,\n",
    " 'The Godfather': 3.0, 'Prometheus': 3.5, 'For a Few Dollars More': 2.5, \n",
    " 'The Guns of Navarone': 3.0},'Jack Holmes': {'Lawrence of Arabia': 3.0, 'Gravity': 3.5, 'The Godfather': 1.5, 'Prometheus': 5.0, 'The Guns of Navarone': 3.0, \n",
    " 'For a Few Dollars More': 3.5}}\n",
    "\n",
    "rev1 = input('Provide Reviewer1 name: ')\n",
    "rev2 = input('Provide Reviewer2 name: ')    \n",
    "    \n",
    "if rev1.isspace() or len(rev1) == 0: \n",
    "    print('Reviewer1 name not entered') \n",
    "elif not (case_insensitive(dict, rev1)):\n",
    "    print('Reviewer1 is not present in database') \n",
    "elif rev2.isspace() or len(rev2) == 0:  \n",
    "    print('Reviewer2 name not entered') \n",
    "elif not (case_insensitive(dict, rev2)):\n",
    "    print('Reviewer2 is not present in database') \n",
    "else: \n",
    "    print('valid inputs')"
   ]
  },
  {
   "cell_type": "code",
   "execution_count": 43,
   "metadata": {},
   "outputs": [],
   "source": [
    "import sqlite3\n",
    "\n",
    "conn = sqlite3.connect('music1.sqlite')\n",
    "cur = conn.cursor()\n",
    "\n",
    "cur.execute('DROP TABLE IF EXISTS Tracks2')\n",
    "cur.execute('CREATE TABLE Tracks2 (Title TEXT, Plays INTEGER)')\n",
    "\n",
    "conn.close()"
   ]
  },
  {
   "cell_type": "code",
   "execution_count": null,
   "metadata": {},
   "outputs": [],
   "source": [
    "import sqlite3\n",
    "conn = sqlite3.connect('music1.sqlite')\n",
    "cur = conn.cursor()\n",
    "cur.execute('INSERT INTO Tracks (Title, Plays) VALUES (?,?)',('Thunderstruck',20))\n",
    "#cur.execute('INSERT INTO Tracks (Title, Plays) VALUES ('Thunderstruck',20)) # this wont work \n",
    "conn.commit()\n",
    "cur.close()"
   ]
  },
  {
   "cell_type": "code",
   "execution_count": 48,
   "metadata": {},
   "outputs": [
    {
     "name": "stdout",
     "output_type": "stream",
     "text": [
      "Tracks: \n",
      "('sample', 200) <class 'tuple'>\n",
      "('test', 100) <class 'tuple'>\n"
     ]
    }
   ],
   "source": [
    "import sqlite3\n",
    "conn = sqlite3.connect('music1.sqlite')\n",
    "cur = conn.cursor()\n",
    "print(\"Tracks: \")\n",
    "cur.execute('SELECT Title, Plays FROM Tracks')\n",
    "for row in cur:\n",
    "    print(row, type(row))\n",
    "cur.close()"
   ]
  },
  {
   "cell_type": "code",
   "execution_count": 7,
   "metadata": {},
   "outputs": [],
   "source": [
    "import sqlite3\n",
    "conn = sqlite3.connect('music1.sqlite')\n",
    "cur = conn.cursor()\n",
    "\n",
    "cur.execute('DELETE FROM Tracks WHERE Plays < 39')\n",
    "conn.commit()\n",
    "cur.close()"
   ]
  },
  {
   "cell_type": "code",
   "execution_count": 57,
   "metadata": {},
   "outputs": [
    {
     "name": "stdout",
     "output_type": "stream",
     "text": [
      "('a', 2, 3, 'b') <class 'tuple'>\n"
     ]
    }
   ],
   "source": [
    "x = ('a',2,3,'b')\n",
    "print(x, type(x))"
   ]
  },
  {
   "cell_type": "code",
   "execution_count": 59,
   "metadata": {},
   "outputs": [
    {
     "name": "stdout",
     "output_type": "stream",
     "text": [
      "a <class 'str'>\n",
      "1 <class 'int'>\n"
     ]
    }
   ],
   "source": [
    "#exam question - if one element only, then its not stored as tuple\n",
    "z = ('a')\n",
    "x = (1)\n",
    "print(z, type(z))\n",
    "print(x, type(x))"
   ]
  },
  {
   "cell_type": "code",
   "execution_count": 58,
   "metadata": {},
   "outputs": [
    {
     "name": "stdout",
     "output_type": "stream",
     "text": [
      "('a',) <class 'tuple'>\n",
      "(1,) <class 'tuple'>\n"
     ]
    }
   ],
   "source": [
    "z = ('a',)\n",
    "x = (1,)\n",
    "print(z, type(z))\n",
    "print(x, type(x))"
   ]
  },
  {
   "cell_type": "code",
   "execution_count": 60,
   "metadata": {},
   "outputs": [
    {
     "name": "stdout",
     "output_type": "stream",
     "text": [
      "() <class 'tuple'>\n"
     ]
    }
   ],
   "source": [
    "z = ()\n",
    "print(z, type(z))"
   ]
  },
  {
   "cell_type": "code",
   "execution_count": 67,
   "metadata": {},
   "outputs": [
    {
     "name": "stdout",
     "output_type": "stream",
     "text": [
      "{1: 100} <class 'dict'>\n",
      "({1: 100},) <class 'tuple'>\n",
      "{1: 100, 2: 200} <class 'dict'>\n",
      "\n",
      "['__add__', '__class__', '__contains__', '__delattr__', '__dir__', '__doc__', '__eq__', '__format__', '__ge__', '__getattribute__', '__getitem__', '__getnewargs__', '__gt__', '__hash__', '__init__', '__init_subclass__', '__iter__', '__le__', '__len__', '__lt__', '__mul__', '__ne__', '__new__', '__reduce__', '__reduce_ex__', '__repr__', '__rmul__', '__setattr__', '__sizeof__', '__str__', '__subclasshook__', 'count', 'index']\n"
     ]
    }
   ],
   "source": [
    "z = ({1: 100})\n",
    "print(z, type(z))\n",
    "\n",
    "x = ({1: 100},)\n",
    "print(x, type(x))\n",
    "\n",
    "y = ({1: 100, 2: 200})  ## make a note here. only one element is present, hence dict\n",
    "print(y, type(y))\n",
    "\n",
    "print('')\n",
    "print(dir(x))"
   ]
  },
  {
   "cell_type": "code",
   "execution_count": 69,
   "metadata": {},
   "outputs": [
    {
     "name": "stdout",
     "output_type": "stream",
     "text": [
      "2\n",
      "h\n",
      "o\n"
     ]
    },
    {
     "ename": "TypeError",
     "evalue": "'int' object is not subscriptable",
     "output_type": "error",
     "traceback": [
      "\u001b[1;31m---------------------------------------------------------------------------\u001b[0m",
      "\u001b[1;31mTypeError\u001b[0m                                 Traceback (most recent call last)",
      "\u001b[1;32m<ipython-input-69-9cef01e40bd7>\u001b[0m in \u001b[0;36m<module>\u001b[1;34m\u001b[0m\n\u001b[0;32m      4\u001b[0m \u001b[0mprint\u001b[0m\u001b[1;33m(\u001b[0m\u001b[0ma\u001b[0m\u001b[1;33m[\u001b[0m\u001b[1;36m1\u001b[0m\u001b[1;33m]\u001b[0m\u001b[1;33m[\u001b[0m\u001b[1;36m0\u001b[0m\u001b[1;33m]\u001b[0m\u001b[1;33m)\u001b[0m \u001b[1;31m# will work as string can be sliced\u001b[0m\u001b[1;33m\u001b[0m\u001b[1;33m\u001b[0m\u001b[0m\n\u001b[0;32m      5\u001b[0m \u001b[0mprint\u001b[0m\u001b[1;33m(\u001b[0m\u001b[0ma\u001b[0m\u001b[1;33m[\u001b[0m\u001b[1;36m3\u001b[0m\u001b[1;33m]\u001b[0m\u001b[1;33m[\u001b[0m\u001b[1;36m4\u001b[0m\u001b[1;33m]\u001b[0m\u001b[1;33m)\u001b[0m\u001b[1;33m\u001b[0m\u001b[1;33m\u001b[0m\u001b[0m\n\u001b[1;32m----> 6\u001b[1;33m \u001b[0mprint\u001b[0m\u001b[1;33m(\u001b[0m\u001b[0ma\u001b[0m\u001b[1;33m[\u001b[0m\u001b[1;36m2\u001b[0m\u001b[1;33m]\u001b[0m\u001b[1;33m[\u001b[0m\u001b[1;36m0\u001b[0m\u001b[1;33m]\u001b[0m\u001b[1;33m)\u001b[0m \u001b[1;31m# will not work as int cannot be traversed\u001b[0m\u001b[1;33m\u001b[0m\u001b[1;33m\u001b[0m\u001b[0m\n\u001b[0m",
      "\u001b[1;31mTypeError\u001b[0m: 'int' object is not subscriptable"
     ]
    }
   ],
   "source": [
    "# exam question \n",
    "a = ((1,2),'h',3,'hello')\n",
    "print(a[0][1]) # will work\n",
    "print(a[1][0]) # will work as string can be sliced\n",
    "print(a[3][4])\n",
    "print(a[2][0]) # will not work as int cannot be traversed"
   ]
  },
  {
   "cell_type": "code",
   "execution_count": 26,
   "metadata": {},
   "outputs": [
    {
     "name": "stdout",
     "output_type": "stream",
     "text": [
      "hello\n",
      "('hello',)\n",
      "('h', 'e', 'l', 'l', 'o')\n",
      "['h', 'e', 'l', 'l', 'o']\n"
     ]
    }
   ],
   "source": [
    "a = ('hello')\n",
    "print(a)\n",
    "\n",
    "a = ('hello',)\n",
    "print(a)\n",
    "\n",
    "a = tuple('hello')\n",
    "print(a)\n",
    "\n",
    "a = 'hello'\n",
    "a = list(a)\n",
    "print(a)"
   ]
  },
  {
   "cell_type": "code",
   "execution_count": 72,
   "metadata": {},
   "outputs": [
    {
     "name": "stdout",
     "output_type": "stream",
     "text": [
      "<class 'list'> [1]\n",
      "1 <class 'int'>\n"
     ]
    }
   ],
   "source": [
    "t = [1,2,3]\n",
    "print(type(t[0:1]), t[0:1])\n",
    "\n",
    "a = t[0]  # note the difference between this and slicing [0:1]\n",
    "print(a,type(a))"
   ]
  },
  {
   "cell_type": "code",
   "execution_count": 32,
   "metadata": {},
   "outputs": [
    {
     "name": "stdout",
     "output_type": "stream",
     "text": [
      "(1,)\n",
      "(1, 2)\n",
      "(1, 2, 3)\n",
      "1 <class 'int'>\n"
     ]
    }
   ],
   "source": [
    "t= (1,2,3)\n",
    "print(t[0:1]) # note that this is giving first item as a tuple with comma\n",
    "print(t[0:2])\n",
    "print(t[:])\n",
    "\n",
    "a = t[0]  # note the difference between this and slicing [0:1]\n",
    "print(a,type(a))"
   ]
  },
  {
   "cell_type": "code",
   "execution_count": 30,
   "metadata": {},
   "outputs": [
    {
     "name": "stdout",
     "output_type": "stream",
     "text": [
      "[1]\n",
      "[1, 2]\n",
      "[1, 2, 3]\n",
      "1 <class 'int'>\n"
     ]
    }
   ],
   "source": [
    "t= [1,2,3]\n",
    "print(t[0:1]) # note that this is giving first item as a list without comma\n",
    "print(t[0:2])\n",
    "print(t[:])\n",
    "\n",
    "a = t[0]  \n",
    "print(a,type(a))"
   ]
  },
  {
   "cell_type": "code",
   "execution_count": 78,
   "metadata": {},
   "outputs": [
    {
     "name": "stdout",
     "output_type": "stream",
     "text": [
      "(1, 2, 3)\n",
      "(1, 2, 3)\n",
      "[1, 2, 3]\n",
      "[1, 2, 3]\n"
     ]
    }
   ],
   "source": [
    "t= tuple([1,2,3])\n",
    "print(t)\n",
    "\n",
    "t=tuple((1,2,3))\n",
    "print(t)\n",
    "\n",
    "t=list([1,2,3])\n",
    "print(t)\n",
    "\n",
    "t = list((1,2,3))\n",
    "print(t)"
   ]
  },
  {
   "cell_type": "code",
   "execution_count": 85,
   "metadata": {},
   "outputs": [
    {
     "name": "stdout",
     "output_type": "stream",
     "text": [
      "(1, 2, 3, 1, 2, 3)\n",
      "(1, 2, 3, 1)\n"
     ]
    }
   ],
   "source": [
    "t=(1,2,3)\n",
    "newtuple = t + t\n",
    "print(newtuple)\n",
    "\n",
    "newtuple = t + t[0:1] # note this will work only for t[0:1] and not t[0] as it will be an tuple + int\n",
    "print(newtuple)"
   ]
  },
  {
   "cell_type": "code",
   "execution_count": 86,
   "metadata": {},
   "outputs": [
    {
     "ename": "TypeError",
     "evalue": "can only concatenate tuple (not \"list\") to tuple",
     "output_type": "error",
     "traceback": [
      "\u001b[1;31m---------------------------------------------------------------------------\u001b[0m",
      "\u001b[1;31mTypeError\u001b[0m                                 Traceback (most recent call last)",
      "\u001b[1;32m<ipython-input-86-7e01c183b14c>\u001b[0m in \u001b[0;36m<module>\u001b[1;34m\u001b[0m\n\u001b[0;32m      2\u001b[0m \u001b[0mb\u001b[0m \u001b[1;33m=\u001b[0m \u001b[1;33m[\u001b[0m\u001b[1;34m'1'\u001b[0m\u001b[1;33m,\u001b[0m\u001b[1;34m'2'\u001b[0m\u001b[1;33m,\u001b[0m\u001b[1;34m'3'\u001b[0m\u001b[1;33m]\u001b[0m\u001b[1;33m\u001b[0m\u001b[1;33m\u001b[0m\u001b[0m\n\u001b[0;32m      3\u001b[0m \u001b[1;33m\u001b[0m\u001b[0m\n\u001b[1;32m----> 4\u001b[1;33m \u001b[0mc\u001b[0m \u001b[1;33m=\u001b[0m \u001b[0ma\u001b[0m \u001b[1;33m+\u001b[0m \u001b[0mb\u001b[0m\u001b[1;33m\u001b[0m\u001b[1;33m\u001b[0m\u001b[0m\n\u001b[0m\u001b[0;32m      5\u001b[0m \u001b[0mprint\u001b[0m\u001b[1;33m(\u001b[0m\u001b[0mc\u001b[0m\u001b[1;33m)\u001b[0m\u001b[1;33m\u001b[0m\u001b[1;33m\u001b[0m\u001b[0m\n",
      "\u001b[1;31mTypeError\u001b[0m: can only concatenate tuple (not \"list\") to tuple"
     ]
    }
   ],
   "source": [
    "a = ('1','2','3')\n",
    "b = ['1','2','3']\n",
    "\n",
    "c = a + b\n",
    "print(c)"
   ]
  },
  {
   "cell_type": "code",
   "execution_count": 75,
   "metadata": {},
   "outputs": [
    {
     "name": "stdout",
     "output_type": "stream",
     "text": [
      "['pepsi', 'cola', '7-up']\n",
      "2281854707848\n",
      "['water', 'cola', '7-up']\n",
      "2281854707848\n"
     ]
    }
   ],
   "source": [
    "a = ['pepsi','cola','7-up']\n",
    "print(a)\n",
    "print(id(a))\n",
    "\n",
    "a[0] = 'water'\n",
    "print(a)\n",
    "print(id(a))"
   ]
  },
  {
   "cell_type": "code",
   "execution_count": 36,
   "metadata": {},
   "outputs": [
    {
     "name": "stdout",
     "output_type": "stream",
     "text": [
      "('pepsi', 'cola', '7-up')\n"
     ]
    },
    {
     "ename": "TypeError",
     "evalue": "'tuple' object does not support item assignment",
     "output_type": "error",
     "traceback": [
      "\u001b[1;31m---------------------------------------------------------------------------\u001b[0m",
      "\u001b[1;31mTypeError\u001b[0m                                 Traceback (most recent call last)",
      "\u001b[1;32m<ipython-input-36-332655f7732c>\u001b[0m in \u001b[0;36m<module>\u001b[1;34m\u001b[0m\n\u001b[0;32m      1\u001b[0m \u001b[0ma\u001b[0m \u001b[1;33m=\u001b[0m \u001b[1;33m(\u001b[0m\u001b[1;34m'pepsi'\u001b[0m\u001b[1;33m,\u001b[0m\u001b[1;34m'cola'\u001b[0m\u001b[1;33m,\u001b[0m\u001b[1;34m'7-up'\u001b[0m\u001b[1;33m)\u001b[0m\u001b[1;33m\u001b[0m\u001b[1;33m\u001b[0m\u001b[0m\n\u001b[0;32m      2\u001b[0m \u001b[0mprint\u001b[0m\u001b[1;33m(\u001b[0m\u001b[0ma\u001b[0m\u001b[1;33m)\u001b[0m\u001b[1;33m\u001b[0m\u001b[1;33m\u001b[0m\u001b[0m\n\u001b[1;32m----> 3\u001b[1;33m \u001b[0ma\u001b[0m\u001b[1;33m[\u001b[0m\u001b[1;36m0\u001b[0m\u001b[1;33m]\u001b[0m \u001b[1;33m=\u001b[0m \u001b[1;34m'water'\u001b[0m  \u001b[1;31m# throws error - immutability of tuples - exam question - illustrate with code that tuple is immutable\u001b[0m\u001b[1;33m\u001b[0m\u001b[1;33m\u001b[0m\u001b[0m\n\u001b[0m\u001b[0;32m      4\u001b[0m \u001b[0mprint\u001b[0m\u001b[1;33m(\u001b[0m\u001b[0ma\u001b[0m\u001b[1;33m)\u001b[0m\u001b[1;33m\u001b[0m\u001b[1;33m\u001b[0m\u001b[0m\n",
      "\u001b[1;31mTypeError\u001b[0m: 'tuple' object does not support item assignment"
     ]
    }
   ],
   "source": [
    "#exam question - illustrate with code that tuple is immutable\n",
    "\n",
    "a = ('pepsi','cola','7-up')\n",
    "print(a)\n",
    "a[0] = 'water'  # throws error - immutability of tuples\n",
    "print(a)"
   ]
  },
  {
   "cell_type": "code",
   "execution_count": 40,
   "metadata": {},
   "outputs": [
    {
     "name": "stdout",
     "output_type": "stream",
     "text": [
      "('pepsi', 'cola', '7-up') 2047894424856\n",
      "('water', 'cola', '7-up') 2047894450888\n",
      "('water', 'cola', '7-up') 2047894450888\n"
     ]
    }
   ],
   "source": [
    "# below is just variable reassignment\n",
    "a = ('pepsi','cola','7-up')\n",
    "print(a, id(a))\n",
    "\n",
    "a = ('water','cola','7-up')\n",
    "print(a, id(a))\n",
    "\n",
    "b=a   # assigns by reference - same as list\n",
    "print(b,id(b))"
   ]
  },
  {
   "cell_type": "code",
   "execution_count": 39,
   "metadata": {},
   "outputs": [
    {
     "name": "stdout",
     "output_type": "stream",
     "text": [
      "['pepsi', 'cola', '7-up'] 2047892990856\n",
      "['water', 'cola', '7-up'] 2047891824456\n",
      "['water', 'cola', '7-up'] 2047891824456\n"
     ]
    }
   ],
   "source": [
    "# below is just variable reassignment\n",
    "a = ['pepsi','cola','7-up']\n",
    "print(a, id(a))\n",
    "\n",
    "a = ['water','cola','7-up']\n",
    "print(a, id(a))\n",
    "\n",
    "b=a        # assigns by reference - same as tuple \n",
    "print(b,id(b))"
   ]
  },
  {
   "cell_type": "code",
   "execution_count": 90,
   "metadata": {},
   "outputs": [
    {
     "name": "stdout",
     "output_type": "stream",
     "text": [
      "[(701, 'S.Oak', 'Arlington', 'TX'), (211, 'S.Cooper', 'Arlington', 'TX')] <class 'list'>\n"
     ]
    }
   ],
   "source": [
    "# exam question - how do we use tuple and list using homogenous and heterogenous data - refer to slide 8\n",
    "\n",
    "addr_list = list() \n",
    "addr_list.append((701,'S.Oak','Arlington','TX'))\n",
    "addr_list.append((211,'S.Cooper','Arlington','TX'))\n",
    "print(addr_list, type(addr_list))"
   ]
  },
  {
   "cell_type": "code",
   "execution_count": 91,
   "metadata": {},
   "outputs": [
    {
     "name": "stdout",
     "output_type": "stream",
     "text": [
      "(1, 2, 3) <class 'tuple'>\n",
      "('a', 'b', 'c') <class 'tuple'>\n"
     ]
    }
   ],
   "source": [
    "def myoutput(i):\n",
    "    if i == 0:\n",
    "        return(1,2,3)\n",
    "    else:\n",
    "        return('a','b','c')\n",
    "    \n",
    "print(myoutput(0), type(myoutput(1)))\n",
    "print(myoutput(1), type(myoutput(1)))  # by default return type will be as a tuple if multiple items are being sent back"
   ]
  },
  {
   "cell_type": "code",
   "execution_count": 94,
   "metadata": {},
   "outputs": [
    {
     "name": "stdout",
     "output_type": "stream",
     "text": [
      "(1, 2, 3) <class 'tuple'>\n",
      "('a', 'b', 'c') <class 'tuple'>\n",
      "1 2 3\n",
      "<class 'int'> <class 'int'> <class 'int'>\n",
      "a b c\n",
      "<class 'str'> <class 'str'> <class 'str'>\n"
     ]
    }
   ],
   "source": [
    "def myoutput(i):\n",
    "    if i == 0:\n",
    "        return(1,2,3)\n",
    "    else:\n",
    "        return('a','b','c')\n",
    "    \n",
    "one = myoutput(0) \n",
    "print(one, type(one))\n",
    "\n",
    "two = myoutput(1) \n",
    "print(two, type(two))\n",
    "\n",
    "a, b, c = myoutput(0) \n",
    "print(a,b,c)\n",
    "print(type(a),type(b),type(c)) \n",
    "\n",
    "a,b,c = myoutput(1) \n",
    "print(a,b,c)\n",
    "print(type(a),type(b),type(c)) "
   ]
  },
  {
   "cell_type": "code",
   "execution_count": 95,
   "metadata": {},
   "outputs": [
    {
     "name": "stdout",
     "output_type": "stream",
     "text": [
      "[(701, 'S.Oak', 'Arlington', 'TX')]\n",
      "[(701, 'S.Oak', 'Arlington', 'TX'), (211, 'S.Cooper', 'Arlington', 'TX')]\n",
      "[('College of Business', 'School of Management'), 'School of Social Work']\n",
      "{('College of Business', 'School of Management'): (701, 'S.Oak', 'Arlington', 'TX'), 'School of Social Work': (211, 'S.Cooper', 'Arlington', 'TX')}\n"
     ]
    }
   ],
   "source": [
    "# tupple dataset cannot be replaced by a list in dict keys. exam question - slide# 10\n",
    "\n",
    "addr_list = []\n",
    "addr_list.append((701,'S.Oak','Arlington','TX'))\n",
    "print(addr_list)\n",
    "\n",
    "addr_list.append((211,'S.Cooper','Arlington','TX'))\n",
    "print(addr_list)\n",
    "\n",
    "dept_addr = dict()\n",
    "\n",
    "depts=[('College of Business','School of Management'),'School of Social Work']\n",
    "print(depts)\n",
    "\n",
    "i=0\n",
    "for school in depts:\n",
    "    dept_addr[school] = addr_list[i]\n",
    "    i=i+1\n",
    "print(dept_addr)"
   ]
  },
  {
   "cell_type": "code",
   "execution_count": 3,
   "metadata": {},
   "outputs": [
    {
     "name": "stdout",
     "output_type": "stream",
     "text": [
      "1\n",
      "2\n",
      "3\n",
      "4\n",
      "5\n"
     ]
    },
    {
     "ename": "TypeError",
     "evalue": "'int' object is not iterable",
     "output_type": "error",
     "traceback": [
      "\u001b[1;31m---------------------------------------------------------------------------\u001b[0m",
      "\u001b[1;31mTypeError\u001b[0m                                 Traceback (most recent call last)",
      "\u001b[1;32m<ipython-input-3-1a6b2445eb13>\u001b[0m in \u001b[0;36m<module>\u001b[1;34m\u001b[0m\n\u001b[0;32m      4\u001b[0m \u001b[1;33m\u001b[0m\u001b[0m\n\u001b[0;32m      5\u001b[0m \u001b[0ma\u001b[0m \u001b[1;33m=\u001b[0m \u001b[1;36m12345\u001b[0m\u001b[1;33m\u001b[0m\u001b[1;33m\u001b[0m\u001b[0m\n\u001b[1;32m----> 6\u001b[1;33m \u001b[1;32mfor\u001b[0m \u001b[0mi\u001b[0m \u001b[1;32min\u001b[0m \u001b[0ma\u001b[0m\u001b[1;33m:\u001b[0m\u001b[1;33m\u001b[0m\u001b[1;33m\u001b[0m\u001b[0m\n\u001b[0m\u001b[0;32m      7\u001b[0m     \u001b[0mprint\u001b[0m\u001b[1;33m(\u001b[0m\u001b[0mi\u001b[0m\u001b[1;33m)\u001b[0m\u001b[1;33m\u001b[0m\u001b[1;33m\u001b[0m\u001b[0m\n",
      "\u001b[1;31mTypeError\u001b[0m: 'int' object is not iterable"
     ]
    }
   ],
   "source": [
    "a = '12345'  # str is iterable\n",
    "for i in a: \n",
    "    print(i)\n",
    "    \n",
    "a = 12345  # int is not iterable\n",
    "for i in a: \n",
    "    print(i)"
   ]
  },
  {
   "cell_type": "code",
   "execution_count": 102,
   "metadata": {},
   "outputs": [
    {
     "name": "stdout",
     "output_type": "stream",
     "text": [
      "<class 'set'>\n",
      "{'c', 'b', 'a'}\n",
      "c\n",
      "b\n",
      "a\n"
     ]
    }
   ],
   "source": [
    "myset = {'a','b','c'}\n",
    "print(type(myset))\n",
    "print(myset)  # order will change vs defined\n",
    "\n",
    "for i in myset:   # set is iterable\n",
    "    print(i)"
   ]
  },
  {
   "cell_type": "code",
   "execution_count": 153,
   "metadata": {},
   "outputs": [
    {
     "name": "stdout",
     "output_type": "stream",
     "text": [
      "<class 'set'>\n",
      "{'c', 'b', 'a'}\n",
      "{1, 'abc', 'a', 12.4, ('a', 'b', 1, 2)} <class 'set'>\n"
     ]
    },
    {
     "ename": "TypeError",
     "evalue": "unhashable type: 'set'",
     "output_type": "error",
     "traceback": [
      "\u001b[1;31m---------------------------------------------------------------------------\u001b[0m",
      "\u001b[1;31mTypeError\u001b[0m                                 Traceback (most recent call last)",
      "\u001b[1;32m<ipython-input-153-4e51432df965>\u001b[0m in \u001b[0;36m<module>\u001b[1;34m\u001b[0m\n\u001b[0;32m      6\u001b[0m \u001b[0mprint\u001b[0m\u001b[1;33m(\u001b[0m\u001b[0mmyset\u001b[0m\u001b[1;33m,\u001b[0m \u001b[0mtype\u001b[0m\u001b[1;33m(\u001b[0m\u001b[0mmyset\u001b[0m\u001b[1;33m)\u001b[0m\u001b[1;33m)\u001b[0m\u001b[1;33m\u001b[0m\u001b[1;33m\u001b[0m\u001b[0m\n\u001b[0;32m      7\u001b[0m \u001b[1;33m\u001b[0m\u001b[0m\n\u001b[1;32m----> 8\u001b[1;33m \u001b[0mmyset\u001b[0m \u001b[1;33m=\u001b[0m \u001b[1;33m{\u001b[0m\u001b[1;33m{\u001b[0m\u001b[1;36m1\u001b[0m\u001b[1;33m,\u001b[0m\u001b[1;36m2\u001b[0m\u001b[1;33m,\u001b[0m\u001b[1;36m3\u001b[0m\u001b[1;33m}\u001b[0m\u001b[1;33m,\u001b[0m\u001b[1;33m{\u001b[0m\u001b[1;34m'a'\u001b[0m\u001b[1;33m,\u001b[0m\u001b[1;34m'b'\u001b[0m\u001b[1;33m,\u001b[0m\u001b[1;34m'c'\u001b[0m\u001b[1;33m}\u001b[0m\u001b[1;33m}\u001b[0m \u001b[1;31m# set cannot have a set within\u001b[0m\u001b[1;33m\u001b[0m\u001b[1;33m\u001b[0m\u001b[0m\n\u001b[0m\u001b[0;32m      9\u001b[0m \u001b[0mprint\u001b[0m\u001b[1;33m(\u001b[0m\u001b[0mmyset\u001b[0m\u001b[1;33m)\u001b[0m\u001b[1;33m\u001b[0m\u001b[1;33m\u001b[0m\u001b[0m\n",
      "\u001b[1;31mTypeError\u001b[0m: unhashable type: 'set'"
     ]
    }
   ],
   "source": [
    "myset = set(['a','b','c'])  # as list is iterable and also each element is immutable, it converts into set\n",
    "print(type(myset))\n",
    "print(myset)  # order will change vs defined\n",
    "\n",
    "myset = {'a','abc',1,12.4,('a','b',1,2)}\n",
    "print(myset, type(myset))\n",
    "\n",
    "myset = {{1,2,3},{'a','b','c'}} # set cannot have a set within\n",
    "print(myset)"
   ]
  },
  {
   "cell_type": "code",
   "execution_count": 104,
   "metadata": {},
   "outputs": [
    {
     "ename": "TypeError",
     "evalue": "unhashable type: 'list'",
     "output_type": "error",
     "traceback": [
      "\u001b[1;31m---------------------------------------------------------------------------\u001b[0m",
      "\u001b[1;31mTypeError\u001b[0m                                 Traceback (most recent call last)",
      "\u001b[1;32m<ipython-input-104-c92adde6eec7>\u001b[0m in \u001b[0;36m<module>\u001b[1;34m\u001b[0m\n\u001b[1;32m----> 1\u001b[1;33m \u001b[0mmyset\u001b[0m \u001b[1;33m=\u001b[0m \u001b[0mset\u001b[0m\u001b[1;33m(\u001b[0m\u001b[1;33m[\u001b[0m\u001b[1;34m'a'\u001b[0m\u001b[1;33m,\u001b[0m\u001b[1;34m'b'\u001b[0m\u001b[1;33m,\u001b[0m\u001b[1;34m'c'\u001b[0m\u001b[1;33m,\u001b[0m\u001b[1;33m[\u001b[0m\u001b[1;36m1\u001b[0m\u001b[1;33m,\u001b[0m\u001b[1;36m2\u001b[0m\u001b[1;33m]\u001b[0m\u001b[1;33m]\u001b[0m\u001b[1;33m)\u001b[0m  \u001b[1;31m# as one item is mutable (list), it throws an error\u001b[0m\u001b[1;33m\u001b[0m\u001b[1;33m\u001b[0m\u001b[0m\n\u001b[0m\u001b[0;32m      2\u001b[0m \u001b[0mprint\u001b[0m\u001b[1;33m(\u001b[0m\u001b[0mtype\u001b[0m\u001b[1;33m(\u001b[0m\u001b[0mmyset\u001b[0m\u001b[1;33m)\u001b[0m\u001b[1;33m)\u001b[0m\u001b[1;33m\u001b[0m\u001b[1;33m\u001b[0m\u001b[0m\n\u001b[0;32m      3\u001b[0m \u001b[0mprint\u001b[0m\u001b[1;33m(\u001b[0m\u001b[0mmyset\u001b[0m\u001b[1;33m)\u001b[0m\u001b[1;33m\u001b[0m\u001b[1;33m\u001b[0m\u001b[0m\n",
      "\u001b[1;31mTypeError\u001b[0m: unhashable type: 'list'"
     ]
    }
   ],
   "source": [
    "myset = set(['a','b','c',[1,2]])  # as one item is mutable (list), it throws an error \n",
    "print(type(myset))\n",
    "print(myset)   "
   ]
  },
  {
   "cell_type": "code",
   "execution_count": 105,
   "metadata": {},
   "outputs": [
    {
     "ename": "TypeError",
     "evalue": "unhashable type: 'list'",
     "output_type": "error",
     "traceback": [
      "\u001b[1;31m---------------------------------------------------------------------------\u001b[0m",
      "\u001b[1;31mTypeError\u001b[0m                                 Traceback (most recent call last)",
      "\u001b[1;32m<ipython-input-105-c21cb95f77b3>\u001b[0m in \u001b[0;36m<module>\u001b[1;34m\u001b[0m\n\u001b[1;32m----> 1\u001b[1;33m \u001b[0mmyset\u001b[0m \u001b[1;33m=\u001b[0m \u001b[0mset\u001b[0m\u001b[1;33m(\u001b[0m\u001b[1;33m[\u001b[0m\u001b[1;33m[\u001b[0m\u001b[1;34m'a'\u001b[0m\u001b[1;33m,\u001b[0m\u001b[1;34m'b'\u001b[0m\u001b[1;33m,\u001b[0m\u001b[1;34m'c'\u001b[0m\u001b[1;33m]\u001b[0m\u001b[1;33m,\u001b[0m\u001b[1;33m[\u001b[0m\u001b[1;36m1\u001b[0m\u001b[1;33m,\u001b[0m\u001b[1;36m2\u001b[0m\u001b[1;33m]\u001b[0m\u001b[1;33m]\u001b[0m\u001b[1;33m)\u001b[0m  \u001b[1;31m# as 1st item is mutable, it throws an error\u001b[0m\u001b[1;33m\u001b[0m\u001b[1;33m\u001b[0m\u001b[0m\n\u001b[0m\u001b[0;32m      2\u001b[0m \u001b[0mprint\u001b[0m\u001b[1;33m(\u001b[0m\u001b[0mtype\u001b[0m\u001b[1;33m(\u001b[0m\u001b[0mmyset\u001b[0m\u001b[1;33m)\u001b[0m\u001b[1;33m)\u001b[0m\u001b[1;33m\u001b[0m\u001b[1;33m\u001b[0m\u001b[0m\n\u001b[0;32m      3\u001b[0m \u001b[0mprint\u001b[0m\u001b[1;33m(\u001b[0m\u001b[0mmyset\u001b[0m\u001b[1;33m)\u001b[0m  \u001b[1;31m# order will change vs defined\u001b[0m\u001b[1;33m\u001b[0m\u001b[1;33m\u001b[0m\u001b[0m\n",
      "\u001b[1;31mTypeError\u001b[0m: unhashable type: 'list'"
     ]
    }
   ],
   "source": [
    "myset = set([['a','b','c'],[1,2]])  # as 1st item is mutable, it throws an error \n",
    "print(type(myset))\n",
    "print(myset)  # order will change vs defined"
   ]
  },
  {
   "cell_type": "code",
   "execution_count": 127,
   "metadata": {},
   "outputs": [
    {
     "name": "stdout",
     "output_type": "stream",
     "text": [
      "{(1, 2), 1, 'hello'}\n",
      "<class 'dict'>\n",
      "<class 'set'>\n",
      "{1, 2, 3, 4}\n"
     ]
    },
    {
     "ename": "TypeError",
     "evalue": "'set' object is not subscriptable",
     "output_type": "error",
     "traceback": [
      "\u001b[1;31m---------------------------------------------------------------------------\u001b[0m",
      "\u001b[1;31mTypeError\u001b[0m                                 Traceback (most recent call last)",
      "\u001b[1;32m<ipython-input-127-5faf347200ef>\u001b[0m in \u001b[0;36m<module>\u001b[1;34m\u001b[0m\n\u001b[0;32m     11\u001b[0m \u001b[0mprint\u001b[0m\u001b[1;33m(\u001b[0m\u001b[0mmyset\u001b[0m\u001b[1;33m)\u001b[0m\u001b[1;33m\u001b[0m\u001b[1;33m\u001b[0m\u001b[0m\n\u001b[0;32m     12\u001b[0m \u001b[1;33m\u001b[0m\u001b[0m\n\u001b[1;32m---> 13\u001b[1;33m \u001b[0mprint\u001b[0m\u001b[1;33m(\u001b[0m\u001b[0mmyset\u001b[0m\u001b[1;33m[\u001b[0m\u001b[1;36m0\u001b[0m\u001b[1;33m]\u001b[0m\u001b[1;33m)\u001b[0m\u001b[1;33m\u001b[0m\u001b[1;33m\u001b[0m\u001b[0m\n\u001b[0m",
      "\u001b[1;31mTypeError\u001b[0m: 'set' object is not subscriptable"
     ]
    }
   ],
   "source": [
    "myset = {1,'hello',(1,2)}\n",
    "print(myset)\n",
    "\n",
    "myset = {}  # note this will create a dict and not set\n",
    "print(type(myset))\n",
    "\n",
    "myset = set() \n",
    "print(type(myset))\n",
    "\n",
    "myset = {1,2,3,4,3,2} \n",
    "print(myset)\n",
    "\n",
    "print(myset[0])  # individual items cannot be referenced like strings or lists. However they are iterable though "
   ]
  },
  {
   "cell_type": "code",
   "execution_count": 133,
   "metadata": {},
   "outputs": [
    {
     "name": "stdout",
     "output_type": "stream",
     "text": [
      "{1, 2, 3, 4}\n"
     ]
    }
   ],
   "source": [
    "a = [1,2,3,4]\n",
    "set1 = set(a)\n",
    "print(set1)"
   ]
  },
  {
   "cell_type": "code",
   "execution_count": 106,
   "metadata": {},
   "outputs": [
    {
     "name": "stdout",
     "output_type": "stream",
     "text": [
      "{'world', 'hello'} <class 'set'>\n"
     ]
    }
   ],
   "source": [
    "a = set({\"world\":2, \"hello\":4}) # what is happening to 2 and 4 ?\n",
    "print(a, type(a))"
   ]
  },
  {
   "cell_type": "code",
   "execution_count": 108,
   "metadata": {},
   "outputs": [
    {
     "ename": "TypeError",
     "evalue": "unhashable type: 'dict'",
     "output_type": "error",
     "traceback": [
      "\u001b[1;31m---------------------------------------------------------------------------\u001b[0m",
      "\u001b[1;31mTypeError\u001b[0m                                 Traceback (most recent call last)",
      "\u001b[1;32m<ipython-input-108-045025d9f8bf>\u001b[0m in \u001b[0;36m<module>\u001b[1;34m\u001b[0m\n\u001b[1;32m----> 1\u001b[1;33m \u001b[0ma\u001b[0m \u001b[1;33m=\u001b[0m \u001b[0mset\u001b[0m\u001b[1;33m(\u001b[0m\u001b[1;33m{\u001b[0m\u001b[1;33m{\u001b[0m\u001b[1;34m\"world\"\u001b[0m\u001b[1;33m:\u001b[0m\u001b[1;36m2\u001b[0m\u001b[1;33m,\u001b[0m \u001b[1;34m\"hello\"\u001b[0m\u001b[1;33m:\u001b[0m\u001b[1;36m4\u001b[0m\u001b[1;33m}\u001b[0m\u001b[1;33m,\u001b[0m\u001b[1;33m{\u001b[0m\u001b[1;34m\"world\"\u001b[0m\u001b[1;33m:\u001b[0m\u001b[1;36m9\u001b[0m\u001b[1;33m,\u001b[0m \u001b[1;34m\"hello\"\u001b[0m\u001b[1;33m:\u001b[0m\u001b[1;36m6\u001b[0m\u001b[1;33m}\u001b[0m\u001b[1;33m}\u001b[0m\u001b[1;33m)\u001b[0m\u001b[1;33m\u001b[0m\u001b[1;33m\u001b[0m\u001b[0m\n\u001b[0m\u001b[0;32m      2\u001b[0m \u001b[0mprint\u001b[0m\u001b[1;33m(\u001b[0m\u001b[0ma\u001b[0m\u001b[1;33m,\u001b[0m \u001b[0mtype\u001b[0m\u001b[1;33m(\u001b[0m\u001b[0ma\u001b[0m\u001b[1;33m)\u001b[0m\u001b[1;33m)\u001b[0m\u001b[1;33m\u001b[0m\u001b[1;33m\u001b[0m\u001b[0m\n",
      "\u001b[1;31mTypeError\u001b[0m: unhashable type: 'dict'"
     ]
    }
   ],
   "source": [
    "a = set({{\"world\":2, \"hello\":4},{\"world\":9, \"hello\":6}}) \n",
    "print(a, type(a))"
   ]
  },
  {
   "cell_type": "code",
   "execution_count": 113,
   "metadata": {},
   "outputs": [
    {
     "name": "stdout",
     "output_type": "stream",
     "text": [
      "{'world', 'hello'}\n",
      "<class 'set'>\n",
      "\n",
      "{'world', 'hello'}\n",
      "<class 'set'>\n",
      "\n",
      "{2, 4}\n",
      "<class 'set'>\n",
      "\n",
      "{('hello', 4), ('world', 2)}\n",
      "<class 'set'>\n",
      "\n",
      "{('hello', 4), ('world', 2)}\n",
      "('hello', 4) <class 'tuple'>\n",
      "('world', 2) <class 'tuple'>\n"
     ]
    }
   ],
   "source": [
    "print(set({\"world\":2, \"hello\":4}))\n",
    "print(type(set({\"world\":2, \"hello\":4})))\n",
    "\n",
    "print('')\n",
    "print(set({\"world\":2, \"hello\":4}.keys()))\n",
    "print(type(set({\"world\":2, \"hello\":4}.keys())))\n",
    "\n",
    "print('')\n",
    "print(set({\"world\":2, \"hello\":4}.values()))\n",
    "print(type(set({\"world\":2, \"hello\":4}.values())))\n",
    "\n",
    "print('')\n",
    "print(set({\"world\":2, \"hello\":4}.items()))\n",
    "print(type(set({\"world\":2, \"hello\":4}.items())))\n",
    "\n",
    "print('')\n",
    "a = set({\"world\":2, \"hello\":4}.items())\n",
    "print(a)\n",
    "for i in a: \n",
    "    print(i, type(i))"
   ]
  },
  {
   "cell_type": "code",
   "execution_count": 121,
   "metadata": {},
   "outputs": [
    {
     "name": "stdout",
     "output_type": "stream",
     "text": [
      "{1, 2, 3, 4, '4'}\n",
      "{1, 2, 3, 4, 'a', 'd', 'c', 'b'}\n",
      "[1, 2, 3, 4, 'a', 'd', 'c', 'b']\n"
     ]
    }
   ],
   "source": [
    "myset = {1,2,3,4,2,3,4,'4'}\n",
    "print(myset) # duplicates are eliminated. No error is thrown\n",
    "\n",
    "mylist = [1,2,3,4,1,2,3,4,'a','b','c','d','c','d','a','b']\n",
    "myset = set(mylist)\n",
    "print(myset)  # duplicates are eliminated \n",
    "\n",
    "mylist1 = list(myset) # to remove duplicates, convert a list into set and then back to list\n",
    "print(mylist1)"
   ]
  },
  {
   "cell_type": "code",
   "execution_count": 136,
   "metadata": {},
   "outputs": [
    {
     "name": "stdout",
     "output_type": "stream",
     "text": [
      "{1, 2, 'C', 4, 3, 'a', 'B', 'c', 'b', 'A'}\n"
     ]
    },
    {
     "ename": "TypeError",
     "evalue": "unhashable type: 'dict'",
     "output_type": "error",
     "traceback": [
      "\u001b[1;31m---------------------------------------------------------------------------\u001b[0m",
      "\u001b[1;31mTypeError\u001b[0m                                 Traceback (most recent call last)",
      "\u001b[1;32m<ipython-input-136-f9c2177407f5>\u001b[0m in \u001b[0;36m<module>\u001b[1;34m\u001b[0m\n\u001b[0;32m      3\u001b[0m \u001b[1;33m\u001b[0m\u001b[0m\n\u001b[0;32m      4\u001b[0m \u001b[1;31m#myset = {'a',12.5, 1, 2, ['a','b']}  # cannot have a list in a set\u001b[0m\u001b[1;33m\u001b[0m\u001b[1;33m\u001b[0m\u001b[1;33m\u001b[0m\u001b[0m\n\u001b[1;32m----> 5\u001b[1;33m \u001b[0mmyset\u001b[0m \u001b[1;33m=\u001b[0m \u001b[1;33m{\u001b[0m\u001b[1;34m'a'\u001b[0m\u001b[1;33m,\u001b[0m\u001b[1;36m12.5\u001b[0m\u001b[1;33m,\u001b[0m \u001b[1;36m1\u001b[0m\u001b[1;33m,\u001b[0m \u001b[1;36m2\u001b[0m\u001b[1;33m,\u001b[0m \u001b[1;33m{\u001b[0m\u001b[1;34m'a'\u001b[0m\u001b[1;33m:\u001b[0m\u001b[1;36m1\u001b[0m\u001b[1;33m,\u001b[0m\u001b[1;34m'b'\u001b[0m\u001b[1;33m:\u001b[0m\u001b[1;36m2\u001b[0m\u001b[1;33m}\u001b[0m\u001b[1;33m}\u001b[0m  \u001b[1;31m# cannot have a dict in a set\u001b[0m\u001b[1;33m\u001b[0m\u001b[1;33m\u001b[0m\u001b[0m\n\u001b[0m",
      "\u001b[1;31mTypeError\u001b[0m: unhashable type: 'dict'"
     ]
    }
   ],
   "source": [
    "myset = {4,'a','b','c','A','B','C',1,2,3}  # not sure how the elements will get ordered when printing \n",
    "print(myset)\n",
    "\n",
    "#myset = {'a',12.5, 1, 2, ['a','b']}  # cannot have a list in a set \n",
    "myset = {'a',12.5, 1, 2, {'a':1,'b':2}}  # cannot have a dict in a set "
   ]
  },
  {
   "cell_type": "code",
   "execution_count": 212,
   "metadata": {},
   "outputs": [
    {
     "name": "stdout",
     "output_type": "stream",
     "text": [
      "{'c', 'b', 'a'}\n",
      "{'e', 'a', 'd', 'c', 'b', 'f'}\n",
      "{'e', 'a', 'h', 'i', 'd', 'c', 'b', 'f', 'g'}\n",
      "{5, 6, 'i', 8, 7, 9, 10, 'phani', 'f', 'b', 'swathi', (11, 12), 'g', 'e', 'a', 'h', (13, 14), 'd', 'c'}\n"
     ]
    },
    {
     "ename": "TypeError",
     "evalue": "unhashable type: 'list'",
     "output_type": "error",
     "traceback": [
      "\u001b[1;31m---------------------------------------------------------------------------\u001b[0m",
      "\u001b[1;31mTypeError\u001b[0m                                 Traceback (most recent call last)",
      "\u001b[1;32m<ipython-input-212-70b9e1542366>\u001b[0m in \u001b[0;36m<module>\u001b[1;34m\u001b[0m\n\u001b[0;32m      9\u001b[0m \u001b[0mmyset\u001b[0m\u001b[1;33m.\u001b[0m\u001b[0mupdate\u001b[0m\u001b[1;33m(\u001b[0m\u001b[1;33m[\u001b[0m\u001b[1;36m5\u001b[0m\u001b[1;33m,\u001b[0m\u001b[1;36m6\u001b[0m\u001b[1;33m]\u001b[0m\u001b[1;33m,\u001b[0m\u001b[1;33m{\u001b[0m\u001b[1;36m7\u001b[0m\u001b[1;33m,\u001b[0m\u001b[1;36m8\u001b[0m\u001b[1;33m}\u001b[0m\u001b[1;33m,\u001b[0m\u001b[1;33m(\u001b[0m\u001b[1;36m9\u001b[0m\u001b[1;33m,\u001b[0m\u001b[1;36m10\u001b[0m\u001b[1;33m)\u001b[0m\u001b[1;33m,\u001b[0m\u001b[1;33m(\u001b[0m\u001b[1;33m(\u001b[0m\u001b[1;36m11\u001b[0m\u001b[1;33m,\u001b[0m\u001b[1;36m12\u001b[0m\u001b[1;33m)\u001b[0m\u001b[1;33m,\u001b[0m\u001b[1;33m(\u001b[0m\u001b[1;36m13\u001b[0m\u001b[1;33m,\u001b[0m\u001b[1;36m14\u001b[0m\u001b[1;33m)\u001b[0m\u001b[1;33m)\u001b[0m\u001b[1;33m,\u001b[0m\u001b[1;33m{\u001b[0m\u001b[1;34m'phani'\u001b[0m\u001b[1;33m:\u001b[0m\u001b[1;36m1\u001b[0m\u001b[1;33m,\u001b[0m\u001b[1;34m'swathi'\u001b[0m\u001b[1;33m:\u001b[0m\u001b[1;36m2\u001b[0m\u001b[1;33m}\u001b[0m\u001b[1;33m)\u001b[0m \u001b[1;31m# note that indvidual items are added separtely and not as is\u001b[0m\u001b[1;33m\u001b[0m\u001b[1;33m\u001b[0m\u001b[0m\n\u001b[0;32m     10\u001b[0m \u001b[0mprint\u001b[0m\u001b[1;33m(\u001b[0m\u001b[0mmyset\u001b[0m\u001b[1;33m)\u001b[0m\u001b[1;33m\u001b[0m\u001b[1;33m\u001b[0m\u001b[0m\n\u001b[1;32m---> 11\u001b[1;33m \u001b[0mmyset\u001b[0m\u001b[1;33m.\u001b[0m\u001b[0mupdate\u001b[0m\u001b[1;33m(\u001b[0m\u001b[1;33m[\u001b[0m\u001b[1;34m'j'\u001b[0m\u001b[1;33m,\u001b[0m\u001b[1;34m'k'\u001b[0m\u001b[1;33m,\u001b[0m\u001b[1;34m'l'\u001b[0m\u001b[1;33m,\u001b[0m\u001b[1;33m[\u001b[0m\u001b[1;34m'm'\u001b[0m\u001b[1;33m,\u001b[0m\u001b[1;34m'n'\u001b[0m\u001b[1;33m]\u001b[0m\u001b[1;33m]\u001b[0m\u001b[1;33m)\u001b[0m  \u001b[1;31m# as list ['m','n'] is mutable, error is thrown\u001b[0m\u001b[1;33m\u001b[0m\u001b[1;33m\u001b[0m\u001b[0m\n\u001b[0m\u001b[0;32m     12\u001b[0m \u001b[0mprint\u001b[0m\u001b[1;33m(\u001b[0m\u001b[0mmyset\u001b[0m\u001b[1;33m)\u001b[0m\u001b[1;33m\u001b[0m\u001b[1;33m\u001b[0m\u001b[0m\n",
      "\u001b[1;31mTypeError\u001b[0m: unhashable type: 'list'"
     ]
    }
   ],
   "source": [
    "myset={'a','b','c'}\n",
    "print(myset)\n",
    "myset.update('d','e','f')\n",
    "print(myset)\n",
    "myset.update(['g','h','i'])\n",
    "print(myset)\n",
    "#myset.update(5,6) # this will fail as int is not iterable. only in update this happens for set \n",
    "#print(myset)\n",
    "myset.update([5,6],{7,8},(9,10),((11,12),(13,14)),{'phani':1,'swathi':2}) # note that indvidual items are added separtely and not as is\n",
    "print(myset)\n",
    "myset.update(['j','k','l',['m','n']])  # as list ['m','n'] is mutable, error is thrown\n",
    "print(myset)"
   ]
  },
  {
   "cell_type": "code",
   "execution_count": 155,
   "metadata": {},
   "outputs": [
    {
     "name": "stdout",
     "output_type": "stream",
     "text": [
      "{'c', 'b', 'a'}\n",
      "{'c', 'b', 'a'}\n"
     ]
    }
   ],
   "source": [
    "myset={'a','b','c'}\n",
    "print(myset)\n",
    "myset.update('a','b','c') # this doesnt fail. only will not update as duplicates are present \n",
    "print(myset)"
   ]
  },
  {
   "cell_type": "code",
   "execution_count": 144,
   "metadata": {},
   "outputs": [
    {
     "name": "stdout",
     "output_type": "stream",
     "text": [
      "{'c', 'b', 'd', 'a'}\n",
      "{'c', 'b', 'd', 'a'}\n",
      "{1, 2, 3, 4}\n",
      "{1, 2, 3, 4}\n"
     ]
    }
   ],
   "source": [
    "set1 = {'a','b','c'}\n",
    "set1.add('d')\n",
    "print(set1)\n",
    "\n",
    "set1.add('d')  # this will not throw an error even if item is duplicate\n",
    "print(set1)\n",
    "\n",
    "set1 = {1,2,3}\n",
    "set1.add(4)\n",
    "print(set1)\n",
    "\n",
    "set1.add(4)  # this will not throw an error even if item is duplicate\n",
    "print(set1)"
   ]
  },
  {
   "cell_type": "code",
   "execution_count": 132,
   "metadata": {},
   "outputs": [
    {
     "name": "stdout",
     "output_type": "stream",
     "text": [
      "{1, 2, 3}\n",
      "{1, 2, 3}\n"
     ]
    },
    {
     "ename": "TypeError",
     "evalue": "unhashable type: 'list'",
     "output_type": "error",
     "traceback": [
      "\u001b[1;31m---------------------------------------------------------------------------\u001b[0m",
      "\u001b[1;31mTypeError\u001b[0m                                 Traceback (most recent call last)",
      "\u001b[1;32m<ipython-input-132-bd0892c81216>\u001b[0m in \u001b[0;36m<module>\u001b[1;34m\u001b[0m\n\u001b[0;32m      5\u001b[0m \u001b[0mprint\u001b[0m\u001b[1;33m(\u001b[0m\u001b[0mmyset\u001b[0m\u001b[1;33m)\u001b[0m\u001b[1;33m\u001b[0m\u001b[1;33m\u001b[0m\u001b[0m\n\u001b[0;32m      6\u001b[0m \u001b[1;33m\u001b[0m\u001b[0m\n\u001b[1;32m----> 7\u001b[1;33m \u001b[0mmyset\u001b[0m\u001b[1;33m.\u001b[0m\u001b[0mupdate\u001b[0m\u001b[1;33m(\u001b[0m\u001b[1;33m[\u001b[0m\u001b[1;36m1\u001b[0m\u001b[1;33m,\u001b[0m\u001b[1;36m2\u001b[0m\u001b[1;33m,\u001b[0m\u001b[1;36m3\u001b[0m\u001b[1;33m,\u001b[0m\u001b[1;33m[\u001b[0m\u001b[1;36m4\u001b[0m\u001b[1;33m,\u001b[0m\u001b[1;36m5\u001b[0m\u001b[1;33m]\u001b[0m\u001b[1;33m]\u001b[0m\u001b[1;33m)\u001b[0m\u001b[1;33m\u001b[0m\u001b[1;33m\u001b[0m\u001b[0m\n\u001b[0m\u001b[0;32m      8\u001b[0m \u001b[0mprint\u001b[0m\u001b[1;33m(\u001b[0m\u001b[0mmyset\u001b[0m\u001b[1;33m)\u001b[0m\u001b[1;33m\u001b[0m\u001b[1;33m\u001b[0m\u001b[0m\n",
      "\u001b[1;31mTypeError\u001b[0m: unhashable type: 'list'"
     ]
    }
   ],
   "source": [
    "myset={1,2,3}\n",
    "print(myset)\n",
    "\n",
    "myset.update([1,2,3])  # this will work as list is iterable\n",
    "print(myset)\n",
    "\n",
    "myset.update([1,2,3,[4,5]])   # will fail as immutable item list is present as one of the item\n",
    "print(myset)"
   ]
  },
  {
   "cell_type": "code",
   "execution_count": 131,
   "metadata": {},
   "outputs": [
    {
     "ename": "TypeError",
     "evalue": "'int' object is not iterable",
     "output_type": "error",
     "traceback": [
      "\u001b[1;31m---------------------------------------------------------------------------\u001b[0m",
      "\u001b[1;31mTypeError\u001b[0m                                 Traceback (most recent call last)",
      "\u001b[1;32m<ipython-input-131-477d5c89918d>\u001b[0m in \u001b[0;36m<module>\u001b[1;34m\u001b[0m\n\u001b[0;32m      1\u001b[0m \u001b[0mmyset\u001b[0m\u001b[1;33m=\u001b[0m\u001b[1;33m{\u001b[0m\u001b[1;36m1\u001b[0m\u001b[1;33m,\u001b[0m\u001b[1;36m2\u001b[0m\u001b[1;33m,\u001b[0m\u001b[1;36m3\u001b[0m\u001b[1;33m}\u001b[0m\u001b[1;33m\u001b[0m\u001b[1;33m\u001b[0m\u001b[0m\n\u001b[1;32m----> 2\u001b[1;33m \u001b[0mmyset\u001b[0m\u001b[1;33m.\u001b[0m\u001b[0mupdate\u001b[0m\u001b[1;33m(\u001b[0m\u001b[1;36m1\u001b[0m\u001b[1;33m,\u001b[0m\u001b[1;36m2\u001b[0m\u001b[1;33m,\u001b[0m\u001b[1;36m3\u001b[0m\u001b[1;33m)\u001b[0m \u001b[1;31m#will fail as int objects are not iterable\u001b[0m\u001b[1;33m\u001b[0m\u001b[1;33m\u001b[0m\u001b[0m\n\u001b[0m\u001b[0;32m      3\u001b[0m \u001b[0mprint\u001b[0m\u001b[1;33m(\u001b[0m\u001b[0mmyset\u001b[0m\u001b[1;33m)\u001b[0m\u001b[1;33m\u001b[0m\u001b[1;33m\u001b[0m\u001b[0m\n",
      "\u001b[1;31mTypeError\u001b[0m: 'int' object is not iterable"
     ]
    }
   ],
   "source": [
    "myset={1,2,3}\n",
    "myset.update(1,2,3) #will fail as int objects although immutable, they are are not iterable. this happens only in update\n",
    "print(myset)"
   ]
  },
  {
   "cell_type": "code",
   "execution_count": 38,
   "metadata": {},
   "outputs": [
    {
     "name": "stdout",
     "output_type": "stream",
     "text": [
      "{1, 2, 3}\n",
      "{1, 2, 3, 4}\n"
     ]
    },
    {
     "ename": "TypeError",
     "evalue": "'int' object is not iterable",
     "output_type": "error",
     "traceback": [
      "\u001b[1;31m---------------------------------------------------------------------------\u001b[0m",
      "\u001b[1;31mTypeError\u001b[0m                                 Traceback (most recent call last)",
      "\u001b[1;32m<ipython-input-38-e42b0b815752>\u001b[0m in \u001b[0;36m<module>\u001b[1;34m\u001b[0m\n\u001b[0;32m      3\u001b[0m \u001b[0mmyset\u001b[0m\u001b[1;33m.\u001b[0m\u001b[0madd\u001b[0m\u001b[1;33m(\u001b[0m\u001b[1;36m4\u001b[0m\u001b[1;33m)\u001b[0m \u001b[1;31m# in add even integer works\u001b[0m\u001b[1;33m\u001b[0m\u001b[1;33m\u001b[0m\u001b[0m\n\u001b[0;32m      4\u001b[0m \u001b[0mprint\u001b[0m\u001b[1;33m(\u001b[0m\u001b[0mmyset\u001b[0m\u001b[1;33m)\u001b[0m\u001b[1;33m\u001b[0m\u001b[1;33m\u001b[0m\u001b[0m\n\u001b[1;32m----> 5\u001b[1;33m \u001b[0mmyset\u001b[0m\u001b[1;33m.\u001b[0m\u001b[0mupdate\u001b[0m\u001b[1;33m(\u001b[0m\u001b[1;36m5\u001b[0m\u001b[1;33m,\u001b[0m\u001b[1;36m6\u001b[0m\u001b[1;33m)\u001b[0m \u001b[1;31m# it fails as integer is not iterable. Only in update\u001b[0m\u001b[1;33m\u001b[0m\u001b[1;33m\u001b[0m\u001b[0m\n\u001b[0m\u001b[0;32m      6\u001b[0m \u001b[0mprint\u001b[0m\u001b[1;33m(\u001b[0m\u001b[0mmyset\u001b[0m\u001b[1;33m)\u001b[0m\u001b[1;33m\u001b[0m\u001b[1;33m\u001b[0m\u001b[0m\n",
      "\u001b[1;31mTypeError\u001b[0m: 'int' object is not iterable"
     ]
    }
   ],
   "source": [
    "myset = {1,2,3}\n",
    "print(myset)\n",
    "myset.add(4) # in add, an integer type works\n",
    "print(myset)\n",
    "\n",
    "myset.update(5,6) # it fails in update as integer is not iterable. Only in update\n",
    "print(myset)"
   ]
  },
  {
   "cell_type": "code",
   "execution_count": 4,
   "metadata": {},
   "outputs": [
    {
     "ename": "TypeError",
     "evalue": "unhashable type: 'list'",
     "output_type": "error",
     "traceback": [
      "\u001b[1;31m---------------------------------------------------------------------------\u001b[0m",
      "\u001b[1;31mTypeError\u001b[0m                                 Traceback (most recent call last)",
      "\u001b[1;32m<ipython-input-4-f1f2d1cb6b72>\u001b[0m in \u001b[0;36m<module>\u001b[1;34m\u001b[0m\n\u001b[1;32m----> 1\u001b[1;33m \u001b[0mmyset\u001b[0m\u001b[1;33m=\u001b[0m\u001b[1;33m{\u001b[0m\u001b[1;36m1\u001b[0m\u001b[1;33m,\u001b[0m\u001b[1;36m2\u001b[0m\u001b[1;33m,\u001b[0m\u001b[1;36m3\u001b[0m\u001b[1;33m,\u001b[0m\u001b[1;34m'a'\u001b[0m\u001b[1;33m,\u001b[0m\u001b[1;33m[\u001b[0m\u001b[1;36m1\u001b[0m\u001b[1;33m,\u001b[0m\u001b[1;36m2\u001b[0m\u001b[1;33m,\u001b[0m\u001b[1;36m3\u001b[0m\u001b[1;33m]\u001b[0m\u001b[1;33m}\u001b[0m\u001b[1;33m\u001b[0m\u001b[1;33m\u001b[0m\u001b[0m\n\u001b[0m\u001b[0;32m      2\u001b[0m \u001b[0mprint\u001b[0m\u001b[1;33m(\u001b[0m\u001b[0mtype\u001b[0m\u001b[1;33m(\u001b[0m\u001b[0mmyset\u001b[0m\u001b[1;33m)\u001b[0m\u001b[1;33m)\u001b[0m\u001b[1;33m\u001b[0m\u001b[1;33m\u001b[0m\u001b[0m\n",
      "\u001b[1;31mTypeError\u001b[0m: unhashable type: 'list'"
     ]
    }
   ],
   "source": [
    "myset={1,2,3,'a',[1,2,3]}\n",
    "print(type(myset))"
   ]
  },
  {
   "cell_type": "code",
   "execution_count": 175,
   "metadata": {},
   "outputs": [
    {
     "name": "stdout",
     "output_type": "stream",
     "text": [
      "{'e', 'a', 'd', 'c', 'b'}\n",
      "{'a', 'd', 'c', 'b'}\n"
     ]
    },
    {
     "ename": "KeyError",
     "evalue": "'e'",
     "output_type": "error",
     "traceback": [
      "\u001b[1;31m---------------------------------------------------------------------------\u001b[0m",
      "\u001b[1;31mKeyError\u001b[0m                                  Traceback (most recent call last)",
      "\u001b[1;32m<ipython-input-175-0579e8f5b55d>\u001b[0m in \u001b[0;36m<module>\u001b[1;34m\u001b[0m\n\u001b[0;32m      5\u001b[0m \u001b[0mprint\u001b[0m\u001b[1;33m(\u001b[0m\u001b[0mmyset\u001b[0m\u001b[1;33m)\u001b[0m\u001b[1;33m\u001b[0m\u001b[1;33m\u001b[0m\u001b[0m\n\u001b[0;32m      6\u001b[0m \u001b[1;33m\u001b[0m\u001b[0m\n\u001b[1;32m----> 7\u001b[1;33m \u001b[0mmyset\u001b[0m\u001b[1;33m.\u001b[0m\u001b[0mremove\u001b[0m\u001b[1;33m(\u001b[0m\u001b[1;34m'e'\u001b[0m\u001b[1;33m)\u001b[0m \u001b[1;31m# will throw error if element is not found\u001b[0m\u001b[1;33m\u001b[0m\u001b[1;33m\u001b[0m\u001b[0m\n\u001b[0m\u001b[0;32m      8\u001b[0m \u001b[0mprint\u001b[0m\u001b[1;33m(\u001b[0m\u001b[0mmyset\u001b[0m\u001b[1;33m)\u001b[0m\u001b[1;33m\u001b[0m\u001b[1;33m\u001b[0m\u001b[0m\n",
      "\u001b[1;31mKeyError\u001b[0m: 'e'"
     ]
    }
   ],
   "source": [
    "myset={'a','b','c','d','e'}\n",
    "print(myset)\n",
    "       \n",
    "myset.remove('e')\n",
    "print(myset)\n",
    "       \n",
    "myset.remove('e') # will throw error if element is not found\n",
    "print(myset)"
   ]
  },
  {
   "cell_type": "code",
   "execution_count": 172,
   "metadata": {},
   "outputs": [
    {
     "name": "stdout",
     "output_type": "stream",
     "text": [
      "{'e', 'a', 'd', 'c', 'b'}\n",
      "{'a', 'd', 'c', 'b'}\n",
      "{'a', 'd', 'c', 'b'}\n"
     ]
    }
   ],
   "source": [
    "myset={'a', 'b', 'c','d','e'}\n",
    "print(myset)\n",
    "       \n",
    "myset.discard('e')\n",
    "print(myset)\n",
    "       \n",
    "myset.discard('e') # will not throw error if element is not found. notice the difference with Remove \n",
    "print(myset)"
   ]
  },
  {
   "cell_type": "code",
   "execution_count": 185,
   "metadata": {},
   "outputs": [
    {
     "name": "stdout",
     "output_type": "stream",
     "text": [
      "{'e', 'a', 'd', 'c', 'b'}\n",
      "{'a', 'd', 'c', 'b'}\n",
      "e\n",
      "{'d', 'c', 'b'}\n",
      "a\n"
     ]
    }
   ],
   "source": [
    "myset={'a','b','c','d','e'}\n",
    "print(myset)\n",
    "\n",
    "x=myset.pop()\n",
    "print(myset)     \n",
    "print(x)\n",
    "       \n",
    "y=myset.pop()\n",
    "print(myset)\n",
    "print(y)"
   ]
  },
  {
   "cell_type": "code",
   "execution_count": 186,
   "metadata": {},
   "outputs": [
    {
     "name": "stdout",
     "output_type": "stream",
     "text": [
      "{'c', 'b', 'e', 'a', 'd'}\n",
      "{'c', 'b', 'a'} {'c', 'e', 'd'}\n",
      "{'c', 'b', 'e', 'a', 'd'}\n",
      "{'c', 'e', 'b', 'a', 'd'}\n"
     ]
    }
   ],
   "source": [
    "set1 = {'a','b','c'}\n",
    "set2 = {'c','d','e'}\n",
    "print(set1.union(set2))\n",
    "print(set1, set2)\n",
    "print(set1 | set2)\n",
    "print(set2 | set1)"
   ]
  },
  {
   "cell_type": "code",
   "execution_count": 187,
   "metadata": {},
   "outputs": [
    {
     "name": "stdout",
     "output_type": "stream",
     "text": [
      "{'c'}\n",
      "{'c', 'b', 'a'} {'c', 'e', 'd'}\n",
      "{'c'}\n",
      "{'c'}\n"
     ]
    }
   ],
   "source": [
    "set1 = {'a','b','c'}\n",
    "set2 = {'c','d','e'}\n",
    "print(set1.intersection(set2))\n",
    "print(set1, set2)\n",
    "print(set1 & set2)\n",
    "print(set2 & set1)"
   ]
  },
  {
   "cell_type": "code",
   "execution_count": 180,
   "metadata": {},
   "outputs": [
    {
     "name": "stdout",
     "output_type": "stream",
     "text": [
      "{'b', 'a'}\n",
      "{'c', 'b', 'a'} {'c', 'e', 'd'}\n",
      "{'b', 'a'}\n",
      "{'e', 'd'}\n"
     ]
    }
   ],
   "source": [
    "# exam question. Difference is not commutative \n",
    "set1 = {'a','b','c'}\n",
    "set2 = {'c','d','e'}\n",
    "print(set1.difference(set2))\n",
    "print(set1, set2)\n",
    "print(set1 - set2)\n",
    "print(set2 - set1)"
   ]
  },
  {
   "cell_type": "code",
   "execution_count": 190,
   "metadata": {},
   "outputs": [
    {
     "name": "stdout",
     "output_type": "stream",
     "text": [
      "{'e', 'a', 'd', 'b'}\n",
      "{'c', 'b', 'a'} {'c', 'e', 'd'}\n",
      "{'e', 'a', 'd', 'b'}\n",
      "{'e', 'b', 'd', 'a'}\n",
      "True\n"
     ]
    }
   ],
   "source": [
    "# exam question. Illustrate symmetric difference is commutative \n",
    "set1 = {'a','b','c'}\n",
    "set2 = {'c','d','e'}\n",
    "print(set1.symmetric_difference(set2))\n",
    "print(set1, set2)\n",
    "print(set1 ^ set2)\n",
    "print(set2 ^ set1)\n",
    "print((set1 ^ set2) == (set2 ^ set1))"
   ]
  },
  {
   "cell_type": "code",
   "execution_count": 188,
   "metadata": {},
   "outputs": [
    {
     "name": "stdout",
     "output_type": "stream",
     "text": [
      "True\n",
      "False\n",
      "False\n",
      "True\n"
     ]
    }
   ],
   "source": [
    "myset1={'a', 'b', 'c'}\n",
    "print('b' in myset1)\n",
    "print('e'in myset1)\n",
    "print('b' not in myset1)\n",
    "print('e' not in myset1)"
   ]
  },
  {
   "cell_type": "code",
   "execution_count": 191,
   "metadata": {},
   "outputs": [
    {
     "name": "stdout",
     "output_type": "stream",
     "text": [
      "False\n",
      "True\n",
      "True\n",
      "False\n"
     ]
    }
   ],
   "source": [
    "# > than means its a superset\n",
    "# < than means its a subset\n",
    "\n",
    "set1 = {'a','b'}\n",
    "set2 = {'a','b','c','d'}\n",
    "\n",
    "print(set1 > set2)\n",
    "print(set2 > set1)\n",
    "\n",
    "print(set1 < set2)\n",
    "print(set2 < set1) "
   ]
  },
  {
   "cell_type": "code",
   "execution_count": 192,
   "metadata": {},
   "outputs": [
    {
     "name": "stdout",
     "output_type": "stream",
     "text": [
      "False\n",
      "False\n",
      "False\n",
      "False\n"
     ]
    }
   ],
   "source": [
    "set1 = {'a','b',1,2}\n",
    "set2 = {'a','b','c','d'}\n",
    "\n",
    "print(set1 > set2)\n",
    "print(set2 > set1)\n",
    "\n",
    "print(set1 < set2)\n",
    "print(set2 < set1) "
   ]
  },
  {
   "cell_type": "code",
   "execution_count": 195,
   "metadata": {},
   "outputs": [
    {
     "name": "stdout",
     "output_type": "stream",
     "text": [
      "False\n",
      "True\n",
      "False\n",
      "True\n"
     ]
    }
   ],
   "source": [
    "set1 = {'a','b'}\n",
    "set2 = {'a','b'}\n",
    "\n",
    "print(set1 < set2)\n",
    "print(set1 <= set2) \n",
    "\n",
    "print(set1 > set2)\n",
    "print(set1 >= set2)"
   ]
  },
  {
   "cell_type": "code",
   "execution_count": 214,
   "metadata": {},
   "outputs": [
    {
     "name": "stdout",
     "output_type": "stream",
     "text": [
      "{'c', 'b', 'a'} <class 'set'>\n",
      "frozenset({'c', 'b', 'a'})\n",
      "<class 'frozenset'>\n",
      "{'c', 'b', frozenset({'c', 'b', 'a'}), 'a'} <class 'set'>\n",
      "{'a', frozenset({'c', 'b', 'a'}), (1, 2, 3), 'c', 'b'} <class 'set'>\n"
     ]
    }
   ],
   "source": [
    "set1={'a','b','c'}\n",
    "tup1 = (1,2,3)\n",
    "print(set1, type(set1))\n",
    "\n",
    "set2 = frozenset(set1)\n",
    "print(set2)\n",
    "print(type(set2))\n",
    "\n",
    "set1.add(set2) \n",
    "print(set1, type(set1))\n",
    "\n",
    "set1.add(tup1) \n",
    "print(set1, type(set1))"
   ]
  },
  {
   "cell_type": "code",
   "execution_count": 215,
   "metadata": {},
   "outputs": [
    {
     "name": "stdout",
     "output_type": "stream",
     "text": [
      "{frozenset({'b', 'a'}): 1, frozenset({'c', 'd'}): 2}\n"
     ]
    }
   ],
   "source": [
    "mylist=[frozenset({'a','b'}), frozenset({'c','d'})]\n",
    "mydict1 = dict()\n",
    "count=1\n",
    "for item in mylist:\n",
    "    mydict1[item] = count\n",
    "    count = count+1\n",
    "print(mydict1)"
   ]
  },
  {
   "cell_type": "code",
   "execution_count": 17,
   "metadata": {},
   "outputs": [
    {
     "name": "stdout",
     "output_type": "stream",
     "text": [
      "Hello World\n"
     ]
    }
   ],
   "source": [
    "import pickle\n",
    "\n",
    "x = 'Hello World'\n",
    "print(x)\n",
    "\n",
    "file1 = 'examplepicklefile'\n",
    "outfile = open(file1, 'wb')\n",
    "pickle.dump(x,outfile)\n",
    "outfile.close()"
   ]
  },
  {
   "cell_type": "code",
   "execution_count": 49,
   "metadata": {},
   "outputs": [
    {
     "name": "stdout",
     "output_type": "stream",
     "text": [
      "Hello World\n",
      "<class 'str'>\n"
     ]
    }
   ],
   "source": [
    "import pickle\n",
    "\n",
    "file2 = 'examplepicklefile'\n",
    "infile = open(file2, 'rb')\n",
    "new_x = pickle.load(infile)\n",
    "infile.close()\n",
    "print(new_x)\n",
    "print(type(new_x))"
   ]
  },
  {
   "cell_type": "code",
   "execution_count": 56,
   "metadata": {},
   "outputs": [
    {
     "name": "stdout",
     "output_type": "stream",
     "text": [
      "[(701, 'S.Oak', 'Arlington', 'TX')]\n",
      "[(701, 'S.Oak', 'Arlington', 'TX'), (211, 'S.Cooper', 'Arlington', 'TX')]\n",
      "[('College of Business', 'School of Management'), 'School of Social Work']\n",
      "{('College of Business', 'School of Management'): (701, 'S.Oak', 'Arlington', 'TX'), 'School of Social Work': (211, 'S.Cooper', 'Arlington', 'TX')}\n",
      "{('College of Business', 'School of Management'): (701, 'S.Oak', 'Arlington', 'TX'), 'School of Social Work': (211, 'S.Cooper', 'Arlington', 'TX')}\n",
      "<class 'dict'>\n"
     ]
    }
   ],
   "source": [
    "# example of pickling and unpickling a dict\n",
    "\n",
    "import pickle\n",
    "\n",
    "addr_list = []\n",
    "addr_list.append((701,'S.Oak','Arlington','TX'))\n",
    "print(addr_list)\n",
    "\n",
    "addr_list.append((211,'S.Cooper','Arlington','TX'))\n",
    "print(addr_list)\n",
    "\n",
    "dept_addr = dict()\n",
    "\n",
    "depts=[('College of Business','School of Management'),'School of Social Work']\n",
    "print(depts)\n",
    "\n",
    "i=0\n",
    "for school in depts:\n",
    "    dept_addr[school] = addr_list[i]\n",
    "    i=i+1\n",
    "print(dept_addr)\n",
    "\n",
    "filename = 'department_addresses'\n",
    "outfile = open(filename, 'wb')\n",
    "pickle.dump(dept_addr,outfile)\n",
    "outfile.close()\n",
    "\n",
    "infile = open(filename, 'rb')\n",
    "dept_addr1 = pickle.load(infile)\n",
    "infile.close()\n",
    "print(dept_addr1)\n",
    "print(type(dept_addr1))"
   ]
  },
  {
   "cell_type": "code",
   "execution_count": null,
   "metadata": {},
   "outputs": [],
   "source": []
  }
 ],
 "metadata": {
  "kernelspec": {
   "display_name": "Python 3",
   "language": "python",
   "name": "python3"
  },
  "language_info": {
   "codemirror_mode": {
    "name": "ipython",
    "version": 3
   },
   "file_extension": ".py",
   "mimetype": "text/x-python",
   "name": "python",
   "nbconvert_exporter": "python",
   "pygments_lexer": "ipython3",
   "version": "3.7.4"
  }
 },
 "nbformat": 4,
 "nbformat_minor": 2
}
