{
 "cells": [
  {
   "cell_type": "code",
   "execution_count": null,
   "metadata": {},
   "outputs": [],
   "source": [
    "# home work or test question\n",
    "x = (5==5)\n",
    "print(x)\n",
    "y = (x == 1)\n",
    "z = (x == 0)\n",
    "b = (x > 1)\n",
    "c = (x < 1)\n",
    "a = (x == 5)\n",
    "print (y)\n",
    "print (z)\n",
    "print (a)\n",
    "print (b)\n",
    "print (c)"
   ]
  },
  {
   "cell_type": "code",
   "execution_count": null,
   "metadata": {},
   "outputs": [],
   "source": [
    "# home work or test question\n",
    "x = input('give your input: ')\n",
    "if int(x) < 10:\n",
    "   print('smaller')\n",
    "if int(x) > 20:\n",
    "   print('bigger')\n",
    "print('finished')"
   ]
  },
  {
   "cell_type": "code",
   "execution_count": null,
   "metadata": {},
   "outputs": [],
   "source": [
    "x=5\n",
    "y=x+2\n",
    "z=y**2\n",
    "print(x,y,z)"
   ]
  },
  {
   "cell_type": "code",
   "execution_count": null,
   "metadata": {},
   "outputs": [],
   "source": [
    "## indentation matters in python\n",
    "x=5\n",
    " y=x+2\n",
    "z=y**2\n",
    "print(x,y,z)"
   ]
  },
  {
   "cell_type": "code",
   "execution_count": null,
   "metadata": {},
   "outputs": [],
   "source": [
    "x=5\n",
    "if (x<6):\n",
    "    y=x+2\n",
    "z=y**2\n",
    "print(x,y,z)"
   ]
  },
  {
   "cell_type": "code",
   "execution_count": null,
   "metadata": {},
   "outputs": [],
   "source": [
    "x = 101\n",
    "if x > 1 :\n",
    "     if x < 100 :\n",
    "              Print('x is between 1 and 100')\n",
    "print('all done')"
   ]
  },
  {
   "cell_type": "code",
   "execution_count": null,
   "metadata": {},
   "outputs": [],
   "source": [
    "x = 99\n",
    "if (1 < x < 100): \n",
    "    print('x is between 1 and 100')\n",
    "print('all done')"
   ]
  },
  {
   "cell_type": "code",
   "execution_count": null,
   "metadata": {},
   "outputs": [],
   "source": [
    "x = (5==5)\n",
    "print(x)\n",
    "if (x==1):\n",
    "   print('it works')\n",
    "print('end of run')"
   ]
  },
  {
   "cell_type": "code",
   "execution_count": null,
   "metadata": {},
   "outputs": [],
   "source": [
    "if x:\n",
    "    print('it worked')\n",
    "# not defined"
   ]
  },
  {
   "cell_type": "code",
   "execution_count": null,
   "metadata": {},
   "outputs": [],
   "source": [
    "# exception handling\n",
    "\n",
    "astr = 'hello bob'\n",
    "try:\n",
    "     istr = int(astr)\n",
    "except:\n",
    "    istr = -1\n",
    "print('first', istr)\n",
    "\n",
    "bstr = '123'\n",
    "try:\n",
    "     bstr = int(bstr)\n",
    "except:\n",
    "    bstr = -1\n",
    "print('second', bstr)"
   ]
  },
  {
   "cell_type": "code",
   "execution_count": null,
   "metadata": {},
   "outputs": [],
   "source": [
    "i=input('give me an integer: ')\n",
    "j=input('give me another integer: ')\n",
    "try: \n",
    "    print('i have entered the try block')\n",
    "    i=int(i)\n",
    "    j=int(j)\n",
    "except:\n",
    "    print(\"you did not input an integer\")\n",
    "print(type(i), type(j))"
   ]
  },
  {
   "cell_type": "code",
   "execution_count": null,
   "metadata": {},
   "outputs": [],
   "source": [
    "astr = 'hello Bob'\n",
    "try:\n",
    "    print('entered the try block')\n",
    "    istr = int(astr)\n",
    "    print('exiting the try block')\n",
    "except:    \n",
    "    print('entered the exception block')\n",
    "print('ending the test') "
   ]
  },
  {
   "cell_type": "code",
   "execution_count": null,
   "metadata": {},
   "outputs": [],
   "source": [
    "numofints=input('enter set of 3 or 4 integers: ')\n",
    "try:\n",
    "    myint=int(numofints)\n",
    "    print('you entered ', myint, ' integers')\n",
    "except:\n",
    "    print('You did not enter an integer, exiting')"
   ]
  },
  {
   "cell_type": "code",
   "execution_count": null,
   "metadata": {},
   "outputs": [],
   "source": [
    "numofints=input('enter set of 3 or 4 integers: ')\n",
    "if (numofints.isnumeric()): \n",
    "    print('you entered integers')\n",
    "else:\n",
    "    print('You did not enter an integer, exiting')"
   ]
  },
  {
   "cell_type": "code",
   "execution_count": null,
   "metadata": {},
   "outputs": [],
   "source": [
    "try: \n",
    "    print('hello')\n",
    "    x=int('hi')\n",
    "except:\n",
    "    print('something is wrong')\n",
    "else:\n",
    "    print('nothing is wrong')\n",
    "finally:\n",
    "    print('try block is completed')"
   ]
  },
  {
   "cell_type": "code",
   "execution_count": null,
   "metadata": {},
   "outputs": [],
   "source": [
    "rawstr= input('Enter a number:' )\n",
    "try:\n",
    "    ival = int(rawstr)\n",
    "except:          ## indentation matters here and execution will carry on accordingly \n",
    "    ival = -1\n",
    "    \n",
    "if ival > 0 :\n",
    "    print('Nice work')\n",
    "else:\n",
    "    print('Not a number')"
   ]
  },
  {
   "cell_type": "code",
   "execution_count": null,
   "metadata": {},
   "outputs": [],
   "source": [
    "i=input('give me an integer: ')\n",
    "j=input('give me another integer: ')\n",
    "try:\n",
    "    myint=int(i)\n",
    "    k=1/int(j)\n",
    "except ValueError:\n",
    "    print('you did not input an integer')\n",
    "except ZeroDivisionError:\n",
    "    print('divided by zero error')\n",
    "else:\n",
    "    print('nothing is wrong')\n",
    "finally:\n",
    "    print('i am done')"
   ]
  },
  {
   "cell_type": "code",
   "execution_count": null,
   "metadata": {},
   "outputs": [],
   "source": [
    "# print is not a reserved word. Its a function"
   ]
  },
  {
   "cell_type": "code",
   "execution_count": null,
   "metadata": {},
   "outputs": [],
   "source": [
    "big = max('Hello World')  # lower case has higher value in max function\n",
    "print (big, type (big))\n",
    "\n",
    "big = max(11,12,13.5)\n",
    "print (big, type(big))"
   ]
  },
  {
   "cell_type": "code",
   "execution_count": null,
   "metadata": {},
   "outputs": [],
   "source": [
    "def print_lyrics():\n",
    "    print(\"I'm a lumberjack, and I'm okay\")\n",
    "    print(\"i sleep all night and work all day\")\n",
    "    \n",
    "# calling the above defined function below would substitute the code defined within the function\n",
    "print_lyrics()"
   ]
  },
  {
   "cell_type": "code",
   "execution_count": null,
   "metadata": {},
   "outputs": [],
   "source": [
    "print_lyrics()"
   ]
  },
  {
   "cell_type": "code",
   "execution_count": null,
   "metadata": {},
   "outputs": [],
   "source": [
    "def test(a,b,c):\n",
    "    a = 'abc'+'def'    # changes to int and string are reflected only when returned and return values accepted in call\n",
    "    b = 456 + 1\n",
    "    c.append(4)        # any changes done to list here is being reflected on original variable, irrespective of return\n",
    "    return(a,b,c)\n",
    "\n",
    "a = 'def'\n",
    "b = 456\n",
    "c = [4,5,6]\n",
    "print(a,b,c)\n",
    "#test(a,b,c)\n",
    "a,b,c=test(a,b,c)  # comment this to check \n",
    "print(a,b,c)"
   ]
  },
  {
   "cell_type": "code",
   "execution_count": null,
   "metadata": {},
   "outputs": [],
   "source": [
    "def greet(lang):\n",
    "    if (lang == 'en'):\n",
    "        print('hello')\n",
    "    elif (lang == 'es'):\n",
    "        print('hola')\n",
    "    elif (lang == 'fr'):\n",
    "        print('bonjour')\n",
    "    else:\n",
    "        print(\"i dont know the language\")"
   ]
  },
  {
   "cell_type": "code",
   "execution_count": null,
   "metadata": {},
   "outputs": [],
   "source": [
    "## using above defined function below.\n",
    "## function doesnt return any value if no return statement is present\n",
    "# and if assigned to variable, it will be none type variable\n",
    "\n",
    "x = greet('es')\n",
    "print(x)\n",
    "print(type(x))"
   ]
  },
  {
   "cell_type": "code",
   "execution_count": null,
   "metadata": {},
   "outputs": [],
   "source": [
    "int_array = list()\n",
    "counter = 1\n",
    "number_choice = input(\"Enter whether you want to input 3 or 4 integers: \")\n",
    "for i in range(int(number_choice)):\n",
    "    print(\"Enter number\",counter,\": \",)\n",
    "    n = input()\n",
    "    counter += 1 \n",
    "    int_array.append(int(n))\n",
    "print ('ARRAY: ', int_array)"
   ]
  },
  {
   "cell_type": "code",
   "execution_count": null,
   "metadata": {},
   "outputs": [],
   "source": [
    "abc = int(input('Enter a number: '))"
   ]
  },
  {
   "cell_type": "code",
   "execution_count": null,
   "metadata": {},
   "outputs": [],
   "source": [
    "def multiply(x, y, z=1, a='HI'):\n",
    "    return (x*y*z*a)\n",
    "print (multiply(2,3))\n",
    "print (multiply(2,3,2))\n",
    "print (multiply(2,3,2,3))\n",
    "print (multiply('HI',3,2,2))"
   ]
  },
  {
   "cell_type": "code",
   "execution_count": null,
   "metadata": {},
   "outputs": [],
   "source": [
    "print(multiply(2)) # required parameter value must be passed thru argument compulsory "
   ]
  },
  {
   "cell_type": "code",
   "execution_count": null,
   "metadata": {},
   "outputs": [],
   "source": [
    "x = list()\n",
    "print(x, type(x))"
   ]
  },
  {
   "cell_type": "code",
   "execution_count": null,
   "metadata": {},
   "outputs": [],
   "source": [
    "# if variables are assigned values in function parameters then they are optional and should be defined at the end\n",
    "# non optional variable cannot be defined after a optional variable \n",
    "\n",
    "# function needs to be defined prior to being called. Cannot be used before defining \n",
    "\n",
    "def multiply(x, y, z=1, a):\n",
    "    return (x*y*z*a)\n",
    "print (multiply(2,3,2,4))"
   ]
  },
  {
   "cell_type": "code",
   "execution_count": null,
   "metadata": {},
   "outputs": [],
   "source": [
    "x1 = 2\n",
    "y1 = 8\n",
    "\n",
    "x2 = -6\n",
    "y2 = -2\n",
    "\n",
    "x = 1\n",
    "y = -3\n",
    "\n",
    "axis-point = 'x'\n",
    "num_counter = 1\n",
    "input_counter = 1\n",
    "co_ordinates = list()\n",
    "\n",
    "while True: \n",
    "    try: \n",
    "        input_point = float(input(\"Enter {}{}: \".format('axis-point, num_counter'))     \n",
    "    except ValueError: \n",
    "        print(\"Invalid input entered. Enter only Float or Integer value\") \n",
    "    else: \n",
    "        co_ordinates.append(input_point)\n",
    "        input_counter +=1 \n",
    "        if input_counter % 2 == 0 : \n",
    "           axis-point = 'y'                \n",
    "        else:  \n",
    "           axis-point = 'x'\n",
    "        if (3 <= input_counter <= 4): \n",
    "           num_counter = 2\n",
    "        elif input_counter > 4 : \n",
    "           num_counter = ' '         \n",
    "        if input_counter > 6:\n",
    "            break                       \n",
    "\n",
    "co_ordinates[0] = x1\n",
    "co_ordinates[1] = x2\n",
    "\n",
    "                            \n",
    "if (((x1 <= x <= x2) or (x2 <= x <= x1)) and ((y1 <= y <= y2) or (y2 <= y <= y1))):\n",
    "    print(\"True\")\n",
    "else: \n",
    "    print(\"False\")"
   ]
  },
  {
   "cell_type": "code",
   "execution_count": null,
   "metadata": {},
   "outputs": [],
   "source": [
    "n = 5\n",
    "while n > 0 : \n",
    "    print(\"hello\")\n",
    "    n -=1\n",
    "else: \n",
    "    print(\"world\")"
   ]
  },
  {
   "cell_type": "code",
   "execution_count": null,
   "metadata": {},
   "outputs": [],
   "source": [
    "while True: \n",
    "    line = input('Enter a number 3 or 4: ')\n",
    "    if ((line == '3') or (line == '4')):\n",
    "        print(\"valid input entered\")\n",
    "        break\n",
    "    print(\"invalid inputs entered\")\n",
    "print(\"end of run\")"
   ]
  },
  {
   "cell_type": "code",
   "execution_count": null,
   "metadata": {},
   "outputs": [],
   "source": [
    "while True:\n",
    "    line = input('> ')\n",
    "    if line[0] == '#' :\n",
    "        continue\n",
    "    if line == 'done' :\n",
    "        break\n",
    "    print(line)\n",
    "print(\"Done!\")"
   ]
  },
  {
   "cell_type": "code",
   "execution_count": null,
   "metadata": {},
   "outputs": [],
   "source": [
    "for i in [5, 4, 3, 2, 1]:\n",
    "    print(i)\n",
    "    break\n",
    "print('blast')\n",
    "\n",
    "for i in [5, 4, 3, 2, 1]:\n",
    "    continue\n",
    "    print(i)\n",
    "print('blast')"
   ]
  },
  {
   "cell_type": "code",
   "execution_count": null,
   "metadata": {},
   "outputs": [],
   "source": [
    "for i in range(1,4): \n",
    "    print(i)\n",
    "    i=i-1\n",
    "    print(i)\n",
    "print(\"Blastoff!\")"
   ]
  },
  {
   "cell_type": "code",
   "execution_count": null,
   "metadata": {},
   "outputs": [],
   "source": [
    "a=[1,2,3]\n",
    "for i in a: \n",
    "    #a.append(i) -> if included, this will take the loop to infinite \n",
    "    print(i)"
   ]
  },
  {
   "cell_type": "code",
   "execution_count": null,
   "metadata": {},
   "outputs": [],
   "source": [
    "n=0\n",
    "while True:   \n",
    "    print(n)\n",
    "    n = n + 1\n",
    "    if n == 5:\n",
    "        False   # even this goes into infinite loop  "
   ]
  },
  {
   "cell_type": "code",
   "execution_count": null,
   "metadata": {},
   "outputs": [],
   "source": [
    "x = 6 \n",
    "for i in range(x): \n",
    "    print(i)\n",
    "print(\"Blastoff!\")"
   ]
  },
  {
   "cell_type": "code",
   "execution_count": null,
   "metadata": {},
   "outputs": [],
   "source": [
    "for i in range(1,6,2): \n",
    "    print(i)\n",
    "print(\"Blastoff!\")"
   ]
  },
  {
   "cell_type": "code",
   "execution_count": null,
   "metadata": {},
   "outputs": [],
   "source": [
    "for i in range(5,1,-1): \n",
    "    print(i)\n",
    "print(\"Blastoff!\")"
   ]
  },
  {
   "cell_type": "code",
   "execution_count": null,
   "metadata": {},
   "outputs": [],
   "source": [
    "# example of infinite loop with multiple while statements \n",
    "\n",
    "while True: \n",
    "    line = input('> ')\n",
    "    if ((line == '3') or (line == '4')):\n",
    "        print(\"valid input entered\")\n",
    "        while True:\n",
    "            print(\"inside 2nd while\")\n",
    "            break                          # this will break only from 1st while. \n",
    "    print(\"invalid inputs entered\")\n",
    "print(\"end of run\")"
   ]
  },
  {
   "cell_type": "code",
   "execution_count": null,
   "metadata": {},
   "outputs": [],
   "source": [
    "for i in range(1,4):\n",
    "    print(i)\n",
    "    i=i-1\n",
    "    print(i)\n",
    "print('Done')"
   ]
  },
  {
   "cell_type": "code",
   "execution_count": null,
   "metadata": {},
   "outputs": [],
   "source": [
    "# infinite loop in for\n",
    "\n",
    "a = [1,2,3]\n",
    "for i in a:\n",
    "    #a.append(i)\n",
    "    print(i)"
   ]
  },
  {
   "cell_type": "code",
   "execution_count": null,
   "metadata": {},
   "outputs": [],
   "source": [
    "# None is a special class\n",
    "# in function if nothing is returned, then None is returned\n",
    "\n",
    "smallest = None\n",
    "print(smallest, type(smallest))\n",
    "print('Before')\n",
    "for value in [9, 41, 12, 3, 74, 15]:\n",
    "    if smallest is None :\n",
    "        smallest = value\n",
    "    elif value < smallest: \n",
    "        smallest = value\n",
    "    print(smallest, value)\n",
    "print('After', smallest, type(smallest))"
   ]
  },
  {
   "cell_type": "code",
   "execution_count": 1,
   "metadata": {},
   "outputs": [
    {
     "name": "stdout",
     "output_type": "stream",
     "text": [
      "true\n",
      "a and b are not same\n"
     ]
    }
   ],
   "source": [
    "a = 5\n",
    "b = 5.0\n",
    "\n",
    "if a == b:\n",
    "    print('true')\n",
    "else:\n",
    "    print('false')\n",
    "    \n",
    "if a is b:\n",
    "    print('a and b are same')\n",
    "else:\n",
    "    print('a and b are not same')\n",
    "    \n",
    "# is is an comparison operator-> checks if the two objects are the same. i.e same object in memory or pointing to same object \n",
    "# == is checks for equivalence "
   ]
  },
  {
   "cell_type": "code",
   "execution_count": 4,
   "metadata": {},
   "outputs": [
    {
     "name": "stdout",
     "output_type": "stream",
     "text": [
      "before False <class 'bool'>\n",
      "False 9\n",
      "False 41\n",
      "False 12\n",
      "True 3\n",
      "after True <class 'bool'>\n"
     ]
    }
   ],
   "source": [
    "# found is a boolean variable as its assigned boolean value\n",
    "\n",
    "found = False\n",
    "print('before', found, type(found))\n",
    "for value in [9, 41, 12, 3, 74, 15]:\n",
    "    if value == 3: \n",
    "        found = True\n",
    "        print(found, value)\n",
    "        break\n",
    "    print(found, value)\n",
    "print('after', found, (type(found)))"
   ]
  },
  {
   "cell_type": "code",
   "execution_count": 5,
   "metadata": {},
   "outputs": [
    {
     "name": "stdout",
     "output_type": "stream",
     "text": [
      "h\n"
     ]
    },
    {
     "ename": "TypeError",
     "evalue": "'str' object does not support item assignment",
     "output_type": "error",
     "traceback": [
      "\u001b[1;31m---------------------------------------------------------------------------\u001b[0m",
      "\u001b[1;31mTypeError\u001b[0m                                 Traceback (most recent call last)",
      "\u001b[1;32m<ipython-input-5-95f6270b8cbb>\u001b[0m in \u001b[0;36m<module>\u001b[1;34m\u001b[0m\n\u001b[0;32m      1\u001b[0m \u001b[0ma\u001b[0m \u001b[1;33m=\u001b[0m \u001b[1;34m'hello'\u001b[0m\u001b[1;33m\u001b[0m\u001b[1;33m\u001b[0m\u001b[0m\n\u001b[0;32m      2\u001b[0m \u001b[0mprint\u001b[0m\u001b[1;33m(\u001b[0m\u001b[0ma\u001b[0m\u001b[1;33m[\u001b[0m\u001b[1;36m0\u001b[0m\u001b[1;33m]\u001b[0m\u001b[1;33m)\u001b[0m\u001b[1;33m\u001b[0m\u001b[1;33m\u001b[0m\u001b[0m\n\u001b[1;32m----> 3\u001b[1;33m \u001b[0ma\u001b[0m\u001b[1;33m[\u001b[0m\u001b[1;36m0\u001b[0m\u001b[1;33m]\u001b[0m\u001b[1;33m=\u001b[0m\u001b[1;34m'j'\u001b[0m \u001b[1;31m## string is immutable - so cannot change\u001b[0m\u001b[1;33m\u001b[0m\u001b[1;33m\u001b[0m\u001b[0m\n\u001b[0m",
      "\u001b[1;31mTypeError\u001b[0m: 'str' object does not support item assignment"
     ]
    }
   ],
   "source": [
    "a = 'hello'\n",
    "print(a[0])\n",
    "a[0]='j' ## string is immutable - so cannot change "
   ]
  },
  {
   "cell_type": "code",
   "execution_count": 7,
   "metadata": {},
   "outputs": [
    {
     "name": "stdout",
     "output_type": "stream",
     "text": [
      "140729894543888\n",
      "140729894543920\n",
      "1595057681648\n",
      "1595057681648\n",
      "1595056334792\n",
      "1595055178376\n"
     ]
    }
   ],
   "source": [
    "x = 5\n",
    "print(id(x))\n",
    "x = x + 1\n",
    "print(id(x))\n",
    "\n",
    "y = '123'\n",
    "z = '123'\n",
    "print (id(y))  #same ID location for y and z. due to immutability (string interning for strings. Integer caching for int)\n",
    "print (id(z)) \n",
    "\n",
    "list1 = [1,2,3]\n",
    "list2 = [1,2,3]\n",
    "print(id(list1))  #different id location for list 1 and list 2. due to mutability\n",
    "print(id(list2))"
   ]
  },
  {
   "cell_type": "code",
   "execution_count": null,
   "metadata": {},
   "outputs": [],
   "source": [
    "fruit = 'banana'\n",
    "print(fruit)   # fruit[10] will give out of range string index access error. Should always be within index\n",
    "index = 0\n",
    "while index < len(fruit):\n",
    "    letter = fruit[index]\n",
    "    print(index, letter)\n",
    "    index = index + 1"
   ]
  },
  {
   "cell_type": "code",
   "execution_count": 12,
   "metadata": {},
   "outputs": [
    {
     "name": "stdout",
     "output_type": "stream",
     "text": [
      "Mont\n",
      "P\n",
      "Python\n",
      "Monty Python\n",
      "ho\n"
     ]
    }
   ],
   "source": [
    "s = 'Monty Python'\n",
    "print(s[0:4])\n",
    "print(s[6:7])\n",
    "print(s[6:20]) ## its okay to go out of index in string slicing as opposed to indivudally referencing it like (s[20])\n",
    "print(s[0:20])\n",
    "print(s[9:-1])\n",
    "#print(s[20]) ## this will give error"
   ]
  },
  {
   "cell_type": "code",
   "execution_count": 13,
   "metadata": {},
   "outputs": [
    {
     "name": "stdout",
     "output_type": "stream",
     "text": [
      "True\n"
     ]
    }
   ],
   "source": [
    "a = 'a' in 'banana'\n",
    "print(a)"
   ]
  },
  {
   "cell_type": "code",
   "execution_count": 14,
   "metadata": {},
   "outputs": [
    {
     "name": "stdout",
     "output_type": "stream",
     "text": [
      "HELLO\n",
      "hello\n"
     ]
    }
   ],
   "source": [
    "a = 'HELLO'\n",
    "print(a)\n",
    "a = a.lower()\n",
    "print(a)"
   ]
  },
  {
   "cell_type": "code",
   "execution_count": 15,
   "metadata": {},
   "outputs": [
    {
     "name": "stdout",
     "output_type": "stream",
     "text": [
      "2\n",
      "-1\n"
     ]
    }
   ],
   "source": [
    "fruit = 'banana'\n",
    "pos = fruit.find('n')\n",
    "print(pos)\n",
    "\n",
    "pos1 = fruit.find('z')\n",
    "print(pos1)"
   ]
  },
  {
   "cell_type": "code",
   "execution_count": 16,
   "metadata": {},
   "outputs": [
    {
     "name": "stdout",
     "output_type": "stream",
     "text": [
      "True\n",
      "True\n"
     ]
    }
   ],
   "source": [
    "line = 'please have a nice day'\n",
    "a = line.startswith('please')\n",
    "print(a)\n",
    "\n",
    "b = line.startswith('p')\n",
    "print(b)"
   ]
  },
  {
   "cell_type": "code",
   "execution_count": 17,
   "metadata": {},
   "outputs": [
    {
     "name": "stdout",
     "output_type": "stream",
     "text": [
      "1595057717104 1595057717104\n",
      "140729894543792 140729894543792\n"
     ]
    }
   ],
   "source": [
    "a = 'hello'\n",
    "b = 'hello'\n",
    "print(id(a), id(b))\n",
    "c = 2\n",
    "d = 2\n",
    "print(id(c), id(d))"
   ]
  },
  {
   "cell_type": "code",
   "execution_count": null,
   "metadata": {},
   "outputs": [],
   "source": [
    "x = 'hello'\n",
    "print(id(x)) "
   ]
  },
  {
   "cell_type": "code",
   "execution_count": 18,
   "metadata": {},
   "outputs": [
    {
     "name": "stdout",
     "output_type": "stream",
     "text": [
      "True\n",
      "True\n",
      "False\n",
      "True\n"
     ]
    }
   ],
   "source": [
    "# exam question\n",
    "a = 5\n",
    "b = 5\n",
    "c = 5.0\n",
    "print(a is b)\n",
    "print(a == b)\n",
    "\n",
    "print(a is c)\n",
    "print (a == c)"
   ]
  },
  {
   "cell_type": "code",
   "execution_count": 19,
   "metadata": {},
   "outputs": [
    {
     "name": "stdout",
     "output_type": "stream",
     "text": [
      "HELLO\n",
      "hello\n",
      "HELLO\n"
     ]
    }
   ],
   "source": [
    "x='HELLO'\n",
    "print(x)\n",
    "x.lower()\n",
    "y=x.lower()\n",
    "print(y)\n",
    "print(x) # x value is not changed here"
   ]
  },
  {
   "cell_type": "code",
   "execution_count": 20,
   "metadata": {},
   "outputs": [
    {
     "name": "stdout",
     "output_type": "stream",
     "text": [
      "2 <class 'int'>\n",
      "-1 <class 'int'>\n"
     ]
    }
   ],
   "source": [
    "# excam question \n",
    "fruit = 'banana'\n",
    "y = fruit.find('nan')\n",
    "z = fruit.find('x')\n",
    "print(y,type(y))\n",
    "print(z,type(z))"
   ]
  },
  {
   "cell_type": "code",
   "execution_count": 21,
   "metadata": {},
   "outputs": [
    {
     "name": "stdout",
     "output_type": "stream",
     "text": [
      "    hello bob   \n"
     ]
    },
    {
     "data": {
      "text/plain": [
       "'    HELLO BOB   '"
      ]
     },
     "execution_count": 21,
     "metadata": {},
     "output_type": "execute_result"
    }
   ],
   "source": [
    "greet = '    hello bob   '\n",
    "print(greet)\n",
    "greet.upper() ## these messages will be printed in standard out "
   ]
  },
  {
   "cell_type": "code",
   "execution_count": 25,
   "metadata": {},
   "outputs": [
    {
     "name": "stdout",
     "output_type": "stream",
     "text": [
      "[1, 2, 10.0] [4, 5, 6] [1, 2, 10.0, 4, 5, 6] [4, 5, 6, 1, 2, 10.0]\n"
     ]
    }
   ],
   "source": [
    "a=[1,2,10.0]\n",
    "b=[4,5,6]\n",
    "c=a+b\n",
    "d=b+a\n",
    "print(a,b,c,d)"
   ]
  },
  {
   "cell_type": "code",
   "execution_count": 27,
   "metadata": {},
   "outputs": [
    {
     "name": "stdout",
     "output_type": "stream",
     "text": [
      "['test1', 'test2']\n"
     ]
    }
   ],
   "source": [
    "a=['test1', 'test2']\n",
    "print(a)"
   ]
  },
  {
   "cell_type": "code",
   "execution_count": 28,
   "metadata": {},
   "outputs": [
    {
     "data": {
      "text/plain": [
       "bool"
      ]
     },
     "execution_count": 28,
     "metadata": {},
     "output_type": "execute_result"
    }
   ],
   "source": [
    "type(True)"
   ]
  },
  {
   "cell_type": "code",
   "execution_count": 29,
   "metadata": {},
   "outputs": [
    {
     "data": {
      "text/plain": [
       "6"
      ]
     },
     "execution_count": 29,
     "metadata": {},
     "output_type": "execute_result"
    }
   ],
   "source": [
    "True + 5"
   ]
  },
  {
   "cell_type": "code",
   "execution_count": 30,
   "metadata": {},
   "outputs": [
    {
     "data": {
      "text/plain": [
       "0"
      ]
     },
     "execution_count": 30,
     "metadata": {},
     "output_type": "execute_result"
    }
   ],
   "source": [
    "False * 5"
   ]
  },
  {
   "cell_type": "code",
   "execution_count": 31,
   "metadata": {},
   "outputs": [
    {
     "name": "stdout",
     "output_type": "stream",
     "text": [
      "True <class 'bool'>\n",
      "False <class 'bool'>\n"
     ]
    }
   ],
   "source": [
    "x = (5==5)\n",
    "print(x, type(x))\n",
    "y = (x==4)\n",
    "print(y, type(y))"
   ]
  },
  {
   "cell_type": "code",
   "execution_count": 32,
   "metadata": {},
   "outputs": [
    {
     "name": "stdout",
     "output_type": "stream",
     "text": [
      "456 <class 'int'>\n"
     ]
    }
   ],
   "source": [
    "sample = max(123, 456, 1) \n",
    "print((sample),type(sample))"
   ]
  },
  {
   "cell_type": "code",
   "execution_count": 33,
   "metadata": {},
   "outputs": [
    {
     "name": "stdout",
     "output_type": "stream",
     "text": [
      "hihi\n"
     ]
    }
   ],
   "source": [
    "a = 2\n",
    "b = 'hi'\n",
    "c = a * b\n",
    "print(c)"
   ]
  },
  {
   "cell_type": "code",
   "execution_count": 34,
   "metadata": {},
   "outputs": [
    {
     "name": "stdout",
     "output_type": "stream",
     "text": [
      "1 1 2 3 5 8 13 21 34 "
     ]
    }
   ],
   "source": [
    "n=50\n",
    "a, b = 0, 1\n",
    "while b < n:\n",
    "    print(b, end=' ')\n",
    "    a, b = b, a+b"
   ]
  },
  {
   "cell_type": "code",
   "execution_count": 35,
   "metadata": {},
   "outputs": [
    {
     "name": "stdout",
     "output_type": "stream",
     "text": [
      "0.46077868675686073\n",
      "0.9420346110868008\n",
      "0.446255101945084\n",
      "0.1503549942905652\n",
      "0.4168336215868016\n",
      "0.33739805177528726\n",
      "0.4798150653621118\n",
      "0.11898184493619979\n",
      "0.32312733970040786\n",
      "0.9797499447531905\n"
     ]
    }
   ],
   "source": [
    "import random\n",
    "for i in range(10):\n",
    "    x = random.random()\n",
    "    print(x)"
   ]
  },
  {
   "cell_type": "code",
   "execution_count": 36,
   "metadata": {},
   "outputs": [
    {
     "name": "stdout",
     "output_type": "stream",
     "text": [
      "7\n",
      "9\n",
      "10\n",
      "5\n",
      "9\n",
      "8\n",
      "10\n",
      "10\n",
      "8\n",
      "5\n"
     ]
    }
   ],
   "source": [
    "import random\n",
    "for i in range(10):\n",
    "    x = random.randint(5,10) \n",
    "    print(x)"
   ]
  },
  {
   "cell_type": "code",
   "execution_count": null,
   "metadata": {},
   "outputs": [],
   "source": [
    "import re\n",
    "pattern =\"Cookie\"\n",
    "sequence = \"Cookie is a must\"    \n",
    "if re.match (pattern, sequence):  ## pattern should appear in sequence as first character onwards\n",
    "    print(\"Match!\")\n",
    "else: \n",
    "    print(\"Not a match!\")"
   ]
  },
  {
   "cell_type": "code",
   "execution_count": 189,
   "metadata": {},
   "outputs": [
    {
     "name": "stdout",
     "output_type": "stream",
     "text": [
      "<re.Match object; span=(0, 6), match='Cookie'>\n"
     ]
    }
   ],
   "source": [
    "import re\n",
    "pattern =\"Cookie\"\n",
    "sequence = \"Cookie is a must\"\n",
    "x=re.match(pattern,sequence) # if not a match, then x is none type\n",
    "print(x)"
   ]
  },
  {
   "cell_type": "code",
   "execution_count": 185,
   "metadata": {},
   "outputs": [
    {
     "name": "stdout",
     "output_type": "stream",
     "text": [
      "<re.Match object; span=(7, 13), match='Cookie'>\n",
      "<re.Match object; span=(50, 56), match='Cookie'>\n"
     ]
    }
   ],
   "source": [
    "# difference between match and search -> read it in google\n",
    "# search will look for substring in any line of string. Match will look for it in first line first word / character only\n",
    "# pattern can appear anywhere in sequence and need not be the first character \n",
    "import re\n",
    "pattern =\"Cookie\"\n",
    "sequence = \"do you Cookie is a must\"\n",
    "x=re.search(pattern,sequence) # if not a match, then x is none type\n",
    "print(x)\n",
    "\n",
    "sequence = '''do you know if its a must\n",
    "              to have a Cookie'''\n",
    "x=re.search(pattern,sequence) # if not a match, then x is none type\n",
    "print(x)"
   ]
  },
  {
   "cell_type": "code",
   "execution_count": 183,
   "metadata": {},
   "outputs": [
    {
     "name": "stdout",
     "output_type": "stream",
     "text": [
      "present!\n"
     ]
    }
   ],
   "source": [
    "import re\n",
    "pattern =\"cookie\" \n",
    "sequence = \"cookie is a must\" \n",
    "if re.search (pattern, sequence):\n",
    "    print(\"present!\")\n",
    "else: \n",
    "    print(\"Not present!\")"
   ]
  },
  {
   "cell_type": "code",
   "execution_count": 188,
   "metadata": {},
   "outputs": [
    {
     "name": "stdout",
     "output_type": "stream",
     "text": [
      "<re.Match object; span=(0, 6), match='Cookie'> <class 're.Match'>\n"
     ]
    }
   ],
   "source": [
    "import re\n",
    "pattern =\"Cookie\"\n",
    "sequence = \"Cookie  is a must\"\n",
    "x = re.match(pattern, sequence)\n",
    "print(x,type(x))"
   ]
  },
  {
   "cell_type": "code",
   "execution_count": 37,
   "metadata": {},
   "outputs": [
    {
     "name": "stdout",
     "output_type": "stream",
     "text": [
      "10\n",
      "9\n",
      "8\n",
      "7\n",
      "6\n"
     ]
    }
   ],
   "source": [
    "x = 10\n",
    "for i in range(10,2,-1):\n",
    "    print (i)\n",
    "    i = i-1\n",
    "    if (x % i == 0):\n",
    "        break"
   ]
  },
  {
   "cell_type": "code",
   "execution_count": 38,
   "metadata": {},
   "outputs": [
    {
     "name": "stdout",
     "output_type": "stream",
     "text": [
      "True\n",
      "False\n"
     ]
    }
   ],
   "source": [
    "a = 2\n",
    "b = 3\n",
    "c = 5\n",
    "print(a<b<c)\n",
    "print(4<6<2)"
   ]
  },
  {
   "cell_type": "code",
   "execution_count": 39,
   "metadata": {},
   "outputs": [
    {
     "name": "stdout",
     "output_type": "stream",
     "text": [
      "2 <class 'int'>\n"
     ]
    }
   ],
   "source": [
    "a = 6\n",
    "b = 4\n",
    "\n",
    "x = a % b\n",
    "print(x, type(x))"
   ]
  },
  {
   "cell_type": "code",
   "execution_count": 40,
   "metadata": {},
   "outputs": [
    {
     "name": "stdout",
     "output_type": "stream",
     "text": [
      "6\n"
     ]
    }
   ],
   "source": [
    "x = True + 5\n",
    "print(x)"
   ]
  },
  {
   "cell_type": "code",
   "execution_count": 43,
   "metadata": {},
   "outputs": [
    {
     "name": "stdout",
     "output_type": "stream",
     "text": [
      "hello1\n",
      "world\n",
      "hello2\\nworld\n",
      "hello3\\\n",
      "world\n",
      "hello4\\\\nworld\n",
      "hello5\\\\\n",
      "world\n"
     ]
    }
   ],
   "source": [
    "stuff = 'hello1\\nworld'\n",
    "print(stuff)\n",
    "\n",
    "stuff1 = 'hello2\\\\nworld'  # exam question - here to print \\n we need to use \\ before that. this extra \\ will not be printed\n",
    "print(stuff1)\n",
    "\n",
    "stuff3 = 'hello3\\\\\\nworld'  \n",
    "print(stuff3)\n",
    "\n",
    "stuff4 = 'hello4\\\\\\\\nworld'  \n",
    "print(stuff4)\n",
    "\n",
    "stuff5 = 'hello5\\\\\\\\\\nworld'  \n",
    "print(stuff5)"
   ]
  },
  {
   "cell_type": "code",
   "execution_count": 44,
   "metadata": {},
   "outputs": [
    {
     "name": "stdout",
     "output_type": "stream",
     "text": [
      "hello\n",
      "world 11\n",
      "\n",
      "\n",
      "done\n"
     ]
    }
   ],
   "source": [
    "stuff = 'hello\\nworld'\n",
    "print(stuff, len(stuff)) # length of \\n is 1 position only \n",
    "print(stuff[5]) # exam question. this is printing a new line\n",
    "print('done')"
   ]
  },
  {
   "cell_type": "code",
   "execution_count": null,
   "metadata": {},
   "outputs": [],
   "source": [
    "handle1 = open('C:\\\\Users\\\\karan\\\\Desktop\\\\Python codes\\\\test1.txt','r') # give \\ everywhere for folder change\n",
    "print(type(handle1))\n",
    "print(handle1)\n",
    "for line in handle1:\n",
    "    print(line)"
   ]
  },
  {
   "cell_type": "code",
   "execution_count": null,
   "metadata": {},
   "outputs": [],
   "source": [
    "handle1 = open('test1.txt','r') # file location should be within the python code location folder for no path name\n",
    "print(handle1)\n",
    "for line in handle1:\n",
    "    print(line)"
   ]
  },
  {
   "cell_type": "code",
   "execution_count": null,
   "metadata": {},
   "outputs": [],
   "source": [
    "handle1 = open(r'C:\\Users\\karan\\Desktop\\test.txt','r') # give \\ everywhere for folder change\n",
    "print(type(handle1))\n",
    "print(handle1)\n",
    "for line in handle1:\n",
    "    print(line[:-1])      # last character is getting stripped\n",
    "    #print(line.strip())"
   ]
  },
  {
   "cell_type": "code",
   "execution_count": null,
   "metadata": {},
   "outputs": [],
   "source": [
    "handle1 = open(r'C:\\Users\\karan\\Desktop\\test.txt','r') # give \\ everywhere for folder change\n",
    "print(type(handle1))\n",
    "print(handle1)\n",
    "for line in handle1:\n",
    "    print(line.rstrip())"
   ]
  },
  {
   "cell_type": "code",
   "execution_count": null,
   "metadata": {},
   "outputs": [],
   "source": [
    "handle1 = open('test2.txt','r') \n",
    "myfiletext=handle1.read()\n",
    "print(len(myfiletext))  # length is calculating the new line as well as one character\n",
    "print(myfiletext)"
   ]
  },
  {
   "cell_type": "code",
   "execution_count": null,
   "metadata": {},
   "outputs": [],
   "source": [
    "#x = 'example.txt'\n",
    "filehandle = open('example.txt','w')\n",
    "line1 = \"INSY5336 Intro to Python\"\n",
    "filehandle.write(line1)\n",
    "filehandle.close()"
   ]
  },
  {
   "cell_type": "code",
   "execution_count": null,
   "metadata": {},
   "outputs": [],
   "source": [
    "#x = 'example.txt'\n",
    "filehandle = open('example.txt','w')\n",
    "line1 = \"INSY5336 Intro to Python\" # since new line is not included ,it will write continuosly \n",
    "filehandle.write(line1)\n",
    "line2 = \"INSY5336 Intro to Python 3\"\n",
    "filehandle.write(line2)\n",
    "filehandle.close()"
   ]
  },
  {
   "cell_type": "code",
   "execution_count": null,
   "metadata": {},
   "outputs": [],
   "source": [
    "#x = 'example.txt'\n",
    "filehandle = open('example1.txt','w')\n",
    "line1 = \"INSY5336 Intro to Python\\n\" # since new line is included ,it will not write continuosly \n",
    "filehandle.write(line1)\n",
    "line2 = \"INSY5336 Intro to Python 3\"\n",
    "filehandle.write(line2)\n",
    "filehandle.close()"
   ]
  },
  {
   "cell_type": "code",
   "execution_count": null,
   "metadata": {},
   "outputs": [],
   "source": [
    "#if you write into the same file again, then the data will be overwritten\n",
    "\n",
    "#if we open a file in write mode and close it, then the content on the file is erased and pointer will be at first line"
   ]
  },
  {
   "cell_type": "code",
   "execution_count": 46,
   "metadata": {},
   "outputs": [
    {
     "name": "stdout",
     "output_type": "stream",
     "text": [
      "['mary is a test file\\n', 'this is a test line\\n', 'how are you mary\\n', 'INSY5336']\n",
      "['mary is a test file\\n', 'this is a test line\\n', 'how are you mary\\n', 'INSY5337']\n"
     ]
    }
   ],
   "source": [
    "# length of list will not give the actual line number as if \\n is given, then on list it will be on one line\n",
    "# and on file it will be on 2 lines\n",
    "x='marytext.txt'\n",
    "filehandle= open(x,'r')\n",
    "#read all the lines in the file into a list called lines\n",
    "lines = filehandle.readlines()\n",
    "filehandle.close()\n",
    "print(lines)\n",
    "#change line 4 in the list to the new text\n",
    "lines[3]='INSY5337'\n",
    "print(lines)\n",
    "filehandle= open(x,'w')\n",
    "#write all the lines into the file\n",
    "filehandle.writelines(lines)\n",
    "filehandle.close()\n",
    "\n",
    "# writing to a file is not trivial in python as it will overwrite the file with blank\n",
    "# so open, read, store in temp variables, close, manipulate temp data, open in write mode, write and close "
   ]
  },
  {
   "cell_type": "code",
   "execution_count": null,
   "metadata": {},
   "outputs": [],
   "source": [
    "x = 'example100.txt' # if file is not present, then it will be created when opened in write mode\n",
    "filehandle = open(x,'w')"
   ]
  },
  {
   "cell_type": "code",
   "execution_count": null,
   "metadata": {},
   "outputs": [],
   "source": [
    "print([1,24,76])\n",
    "print(['red','yellow','blue'])\n",
    "print(['red',21,2.3])"
   ]
  },
  {
   "cell_type": "code",
   "execution_count": 47,
   "metadata": {},
   "outputs": [
    {
     "name": "stdout",
     "output_type": "stream",
     "text": [
      "[1, 'red', 2.5, ['a', 3.5, 4]] <class 'list'>\n",
      "4\n",
      "3\n",
      "1 <class 'int'>\n",
      "red <class 'str'>\n",
      "2.5 <class 'float'>\n",
      "['a', 3.5, 4] <class 'list'>\n",
      "4\n"
     ]
    }
   ],
   "source": [
    "mylist=[1,'red',2.5,['a',3.5,4]]\n",
    "print(mylist, type(mylist))\n",
    "print(len(mylist))\n",
    "print(len(mylist[3]))\n",
    "x=mylist[0] \n",
    "y=mylist[1]\n",
    "z=mylist[2]\n",
    "a=mylist[3]\n",
    "print(x,type(x))\n",
    "print(y,type(y))\n",
    "print(z,type(z))\n",
    "print(a,type(a))\n",
    "print(mylist[3][2]) "
   ]
  },
  {
   "cell_type": "code",
   "execution_count": 48,
   "metadata": {},
   "outputs": [
    {
     "name": "stdout",
     "output_type": "stream",
     "text": [
      "[] <class 'list'>\n",
      "[] <class 'list'>\n"
     ]
    }
   ],
   "source": [
    "x=[] # empty list\n",
    "print(x,type(x))\n",
    "\n",
    "b=list() # empty list\n",
    "print(b,type(b))"
   ]
  },
  {
   "cell_type": "code",
   "execution_count": null,
   "metadata": {},
   "outputs": [],
   "source": [
    "fruit = 'BANANA'\n",
    "print(fruit)\n",
    "#fruit(0) = 'B' # this will not work - strings are immutable \n",
    "fruit = fruit.lower() # this will work\n",
    "print(fruit)"
   ]
  },
  {
   "cell_type": "code",
   "execution_count": 52,
   "metadata": {},
   "outputs": [
    {
     "name": "stdout",
     "output_type": "stream",
     "text": [
      "range(10, -1, -2) <class 'range'>\n",
      "range(0, 4)\n",
      "10\n",
      "8\n",
      "6\n",
      "4\n",
      "2\n",
      "0\n"
     ]
    }
   ],
   "source": [
    "x = range(10,-1,-2)\n",
    "print(x,type(x))\n",
    "print(range(4))  ## note that this will not result in a list as mentioned in slide 11 of chapter list\n",
    "for i in x:\n",
    "    print(i)"
   ]
  },
  {
   "cell_type": "code",
   "execution_count": 53,
   "metadata": {},
   "outputs": [
    {
     "name": "stdout",
     "output_type": "stream",
     "text": [
      "[1, 2, 3, 4, 5, 6]\n"
     ]
    }
   ],
   "source": [
    "a=[1,2,3]\n",
    "b=[4,5,6]\n",
    "c= a + b\n",
    "print(c)"
   ]
  },
  {
   "cell_type": "code",
   "execution_count": 54,
   "metadata": {},
   "outputs": [
    {
     "name": "stdout",
     "output_type": "stream",
     "text": [
      "['a', 'b', 'c', 1, 2, 3]\n"
     ]
    }
   ],
   "source": [
    "a=['a', 'b','c']\n",
    "b=[1, 2, 3]\n",
    "c = a+b\n",
    "print(c)"
   ]
  },
  {
   "cell_type": "code",
   "execution_count": 55,
   "metadata": {},
   "outputs": [
    {
     "name": "stdout",
     "output_type": "stream",
     "text": [
      "[2, 3]\n"
     ]
    }
   ],
   "source": [
    "t=[1,2,3,4,5,6,7]\n",
    "a=t[1:3]\n",
    "print(a)"
   ]
  },
  {
   "cell_type": "code",
   "execution_count": 56,
   "metadata": {},
   "outputs": [
    {
     "name": "stdout",
     "output_type": "stream",
     "text": [
      "[1, 2, 3]\n",
      "[2, 3, 4, 5]\n"
     ]
    }
   ],
   "source": [
    "t=[0,1,2,3,4,5]\n",
    "print(t[1:4])\n",
    "print(t[-4:])"
   ]
  },
  {
   "cell_type": "code",
   "execution_count": null,
   "metadata": {},
   "outputs": [],
   "source": [
    "x=list()\n",
    "print(dir(x))"
   ]
  },
  {
   "cell_type": "code",
   "execution_count": 57,
   "metadata": {},
   "outputs": [
    {
     "name": "stdout",
     "output_type": "stream",
     "text": [
      "[1, 2, 3]\n",
      "1595057758856\n",
      "[1, 2, 3, 4]\n",
      "1595057758856\n"
     ]
    }
   ],
   "source": [
    "x=[1,2,3]\n",
    "print(x)\n",
    "print(id(x))\n",
    "x.append(4)\n",
    "print(x)\n",
    "print(id(x))  ## ID is same for both lists here unlike the concatenate example "
   ]
  },
  {
   "cell_type": "code",
   "execution_count": 59,
   "metadata": {},
   "outputs": [
    {
     "name": "stdout",
     "output_type": "stream",
     "text": [
      "1595057734152\n",
      "[1, 2, 3, 4, 5, 6]\n",
      "1595057736968\n"
     ]
    }
   ],
   "source": [
    "x=[1,2,3]\n",
    "y=[4,5,6]\n",
    "print(id(x))\n",
    "x=x+y\n",
    "print(x)\n",
    "print(id(x)) ## concatenate example ID is different. Not showing mutability here"
   ]
  },
  {
   "cell_type": "code",
   "execution_count": 58,
   "metadata": {},
   "outputs": [
    {
     "name": "stdout",
     "output_type": "stream",
     "text": [
      "1595056956232\n",
      "1595057758664\n"
     ]
    }
   ],
   "source": [
    "a=[1,2,3]\n",
    "b=[1,2,3]\n",
    "print(id(a))\n",
    "print(id(b)) # IDs are different as lists are mutable"
   ]
  },
  {
   "cell_type": "code",
   "execution_count": 60,
   "metadata": {},
   "outputs": [
    {
     "name": "stdout",
     "output_type": "stream",
     "text": [
      "[1, 2, 3, 3]\n",
      "[1, 2, 4, 3]\n"
     ]
    }
   ],
   "source": [
    "x=[1,2,3]\n",
    "x.append(x[2])\n",
    "print(x)\n",
    "x[2]=4\n",
    "print(x)"
   ]
  },
  {
   "cell_type": "code",
   "execution_count": 61,
   "metadata": {},
   "outputs": [
    {
     "name": "stdout",
     "output_type": "stream",
     "text": [
      "[1, 2, 3, 4, [5, 6]]\n"
     ]
    }
   ],
   "source": [
    "x=[1,2,3,4]\n",
    "y=[5,6]\n",
    "x.append(y)\n",
    "print(x)"
   ]
  },
  {
   "cell_type": "code",
   "execution_count": 62,
   "metadata": {},
   "outputs": [
    {
     "name": "stdout",
     "output_type": "stream",
     "text": [
      "['a', 'b', 'c', 'd', 'e']\n"
     ]
    }
   ],
   "source": [
    "x=['a','b','c']\n",
    "y=['d','e']\n",
    "x.extend(y)\n",
    "print(x)"
   ]
  },
  {
   "cell_type": "code",
   "execution_count": 67,
   "metadata": {},
   "outputs": [
    {
     "name": "stdout",
     "output_type": "stream",
     "text": [
      "['a', 'b', 'c', 'd', 'e', ['f', 'g', 'h']]\n",
      "['a', 'b', 'c', 'd', 'e', ['f', 'g', 'h']]\n"
     ]
    }
   ],
   "source": [
    "x=['a','b','c']\n",
    "y=['d','e',['f','g','h']] # does not recursively extend - exam question \n",
    "print(x+y)  # same as extend \n",
    "x.extend(y)\n",
    "print(x)"
   ]
  },
  {
   "cell_type": "code",
   "execution_count": 66,
   "metadata": {},
   "outputs": [
    {
     "name": "stdout",
     "output_type": "stream",
     "text": [
      "['a', 'b', 'c', 'd', 'e', ['f', 'g', 'h']]\n",
      "['a', 'b', 'c', ['d', 'e', ['f', 'g', 'h']]]\n"
     ]
    }
   ],
   "source": [
    "x=['a','b','c']\n",
    "y=['d','e',['f','g','h']]  \n",
    "print(x+y)\n",
    "x.append(y)\n",
    "print(x)"
   ]
  },
  {
   "cell_type": "code",
   "execution_count": 68,
   "metadata": {},
   "outputs": [
    {
     "name": "stdout",
     "output_type": "stream",
     "text": [
      "False\n",
      "True\n"
     ]
    }
   ],
   "source": [
    "x=[1,2,3]\n",
    "print(4 in x)\n",
    "print(5 not in x)"
   ]
  },
  {
   "cell_type": "code",
   "execution_count": null,
   "metadata": {},
   "outputs": [],
   "source": [
    "import random\n",
    "\n",
    "dice = list()\n",
    "for i in range(100):\n",
    "    dice.append(random.randint(1,6))\n",
    "\n",
    "print(\"Frequencies: \")\n",
    "for i in range(1,7):\n",
    "    counter = dice.count(i)\n",
    "    print(\"Number of {}s:\".format(i),counter)\n",
    "    \n",
    "for i in range(1,7):\n",
    "    counter = dice.count(i)\n",
    "    print(\"{}     \".format(i),('*' * counter))"
   ]
  },
  {
   "cell_type": "code",
   "execution_count": 69,
   "metadata": {},
   "outputs": [
    {
     "name": "stdout",
     "output_type": "stream",
     "text": [
      "0\n",
      "1\n",
      "2\n",
      "3\n",
      "4\n",
      "5\n",
      "6\n"
     ]
    }
   ],
   "source": [
    "for i in range(7):\n",
    "    print(i)"
   ]
  },
  {
   "cell_type": "code",
   "execution_count": null,
   "metadata": {},
   "outputs": [],
   "source": [
    "import random\n",
    "\n",
    "a = '*'\n",
    "b = 6\n",
    "c = a * b\n",
    "print(c)\n",
    "\n",
    "dice = list()\n",
    "dice.append(random.randint(1,6))\n",
    "print(dice)"
   ]
  },
  {
   "cell_type": "code",
   "execution_count": null,
   "metadata": {},
   "outputs": [],
   "source": [
    "import random\n",
    "\n",
    "try: \n",
    "    user_input = int(input(\"Enter a number from 1 to 100, to be guessed: \"))\n",
    "except ValueError: \n",
    "    print(\"Invalid input. Enter valid integer from 1 to 100\")\n",
    "else: \n",
    "    if ((user_input >= 1) and (user_input <= 100)):\n",
    "        counter = 0\n",
    "        while True: \n",
    "            computer_guess = random.randint(1,100)\n",
    "            counter = counter + 1\n",
    "            if user_input == computer_guess: \n",
    "                break\n",
    "        print(\"You entered {}, and it took program {} iterations to guess\".format(user_input,counter))\n",
    "    else:\n",
    "        print(\"Invalid input. Enter valid integer from 1 to 100\")"
   ]
  },
  {
   "cell_type": "code",
   "execution_count": null,
   "metadata": {},
   "outputs": [],
   "source": [
    "import random\n",
    "\n",
    "user_input = input(\"Enter number to be guessed from 1 to 100: \")\n",
    "if user_input.isnumeric():\n",
    "    int_user_input = int(user_input)\n",
    "    if ((int_user_input >= 1) and (int_user_input <= 100)):\n",
    "        counter = 0\n",
    "        while True: \n",
    "            computer_guess = random.randint(1,100)\n",
    "            counter = counter + 1\n",
    "            #print(\"computer_guess: \",computer_guess,counter)\n",
    "            if int_user_input == computer_guess: \n",
    "                break\n",
    "        print(\"You entered {}, and it took program {} iterations to guess\".format(int_user_input,counter))\n",
    "    else:\n",
    "        print(\"Invalid input. Enter valid integer from 1 to 100\")\n",
    "else:\n",
    "    print(\"Non numeric input. Enter valid integer from 1 to 100\")"
   ]
  },
  {
   "cell_type": "code",
   "execution_count": null,
   "metadata": {},
   "outputs": [],
   "source": [
    "def word_count(line, first_letter):\n",
    "    count = 0\n",
    "    for word in line: \n",
    "        if (first_letter == word[:1]):\n",
    "            count = count + 1\n",
    "    return(count)\n",
    "\n",
    "def main():\n",
    "    line_inp = input(\"Enter your line of text: \") \n",
    "    line_list = line_inp.split()\n",
    "    if (len(line_list) > 0):\n",
    "        letter_inp = input(\"Enter your letter to use: \") \n",
    "        if ((len(letter_inp) == 1) and (letter_inp != ' ')):\n",
    "            first_lcount = word_count(line_list, letter_inp)\n",
    "            if (first_lcount > 1): \n",
    "                print(\"Your letter '{}' occurs as the first letter: {} times\".format(letter_inp, first_lcount))\n",
    "            else: \n",
    "                print(\"Your letter '{}' occurs as the first letter: {} time\".format(letter_inp, first_lcount))\n",
    "        else: \n",
    "            print(\"More than one / invalid letter to use entered. Enter single letter only\")\n",
    "    else: \n",
    "        print(\"No text entered. Enter valid line of text\")\n",
    "\n",
    "main()"
   ]
  },
  {
   "cell_type": "code",
   "execution_count": null,
   "metadata": {},
   "outputs": [],
   "source": [
    "def build_dict(inp):\n",
    "    dictionary = {}\n",
    "    for i in inp: \n",
    "        if i in dictionary: \n",
    "            dictionary[i] = dictionary[i] + 1\n",
    "        else: \n",
    "            dictionary[i] = 1\n",
    "    return (dictionary)\n",
    "\n",
    "def balance_check(dict1, dict2):\n",
    "    for i in dict1: \n",
    "        if not ((i in dict2) and (dict1[i] <= dict2[i])):\n",
    "            print(\"String1 and String2 are NOT balanced\")\n",
    "            break\n",
    "    else:\n",
    "        print(\"String1 and String2 are balanced\")\n",
    "\n",
    "def main():\n",
    "    inp1 = input('Enter String1: ')\n",
    "    if (len(inp1) > 0 and not(inp1.isspace())):\n",
    "        inp2 = input('Enter String2: ')\n",
    "        if (len(inp2) > 0 and not(inp2.isspace())):\n",
    "            inp_dict1 = build_dict(inp1)\n",
    "            inp_dict2 = build_dict(inp2)\n",
    "            balance_check(inp_dict1, inp_dict2)\n",
    "        else:\n",
    "            print(\"Invalid String2 entered\")\n",
    "    else:\n",
    "        print(\"Invalid String1 entered\")\n",
    "        \n",
    "main()"
   ]
  },
  {
   "cell_type": "code",
   "execution_count": null,
   "metadata": {},
   "outputs": [],
   "source": [
    "def build_dict(inp):\n",
    "    dictionary = {}\n",
    "    for i in inp: \n",
    "        if i in dictionary: \n",
    "            dictionary[i] = dictionary[i] + 1\n",
    "        else: \n",
    "            dictionary[i] = 1\n",
    "    return(dictionary)\n",
    "\n",
    "def main():\n",
    "    inp1 = input('Enter String1: ')\n",
    "    if (len(inp1) > 0 and not(inp1.isspace())):\n",
    "        inp2 = input('Enter String2: ')\n",
    "        if (len(inp2) > 0 and not(inp2.isspace())):\n",
    "            inp_dict1 = build_dict(inp1)\n",
    "            inp_dict2 = build_dict(inp2)            \n",
    "            for i in inp_dict1:\n",
    "                if not ((i in inp_dict2) and (inp_dict1[i] <= inp_dict2[i])):\n",
    "                    print(\"String1 and String2 are NOT balanced\")\n",
    "                    break\n",
    "            else:\n",
    "                print(\"String1 and String2 are balanced\")\n",
    "        else:\n",
    "            print(\"Invalid String2 entered\")\n",
    "    else:\n",
    "        print(\"Invalid String1 entered\")\n",
    "\n",
    "main()"
   ]
  },
  {
   "cell_type": "code",
   "execution_count": null,
   "metadata": {},
   "outputs": [],
   "source": [
    "file_name = input('What is the file name: ')\n",
    "\n",
    "try: \n",
    "    file_handle = open(file_name,'r')\n",
    "    \n",
    "    line_count = character_count = word_count = average_word = 0\n",
    "\n",
    "    for line in file_handle: \n",
    "        if line.isspace():\n",
    "            continue \n",
    "        else:\n",
    "            line_count = line_count + 1\n",
    "            line_temp = line.split()\n",
    "            word_count = word_count + len(line_temp)\n",
    "            for word in line_temp: \n",
    "                character_count = character_count + len(word)   \n",
    "             \n",
    "    if word_count > 0:\n",
    "        average_word = round(character_count/word_count,1)\n",
    "        print('Number of lines:', line_count)\n",
    "        print('Number of words:', word_count)\n",
    "        print('Number of characters:', character_count)\n",
    "        print('Average length of a word:', average_word)\n",
    "    else: \n",
    "        print('Input file is empty')\n",
    "\n",
    "    file_handle.close()\n",
    "except: \n",
    "    print('Invalid file name / not present in directory')"
   ]
  },
  {
   "cell_type": "code",
   "execution_count": null,
   "metadata": {},
   "outputs": [],
   "source": [
    "line_count=character_count=word_count=average_word = 0\n",
    "print(line_count,character_count,word_count,average_word)"
   ]
  },
  {
   "cell_type": "code",
   "execution_count": null,
   "metadata": {},
   "outputs": [],
   "source": [
    "file_handle = open('robertfrost.txt','r')\n",
    "print('filehandle len: ',file_handle)"
   ]
  },
  {
   "cell_type": "code",
   "execution_count": null,
   "metadata": {},
   "outputs": [],
   "source": [
    "str1=input('Enter String1: ') \n",
    "len1=len(str1)\n",
    "\n",
    "if len1 > 0:\n",
    "    str2=input('Enter String2: ')\n",
    "    len2=len(str2)\n",
    "    if len2 > 0: \n",
    "        for i in str1:\n",
    "            if not (i in str2): \n",
    "                print('String1 and String2 are NOT balanced') \n",
    "                break\n",
    "        else: \n",
    "            print('String1 and String2 are balanced') \n",
    "    else: \n",
    "        print('Enter valid String2')\n",
    "else: \n",
    "    print('Enter valid String1')"
   ]
  },
  {
   "cell_type": "code",
   "execution_count": 70,
   "metadata": {},
   "outputs": [
    {
     "name": "stdout",
     "output_type": "stream",
     "text": [
      "True\n",
      "True <class 'bool'>\n"
     ]
    }
   ],
   "source": [
    "some=[1,9,21,10,16]\n",
    "print(9 in some)\n",
    "x = 9 in some\n",
    "print(x,type(x))"
   ]
  },
  {
   "cell_type": "code",
   "execution_count": 71,
   "metadata": {},
   "outputs": [
    {
     "name": "stdout",
     "output_type": "stream",
     "text": [
      "['Glen', 'Joseph', 'Sally', 'glen']\n",
      "None\n",
      "['glen', 'Sally', 'Joseph', 'Glen']\n"
     ]
    }
   ],
   "source": [
    "friends =['glen', 'Glen', 'Sally','Joseph'] # lower case is higher vs upper case\n",
    "friends.sort()\n",
    "print(friends)\n",
    "\n",
    "x=list()      \n",
    "x = friends.sort()  # doesnt return anything - important. So copy original list to temp as actual list will be updated \n",
    "print(x)\n",
    "\n",
    "friends.sort(reverse=True)\n",
    "print(friends)"
   ]
  },
  {
   "cell_type": "code",
   "execution_count": 74,
   "metadata": {},
   "outputs": [
    {
     "name": "stdout",
     "output_type": "stream",
     "text": [
      "[0, 1, 2, 5, 8]\n",
      "[8, 5, 2, 1, 0]\n"
     ]
    }
   ],
   "source": [
    "a = [5,2,8,1,0]\n",
    "a.sort() # default is ascending order\n",
    "print(a)\n",
    "a.sort(reverse=True)\n",
    "print(a)"
   ]
  },
  {
   "cell_type": "code",
   "execution_count": 75,
   "metadata": {},
   "outputs": [
    {
     "name": "stdout",
     "output_type": "stream",
     "text": [
      "['Joseph', 'Sally', 'Glen', 'glen']\n"
     ]
    }
   ],
   "source": [
    "friend =['glen', 'Glen', 'Sally','Joseph']\n",
    "friend.reverse()\n",
    "print(friend)"
   ]
  },
  {
   "cell_type": "code",
   "execution_count": 83,
   "metadata": {},
   "outputs": [
    {
     "name": "stdout",
     "output_type": "stream",
     "text": [
      "2 <class 'int'>\n"
     ]
    }
   ],
   "source": [
    "friends =['Joseph','glen', 'Glen', 'Sally','Joseph',['Joseph']]\n",
    "x = friends.count('Joseph')\n",
    "print(x,type(x))"
   ]
  },
  {
   "cell_type": "code",
   "execution_count": 102,
   "metadata": {},
   "outputs": [
    {
     "name": "stdout",
     "output_type": "stream",
     "text": [
      "1 <class 'int'>\n",
      "None\n",
      "['a', 'a', 'c', 'b', 'c', 'd', 'c']\n"
     ]
    }
   ],
   "source": [
    "x=['a','c','b','c','d','c']\n",
    "\n",
    "temp = x.index('c')  ## to know the index of an element in list. Will always give first occurance index\n",
    "print(temp, type(temp))\n",
    "\n",
    "temp1 = x.insert(0,'a')  # to insert element into a list. Specify index number. Out of range will always insert at end\n",
    "print(temp1)\n",
    "print(x)"
   ]
  },
  {
   "cell_type": "code",
   "execution_count": 103,
   "metadata": {},
   "outputs": [
    {
     "name": "stdout",
     "output_type": "stream",
     "text": [
      "['a', 'b', 'c', 'd', 'c'] c\n"
     ]
    }
   ],
   "source": [
    "x=['a','c','b','c','d','c']\n",
    "\n",
    "y=x.pop(1)\n",
    "print(x,y)"
   ]
  },
  {
   "cell_type": "code",
   "execution_count": 104,
   "metadata": {},
   "outputs": [
    {
     "name": "stdout",
     "output_type": "stream",
     "text": [
      "['a', 'b', 'c'] d\n"
     ]
    }
   ],
   "source": [
    "x=['a','b','c','d']\n",
    "y=x.pop() # by default it will pop the last element\n",
    "print(x,y)"
   ]
  },
  {
   "cell_type": "code",
   "execution_count": 106,
   "metadata": {},
   "outputs": [
    {
     "name": "stdout",
     "output_type": "stream",
     "text": [
      "a ['a', 'b', 'c', 'd']\n",
      "d\n",
      "b ['a', 'b', 'c']\n",
      "c\n",
      "['a', 'b']\n"
     ]
    }
   ],
   "source": [
    "x=['a','b','c','d']  # exam question. note how the for loop iteration is ending. Use while to pop everything in list\n",
    "for i in x:\n",
    "    print(i,x)\n",
    "    y=x.pop()  \n",
    "    print(y)\n",
    "print(x)"
   ]
  },
  {
   "cell_type": "code",
   "execution_count": 107,
   "metadata": {},
   "outputs": [
    {
     "name": "stdout",
     "output_type": "stream",
     "text": [
      "['b', 'c', 'd', 'a']\n",
      "None\n"
     ]
    }
   ],
   "source": [
    "x=['a','b','c','d','a']\n",
    "y=x.remove('a') # removes only the first occurance\n",
    "print(x)\n",
    "print(y)"
   ]
  },
  {
   "cell_type": "code",
   "execution_count": 108,
   "metadata": {},
   "outputs": [
    {
     "name": "stdout",
     "output_type": "stream",
     "text": [
      "[1, 2, 4, 3]\n",
      "None\n"
     ]
    }
   ],
   "source": [
    "x=[1,2,3,4,3]\n",
    "y=x.remove(3) # removes only the first occurance\n",
    "print(x)\n",
    "print(y)"
   ]
  },
  {
   "cell_type": "code",
   "execution_count": 109,
   "metadata": {},
   "outputs": [
    {
     "name": "stdout",
     "output_type": "stream",
     "text": [
      "['a', 'b', 'd', 'e']\n"
     ]
    }
   ],
   "source": [
    "x=['a','c','b','c','d','c','e']\n",
    "y='c'\n",
    "while y in x: \n",
    "    x.remove(y)\n",
    "print(x)"
   ]
  },
  {
   "cell_type": "code",
   "execution_count": 112,
   "metadata": {},
   "outputs": [
    {
     "name": "stdout",
     "output_type": "stream",
     "text": [
      "['a', 'b', 'c']\n"
     ]
    }
   ],
   "source": [
    "x=['a','b','c','d','e','f','g']\n",
    "del x[3:] # notice the difference from below cell code\n",
    "print(x)"
   ]
  },
  {
   "cell_type": "code",
   "execution_count": 113,
   "metadata": {},
   "outputs": [
    {
     "name": "stdout",
     "output_type": "stream",
     "text": [
      "['d', 'e', 'f', 'g']\n"
     ]
    }
   ],
   "source": [
    "x=['a','b','c','d','e','f','g']\n",
    "x = x[3:]\n",
    "print(x)"
   ]
  },
  {
   "cell_type": "code",
   "execution_count": 114,
   "metadata": {},
   "outputs": [
    {
     "name": "stdout",
     "output_type": "stream",
     "text": [
      "['a', 'b', 'e', 'f', 'g']\n"
     ]
    }
   ],
   "source": [
    "x=['a','b','c','d','e','f','g']\n",
    "del x[2:4] # note that it will delete until 4-1=3 index \n",
    "print(x)"
   ]
  },
  {
   "cell_type": "code",
   "execution_count": 117,
   "metadata": {},
   "outputs": [
    {
     "name": "stdout",
     "output_type": "stream",
     "text": [
      "['a']\n"
     ]
    }
   ],
   "source": [
    "x=['a','b','c','d','e','f','g']\n",
    "del x[1:] \n",
    "print(x)"
   ]
  },
  {
   "cell_type": "code",
   "execution_count": 118,
   "metadata": {},
   "outputs": [
    {
     "name": "stdout",
     "output_type": "stream",
     "text": [
      "[]\n"
     ]
    }
   ],
   "source": [
    "x=['a','b','c','d','e','f','g']\n",
    "del x[:] \n",
    "print(x)"
   ]
  },
  {
   "cell_type": "code",
   "execution_count": 119,
   "metadata": {},
   "outputs": [
    {
     "name": "stdout",
     "output_type": "stream",
     "text": [
      "['a', 'c', 'd', 'e', 'f', 'g']\n"
     ]
    }
   ],
   "source": [
    "x=['a','b','c','d','e','f','g']\n",
    "del x[1] \n",
    "print(x)"
   ]
  },
  {
   "cell_type": "code",
   "execution_count": 137,
   "metadata": {},
   "outputs": [
    {
     "name": "stdout",
     "output_type": "stream",
     "text": [
      "1595058016136 1595058016136\n",
      "True\n",
      "[1, 2, 3] [1, 2, 3]\n",
      "[2, 3] [2, 3]\n"
     ]
    }
   ],
   "source": [
    "a=[1,2,3]  # exam question - alising\n",
    "b=a\n",
    "print(id(a),id(b))\n",
    "print(a is b)\n",
    "print(a,b)\n",
    "del b[0]\n",
    "print(a,b) ## here a is also updated as its pointing to same memory location"
   ]
  },
  {
   "cell_type": "code",
   "execution_count": 115,
   "metadata": {},
   "outputs": [
    {
     "name": "stdout",
     "output_type": "stream",
     "text": [
      "315\n"
     ]
    }
   ],
   "source": [
    "nums=['3','15']   # exam question\n",
    "print(nums[0]+nums[1])"
   ]
  },
  {
   "cell_type": "code",
   "execution_count": 120,
   "metadata": {},
   "outputs": [
    {
     "name": "stdout",
     "output_type": "stream",
     "text": [
      "18\n"
     ]
    }
   ],
   "source": [
    "nums=[3,15]    \n",
    "print(sum(nums)) "
   ]
  },
  {
   "cell_type": "code",
   "execution_count": 121,
   "metadata": {},
   "outputs": [
    {
     "name": "stdout",
     "output_type": "stream",
     "text": [
      "1595057925192 1595057892616\n",
      "False\n"
     ]
    }
   ],
   "source": [
    "a=[1,2,3]  # exam question - list is mutable hence different location. But alias will behaves differently\n",
    "b=[1,2,3]\n",
    "print(id(a),id(b))\n",
    "print(a is b)"
   ]
  },
  {
   "cell_type": "code",
   "execution_count": 130,
   "metadata": {},
   "outputs": [
    {
     "name": "stdout",
     "output_type": "stream",
     "text": [
      "[1, 2, 3]\n",
      "1595057910408 1595057912392\n",
      "False\n",
      "[17, 2, 3] [1, 2, 3]\n"
     ]
    }
   ],
   "source": [
    "a=[1,2,3]  ## this is not alias but copy option\n",
    "b=a[:]\n",
    "print(b)\n",
    "print(id(a),id(b)) # id will be different unlike in alias\n",
    "print(a is b)\n",
    "a[0]=17  # this will not impact b\n",
    "print(a,b)"
   ]
  },
  {
   "cell_type": "code",
   "execution_count": 135,
   "metadata": {},
   "outputs": [
    {
     "name": "stdout",
     "output_type": "stream",
     "text": [
      "['m', 'a', 'r', 'y', ' ', 'h', 'a', 'd', ' ', 'a', ' ', 'l', 'i', 't', 't', 'l', 'e', ' ', 'l', 'a', 'm', 'b']\n",
      "['mary', 'had', 'a', 'little', 'lamb']\n"
     ]
    }
   ],
   "source": [
    "x = 'mary had a little lamb'\n",
    "y = list(x)\n",
    "print(y)\n",
    "\n",
    "z = x.split()\n",
    "print(z)"
   ]
  },
  {
   "cell_type": "code",
   "execution_count": 133,
   "metadata": {},
   "outputs": [
    {
     "name": "stdout",
     "output_type": "stream",
     "text": [
      "['spam', 'spam', 'spam']\n"
     ]
    }
   ],
   "source": [
    "x = 'spam+spam+spam'\n",
    "y = x.split('+')\n",
    "print(y)"
   ]
  },
  {
   "cell_type": "code",
   "execution_count": 136,
   "metadata": {},
   "outputs": [
    {
     "name": "stdout",
     "output_type": "stream",
     "text": [
      "[17, 2, 3] [1, 2, 3]\n"
     ]
    }
   ],
   "source": [
    "import copy\n",
    "\n",
    "a = [1,2,3]\n",
    "b = copy.copy(a)\n",
    "a[0] = 17   # here b is not impacted\n",
    "print(a,b)"
   ]
  },
  {
   "cell_type": "code",
   "execution_count": 138,
   "metadata": {},
   "outputs": [
    {
     "name": "stdout",
     "output_type": "stream",
     "text": [
      "{'money': 12, 'candy': 3, 'tissues': 75}\n",
      "3\n",
      "5\n"
     ]
    }
   ],
   "source": [
    "purse=dict()\n",
    "purse['money'] = 12\n",
    "purse['candy'] = 3\n",
    "purse['tissues'] = 75\n",
    "print(purse)\n",
    "print(purse['candy'])\n",
    "purse['candy'] = purse['candy'] + 2 \n",
    "print(purse['candy'])"
   ]
  },
  {
   "cell_type": "code",
   "execution_count": 139,
   "metadata": {},
   "outputs": [
    {
     "name": "stdout",
     "output_type": "stream",
     "text": [
      "credit card not in purse\n"
     ]
    }
   ],
   "source": [
    "purse=dict()\n",
    "purse['money'] = 12\n",
    "purse['candy'] = 3\n",
    "purse['tissues'] = 75\n",
    "\n",
    "if (('credit card') in purse): # in operator always checks for keys only\n",
    "    print(purse['credit card'])\n",
    "else: \n",
    "    print('credit card not in purse')"
   ]
  },
  {
   "cell_type": "code",
   "execution_count": null,
   "metadata": {},
   "outputs": [],
   "source": [
    "jjj={'chuck' : 1,'fred' : 42,'jan' : 100}\n",
    "print(jjj)"
   ]
  },
  {
   "cell_type": "code",
   "execution_count": 140,
   "metadata": {},
   "outputs": [
    {
     "name": "stdout",
     "output_type": "stream",
     "text": [
      "{'money': 12}\n"
     ]
    }
   ],
   "source": [
    "key1='money' \n",
    "jjj={key1:12} ## key should be immutable type only. So it cannot be a list -> exam question\n",
    "print(jjj)"
   ]
  },
  {
   "cell_type": "code",
   "execution_count": 142,
   "metadata": {},
   "outputs": [
    {
     "ename": "TypeError",
     "evalue": "unhashable type: 'list'",
     "output_type": "error",
     "traceback": [
      "\u001b[1;31m---------------------------------------------------------------------------\u001b[0m",
      "\u001b[1;31mTypeError\u001b[0m                                 Traceback (most recent call last)",
      "\u001b[1;32m<ipython-input-142-78f81f50ac78>\u001b[0m in \u001b[0;36m<module>\u001b[1;34m\u001b[0m\n\u001b[0;32m      1\u001b[0m \u001b[0mkey1\u001b[0m\u001b[1;33m=\u001b[0m\u001b[0mlist\u001b[0m\u001b[1;33m(\u001b[0m\u001b[1;33m)\u001b[0m\u001b[1;33m\u001b[0m\u001b[1;33m\u001b[0m\u001b[0m\n\u001b[0;32m      2\u001b[0m \u001b[0mkey1\u001b[0m\u001b[1;33m.\u001b[0m\u001b[0mappend\u001b[0m\u001b[1;33m(\u001b[0m\u001b[1;34m'candy'\u001b[0m\u001b[1;33m)\u001b[0m\u001b[1;33m\u001b[0m\u001b[1;33m\u001b[0m\u001b[0m\n\u001b[1;32m----> 3\u001b[1;33m \u001b[0mjjj\u001b[0m\u001b[1;33m=\u001b[0m\u001b[1;33m{\u001b[0m\u001b[0mkey1\u001b[0m\u001b[1;33m:\u001b[0m\u001b[1;36m12\u001b[0m\u001b[1;33m}\u001b[0m \u001b[1;31m## key should be immutable type only -> exam question\u001b[0m\u001b[1;33m\u001b[0m\u001b[1;33m\u001b[0m\u001b[0m\n\u001b[0m\u001b[0;32m      4\u001b[0m \u001b[0mprint\u001b[0m\u001b[1;33m(\u001b[0m\u001b[0mjjj\u001b[0m\u001b[1;33m)\u001b[0m\u001b[1;33m\u001b[0m\u001b[1;33m\u001b[0m\u001b[0m\n\u001b[0;32m      5\u001b[0m \u001b[1;33m\u001b[0m\u001b[0m\n",
      "\u001b[1;31mTypeError\u001b[0m: unhashable type: 'list'"
     ]
    }
   ],
   "source": [
    "key1=list() \n",
    "key1.append('candy')\n",
    "jjj={key1:12} ## key should be immutable type only -> exam question\n",
    "print(jjj)\n",
    "\n",
    "# unhashable = mutable\n",
    "# hashable = immutable"
   ]
  },
  {
   "cell_type": "code",
   "execution_count": 143,
   "metadata": {},
   "outputs": [
    {
     "ename": "TypeError",
     "evalue": "unhashable type: 'list'",
     "output_type": "error",
     "traceback": [
      "\u001b[1;31m---------------------------------------------------------------------------\u001b[0m",
      "\u001b[1;31mTypeError\u001b[0m                                 Traceback (most recent call last)",
      "\u001b[1;32m<ipython-input-143-2d61aa417830>\u001b[0m in \u001b[0;36m<module>\u001b[1;34m\u001b[0m\n\u001b[0;32m      1\u001b[0m \u001b[0ma\u001b[0m \u001b[1;33m=\u001b[0m \u001b[0mdict\u001b[0m\u001b[1;33m(\u001b[0m\u001b[1;33m)\u001b[0m\u001b[1;33m\u001b[0m\u001b[1;33m\u001b[0m\u001b[0m\n\u001b[1;32m----> 2\u001b[1;33m \u001b[0ma\u001b[0m \u001b[1;33m=\u001b[0m \u001b[1;33m{\u001b[0m\u001b[1;34m'key1'\u001b[0m\u001b[1;33m:\u001b[0m \u001b[1;36m4\u001b[0m\u001b[1;33m,\u001b[0m \u001b[1;33m[\u001b[0m\u001b[1;34m'test'\u001b[0m\u001b[1;33m]\u001b[0m\u001b[1;33m:\u001b[0m \u001b[1;36m5\u001b[0m\u001b[1;33m}\u001b[0m\u001b[1;33m\u001b[0m\u001b[1;33m\u001b[0m\u001b[0m\n\u001b[0m\u001b[0;32m      3\u001b[0m \u001b[0mprint\u001b[0m\u001b[1;33m(\u001b[0m\u001b[0ma\u001b[0m\u001b[1;33m)\u001b[0m\u001b[1;33m\u001b[0m\u001b[1;33m\u001b[0m\u001b[0m\n",
      "\u001b[1;31mTypeError\u001b[0m: unhashable type: 'list'"
     ]
    }
   ],
   "source": [
    "a = dict()\n",
    "a = {'key1': 4, ['test']: 5} # list cannot be a key in dict\n",
    "print(a)"
   ]
  },
  {
   "cell_type": "code",
   "execution_count": 146,
   "metadata": {},
   "outputs": [
    {
     "name": "stdout",
     "output_type": "stream",
     "text": [
      "{'key1': [4, 5, 6], 'key2': 5, 3: [3]}\n"
     ]
    },
    {
     "ename": "KeyError",
     "evalue": "4",
     "output_type": "error",
     "traceback": [
      "\u001b[1;31m---------------------------------------------------------------------------\u001b[0m",
      "\u001b[1;31mKeyError\u001b[0m                                  Traceback (most recent call last)",
      "\u001b[1;32m<ipython-input-146-fda58ec3e876>\u001b[0m in \u001b[0;36m<module>\u001b[1;34m\u001b[0m\n\u001b[0;32m      4\u001b[0m \u001b[0mprint\u001b[0m\u001b[1;33m(\u001b[0m\u001b[0ma\u001b[0m\u001b[1;33m)\u001b[0m\u001b[1;33m\u001b[0m\u001b[1;33m\u001b[0m\u001b[0m\n\u001b[0;32m      5\u001b[0m \u001b[1;33m\u001b[0m\u001b[0m\n\u001b[1;32m----> 6\u001b[1;33m \u001b[0mmissing\u001b[0m \u001b[1;33m=\u001b[0m \u001b[0ma\u001b[0m\u001b[1;33m[\u001b[0m\u001b[1;36m4\u001b[0m\u001b[1;33m]\u001b[0m\u001b[1;33m\u001b[0m\u001b[1;33m\u001b[0m\u001b[0m\n\u001b[0m\u001b[0;32m      7\u001b[0m \u001b[0mprint\u001b[0m\u001b[1;33m(\u001b[0m\u001b[0mmissing\u001b[0m\u001b[1;33m)\u001b[0m\u001b[1;33m\u001b[0m\u001b[1;33m\u001b[0m\u001b[0m\n",
      "\u001b[1;31mKeyError\u001b[0m: 4"
     ]
    }
   ],
   "source": [
    "a = dict()\n",
    "a = {'key1': [4,5,6], 'key2': 5} # value can be a list\n",
    "a[3] = [3]\n",
    "print(a)\n",
    "\n",
    "missing = a[4]   # missing key will throw a key error\n",
    "print(missing)"
   ]
  },
  {
   "cell_type": "code",
   "execution_count": 159,
   "metadata": {},
   "outputs": [
    {
     "name": "stdout",
     "output_type": "stream",
     "text": [
      "{'chuck': 1, 'fred': 42, 'jan': 100}\n",
      "3\n",
      "['chuck', 'fred', 'jan'] <class 'list'>\n",
      "[1, 42, 100] <class 'list'>\n",
      "True\n",
      "[('chuck', 1), ('fred', 42), ('jan', 100)] <class 'list'>\n",
      "100\n"
     ]
    }
   ],
   "source": [
    "jjj={'chuck':1,'fred':42,'jan':100}\n",
    "print(jjj)\n",
    "print(len(jjj))\n",
    "\n",
    "# to get keys\n",
    "keys=list(jjj)\n",
    "print(keys, type(keys))\n",
    "\n",
    "#The values() method is used to collect the values of a dictionary\n",
    "vals=list(jjj.values())\n",
    "print(vals,type(vals))\n",
    "print(1 in vals)\n",
    "\n",
    "# to get both keys and values\n",
    "items=list(jjj.items())\n",
    "print(items, type(items))\n",
    "print(items[2][1])"
   ]
  },
  {
   "cell_type": "code",
   "execution_count": 160,
   "metadata": {},
   "outputs": [
    {
     "name": "stdout",
     "output_type": "stream",
     "text": [
      "<class 'dict_values'> dict_values([1, 42, 100])\n",
      "True\n"
     ]
    }
   ],
   "source": [
    "jjj={'chuck':1,'fred':42,'jan':100}\n",
    "vals=jjj.values() ## this is a dict_values type and not a list\n",
    "print(type(vals),vals) \n",
    "print(1 in vals)"
   ]
  },
  {
   "cell_type": "code",
   "execution_count": 161,
   "metadata": {},
   "outputs": [
    {
     "name": "stdout",
     "output_type": "stream",
     "text": [
      "{'csev': 2, 'cwen': 2, 'zqian': 1}\n"
     ]
    }
   ],
   "source": [
    "counts=dict()\n",
    "names = ['csev','cwen','csev','zqian','cwen']\n",
    "for name in names: \n",
    "    if name not in counts: \n",
    "        counts[name]=1\n",
    "    else: \n",
    "        counts[name] = counts[name] + 1\n",
    "        \n",
    "print(counts)"
   ]
  },
  {
   "cell_type": "code",
   "execution_count": 165,
   "metadata": {},
   "outputs": [
    {
     "name": "stdout",
     "output_type": "stream",
     "text": [
      "0\n",
      "0 <class 'int'>\n"
     ]
    }
   ],
   "source": [
    "counts={'csev': 2, 'cwen': 2, 'zqian': 1}\n",
    "name='jay'\n",
    "if name in counts:\n",
    "    x = counts[name]\n",
    "else: \n",
    "    x = 0\n",
    "print(x)\n",
    "\n",
    "y=counts.get(name,0) # if 0 is not specified, then nonetype will be assigned. We can specify anything\n",
    "print(y,type(y))"
   ]
  },
  {
   "cell_type": "code",
   "execution_count": 166,
   "metadata": {},
   "outputs": [
    {
     "name": "stdout",
     "output_type": "stream",
     "text": [
      "{'csev': 2, 'cwen': 2, 'zqian': 1}\n"
     ]
    }
   ],
   "source": [
    "counts = dict()\n",
    "names= ['csev', 'cwen', 'csev', 'zqian', 'cwen']\n",
    "for name in names:\n",
    "    counts[name]= counts.get(name,0) + 1\n",
    "print(counts)"
   ]
  },
  {
   "cell_type": "code",
   "execution_count": 167,
   "metadata": {},
   "outputs": [
    {
     "name": "stdout",
     "output_type": "stream",
     "text": [
      "['chuck', 'fred', 'jan']\n",
      "{'chuck': 1, 'fred': 42, 'jan': 100}\n",
      "['chuck', 'fred', 'jan']\n"
     ]
    }
   ],
   "source": [
    "jjj= { 'chuck' : 1 , 'fred' : 42, 'jan':100}\n",
    "print(list(jjj))\n",
    "print(jjj)\n",
    "jjj=list(jjj)\n",
    "print(jjj)"
   ]
  },
  {
   "cell_type": "code",
   "execution_count": null,
   "metadata": {},
   "outputs": [],
   "source": [
    "jjj= { 'chuck' : 1 , 'fred' : 42, 'jan':100}\n",
    "print(jjj)\n",
    "jjj=list(jjj) # just like any other variable assignment. Check how it behaves with strings\n",
    "print(jjj)"
   ]
  },
  {
   "cell_type": "code",
   "execution_count": 171,
   "metadata": {},
   "outputs": [
    {
     "name": "stdout",
     "output_type": "stream",
     "text": [
      "chuck 1\n",
      "fred 42\n",
      "jan 100\n",
      "\n",
      "chuck 1\n",
      "fred 42\n",
      "jan 100\n"
     ]
    }
   ],
   "source": [
    "counts= { 'chuck' : 1 , 'fred' : 42, 'jan':100}\n",
    "for key in counts: \n",
    "    print(key, counts[key])\n",
    "\n",
    "print('')\n",
    "\n",
    "for key,value in counts.items(): \n",
    "    print(key, value)    "
   ]
  },
  {
   "cell_type": "code",
   "execution_count": 172,
   "metadata": {},
   "outputs": [
    {
     "name": "stdout",
     "output_type": "stream",
     "text": [
      "{1: 'chuck', 42: 'fred', 100: 'jan'}\n",
      "dict_keys([1, 42, 100])\n",
      "dict_values(['chuck', 'fred', 'jan'])\n",
      "dict_items([(1, 'chuck'), (42, 'fred'), (100, 'jan')])\n"
     ]
    }
   ],
   "source": [
    "jjj= { 1: 'chuck', 42: 'fred', 100: 'jan'}\n",
    "print(jjj)\n",
    "print(jjj.keys())\n",
    "print(jjj.values())\n",
    "print(jjj.items())"
   ]
  },
  {
   "cell_type": "code",
   "execution_count": 175,
   "metadata": {},
   "outputs": [
    {
     "name": "stdout",
     "output_type": "stream",
     "text": [
      "chuck 1\n",
      "fred 42\n",
      "jan 100\n",
      "\n",
      "chuck\n",
      "fred\n",
      "jan\n",
      "\n",
      "chuck\n",
      "fred\n",
      "jan\n",
      "\n",
      "1\n",
      "42\n",
      "100\n"
     ]
    }
   ],
   "source": [
    "jjj= { 'chuck' : 1 , 'fred' : 42, 'jan':100}\n",
    "for key, value in jjj.items(): # need to use this if we want to get both key and value together. By default only keys \n",
    "    print(key,value)   \n",
    "\n",
    "print('')\n",
    "\n",
    "for key in jjj: # By default only keys \n",
    "    print(key)   \n",
    "\n",
    "print('')\n",
    "\n",
    "for key in jjj.keys(): # same as above by default case\n",
    "    print(key)   \n",
    "\n",
    "print('')\n",
    "\n",
    "for value in jjj.values():  \n",
    "    print(value)   "
   ]
  },
  {
   "cell_type": "code",
   "execution_count": 177,
   "metadata": {},
   "outputs": [
    {
     "name": "stdout",
     "output_type": "stream",
     "text": [
      "1 1 2 3 5 8 13 21 34 55 89 "
     ]
    }
   ],
   "source": [
    "# write Fibonacci series up to n\n",
    "a, b = 0, 1\n",
    "n=100\n",
    "while b < n:\n",
    "    print(b, end=' ')\n",
    "    a, b = b, a+b"
   ]
  },
  {
   "cell_type": "code",
   "execution_count": 176,
   "metadata": {},
   "outputs": [
    {
     "name": "stdout",
     "output_type": "stream",
     "text": [
      "1 2 4 8 16 32 64 "
     ]
    }
   ],
   "source": [
    "# write Fibonacci series up to n - this is not same as above and produces incorrect results\n",
    "a = 0\n",
    "b = 1\n",
    "n=100\n",
    "while b < n:\n",
    "    print(b, end=' ')\n",
    "    a = b\n",
    "    b = a+b"
   ]
  },
  {
   "cell_type": "code",
   "execution_count": 180,
   "metadata": {},
   "outputs": [
    {
     "name": "stdout",
     "output_type": "stream",
     "text": [
      "1, 2, 3, 4, "
     ]
    }
   ],
   "source": [
    "a=[1,2,3,4]\n",
    "for i in a: \n",
    "    #print(\"number: \", i)\n",
    "    print(i, end=\", \")"
   ]
  },
  {
   "cell_type": "code",
   "execution_count": 181,
   "metadata": {},
   "outputs": [
    {
     "name": "stdout",
     "output_type": "stream",
     "text": [
      "{1: [1], 2: [2], 3: [3]}\n"
     ]
    }
   ],
   "source": [
    "z={1:[1],2:[2]}\n",
    "z[3] = [3]\n",
    "print(z)"
   ]
  },
  {
   "cell_type": "code",
   "execution_count": 182,
   "metadata": {},
   "outputs": [
    {
     "name": "stdout",
     "output_type": "stream",
     "text": [
      "From: Cheng <zhoucheng2008@gmail.com>\n",
      "From: Selvakumar <vvekselva.gm@gmail.com>\n",
      "From: parnab kumar <parnab.2007@gmail.com>\n",
      "From: Selvakumar <vvekselva.gm@gmail.com>\n",
      "From: Michael McCandless <lucene@mikemccandless.com>\n",
      "From: Erick Erickson <erickerickson@gmail.com>\n",
      "From: Jochen Hebbrecht <jochenhebbrecht@gmail.com>\n",
      "From: \"Jack Krupansky\" <jack@basetechnology.com>\n",
      "From: Jochen Hebbrecht\n",
      "From: \"Jack Krupansky\" <jack@basetechnology.com>\n",
      "From: Jack Krupansky\n",
      "From: Jochen Hebbrecht\n",
      "From: Jochen Hebbrecht <jochenhebbrecht@gmail.com>\n",
      "> -----Original Message----- From: Jack Krupansky\n",
      "> -----Original Message----- From: Jochen Hebbrecht\n",
      "From: parnab kumar <parnab.2007@gmail.com>\n",
      "From: \"Jack Krupansky\" <jack@basetechnology.com>\n",
      "From: Jochen Hebbrecht\n",
      "> -----Original Message----- From: Jack Krupansky\n",
      "> -----Original Message----- From: Jochen Hebbrecht\n",
      "From: \"Jack Krupansky\" <jack@basetechnology.com>\n",
      "From: Jack Krupansky\n",
      "From: Jochen Hebbrecht\n",
      "> -----Original Message----- From: Jack Krupansky\n",
      "> -----Original Message----- From: Jochen Hebbrecht\n",
      "From: Jochen Hebbrecht <jochenhebbrecht@gmail.com>\n",
      "> -----Original Message----- From: Jack Krupansky\n",
      "> -----Original Message----- From: Jochen Hebbrecht\n",
      ">> -----Original Message----- From: Jack Krupansky\n",
      ">> -----Original Message----- From: Jochen Hebbrecht\n",
      "From: Jong Kim <jong.lucene@gmail.com>\n",
      "From: Vitaly Funstein <vfunstein@gmail.com>\n",
      "From: Ian Lea <ian.lea@gmail.com>\n",
      "From: Paul Libbrecht <paul@hoplahup.net>\n",
      "From: Jong Kim <jong.lucene@gmail.com>\n",
      "From: Paul Libbrecht <paul@hoplahup.net>\n",
      "From: Ian Lea <ian.lea@gmail.com>\n",
      "From: \"Uwe Schindler\" <uwe@thetaphi.de>\n",
      "> From: Paul Libbrecht [mailto:paul@hoplahup.net]\n",
      "From: Jong Kim <jong.lucene@gmail.com>\n",
      "From: Jong Kim <jong.lucene@gmail.com>\n",
      "From: Jong Kim <jong.lucene@gmail.com>\n",
      "> > From: Paul Libbrecht [mailto:paul@hoplahup.net]\n",
      "From: Tommaso Teofili <tommaso.teofili@gmail.com>\n",
      "From: \"Nader, John P\" <john.nader@cengage.com>\n",
      "From: Jong Kim <jong.lucene@gmail.com>\n",
      "From: Jong Kim <jong.lucene@gmail.com>\n",
      "From: \"Uwe Schindler\" <uwe@thetaphi.de>\n",
      "> From: Jong Kim [mailto:jong.lucene@gmail.com]\n",
      "From: =?utf-8?Q?Markus_Jelsma?= <markus.jelsma@openindex.io>\n",
      "From: =?utf-8?Q?Markus_Jelsma?= <markus.jelsma@openindex.io>\n",
      "> From:Markus Jelsma <markus.jelsma@openindex.io>\n",
      "From: Thomas Matthijs <lists@selckin.be>\n",
      ">> From:Markus Jelsma <markus.jelsma@openindex.io>\n",
      "From: vempap <phani.vempaty@emc.com>\n",
      "From: Steven A Rowe <sarowe@syr.edu>\n",
      "From: vempap [mailto:phani.vempaty@emc.com]=20\n",
      "From: vempap <phani.vempaty@emc.com>\n",
      "From: =?utf-8?Q?Markus_Jelsma?= <markus.jelsma@openindex.io>\n",
      "> From:Thomas Matthijs <lists@selckin.be>\n",
      "> >> From:Markus Jelsma <markus.jelsma@openindex.io>\n",
      "From: selvakumar netaji <vvekselva.gm@gmail.com>\n",
      "From: selvakumar netaji <vvekselva.gm@gmail.com>\n",
      "From: selvakumar netaji <vvekselva.gm@gmail.com>\n",
      "From: Sachin Kulkarni <kulksac@hawk.iit.edu>\n",
      "From: selvakumar netaji <vvekselva.gm@gmail.com>\n",
      "From: Thomas Matthijs <lists@selckin.be>\n",
      "From: \"Uwe Schindler\" <uwe@thetaphi.de>\n",
      "> From: Thomas Matthijs [mailto:lists@selckin.be]\n",
      "From: Thomas Matthijs <lists@selckin.be>\n",
      "From: Michael McCandless <lucene@mikemccandless.com>\n",
      "From: Michael McCandless <lucene@mikemccandless.com>\n",
      "From: Thomas Matthijs <lists@selckin.be>\n",
      "From: Thomas Matthijs <lists@selckin.be>\n",
      "From: selvakumar netaji <vvekselva.gm@gmail.com>\n",
      "From: \"Uwe Schindler\" <uwe@thetaphi.de>\n",
      "From: Andrzej Bialecki <ab@getopt.org>\n",
      "From: Michael McCandless <lucene@mikemccandless.com>\n",
      "From: selvakumar netaji <vvekselva.gm@gmail.com>\n",
      "From: Sachin Kulkarni <kulksac@hawk.iit.edu>\n",
      "From: parnab kumar <parnab.2007@gmail.com>\n",
      "From: Alan Woodward <alan.woodward@romseysoftware.co.uk>\n",
      "From: Vitaly Funstein <vfunstein@gmail.com>\n",
      "From: rajputadesh <rajputadesh@gmail.com>\n",
      "From: =?utf-8?Q?Rafa=C5=82_Ku=C4=87?= <r.kuc@solr.pl>\n",
      "From: Richard Marr <richard.marr@gmail.com>\n",
      "From: Robert Muir <rmuir@apache.org>\n",
      "From: Arjen van der Meijden <acmmailing@tweakers.net>\n",
      "From: \"Uwe Schindler\" <uwe@thetaphi.de>\n",
      "> From: Arjen van der Meijden [mailto:acmmailing@tweakers.net]\n",
      "From: \"Zeynep P.\" <zpvie@yahoo.com>\n",
      "From: emmanuel Gosse <emmanuel.gosse@gmail.com>\n",
      "From: Simon Willnauer <simon.willnauer@gmail.com>\n",
      "DKIM-Signature: v=1; a=rsa-sha256; c=relaxed/relaxed; d=yahoo.com; s=s1024; t=1350371333; bh=4mXg2tXV53J603ha81o1ehRuYs981A2B6f279LGCAFc=; h=X-YMail-OSG:Received:X-Rocket-MIMEInfo:X-Mailer:Message-ID:Date:From:Reply-To:Subject:To:MIME-Version:Content-Type; b=pOCE+nnQITai4Qoh2uMPvSisnJGreFuf+fGIXYxuZsclSpiMRhRt9S75zEKFGv9fbFYkz5KcInygMjW6vn8rNOUxwe2j0zUuukpEh4UBPcRvS5WuooP3VpcmDOpX5CBaNzQ8Tc/mHffNusWevudfwp6TbI0rA0R+0uUQntdrOZY=\n",
      "  h=X-YMail-OSG:Received:X-Rocket-MIMEInfo:X-Mailer:Message-ID:Date:From:Reply-To:Subject:To:MIME-Version:Content-Type;\n",
      "From: Cool The Breezer <techcool.kumar@yahoo.com>\n",
      "From: sxam <sxamt@yahoo.com>\n",
      "From: Richard Marr <richard.marr@gmail.com>\n",
      "From: Hans Lund <ha.lund@gmail.com>\n",
      "From: Erick Erickson <erickerickson@gmail.com>\n",
      "From: Apostolis Xekoukoulotakis <xekoukou@gmail.com>\n",
      "From: Erick Erickson <erickerickson@gmail.com>\n",
      "From: Deepak Shakya <justdpk@gmail.com>\n",
      "From: Ian Lea <ian.lea@gmail.com>\n",
      "From: Deepak Shakya <justdpk@gmail.com>\n",
      "From: Ian Lea <ian.lea@gmail.com>\n",
      "From: Deepak Shakya <justdpk@gmail.com>\n",
      "From: \"Zeynep P.\" <zpvie@yahoo.com>\n",
      "From: sxam <sxamt@yahoo.com>\n",
      "From: Robert Muir <rcmuir@gmail.com>\n",
      "From: Ian Lea <ian.lea@gmail.com>\n",
      "From: \"shawn@sriusa.com\" <shawn@sriusa.com>\n",
      "From: =?ISO-8859-1?Q?Dawn_Zo=EB_Raison?= <dawn@digitorial.co.uk>\n",
      "From: Jain Rahul <jainr@ivycomptech.com>\n",
      "From: Jason Rutherglen <jason.rutherglen@gmail.com>\n",
      "From: Divya Arunachalam <divarun@gmail.com>\n",
      "From: manigg <manishgarg28@gmail.com>\n",
      "From: Richard Marr <richard.marr@gmail.com>\n",
      "From: \"sagar.gole8\" <sagar.gole8@gmail.com>\n",
      "From: Aditya <findbestopensource@gmail.com>\n",
      "From: sxam <sxamt@yahoo.com>\n",
      "From: Pierre-Francois Marteau <pierre-francois.marteau@univ-ubs.fr>\n",
      "From: \"sagar.gole8\" <sagar.gole8@gmail.com>\n",
      "From: Ian Lea <ian.lea@gmail.com>\n",
      "From: Ian Lea <ian.lea@gmail.com>\n",
      "From: sxam <sxamt@yahoo.com>\n",
      "From: =?utf-8?Q?Rafa=C5=82_Ku=C4=87?= <r.kuc@solr.pl>\n",
      "From: Ian Lea <ian.lea@gmail.com>\n",
      "From: sxam <sxamt@yahoo.com>\n",
      "From: Shaya Potter <spotter@gmail.com>\n",
      "From: Apostolis Xekoukoulotakis <xekoukou@gmail.com>\n",
      "From: Shaya Potter <spotter@gmail.com>\n",
      "From: Apostolis Xekoukoulotakis <xekoukou@gmail.com>\n",
      "From: =?utf-8?Q?Rafa=C5=82_Ku=C4=87?= <r.kuc@solr.pl>\n",
      "From: \"Jack Krupansky\" <jack@basetechnology.com>\n",
      "From: Shaya Potter\n",
      "From: Siraj Haider <siraj@jobdiva.com>\n",
      "From: Simon Willnauer <simon.willnauer@gmail.com>\n",
      "From: Siraj Haider <siraj@jobdiva.com>\n",
      "From: selvakumar netaji <vvekselva.gm@gmail.com>\n",
      "> From: Simon Willnauer [mailto:simon.willnauer@gmail.com]\n",
      "From: Maximiliano Keen <mkeen@scotas.com>\n",
      "From: Petite Abeille <petite_abeille@me.com>\n",
      "From: Raghavan Parthasarathy <raghavan8585@gmail.com>\n",
      "From: Maximiliano Keen <mkeen@scotas.com>\n",
      "From: Siraj Haider <siraj@jobdiva.com>\n",
      "From: selvakumar netaji [mailto:vvekselva.gm@gmail.com]\n",
      "> From: Simon Willnauer [mailto:simon.willnauer@gmail.com]\n",
      "From: Scott Smith <ssmith@mainstreamdata.com>\n",
      "From: Michael Sokolov <sokolov@ifactory.com>\n",
      "DKIM-Signature: v=1; a=rsa-sha256; c=relaxed/relaxed; d=yahoo.com; s=s1024; t=1351075331; bh=pLYsKBYYjBWWcp780ytYV23UEHWcBnxvcuLL1jTCHGs=; h=X-YMail-OSG:Received:X-Rocket-MIMEInfo:X-Mailer:Message-ID:Date:From:Reply-To:Subject:To:MIME-Version:Content-Type; b=3N2Zp+t1uD2AMenavkJpWtvNHUyHBHYfhNlCchdIrHJZCWLK8+a0c4tEZTUCSOHby8VmQ1AIyJeoP1xDbhWUsDLAognaeBok0kcwRcor34R7QltlWEaOU9UFTBL83e0pjEDaGaT2mnc2SCjid/6NaxNCzW/iBgm4vDsHAAG4noA=\n",
      "  h=X-YMail-OSG:Received:X-Rocket-MIMEInfo:X-Mailer:Message-ID:Date:From:Reply-To:Subject:To:MIME-Version:Content-Type;\n",
      "From: kiwi clive <kiwi_clive@yahoo.com>\n",
      "From: \"Jack Krupansky\" <jack@basetechnology.com>\n",
      "From: kiwi clive\n",
      "From: Ian Lea <ian.lea@gmail.com>\n",
      "> -----Original Message----- From: kiwi clive\n",
      "DKIM-Signature: v=1; a=rsa-sha256; c=relaxed/relaxed; d=yahoo.com; s=s1024; t=1351099646; bh=QOZiNNaFY4VnOneSpKJoWlEdek4Bm45IzT5qQNVrpWM=; h=X-YMail-OSG:Received:X-Rocket-MIMEInfo:X-Mailer:References:Message-ID:Date:From:Reply-To:Subject:To:In-Reply-To:MIME-Version:Content-Type; b=SWlug3YDbBmhoBPi74eFjwwvbKhga4IJRHFPNfB7Yi68n/q26VOglQS/hKMw1iBGKHmvnx8Tudqx8LL7C6oLtwq7V9DR47/i8F4tarWKei88Tf2NJvgldMeCBwyrGZ5/GahJ5j9dDM0PFppBCxBKi9B/X8WJycv13X4aIZICVnQ=\n",
      "  h=X-YMail-OSG:Received:X-Rocket-MIMEInfo:X-Mailer:References:Message-ID:Date:From:Reply-To:Subject:To:In-Reply-To:MIME-Version:Content-Type;\n",
      "From: kiwi clive <kiwi_clive@yahoo.com>\n",
      "=0A=0A=0A=0A=0A=0A________________________________=0A From: Ian Lea <ian.le=\n",
      "=0A> -----Original Message----- From: kiwi clive=0A> Sent: Wednesday, Octob=\n",
      "DKIM-Signature: v=1; a=rsa-sha256; c=relaxed/relaxed; d=yahoo.com.mx; s=s1024; t=1351101356; bh=FxHG5IVvAsxSE/Jz5rGmTHZ/LYYexbKDpx12eA76atE=; h=X-YMail-OSG:Received:X-Rocket-MIMEInfo:X-Mailer:References:Message-ID:Date:From:Reply-To:Subject:To:In-Reply-To:MIME-Version:Content-Type; b=orcBNdMnH49XL8Yc9gD1i6oXi/XEQfPvg9mOZpyHANiY2W8b/gsCSsdM10gsM9rysPc3DfTTGy71iCTanI8Becm4/tup+2H5ZpjMZG+tR6s7eil9JKUPUwq+4KR2FpQx1KCKdHZfwQI0fxVGGaYSjVO4DNyLFctto92NpG9lKD0=\n",
      "  h=X-YMail-OSG:Received:X-Rocket-MIMEInfo:X-Mailer:References:Message-ID:Date:From:Reply-To:Subject:To:In-Reply-To:MIME-Version:Content-Type;\n",
      "From: Carlos de Luna Saenz <cdelunasaenz@yahoo.com.mx>\n",
      "From: Ian Lea <ian.lea@gmail.com>\n",
      "From: Siraj Haider <siraj@jobdiva.com>\n",
      "From: Siraj Haider [mailto:siraj@jobdiva.com]\n",
      "From: selvakumar netaji [mailto:vvekselva.gm@gmail.com]\n",
      "> From: Simon Willnauer [mailto:simon.willnauer@gmail.com]\n",
      "From: \"Jack Krupansky\" <jack@basetechnology.com>\n",
      "From: kiwi clive\n",
      "From: Ian Lea <ian.lea@gmail.com>\n",
      "> -----Original Message----- From: kiwi clive\n",
      "From: \"Jack Krupansky\" <jack@basetechnology.com>\n",
      "From: Jack Krupansky\n",
      "From: kiwi clive\n",
      "From: Ian Lea <ian.lea@gmail.com>\n",
      "> -----Original Message----- From: kiwi clive\n",
      "DKIM-Signature: v=1; a=rsa-sha256; c=relaxed/relaxed; d=yahoo.com.mx; s=s1024; t=1351111792; bh=XD3m4lMOAvjnHykUaJW/p4ce2JE/T5kCS8HEHlt8FHE=; h=X-YMail-OSG:Received:X-Rocket-MIMEInfo:X-Mailer:References:Message-ID:Date:From:Reply-To:Subject:To:In-Reply-To:MIME-Version:Content-Type; b=dWx4sVYkxIf6s3nCguBhbMsa04FSTYC+Cff9u1hdKiktUKrZYWzn+uCnyycnCgLM9gFyoRVMBOQD0echvo/ORwUqIrXuBXzx4GzhoaPBEURzTfzOmMDnn8YNCA4n65o4kSutSyuiYceS+PH5YdJz6c9LhLuOTYIM5GexndCMuc4=\n",
      "  h=X-YMail-OSG:Received:X-Rocket-MIMEInfo:X-Mailer:References:Message-ID:Date:From:Reply-To:Subject:To:In-Reply-To:MIME-Version:Content-Type;\n",
      "From: Carlos de Luna Saenz <cdelunasaenz@yahoo.com.mx>\n",
      "From: Steve Rowe <sarowe@gmail.com>\n",
      "> -----Original Message----- From: kiwi clive\n",
      "> From: Ian Lea <ian.lea@gmail.com>\n",
      ">> -----Original Message----- From: kiwi clive\n",
      "From: Vitaly Funstein <vfunstein@gmail.com>\n",
      "From: Raghavan Parthasarathy <raghavan8585@gmail.com>\n",
      "From: Erick Erickson <erickerickson@gmail.com>\n",
      "From: selvakumar netaji <vvekselva.gm@gmail.com>\n",
      "> From: Siraj Haider [mailto:siraj@jobdiva.com]\n",
      "> From: selvakumar netaji [mailto:vvekselva.gm@gmail.com]\n",
      "> > From: Simon Willnauer [mailto:simon.willnauer@gmail.com]\n",
      "DKIM-Signature: v=1; a=rsa-sha256; c=relaxed/relaxed; d=yahoo.com; s=s1024; t=1351156266; bh=OCGNlBtVv01m58I27x3zaREE6evsjtAd79lsslUBtvw=; h=X-YMail-OSG:Received:X-Rocket-MIMEInfo:X-Mailer:References:Message-ID:Date:From:Reply-To:Subject:To:In-Reply-To:MIME-Version:Content-Type; b=2tZyQImZ0hB9t30RaPDw8PFiFbiO3g/fDxRYRNcqitIwp7DKtUrtVyCpSRgiY+p3NfYE2238B1yeLWZpGU9FlPPEzCKQKw30wxgCNbqWm5rVYUaZEYDYdkQvaGaRk8mwm/99lgmpFzUlBKIKaw+FvwFLZ5/3qTQA8JiUdqsAsZA=\n",
      "  h=X-YMail-OSG:Received:X-Rocket-MIMEInfo:X-Mailer:References:Message-ID:Date:From:Reply-To:Subject:To:In-Reply-To:MIME-Version:Content-Type;\n",
      "From: kiwi clive <kiwi_clive@yahoo.com>\n",
      "From: Ravikumar Govindarajan <ravikumar.govindarajan@gmail.com>\n",
      "From: Paul Taylor <paul_t100@fastmail.fm>\n",
      "From: rajputadesh <rajputadesh@gmail.com>\n",
      "From: Ian Lea <ian.lea@gmail.com>\n",
      "DKIM-Signature: v=1; a=rsa-sha256; c=relaxed/relaxed; d=yahoo.com; s=s1024; t=1351171597; bh=XhEayJbcHcPc6ndhC9rHL+MLZphT0BwxNEsCZzOyvyM=; h=X-YMail-OSG:Received:X-Rocket-MIMEInfo:X-Mailer:Message-ID:Date:From:Reply-To:Subject:To:MIME-Version:Content-Type; b=s25+XjCBY6B+g1eUJKeHDTbD5W33nRYPr8mIiO8X/p7OEYwidBUbdYn0gpfmcNoaQBT7eESaIkqdIJ+O8wQClWTGSbZoAY4UBfwblF8OxL7W7qs/tQm5hK2PwNlkBw756uaNaxc+KWW7qZJz22rgWmohpTUTVErem3Rr0xtQdPY=\n",
      "  h=X-YMail-OSG:Received:X-Rocket-MIMEInfo:X-Mailer:Message-ID:Date:From:Reply-To:Subject:To:MIME-Version:Content-Type;\n",
      "From: Willi Haase <willi_haase@yahoo.com>\n",
      "From: Ivan Vasilev <ivasilev@sirma.bg>\n",
      "From: Ian Lea <ian.lea@gmail.com>\n",
      "From: Robert Muir <rcmuir@gmail.com>\n",
      "From: Ian Lea <ian.lea@gmail.com>\n",
      "From: \"Jack Krupansky\" <jack@basetechnology.com>\n",
      "From: Paul Taylor\n",
      "From: \"Jack Krupansky\" <jack@basetechnology.com>\n",
      "From: Ravikumar Govindarajan\n",
      "From: \"Jack Krupansky\" <jack@basetechnology.com>\n",
      "From: Willi Haase\n",
      "From: Ivan Vasilev <ivasilev@sirma.bg>\n",
      "DKIM-Signature: v=1; a=rsa-sha256; c=relaxed/relaxed; d=yahoo.com; s=s1024; t=1351180752; bh=goLwj+vC67X8gO9tSp9ENm8ZFkTV88brR/zvb86T4vk=; h=X-YMail-OSG:Received:X-Rocket-MIMEInfo:X-Mailer:References:Message-ID:Date:From:Reply-To:Subject:To:In-Reply-To:MIME-Version:Content-Type; b=hlGDxs6tk/g3UruZjAq+oTYnALWqyTGW8RrFC/9oZo9alGZN50iQNSAe/gWCpbpdCJycKWWV5kVzYH0AFCEw0LnEf5v0ga1dY3hwfQEy5suBvjLt80Fob1jmCg4g2qclJ5TYuvjPQU6rKYNS5FadlydQ7XP70r46FT9hPC/2PvI=\n",
      "  h=X-YMail-OSG:Received:X-Rocket-MIMEInfo:X-Mailer:References:Message-ID:Date:From:Reply-To:Subject:To:In-Reply-To:MIME-Version:Content-Type;\n",
      "From: Willi Haase <willi_haase@yahoo.com>\n",
      "inal Message----- From: Willi Haase=0ASent: Thursday, October 25, 2012 9:26=\n",
      "From: \"Jack Krupansky\" <jack@basetechnology.com>\n",
      "From: Willi Haase\n",
      "-----Original Message----- From: Willi Haase\n",
      "From: Chris Hostetter <hossman_lucene@fucit.org>\n",
      "From: Robert Muir <rcmuir@gmail.com>\n",
      "From: Vitaly Funstein <vfunstein@gmail.com>\n",
      "> >> From: Tim Eck [mailto:timeck@gmail.com]\n",
      "> >> From: Uwe Schindler [mailto:uwe@thetaphi.de]\n",
      "> >> > From: Tim Eck [mailto:teck@terracottatech.com]\n",
      "From: \"Jack Krupansky\" <jack@basetechnology.com>\n",
      "From: Vitaly Funstein\n",
      "> >> From: Tim Eck [mailto:timeck@gmail.com]\n",
      "> >> From: Uwe Schindler [mailto:uwe@thetaphi.de]\n",
      "> >> > From: Tim Eck [mailto:teck@terracottatech.com]\n",
      "From: Vitaly Funstein <vfunstein@gmail.com>\n",
      "> -----Original Message----- From: Vitaly Funstein\n",
      ">> >> From: Tim Eck [mailto:timeck@gmail.com]\n",
      ">> >> From: Uwe Schindler [mailto:uwe@thetaphi.de]\n",
      ">> >> > From: Tim Eck [mailto:teck@terracottatech.**com<teck@terracottatech.com>\n",
      "From: \"Jack Krupansky\" <jack@basetechnology.com>\n",
      "From: Vitaly Funstein\n",
      "> -----Original Message----- From: Vitaly Funstein\n",
      ">> >> From: Tim Eck [mailto:timeck@gmail.com]\n",
      ">> >> From: Uwe Schindler [mailto:uwe@thetaphi.de]\n",
      ">> >> > From: Tim Eck\n",
      "DKIM-Signature: v=1; a=rsa-sha256; c=relaxed/relaxed; d=yahoo.com; s=s1024; t=1351243784; bh=YPv8Wmll8pvKhrAXWxxoDD0BEspXaYtAywmsDt8mYtQ=; h=X-YMail-OSG:Received:X-Rocket-MIMEInfo:X-Mailer:References:Message-ID:Date:From:Reply-To:Subject:To:In-Reply-To:MIME-Version:Content-Type; b=0oeBCi+oR+M/Vup/aOsLxhtmzF+m6ZOY6D02FQWrhRKWNSOvboUqpLw5GxIg0EzG2pF79LRBO0uKisVUtaOskKm4PoM0LVzrXxjIhrhvPhuImI/5ZS9mKuSrT81uh+mQta2JL2byBl8VQbzR+yTC1422WFW/hdbNlG9M2ZENTh8=\n",
      "  h=X-YMail-OSG:Received:X-Rocket-MIMEInfo:X-Mailer:References:Message-ID:Date:From:Reply-To:Subject:To:In-Reply-To:MIME-Version:Content-Type;\n",
      "From: Willi Haase <willi_haase@yahoo.com>\n",
      "DKIM-Signature: v=1; a=rsa-sha256; c=relaxed/relaxed; d=yahoo.com; s=s1024; t=1351248140; bh=pTyvXnHEPasKulRGPUA3k8OiDM8Px3uecgavD/i/hEY=; h=X-YMail-OSG:Received:X-Rocket-MIMEInfo:X-Mailer:References:Message-ID:Date:From:Reply-To:Subject:To:In-Reply-To:MIME-Version:Content-Type; b=Jfvlbnvwb5mUDHYb8O83anYrLqPJ+0e59lek4AC5bQczXVWtuEDzKe5AEkAWe7WZpG3s7EbntXDczAS6efzQJiMDm8Zu41v59XFgtQiQobVgAnT4dyXuvjVvYkkI6nRjoz9X/6th3f2TrES3AxJMo+b8gUAkL19CYcZsn/V/iiE=\n",
      "  h=X-YMail-OSG:Received:X-Rocket-MIMEInfo:X-Mailer:References:Message-ID:Date:From:Reply-To:Subject:To:In-Reply-To:MIME-Version:Content-Type;\n",
      "From: Willi Haase <willi_haase@yahoo.com>\n",
      "ht now.=0A=0A-- Jack Krupansky=0A-----Original Message----- From: Willi Haa=\n",
      "From: Ivan Vasilev <ivasilev@sirma.bg>\n",
      "From: Robert Muir <rcmuir@gmail.com>\n",
      "From: Ivan Vasilev <ivasilev@sirma.bg>\n",
      "DKIM-Signature: v=1; a=rsa-sha256; c=relaxed/relaxed; d=yahoo.com; s=s1024; t=1351273805; bh=gLvbhzGQJMkZpCAXI50vE9AvyFECUxQLP3ujC8Mnsck=; h=X-YMail-OSG:Received:X-Rocket-MIMEInfo:X-Mailer:Message-ID:Date:From:Reply-To:Subject:To:MIME-Version:Content-Type; b=A4ZxX5sYBYLDF3IxeI2aXEXN3goOst6PZGfqzrxVP7otxhI3wot/N6ncLjdjcbeQ4yYJ5SXFEhQvbhl0nVJw5wpyMoSd6lWbr6MkhRMJ7yMo8zS3R1T2oFfsqIb6u+19Hde+SBMve8WY6Oxq9E2SfM+LHWa1gz6h53O4jE1WHXQ=\n",
      "  h=X-YMail-OSG:Received:X-Rocket-MIMEInfo:X-Mailer:Message-ID:Date:From:Reply-To:Subject:To:MIME-Version:Content-Type;\n",
      "From: kiwi clive <kiwi_clive@yahoo.com>\n",
      "From: Vitaly Funstein <vfunstein@gmail.com>\n",
      "DKIM-Signature: v=1; a=rsa-sha256; c=relaxed/relaxed; d=yahoo.com; s=s1024; t=1351283260; bh=u34rqMA6nK4HjHgfFI5Wfr2sxGK33tUNCjaFb8npF5U=; h=X-YMail-OSG:Received:X-Rocket-MIMEInfo:X-Mailer:References:Message-ID:Date:From:Reply-To:Subject:To:In-Reply-To:MIME-Version:Content-Type; b=nCzJQS/GS4s6HKaeki7ydyoPh2iHUJ2go03J/RvEGL4FTY1eCWBLw1lu5xPvnFwNZOpv5nBvm2LeREE7UiNVm1l4Vkg8l2HmJgDdISTLFD+FdJOpT/e0m3y9OY6OjNBvoWU1FCXvoxeLTJ3wmOGxQib0qYQIsdRjoGsoE6xeCSg=\n",
      "  h=X-YMail-OSG:Received:X-Rocket-MIMEInfo:X-Mailer:References:Message-ID:Date:From:Reply-To:Subject:To:In-Reply-To:MIME-Version:Content-Type;\n",
      "From: kiwi clive <kiwi_clive@yahoo.com>\n",
      " From: Vitaly Funstein <vfunstein@gmail.com>\n",
      "From: Brandon Mintern <mintern@easyesi.com>\n",
      "From: Scott Smith <ssmith@mainstreamdata.com>\n",
      "DKIM-Signature: v=1; a=rsa-sha256; c=relaxed/relaxed; d=yahoo.fr; s=s1024; t=1351295258; bh=eP7r9PuHbqs6VD1fYiTMIjlCasZCvTO8TKxZ/i7LolA=; h=X-Yahoo-Newman-Id:X-Yahoo-Newman-Property:X-YMail-OSG:X-Yahoo-SMTP:Received:Received:X-Google-DKIM-Signature:Received:MIME-Version:Received:In-Reply-To:References:From:Date:Message-ID:Subject:To:Content-Type:X-Gm-Message-State; b=x4lABURNBW6KpLm+QUKkmUfkMN1/fqqgHAjUarEH23ezrnnrjhrFWhl5rvjHwFXvUX+oFsS2OyFFNGnH9nf0Mm2x5tNOUZ/KydyBjrR3ptI4Lru5ned39yjE64Ekf6uzAAcUqO7b+56oBXHMzXAJ1u4PgJt6cPee2wlbML/zWL4=\n",
      "From: Mossaab Bagdouri <bagdouri_mossaab@yahoo.fr>\n",
      "From: Scott Smith <ssmith@mainstreamdata.com>\n",
      "From: \"Jack Krupansky\" <jack@basetechnology.com>\n",
      "From: Scott Smith\n",
      "From: Tom <fivemiletom@gmail.com>\n",
      "From: Trejkaz <trejkaz@trypticon.org>\n",
      "From: Tom <fivemiletom@gmail.com>\n",
      "DKIM-Signature: v=1; a=rsa-sha256; c=relaxed/relaxed; d=yahoo.com; s=s1024; t=1351367074; bh=1mmwGTXCKp1O183BbDg/d+saWS/ti9tXaNnhOfjzUDw=; h=X-YMail-OSG:Received:X-Rocket-MIMEInfo:X-Mailer:Message-ID:Date:From:Reply-To:Subject:To:MIME-Version:Content-Type; b=sm7pSxHKPhCtyoiafbzVcRf+F0RoWOkQc33ajLmsyN5QYQ3Ywqc/vM7I2hl7Zeh/N/caDOxeaU6ca1nqHqJXob/3BKOpGdeorjgjnQktE9ufmuSWML1wHNrxmBEu9C4yyk50r+iCtiO0EoMh7h/1jtnv3sxNFfAINpnuDo7K9Yg=\n",
      "  h=X-YMail-OSG:Received:X-Rocket-MIMEInfo:X-Mailer:Message-ID:Date:From:Reply-To:Subject:To:MIME-Version:Content-Type;\n",
      "From: kiwi clive <kiwi_clive@yahoo.com>\n",
      "From: Paul Libbrecht <paul@hoplahup.net>\n",
      "From: Martijn v Groningen <martijn.v.groningen@gmail.com>\n",
      "From: Lance Norskog <goksron@gmail.com>\n",
      "| From: \"Martijn v Groningen\" <martijn.v.groningen@gmail.com>\n",
      "From: Lance Norskog <goksron@gmail.com>\n",
      "| From: \"kiwi clive\" <kiwi_clive@yahoo.com>\n",
      "From: Aloke Ghoshal <alghoshal@gmail.com>\n",
      "From: Carsten Schnober <schnober@ids-mannheim.de>\n",
      "X-SA-Exim-Mail-From: schnober@ids-mannheim.de\n",
      "From: \"Jack Krupansky\" <jack@basetechnology.com>\n",
      "From: Aloke Ghoshal\n",
      "From: Siraj Haider <siraj@jobdiva.com>\n",
      "From: selvakumar netaji [mailto:vvekselva.gm@gmail.com]\n",
      "> From: Siraj Haider [mailto:siraj@jobdiva.com]\n",
      "> From: selvakumar netaji [mailto:vvekselva.gm@gmail.com]\n",
      "> > From: Simon Willnauer [mailto:simon.willnauer@gmail.com]\n",
      "From: Ivan Vasilev <ivasilev@sirma.bg>\n",
      "From: Simon Willnauer <simon.willnauer@gmail.com>\n",
      "From: Scott Smith <ssmith@mainstreamdata.com>\n",
      "From: Scott Smith <ssmith@mainstreamdata.com>\n",
      "From: Scott Smith <ssmith@mainstreamdata.com>\n",
      "From: Jack Krupansky [mailto:jack@basetechnology.com]=20\n",
      "From: Scott Smith\n",
      "DKIM-Signature: v=1; a=rsa-sha256; c=relaxed/relaxed; d=yahoo.com; s=s1024; t=1351542191; bh=YNz9d5xNCMb/pQ4ISBqjKq/3XEuaN7m9S0un+0t7o98=; h=X-YMail-OSG:Received:X-Rocket-MIMEInfo:X-Mailer:References:Message-ID:Date:From:Reply-To:Subject:To:In-Reply-To:MIME-Version:Content-Type; b=S5PWSm/1hzWzh62TqyYSeV3IzqsTpMg5zh6ViUp5UQ9PaDlKciB0Ffk9hZUJeSLiezbjxPY3zXyTQ3WKmdpN18xysXV5HBjYdmUAvloYxyxgMpKa2Aa6s6WFILZD9VbKe3O48hv5s3/2I5INs480Mp1AOrnJQ0uWCBwCpJVOWlI=\n",
      "  h=X-YMail-OSG:Received:X-Rocket-MIMEInfo:X-Mailer:References:Message-ID:Date:From:Reply-To:Subject:To:In-Reply-To:MIME-Version:Content-Type;\n",
      "From: kiwi clive <kiwi_clive@yahoo.com>\n",
      "=0A=0A----- Original Message -----=0A| From: \"kiwi clive\" <kiwi_clive@yahoo=\n",
      "From: Scott Smith <ssmith@mainstreamdata.com>\n",
      "From: Simon Willnauer <simon.willnauer@gmail.com>\n",
      "From: Ivan Vasilev <ivasilev@sirma.bg>\n",
      "From: Carsten Schnober <schnober@ids-mannheim.de>\n",
      "X-SA-Exim-Mail-From: schnober@ids-mannheim.de\n",
      "From: ViTi No <vitino_mr@hotmail.com>\n",
      "\ts=s110527; h=Received:Date:From:To:Subject:In-Reply-To:\n",
      "From: qibaoyuan  <qibaoyuan@126.com>\n",
      "From: \"Oliver Christ\" <ochrist@ebscohost.com>\n",
      "From: parnab kumar <parnab.2007@gmail.com>\n",
      "From: Michael McCandless <lucene@mikemccandless.com>\n",
      "From: Scott Smith <ssmith@mainstreamdata.com>\n",
      "From: Dawid Weiss <dawid.weiss@gmail.com>\n",
      "From: Michael McCandless <lucene@mikemccandless.com>\n",
      "From: ViTi No <vitino_mr@hotmail.com>\n",
      "From: superruiye <superruiye@gmail.com>\n",
      "From: \"Oliver Christ\" <ochrist@ebscohost.com>\n",
      "From: Michael McCandless [mailto:lucene@mikemccandless.com]=20\n",
      "From: Michael McCandless <lucene@mikemccandless.com>\n",
      "> From: Michael McCandless [mailto:lucene@mikemccandless.com]\n",
      "From: Michael McCandless <lucene@mikemccandless.com>\n",
      "From: Ivan Vasilev <ivasilev@sirma.bg>\n",
      "From: Michael McCandless <lucene@mikemccandless.com>\n",
      "From: Ivan Vasilev <ivasilev@sirma.bg>\n",
      "From: \"Uwe Schindler\" <uwe@thetaphi.de>\n",
      "> From: Michael McCandless [mailto:lucene@mikemccandless.com]\n",
      "From: \"Uwe Schindler\" <uwe@thetaphi.de>\n",
      "> From: Ivan Vasilev [mailto:ivasilev@sirma.bg]\n",
      "From: Michael McCandless <lucene@mikemccandless.com>\n",
      ">> From: Michael McCandless [mailto:lucene@mikemccandless.com]\n",
      "From: Ivan Vasilev <ivasilev@sirma.bg>\n",
      ">>> From: Michael McCandless [mailto:lucene@mikemccandless.com]\n",
      "From: Ivan Vasilev <ivasilev@sirma.bg>\n",
      "From: Michael McCandless <lucene@mikemccandless.com>\n",
      "From: Michael McCandless <lucene@mikemccandless.com>\n"
     ]
    }
   ],
   "source": [
    "hand = open('mbox.txt')\n",
    "\n",
    "for line in hand: \n",
    "    line = line.rstrip()\n",
    "    if line.find('From:') >= 0:\n",
    "        print(line)\n",
    "hand.close()"
   ]
  },
  {
   "cell_type": "code",
   "execution_count": 190,
   "metadata": {},
   "outputs": [
    {
     "name": "stdout",
     "output_type": "stream",
     "text": [
      "From: Cheng <zhoucheng2008@gmail.com>\n",
      "From: Selvakumar <vvekselva.gm@gmail.com>\n",
      "From: parnab kumar <parnab.2007@gmail.com>\n",
      "From: Selvakumar <vvekselva.gm@gmail.com>\n",
      "From: Michael McCandless <lucene@mikemccandless.com>\n",
      "From: Erick Erickson <erickerickson@gmail.com>\n",
      "From: Jochen Hebbrecht <jochenhebbrecht@gmail.com>\n",
      "From: \"Jack Krupansky\" <jack@basetechnology.com>\n",
      "From: Jochen Hebbrecht\n",
      "From: \"Jack Krupansky\" <jack@basetechnology.com>\n",
      "From: Jack Krupansky\n",
      "From: Jochen Hebbrecht\n",
      "From: Jochen Hebbrecht <jochenhebbrecht@gmail.com>\n",
      "> -----Original Message----- From: Jack Krupansky\n",
      "> -----Original Message----- From: Jochen Hebbrecht\n",
      "From: parnab kumar <parnab.2007@gmail.com>\n",
      "From: \"Jack Krupansky\" <jack@basetechnology.com>\n",
      "From: Jochen Hebbrecht\n",
      "> -----Original Message----- From: Jack Krupansky\n",
      "> -----Original Message----- From: Jochen Hebbrecht\n",
      "From: \"Jack Krupansky\" <jack@basetechnology.com>\n",
      "From: Jack Krupansky\n",
      "From: Jochen Hebbrecht\n",
      "> -----Original Message----- From: Jack Krupansky\n",
      "> -----Original Message----- From: Jochen Hebbrecht\n",
      "From: Jochen Hebbrecht <jochenhebbrecht@gmail.com>\n",
      "> -----Original Message----- From: Jack Krupansky\n",
      "> -----Original Message----- From: Jochen Hebbrecht\n",
      ">> -----Original Message----- From: Jack Krupansky\n",
      ">> -----Original Message----- From: Jochen Hebbrecht\n",
      "From: Jong Kim <jong.lucene@gmail.com>\n",
      "From: Vitaly Funstein <vfunstein@gmail.com>\n",
      "From: Ian Lea <ian.lea@gmail.com>\n",
      "From: Paul Libbrecht <paul@hoplahup.net>\n",
      "From: Jong Kim <jong.lucene@gmail.com>\n",
      "From: Paul Libbrecht <paul@hoplahup.net>\n",
      "From: Ian Lea <ian.lea@gmail.com>\n",
      "From: \"Uwe Schindler\" <uwe@thetaphi.de>\n",
      "> From: Paul Libbrecht [mailto:paul@hoplahup.net]\n",
      "From: Jong Kim <jong.lucene@gmail.com>\n",
      "From: Jong Kim <jong.lucene@gmail.com>\n",
      "From: Jong Kim <jong.lucene@gmail.com>\n",
      "> > From: Paul Libbrecht [mailto:paul@hoplahup.net]\n",
      "From: Tommaso Teofili <tommaso.teofili@gmail.com>\n",
      "From: \"Nader, John P\" <john.nader@cengage.com>\n",
      "From: Jong Kim <jong.lucene@gmail.com>\n",
      "From: Jong Kim <jong.lucene@gmail.com>\n",
      "From: \"Uwe Schindler\" <uwe@thetaphi.de>\n",
      "> From: Jong Kim [mailto:jong.lucene@gmail.com]\n",
      "From: =?utf-8?Q?Markus_Jelsma?= <markus.jelsma@openindex.io>\n",
      "From: =?utf-8?Q?Markus_Jelsma?= <markus.jelsma@openindex.io>\n",
      "> From:Markus Jelsma <markus.jelsma@openindex.io>\n",
      "From: Thomas Matthijs <lists@selckin.be>\n",
      ">> From:Markus Jelsma <markus.jelsma@openindex.io>\n",
      "From: vempap <phani.vempaty@emc.com>\n",
      "From: Steven A Rowe <sarowe@syr.edu>\n",
      "From: vempap [mailto:phani.vempaty@emc.com]=20\n",
      "From: vempap <phani.vempaty@emc.com>\n",
      "From: =?utf-8?Q?Markus_Jelsma?= <markus.jelsma@openindex.io>\n",
      "> From:Thomas Matthijs <lists@selckin.be>\n",
      "> >> From:Markus Jelsma <markus.jelsma@openindex.io>\n",
      "From: selvakumar netaji <vvekselva.gm@gmail.com>\n",
      "From: selvakumar netaji <vvekselva.gm@gmail.com>\n",
      "From: selvakumar netaji <vvekselva.gm@gmail.com>\n",
      "From: Sachin Kulkarni <kulksac@hawk.iit.edu>\n",
      "From: selvakumar netaji <vvekselva.gm@gmail.com>\n",
      "From: Thomas Matthijs <lists@selckin.be>\n",
      "From: \"Uwe Schindler\" <uwe@thetaphi.de>\n",
      "> From: Thomas Matthijs [mailto:lists@selckin.be]\n",
      "From: Thomas Matthijs <lists@selckin.be>\n",
      "From: Michael McCandless <lucene@mikemccandless.com>\n",
      "From: Michael McCandless <lucene@mikemccandless.com>\n",
      "From: Thomas Matthijs <lists@selckin.be>\n",
      "From: Thomas Matthijs <lists@selckin.be>\n",
      "From: selvakumar netaji <vvekselva.gm@gmail.com>\n",
      "From: \"Uwe Schindler\" <uwe@thetaphi.de>\n",
      "From: Andrzej Bialecki <ab@getopt.org>\n",
      "From: Michael McCandless <lucene@mikemccandless.com>\n",
      "From: selvakumar netaji <vvekselva.gm@gmail.com>\n",
      "From: Sachin Kulkarni <kulksac@hawk.iit.edu>\n",
      "From: parnab kumar <parnab.2007@gmail.com>\n",
      "From: Alan Woodward <alan.woodward@romseysoftware.co.uk>\n",
      "From: Vitaly Funstein <vfunstein@gmail.com>\n",
      "From: rajputadesh <rajputadesh@gmail.com>\n",
      "From: =?utf-8?Q?Rafa=C5=82_Ku=C4=87?= <r.kuc@solr.pl>\n",
      "From: Richard Marr <richard.marr@gmail.com>\n",
      "From: Robert Muir <rmuir@apache.org>\n",
      "From: Arjen van der Meijden <acmmailing@tweakers.net>\n",
      "From: \"Uwe Schindler\" <uwe@thetaphi.de>\n",
      "> From: Arjen van der Meijden [mailto:acmmailing@tweakers.net]\n",
      "From: \"Zeynep P.\" <zpvie@yahoo.com>\n",
      "From: emmanuel Gosse <emmanuel.gosse@gmail.com>\n",
      "From: Simon Willnauer <simon.willnauer@gmail.com>\n",
      "DKIM-Signature: v=1; a=rsa-sha256; c=relaxed/relaxed; d=yahoo.com; s=s1024; t=1350371333; bh=4mXg2tXV53J603ha81o1ehRuYs981A2B6f279LGCAFc=; h=X-YMail-OSG:Received:X-Rocket-MIMEInfo:X-Mailer:Message-ID:Date:From:Reply-To:Subject:To:MIME-Version:Content-Type; b=pOCE+nnQITai4Qoh2uMPvSisnJGreFuf+fGIXYxuZsclSpiMRhRt9S75zEKFGv9fbFYkz5KcInygMjW6vn8rNOUxwe2j0zUuukpEh4UBPcRvS5WuooP3VpcmDOpX5CBaNzQ8Tc/mHffNusWevudfwp6TbI0rA0R+0uUQntdrOZY=\n",
      "  h=X-YMail-OSG:Received:X-Rocket-MIMEInfo:X-Mailer:Message-ID:Date:From:Reply-To:Subject:To:MIME-Version:Content-Type;\n",
      "From: Cool The Breezer <techcool.kumar@yahoo.com>\n",
      "From: sxam <sxamt@yahoo.com>\n",
      "From: Richard Marr <richard.marr@gmail.com>\n",
      "From: Hans Lund <ha.lund@gmail.com>\n",
      "From: Erick Erickson <erickerickson@gmail.com>\n",
      "From: Apostolis Xekoukoulotakis <xekoukou@gmail.com>\n",
      "From: Erick Erickson <erickerickson@gmail.com>\n",
      "From: Deepak Shakya <justdpk@gmail.com>\n",
      "From: Ian Lea <ian.lea@gmail.com>\n",
      "From: Deepak Shakya <justdpk@gmail.com>\n",
      "From: Ian Lea <ian.lea@gmail.com>\n",
      "From: Deepak Shakya <justdpk@gmail.com>\n",
      "From: \"Zeynep P.\" <zpvie@yahoo.com>\n",
      "From: sxam <sxamt@yahoo.com>\n",
      "From: Robert Muir <rcmuir@gmail.com>\n",
      "From: Ian Lea <ian.lea@gmail.com>\n",
      "From: \"shawn@sriusa.com\" <shawn@sriusa.com>\n",
      "From: =?ISO-8859-1?Q?Dawn_Zo=EB_Raison?= <dawn@digitorial.co.uk>\n",
      "From: Jain Rahul <jainr@ivycomptech.com>\n",
      "From: Jason Rutherglen <jason.rutherglen@gmail.com>\n",
      "From: Divya Arunachalam <divarun@gmail.com>\n",
      "From: manigg <manishgarg28@gmail.com>\n",
      "From: Richard Marr <richard.marr@gmail.com>\n",
      "From: \"sagar.gole8\" <sagar.gole8@gmail.com>\n",
      "From: Aditya <findbestopensource@gmail.com>\n",
      "From: sxam <sxamt@yahoo.com>\n",
      "From: Pierre-Francois Marteau <pierre-francois.marteau@univ-ubs.fr>\n",
      "From: \"sagar.gole8\" <sagar.gole8@gmail.com>\n",
      "From: Ian Lea <ian.lea@gmail.com>\n",
      "From: Ian Lea <ian.lea@gmail.com>\n",
      "From: sxam <sxamt@yahoo.com>\n",
      "From: =?utf-8?Q?Rafa=C5=82_Ku=C4=87?= <r.kuc@solr.pl>\n",
      "From: Ian Lea <ian.lea@gmail.com>\n",
      "From: sxam <sxamt@yahoo.com>\n",
      "From: Shaya Potter <spotter@gmail.com>\n",
      "From: Apostolis Xekoukoulotakis <xekoukou@gmail.com>\n",
      "From: Shaya Potter <spotter@gmail.com>\n",
      "From: Apostolis Xekoukoulotakis <xekoukou@gmail.com>\n",
      "From: =?utf-8?Q?Rafa=C5=82_Ku=C4=87?= <r.kuc@solr.pl>\n",
      "From: \"Jack Krupansky\" <jack@basetechnology.com>\n",
      "From: Shaya Potter\n",
      "From: Siraj Haider <siraj@jobdiva.com>\n",
      "From: Simon Willnauer <simon.willnauer@gmail.com>\n",
      "From: Siraj Haider <siraj@jobdiva.com>\n",
      "From: selvakumar netaji <vvekselva.gm@gmail.com>\n",
      "> From: Simon Willnauer [mailto:simon.willnauer@gmail.com]\n",
      "From: Maximiliano Keen <mkeen@scotas.com>\n",
      "From: Petite Abeille <petite_abeille@me.com>\n",
      "From: Raghavan Parthasarathy <raghavan8585@gmail.com>\n",
      "From: Maximiliano Keen <mkeen@scotas.com>\n",
      "From: Siraj Haider <siraj@jobdiva.com>\n",
      "From: selvakumar netaji [mailto:vvekselva.gm@gmail.com]\n",
      "> From: Simon Willnauer [mailto:simon.willnauer@gmail.com]\n",
      "From: Scott Smith <ssmith@mainstreamdata.com>\n",
      "From: Michael Sokolov <sokolov@ifactory.com>\n",
      "DKIM-Signature: v=1; a=rsa-sha256; c=relaxed/relaxed; d=yahoo.com; s=s1024; t=1351075331; bh=pLYsKBYYjBWWcp780ytYV23UEHWcBnxvcuLL1jTCHGs=; h=X-YMail-OSG:Received:X-Rocket-MIMEInfo:X-Mailer:Message-ID:Date:From:Reply-To:Subject:To:MIME-Version:Content-Type; b=3N2Zp+t1uD2AMenavkJpWtvNHUyHBHYfhNlCchdIrHJZCWLK8+a0c4tEZTUCSOHby8VmQ1AIyJeoP1xDbhWUsDLAognaeBok0kcwRcor34R7QltlWEaOU9UFTBL83e0pjEDaGaT2mnc2SCjid/6NaxNCzW/iBgm4vDsHAAG4noA=\n",
      "  h=X-YMail-OSG:Received:X-Rocket-MIMEInfo:X-Mailer:Message-ID:Date:From:Reply-To:Subject:To:MIME-Version:Content-Type;\n",
      "From: kiwi clive <kiwi_clive@yahoo.com>\n",
      "From: \"Jack Krupansky\" <jack@basetechnology.com>\n",
      "From: kiwi clive\n",
      "From: Ian Lea <ian.lea@gmail.com>\n",
      "> -----Original Message----- From: kiwi clive\n",
      "DKIM-Signature: v=1; a=rsa-sha256; c=relaxed/relaxed; d=yahoo.com; s=s1024; t=1351099646; bh=QOZiNNaFY4VnOneSpKJoWlEdek4Bm45IzT5qQNVrpWM=; h=X-YMail-OSG:Received:X-Rocket-MIMEInfo:X-Mailer:References:Message-ID:Date:From:Reply-To:Subject:To:In-Reply-To:MIME-Version:Content-Type; b=SWlug3YDbBmhoBPi74eFjwwvbKhga4IJRHFPNfB7Yi68n/q26VOglQS/hKMw1iBGKHmvnx8Tudqx8LL7C6oLtwq7V9DR47/i8F4tarWKei88Tf2NJvgldMeCBwyrGZ5/GahJ5j9dDM0PFppBCxBKi9B/X8WJycv13X4aIZICVnQ=\n",
      "  h=X-YMail-OSG:Received:X-Rocket-MIMEInfo:X-Mailer:References:Message-ID:Date:From:Reply-To:Subject:To:In-Reply-To:MIME-Version:Content-Type;\n",
      "From: kiwi clive <kiwi_clive@yahoo.com>\n",
      "=0A=0A=0A=0A=0A=0A________________________________=0A From: Ian Lea <ian.le=\n",
      "=0A> -----Original Message----- From: kiwi clive=0A> Sent: Wednesday, Octob=\n",
      "DKIM-Signature: v=1; a=rsa-sha256; c=relaxed/relaxed; d=yahoo.com.mx; s=s1024; t=1351101356; bh=FxHG5IVvAsxSE/Jz5rGmTHZ/LYYexbKDpx12eA76atE=; h=X-YMail-OSG:Received:X-Rocket-MIMEInfo:X-Mailer:References:Message-ID:Date:From:Reply-To:Subject:To:In-Reply-To:MIME-Version:Content-Type; b=orcBNdMnH49XL8Yc9gD1i6oXi/XEQfPvg9mOZpyHANiY2W8b/gsCSsdM10gsM9rysPc3DfTTGy71iCTanI8Becm4/tup+2H5ZpjMZG+tR6s7eil9JKUPUwq+4KR2FpQx1KCKdHZfwQI0fxVGGaYSjVO4DNyLFctto92NpG9lKD0=\n",
      "  h=X-YMail-OSG:Received:X-Rocket-MIMEInfo:X-Mailer:References:Message-ID:Date:From:Reply-To:Subject:To:In-Reply-To:MIME-Version:Content-Type;\n",
      "From: Carlos de Luna Saenz <cdelunasaenz@yahoo.com.mx>\n",
      "From: Ian Lea <ian.lea@gmail.com>\n",
      "From: Siraj Haider <siraj@jobdiva.com>\n",
      "From: Siraj Haider [mailto:siraj@jobdiva.com]\n",
      "From: selvakumar netaji [mailto:vvekselva.gm@gmail.com]\n",
      "> From: Simon Willnauer [mailto:simon.willnauer@gmail.com]\n",
      "From: \"Jack Krupansky\" <jack@basetechnology.com>\n",
      "From: kiwi clive\n",
      "From: Ian Lea <ian.lea@gmail.com>\n",
      "> -----Original Message----- From: kiwi clive\n",
      "From: \"Jack Krupansky\" <jack@basetechnology.com>\n",
      "From: Jack Krupansky\n",
      "From: kiwi clive\n",
      "From: Ian Lea <ian.lea@gmail.com>\n",
      "> -----Original Message----- From: kiwi clive\n",
      "DKIM-Signature: v=1; a=rsa-sha256; c=relaxed/relaxed; d=yahoo.com.mx; s=s1024; t=1351111792; bh=XD3m4lMOAvjnHykUaJW/p4ce2JE/T5kCS8HEHlt8FHE=; h=X-YMail-OSG:Received:X-Rocket-MIMEInfo:X-Mailer:References:Message-ID:Date:From:Reply-To:Subject:To:In-Reply-To:MIME-Version:Content-Type; b=dWx4sVYkxIf6s3nCguBhbMsa04FSTYC+Cff9u1hdKiktUKrZYWzn+uCnyycnCgLM9gFyoRVMBOQD0echvo/ORwUqIrXuBXzx4GzhoaPBEURzTfzOmMDnn8YNCA4n65o4kSutSyuiYceS+PH5YdJz6c9LhLuOTYIM5GexndCMuc4=\n",
      "  h=X-YMail-OSG:Received:X-Rocket-MIMEInfo:X-Mailer:References:Message-ID:Date:From:Reply-To:Subject:To:In-Reply-To:MIME-Version:Content-Type;\n",
      "From: Carlos de Luna Saenz <cdelunasaenz@yahoo.com.mx>\n",
      "From: Steve Rowe <sarowe@gmail.com>\n",
      "> -----Original Message----- From: kiwi clive\n",
      "> From: Ian Lea <ian.lea@gmail.com>\n",
      ">> -----Original Message----- From: kiwi clive\n",
      "From: Vitaly Funstein <vfunstein@gmail.com>\n",
      "From: Raghavan Parthasarathy <raghavan8585@gmail.com>\n",
      "From: Erick Erickson <erickerickson@gmail.com>\n",
      "From: selvakumar netaji <vvekselva.gm@gmail.com>\n",
      "> From: Siraj Haider [mailto:siraj@jobdiva.com]\n",
      "> From: selvakumar netaji [mailto:vvekselva.gm@gmail.com]\n",
      "> > From: Simon Willnauer [mailto:simon.willnauer@gmail.com]\n",
      "DKIM-Signature: v=1; a=rsa-sha256; c=relaxed/relaxed; d=yahoo.com; s=s1024; t=1351156266; bh=OCGNlBtVv01m58I27x3zaREE6evsjtAd79lsslUBtvw=; h=X-YMail-OSG:Received:X-Rocket-MIMEInfo:X-Mailer:References:Message-ID:Date:From:Reply-To:Subject:To:In-Reply-To:MIME-Version:Content-Type; b=2tZyQImZ0hB9t30RaPDw8PFiFbiO3g/fDxRYRNcqitIwp7DKtUrtVyCpSRgiY+p3NfYE2238B1yeLWZpGU9FlPPEzCKQKw30wxgCNbqWm5rVYUaZEYDYdkQvaGaRk8mwm/99lgmpFzUlBKIKaw+FvwFLZ5/3qTQA8JiUdqsAsZA=\n",
      "  h=X-YMail-OSG:Received:X-Rocket-MIMEInfo:X-Mailer:References:Message-ID:Date:From:Reply-To:Subject:To:In-Reply-To:MIME-Version:Content-Type;\n",
      "From: kiwi clive <kiwi_clive@yahoo.com>\n",
      "From: Ravikumar Govindarajan <ravikumar.govindarajan@gmail.com>\n",
      "From: Paul Taylor <paul_t100@fastmail.fm>\n",
      "From: rajputadesh <rajputadesh@gmail.com>\n",
      "From: Ian Lea <ian.lea@gmail.com>\n",
      "DKIM-Signature: v=1; a=rsa-sha256; c=relaxed/relaxed; d=yahoo.com; s=s1024; t=1351171597; bh=XhEayJbcHcPc6ndhC9rHL+MLZphT0BwxNEsCZzOyvyM=; h=X-YMail-OSG:Received:X-Rocket-MIMEInfo:X-Mailer:Message-ID:Date:From:Reply-To:Subject:To:MIME-Version:Content-Type; b=s25+XjCBY6B+g1eUJKeHDTbD5W33nRYPr8mIiO8X/p7OEYwidBUbdYn0gpfmcNoaQBT7eESaIkqdIJ+O8wQClWTGSbZoAY4UBfwblF8OxL7W7qs/tQm5hK2PwNlkBw756uaNaxc+KWW7qZJz22rgWmohpTUTVErem3Rr0xtQdPY=\n",
      "  h=X-YMail-OSG:Received:X-Rocket-MIMEInfo:X-Mailer:Message-ID:Date:From:Reply-To:Subject:To:MIME-Version:Content-Type;\n",
      "From: Willi Haase <willi_haase@yahoo.com>\n",
      "From: Ivan Vasilev <ivasilev@sirma.bg>\n",
      "From: Ian Lea <ian.lea@gmail.com>\n",
      "From: Robert Muir <rcmuir@gmail.com>\n",
      "From: Ian Lea <ian.lea@gmail.com>\n",
      "From: \"Jack Krupansky\" <jack@basetechnology.com>\n",
      "From: Paul Taylor\n",
      "From: \"Jack Krupansky\" <jack@basetechnology.com>\n",
      "From: Ravikumar Govindarajan\n",
      "From: \"Jack Krupansky\" <jack@basetechnology.com>\n",
      "From: Willi Haase\n",
      "From: Ivan Vasilev <ivasilev@sirma.bg>\n",
      "DKIM-Signature: v=1; a=rsa-sha256; c=relaxed/relaxed; d=yahoo.com; s=s1024; t=1351180752; bh=goLwj+vC67X8gO9tSp9ENm8ZFkTV88brR/zvb86T4vk=; h=X-YMail-OSG:Received:X-Rocket-MIMEInfo:X-Mailer:References:Message-ID:Date:From:Reply-To:Subject:To:In-Reply-To:MIME-Version:Content-Type; b=hlGDxs6tk/g3UruZjAq+oTYnALWqyTGW8RrFC/9oZo9alGZN50iQNSAe/gWCpbpdCJycKWWV5kVzYH0AFCEw0LnEf5v0ga1dY3hwfQEy5suBvjLt80Fob1jmCg4g2qclJ5TYuvjPQU6rKYNS5FadlydQ7XP70r46FT9hPC/2PvI=\n",
      "  h=X-YMail-OSG:Received:X-Rocket-MIMEInfo:X-Mailer:References:Message-ID:Date:From:Reply-To:Subject:To:In-Reply-To:MIME-Version:Content-Type;\n",
      "From: Willi Haase <willi_haase@yahoo.com>\n",
      "inal Message----- From: Willi Haase=0ASent: Thursday, October 25, 2012 9:26=\n",
      "From: \"Jack Krupansky\" <jack@basetechnology.com>\n",
      "From: Willi Haase\n",
      "-----Original Message----- From: Willi Haase\n",
      "From: Chris Hostetter <hossman_lucene@fucit.org>\n",
      "From: Robert Muir <rcmuir@gmail.com>\n",
      "From: Vitaly Funstein <vfunstein@gmail.com>\n",
      "> >> From: Tim Eck [mailto:timeck@gmail.com]\n",
      "> >> From: Uwe Schindler [mailto:uwe@thetaphi.de]\n",
      "> >> > From: Tim Eck [mailto:teck@terracottatech.com]\n",
      "From: \"Jack Krupansky\" <jack@basetechnology.com>\n",
      "From: Vitaly Funstein\n",
      "> >> From: Tim Eck [mailto:timeck@gmail.com]\n",
      "> >> From: Uwe Schindler [mailto:uwe@thetaphi.de]\n",
      "> >> > From: Tim Eck [mailto:teck@terracottatech.com]\n",
      "From: Vitaly Funstein <vfunstein@gmail.com>\n",
      "> -----Original Message----- From: Vitaly Funstein\n",
      ">> >> From: Tim Eck [mailto:timeck@gmail.com]\n",
      ">> >> From: Uwe Schindler [mailto:uwe@thetaphi.de]\n",
      ">> >> > From: Tim Eck [mailto:teck@terracottatech.**com<teck@terracottatech.com>\n",
      "From: \"Jack Krupansky\" <jack@basetechnology.com>\n",
      "From: Vitaly Funstein\n",
      "> -----Original Message----- From: Vitaly Funstein\n",
      ">> >> From: Tim Eck [mailto:timeck@gmail.com]\n",
      ">> >> From: Uwe Schindler [mailto:uwe@thetaphi.de]\n",
      ">> >> > From: Tim Eck\n",
      "DKIM-Signature: v=1; a=rsa-sha256; c=relaxed/relaxed; d=yahoo.com; s=s1024; t=1351243784; bh=YPv8Wmll8pvKhrAXWxxoDD0BEspXaYtAywmsDt8mYtQ=; h=X-YMail-OSG:Received:X-Rocket-MIMEInfo:X-Mailer:References:Message-ID:Date:From:Reply-To:Subject:To:In-Reply-To:MIME-Version:Content-Type; b=0oeBCi+oR+M/Vup/aOsLxhtmzF+m6ZOY6D02FQWrhRKWNSOvboUqpLw5GxIg0EzG2pF79LRBO0uKisVUtaOskKm4PoM0LVzrXxjIhrhvPhuImI/5ZS9mKuSrT81uh+mQta2JL2byBl8VQbzR+yTC1422WFW/hdbNlG9M2ZENTh8=\n",
      "  h=X-YMail-OSG:Received:X-Rocket-MIMEInfo:X-Mailer:References:Message-ID:Date:From:Reply-To:Subject:To:In-Reply-To:MIME-Version:Content-Type;\n",
      "From: Willi Haase <willi_haase@yahoo.com>\n",
      "DKIM-Signature: v=1; a=rsa-sha256; c=relaxed/relaxed; d=yahoo.com; s=s1024; t=1351248140; bh=pTyvXnHEPasKulRGPUA3k8OiDM8Px3uecgavD/i/hEY=; h=X-YMail-OSG:Received:X-Rocket-MIMEInfo:X-Mailer:References:Message-ID:Date:From:Reply-To:Subject:To:In-Reply-To:MIME-Version:Content-Type; b=Jfvlbnvwb5mUDHYb8O83anYrLqPJ+0e59lek4AC5bQczXVWtuEDzKe5AEkAWe7WZpG3s7EbntXDczAS6efzQJiMDm8Zu41v59XFgtQiQobVgAnT4dyXuvjVvYkkI6nRjoz9X/6th3f2TrES3AxJMo+b8gUAkL19CYcZsn/V/iiE=\n",
      "  h=X-YMail-OSG:Received:X-Rocket-MIMEInfo:X-Mailer:References:Message-ID:Date:From:Reply-To:Subject:To:In-Reply-To:MIME-Version:Content-Type;\n",
      "From: Willi Haase <willi_haase@yahoo.com>\n",
      "ht now.=0A=0A-- Jack Krupansky=0A-----Original Message----- From: Willi Haa=\n",
      "From: Ivan Vasilev <ivasilev@sirma.bg>\n",
      "From: Robert Muir <rcmuir@gmail.com>\n",
      "From: Ivan Vasilev <ivasilev@sirma.bg>\n",
      "DKIM-Signature: v=1; a=rsa-sha256; c=relaxed/relaxed; d=yahoo.com; s=s1024; t=1351273805; bh=gLvbhzGQJMkZpCAXI50vE9AvyFECUxQLP3ujC8Mnsck=; h=X-YMail-OSG:Received:X-Rocket-MIMEInfo:X-Mailer:Message-ID:Date:From:Reply-To:Subject:To:MIME-Version:Content-Type; b=A4ZxX5sYBYLDF3IxeI2aXEXN3goOst6PZGfqzrxVP7otxhI3wot/N6ncLjdjcbeQ4yYJ5SXFEhQvbhl0nVJw5wpyMoSd6lWbr6MkhRMJ7yMo8zS3R1T2oFfsqIb6u+19Hde+SBMve8WY6Oxq9E2SfM+LHWa1gz6h53O4jE1WHXQ=\n",
      "  h=X-YMail-OSG:Received:X-Rocket-MIMEInfo:X-Mailer:Message-ID:Date:From:Reply-To:Subject:To:MIME-Version:Content-Type;\n",
      "From: kiwi clive <kiwi_clive@yahoo.com>\n",
      "From: Vitaly Funstein <vfunstein@gmail.com>\n",
      "DKIM-Signature: v=1; a=rsa-sha256; c=relaxed/relaxed; d=yahoo.com; s=s1024; t=1351283260; bh=u34rqMA6nK4HjHgfFI5Wfr2sxGK33tUNCjaFb8npF5U=; h=X-YMail-OSG:Received:X-Rocket-MIMEInfo:X-Mailer:References:Message-ID:Date:From:Reply-To:Subject:To:In-Reply-To:MIME-Version:Content-Type; b=nCzJQS/GS4s6HKaeki7ydyoPh2iHUJ2go03J/RvEGL4FTY1eCWBLw1lu5xPvnFwNZOpv5nBvm2LeREE7UiNVm1l4Vkg8l2HmJgDdISTLFD+FdJOpT/e0m3y9OY6OjNBvoWU1FCXvoxeLTJ3wmOGxQib0qYQIsdRjoGsoE6xeCSg=\n",
      "  h=X-YMail-OSG:Received:X-Rocket-MIMEInfo:X-Mailer:References:Message-ID:Date:From:Reply-To:Subject:To:In-Reply-To:MIME-Version:Content-Type;\n",
      "From: kiwi clive <kiwi_clive@yahoo.com>\n",
      " From: Vitaly Funstein <vfunstein@gmail.com>\n",
      "From: Brandon Mintern <mintern@easyesi.com>\n",
      "From: Scott Smith <ssmith@mainstreamdata.com>\n",
      "DKIM-Signature: v=1; a=rsa-sha256; c=relaxed/relaxed; d=yahoo.fr; s=s1024; t=1351295258; bh=eP7r9PuHbqs6VD1fYiTMIjlCasZCvTO8TKxZ/i7LolA=; h=X-Yahoo-Newman-Id:X-Yahoo-Newman-Property:X-YMail-OSG:X-Yahoo-SMTP:Received:Received:X-Google-DKIM-Signature:Received:MIME-Version:Received:In-Reply-To:References:From:Date:Message-ID:Subject:To:Content-Type:X-Gm-Message-State; b=x4lABURNBW6KpLm+QUKkmUfkMN1/fqqgHAjUarEH23ezrnnrjhrFWhl5rvjHwFXvUX+oFsS2OyFFNGnH9nf0Mm2x5tNOUZ/KydyBjrR3ptI4Lru5ned39yjE64Ekf6uzAAcUqO7b+56oBXHMzXAJ1u4PgJt6cPee2wlbML/zWL4=\n",
      "From: Mossaab Bagdouri <bagdouri_mossaab@yahoo.fr>\n",
      "From: Scott Smith <ssmith@mainstreamdata.com>\n",
      "From: \"Jack Krupansky\" <jack@basetechnology.com>\n",
      "From: Scott Smith\n",
      "From: Tom <fivemiletom@gmail.com>\n",
      "From: Trejkaz <trejkaz@trypticon.org>\n",
      "From: Tom <fivemiletom@gmail.com>\n",
      "DKIM-Signature: v=1; a=rsa-sha256; c=relaxed/relaxed; d=yahoo.com; s=s1024; t=1351367074; bh=1mmwGTXCKp1O183BbDg/d+saWS/ti9tXaNnhOfjzUDw=; h=X-YMail-OSG:Received:X-Rocket-MIMEInfo:X-Mailer:Message-ID:Date:From:Reply-To:Subject:To:MIME-Version:Content-Type; b=sm7pSxHKPhCtyoiafbzVcRf+F0RoWOkQc33ajLmsyN5QYQ3Ywqc/vM7I2hl7Zeh/N/caDOxeaU6ca1nqHqJXob/3BKOpGdeorjgjnQktE9ufmuSWML1wHNrxmBEu9C4yyk50r+iCtiO0EoMh7h/1jtnv3sxNFfAINpnuDo7K9Yg=\n",
      "  h=X-YMail-OSG:Received:X-Rocket-MIMEInfo:X-Mailer:Message-ID:Date:From:Reply-To:Subject:To:MIME-Version:Content-Type;\n",
      "From: kiwi clive <kiwi_clive@yahoo.com>\n",
      "From: Paul Libbrecht <paul@hoplahup.net>\n",
      "From: Martijn v Groningen <martijn.v.groningen@gmail.com>\n",
      "From: Lance Norskog <goksron@gmail.com>\n",
      "| From: \"Martijn v Groningen\" <martijn.v.groningen@gmail.com>\n",
      "From: Lance Norskog <goksron@gmail.com>\n",
      "| From: \"kiwi clive\" <kiwi_clive@yahoo.com>\n",
      "From: Aloke Ghoshal <alghoshal@gmail.com>\n",
      "From: Carsten Schnober <schnober@ids-mannheim.de>\n",
      "X-SA-Exim-Mail-From: schnober@ids-mannheim.de\n",
      "From: \"Jack Krupansky\" <jack@basetechnology.com>\n",
      "From: Aloke Ghoshal\n",
      "From: Siraj Haider <siraj@jobdiva.com>\n",
      "From: selvakumar netaji [mailto:vvekselva.gm@gmail.com]\n",
      "> From: Siraj Haider [mailto:siraj@jobdiva.com]\n",
      "> From: selvakumar netaji [mailto:vvekselva.gm@gmail.com]\n",
      "> > From: Simon Willnauer [mailto:simon.willnauer@gmail.com]\n",
      "From: Ivan Vasilev <ivasilev@sirma.bg>\n",
      "From: Simon Willnauer <simon.willnauer@gmail.com>\n",
      "From: Scott Smith <ssmith@mainstreamdata.com>\n",
      "From: Scott Smith <ssmith@mainstreamdata.com>\n",
      "From: Scott Smith <ssmith@mainstreamdata.com>\n",
      "From: Jack Krupansky [mailto:jack@basetechnology.com]=20\n",
      "From: Scott Smith\n",
      "DKIM-Signature: v=1; a=rsa-sha256; c=relaxed/relaxed; d=yahoo.com; s=s1024; t=1351542191; bh=YNz9d5xNCMb/pQ4ISBqjKq/3XEuaN7m9S0un+0t7o98=; h=X-YMail-OSG:Received:X-Rocket-MIMEInfo:X-Mailer:References:Message-ID:Date:From:Reply-To:Subject:To:In-Reply-To:MIME-Version:Content-Type; b=S5PWSm/1hzWzh62TqyYSeV3IzqsTpMg5zh6ViUp5UQ9PaDlKciB0Ffk9hZUJeSLiezbjxPY3zXyTQ3WKmdpN18xysXV5HBjYdmUAvloYxyxgMpKa2Aa6s6WFILZD9VbKe3O48hv5s3/2I5INs480Mp1AOrnJQ0uWCBwCpJVOWlI=\n",
      "  h=X-YMail-OSG:Received:X-Rocket-MIMEInfo:X-Mailer:References:Message-ID:Date:From:Reply-To:Subject:To:In-Reply-To:MIME-Version:Content-Type;\n",
      "From: kiwi clive <kiwi_clive@yahoo.com>\n",
      "=0A=0A----- Original Message -----=0A| From: \"kiwi clive\" <kiwi_clive@yahoo=\n",
      "From: Scott Smith <ssmith@mainstreamdata.com>\n",
      "From: Simon Willnauer <simon.willnauer@gmail.com>\n",
      "From: Ivan Vasilev <ivasilev@sirma.bg>\n",
      "From: Carsten Schnober <schnober@ids-mannheim.de>\n",
      "X-SA-Exim-Mail-From: schnober@ids-mannheim.de\n",
      "From: ViTi No <vitino_mr@hotmail.com>\n",
      "\ts=s110527; h=Received:Date:From:To:Subject:In-Reply-To:\n",
      "From: qibaoyuan  <qibaoyuan@126.com>\n",
      "From: \"Oliver Christ\" <ochrist@ebscohost.com>\n",
      "From: parnab kumar <parnab.2007@gmail.com>\n",
      "From: Michael McCandless <lucene@mikemccandless.com>\n",
      "From: Scott Smith <ssmith@mainstreamdata.com>\n",
      "From: Dawid Weiss <dawid.weiss@gmail.com>\n",
      "From: Michael McCandless <lucene@mikemccandless.com>\n",
      "From: ViTi No <vitino_mr@hotmail.com>\n",
      "From: superruiye <superruiye@gmail.com>\n",
      "From: \"Oliver Christ\" <ochrist@ebscohost.com>\n",
      "From: Michael McCandless [mailto:lucene@mikemccandless.com]=20\n",
      "From: Michael McCandless <lucene@mikemccandless.com>\n",
      "> From: Michael McCandless [mailto:lucene@mikemccandless.com]\n",
      "From: Michael McCandless <lucene@mikemccandless.com>\n",
      "From: Ivan Vasilev <ivasilev@sirma.bg>\n",
      "From: Michael McCandless <lucene@mikemccandless.com>\n",
      "From: Ivan Vasilev <ivasilev@sirma.bg>\n",
      "From: \"Uwe Schindler\" <uwe@thetaphi.de>\n",
      "> From: Michael McCandless [mailto:lucene@mikemccandless.com]\n",
      "From: \"Uwe Schindler\" <uwe@thetaphi.de>\n",
      "> From: Ivan Vasilev [mailto:ivasilev@sirma.bg]\n",
      "From: Michael McCandless <lucene@mikemccandless.com>\n",
      ">> From: Michael McCandless [mailto:lucene@mikemccandless.com]\n",
      "From: Ivan Vasilev <ivasilev@sirma.bg>\n",
      ">>> From: Michael McCandless [mailto:lucene@mikemccandless.com]\n",
      "From: Ivan Vasilev <ivasilev@sirma.bg>\n",
      "From: Michael McCandless <lucene@mikemccandless.com>\n",
      "From: Michael McCandless <lucene@mikemccandless.com>\n"
     ]
    }
   ],
   "source": [
    "import re\n",
    "hand =open ('mbox.txt')\n",
    "for line in hand:\n",
    "    line= line.rstrip()\n",
    "    if re.search('From:', line):\n",
    "        print(line)\n",
    "hand.close()"
   ]
  },
  {
   "cell_type": "code",
   "execution_count": 199,
   "metadata": {},
   "outputs": [
    {
     "name": "stdout",
     "output_type": "stream",
     "text": [
      "['2', '9', '19', '42', '422', '612', '9999']\n",
      "['2', '1', '42', '422', '12']\n",
      "<class 'list'>\n"
     ]
    }
   ],
   "source": [
    "import re\n",
    "x='My 2 fav num9bers are 19 and 42 422 612 9999'\n",
    "y=re.findall('[0-9]+',x) # + is matching atleast one digit in 0-9\n",
    "print(y) \n",
    "y=re.findall('[0-5]+',x) # + is matching atleast one digit in 0-5\n",
    "print(y) \n",
    "print(type(y)) # y will always be a list variable "
   ]
  },
  {
   "cell_type": "code",
   "execution_count": 209,
   "metadata": {},
   "outputs": [
    {
     "name": "stdout",
     "output_type": "stream",
     "text": [
      "['a', 'u', 'e', 'a', 'e', 'a']\n",
      "['', '', '', '', '', '', 'a', '', '', '', 'u', '', '', 'e', '', '', '', 'a', '', 'e', '', '', '', '', 'a', '', '', '', '', '', '']\n",
      "<class 'list'>\n"
     ]
    }
   ],
   "source": [
    "import re\n",
    "x='my 2 fav numbers are 19 and 42'\n",
    "y=re.findall('[aeiou]+',x) # + is matching atleast one of vowels. \n",
    "print(y) \n",
    "y=re.findall('[aeiou]*',x) #If we use * instead of + then even 0 matches are returned\n",
    "print(y) \n",
    "print(type(y)) # y will always be a list variable "
   ]
  },
  {
   "cell_type": "code",
   "execution_count": 231,
   "metadata": {},
   "outputs": [
    {
     "name": "stdout",
     "output_type": "stream",
     "text": [
      "['From: Using the :']\n"
     ]
    }
   ],
   "source": [
    "import re\n",
    "x = 'From: Using the : character'\n",
    "y = re.findall('F.+:',x)\n",
    "print(y)"
   ]
  },
  {
   "cell_type": "code",
   "execution_count": 233,
   "metadata": {},
   "outputs": [
    {
     "name": "stdout",
     "output_type": "stream",
     "text": [
      "['From:']\n"
     ]
    }
   ],
   "source": [
    "import re\n",
    "x = 'From: Using the : character'\n",
    "y = re.findall('F.+?:',x) # ? mark will stop at first match. Default is greedy match. In this example : is the pattern end\n",
    "print(y)"
   ]
  },
  {
   "cell_type": "code",
   "execution_count": 234,
   "metadata": {},
   "outputs": [
    {
     "name": "stdout",
     "output_type": "stream",
     "text": [
      "d\n",
      "c\n"
     ]
    }
   ],
   "source": [
    "x=['a','b','c','d']\n",
    "for i in x: \n",
    "   y=x.pop()\n",
    "   print(y)"
   ]
  },
  {
   "cell_type": "code",
   "execution_count": 235,
   "metadata": {},
   "outputs": [
    {
     "name": "stdout",
     "output_type": "stream",
     "text": [
      "5xxHello\n"
     ]
    }
   ],
   "source": [
    "mystring='yxyxxx5xxHelloxxyx'\n",
    "print(mystring.strip('yx'))"
   ]
  },
  {
   "cell_type": "code",
   "execution_count": 238,
   "metadata": {},
   "outputs": [
    {
     "name": "stdout",
     "output_type": "stream",
     "text": [
      "phani\n"
     ]
    }
   ],
   "source": [
    "mystring='aaabbbbbbcccccccddddadbacdaphaniddddcbdaaabcdcaabbb'\n",
    "print(mystring.strip('abcd'))"
   ]
  },
  {
   "cell_type": "code",
   "execution_count": 239,
   "metadata": {},
   "outputs": [
    {
     "name": "stdout",
     "output_type": "stream",
     "text": [
      "Python\n"
     ]
    }
   ],
   "source": [
    "s='Monty Python'\n",
    "print(s[-6:12])"
   ]
  },
  {
   "cell_type": "code",
   "execution_count": 240,
   "metadata": {},
   "outputs": [
    {
     "ename": "SyntaxError",
     "evalue": "'break' outside loop (<ipython-input-240-e08e880e4697>, line 7)",
     "output_type": "error",
     "traceback": [
      "\u001b[1;36m  File \u001b[1;32m\"<ipython-input-240-e08e880e4697>\"\u001b[1;36m, line \u001b[1;32m7\u001b[0m\n\u001b[1;31mSyntaxError\u001b[0m\u001b[1;31m:\u001b[0m 'break' outside loop\n"
     ]
    }
   ],
   "source": [
    "x=42\n",
    "if x>1:\n",
    "    print('more than 1')\n",
    "    break;\n",
    "    if x<100:\n",
    "        print('less than 100')"
   ]
  },
  {
   "cell_type": "code",
   "execution_count": 241,
   "metadata": {},
   "outputs": [
    {
     "ename": "SyntaxError",
     "evalue": "'continue' not properly in loop (<ipython-input-241-de469265415a>, line 11)",
     "output_type": "error",
     "traceback": [
      "\u001b[1;36m  File \u001b[1;32m\"<ipython-input-241-de469265415a>\"\u001b[1;36m, line \u001b[1;32m11\u001b[0m\n\u001b[1;31mSyntaxError\u001b[0m\u001b[1;31m:\u001b[0m 'continue' not properly in loop\n"
     ]
    }
   ],
   "source": [
    "i = 4\n",
    "if i > 0: \n",
    "    print('inside first if')\n",
    "    if i > 1: \n",
    "        print('inside second if')\n",
    "        if i > 3: \n",
    "            print('inside third if - before continue')\n",
    "            continue;\n",
    "            print('inside third if - after continue')\n",
    "print('end')"
   ]
  },
  {
   "cell_type": "code",
   "execution_count": 242,
   "metadata": {},
   "outputs": [
    {
     "ename": "TypeError",
     "evalue": "unsupported operand type(s) for +: 'int' and 'str'",
     "output_type": "error",
     "traceback": [
      "\u001b[1;31m---------------------------------------------------------------------------\u001b[0m",
      "\u001b[1;31mTypeError\u001b[0m                                 Traceback (most recent call last)",
      "\u001b[1;32m<ipython-input-242-b80fbf7495ef>\u001b[0m in \u001b[0;36m<module>\u001b[1;34m\u001b[0m\n\u001b[0;32m      5\u001b[0m \u001b[0mb\u001b[0m\u001b[1;33m=\u001b[0m\u001b[1;34m'5'\u001b[0m\u001b[1;33m\u001b[0m\u001b[1;33m\u001b[0m\u001b[0m\n\u001b[0;32m      6\u001b[0m \u001b[0mc\u001b[0m\u001b[1;33m=\u001b[0m\u001b[0ma\u001b[0m\u001b[1;33m+\u001b[0m\u001b[0mb\u001b[0m\u001b[1;33m\u001b[0m\u001b[1;33m\u001b[0m\u001b[0m\n\u001b[1;32m----> 7\u001b[1;33m \u001b[0mprint\u001b[0m\u001b[1;33m(\u001b[0m\u001b[0mz\u001b[0m\u001b[1;33m+\u001b[0m\u001b[0mc\u001b[0m\u001b[1;33m)\u001b[0m\u001b[1;33m\u001b[0m\u001b[1;33m\u001b[0m\u001b[0m\n\u001b[0m",
      "\u001b[1;31mTypeError\u001b[0m: unsupported operand type(s) for +: 'int' and 'str'"
     ]
    }
   ],
   "source": [
    "x = 10\n",
    "y = 5\n",
    "z = x + y\n",
    "a = '1'\n",
    "b='5'\n",
    "c=a+b\n",
    "print(z+c)"
   ]
  },
  {
   "cell_type": "code",
   "execution_count": 243,
   "metadata": {},
   "outputs": [
    {
     "name": "stdout",
     "output_type": "stream",
     "text": [
      "2\n",
      "1\n",
      "0\n",
      "-1\n"
     ]
    }
   ],
   "source": [
    "for i in range(2,-2,-1):\n",
    "    print(i)"
   ]
  },
  {
   "cell_type": "code",
   "execution_count": 244,
   "metadata": {},
   "outputs": [
    {
     "name": "stdout",
     "output_type": "stream",
     "text": [
      "Hola\n",
      "None\n"
     ]
    }
   ],
   "source": [
    "def greet(lang):\n",
    "    if lang == 'es':\n",
    "        print('Hola')\n",
    "    if lang == 'fr':\n",
    "        return('bonjour')\n",
    "\n",
    "x = greet('es')\n",
    "print(x)"
   ]
  },
  {
   "cell_type": "code",
   "execution_count": 245,
   "metadata": {},
   "outputs": [
    {
     "name": "stdout",
     "output_type": "stream",
     "text": [
      "[4, 3]\n"
     ]
    }
   ],
   "source": [
    "a = [3,6]\n",
    "b=a\n",
    "a[1]=3\n",
    "b[0]=4\n",
    "print(b)"
   ]
  },
  {
   "cell_type": "code",
   "execution_count": 246,
   "metadata": {},
   "outputs": [
    {
     "name": "stdout",
     "output_type": "stream",
     "text": [
      "d\n",
      "c\n"
     ]
    }
   ],
   "source": [
    "a = ['a','b','c','d']\n",
    "for i in a:\n",
    "    print(a.pop())"
   ]
  },
  {
   "cell_type": "code",
   "execution_count": 247,
   "metadata": {},
   "outputs": [
    {
     "name": "stdout",
     "output_type": "stream",
     "text": [
      "False\n"
     ]
    }
   ],
   "source": [
    "namecounts={'csev':1,'cwen':2,'csev':3,'zqian':4,'cwen':5}\n",
    "print(1 in namecounts)"
   ]
  },
  {
   "cell_type": "code",
   "execution_count": 248,
   "metadata": {},
   "outputs": [
    {
     "name": "stdout",
     "output_type": "stream",
     "text": [
      "[0, 1, 2, 3]\n"
     ]
    }
   ],
   "source": [
    "print(list(range(4)))"
   ]
  },
  {
   "cell_type": "code",
   "execution_count": 249,
   "metadata": {},
   "outputs": [
    {
     "name": "stdout",
     "output_type": "stream",
     "text": [
      "[2, 3]\n"
     ]
    }
   ],
   "source": [
    "x=[1,2,3]\n",
    "x.remove(1)\n",
    "print(x)"
   ]
  },
  {
   "cell_type": "code",
   "execution_count": 250,
   "metadata": {},
   "outputs": [
    {
     "ename": "TypeError",
     "evalue": "unhashable type: 'list'",
     "output_type": "error",
     "traceback": [
      "\u001b[1;31m---------------------------------------------------------------------------\u001b[0m",
      "\u001b[1;31mTypeError\u001b[0m                                 Traceback (most recent call last)",
      "\u001b[1;32m<ipython-input-250-16f2f56acfe6>\u001b[0m in \u001b[0;36m<module>\u001b[1;34m\u001b[0m\n\u001b[1;32m----> 1\u001b[1;33m \u001b[0my\u001b[0m\u001b[1;33m=\u001b[0m\u001b[1;33m{\u001b[0m\u001b[1;33m[\u001b[0m\u001b[1;36m1\u001b[0m\u001b[1;33m]\u001b[0m\u001b[1;33m:\u001b[0m\u001b[1;36m1\u001b[0m\u001b[1;33m,\u001b[0m\u001b[1;33m[\u001b[0m\u001b[1;36m2\u001b[0m\u001b[1;33m]\u001b[0m\u001b[1;33m:\u001b[0m\u001b[1;36m2\u001b[0m\u001b[1;33m}\u001b[0m\u001b[1;33m\u001b[0m\u001b[1;33m\u001b[0m\u001b[0m\n\u001b[0m\u001b[0;32m      2\u001b[0m \u001b[0mprint\u001b[0m\u001b[1;33m(\u001b[0m\u001b[0my\u001b[0m\u001b[1;33m)\u001b[0m\u001b[1;33m\u001b[0m\u001b[1;33m\u001b[0m\u001b[0m\n",
      "\u001b[1;31mTypeError\u001b[0m: unhashable type: 'list'"
     ]
    }
   ],
   "source": [
    "y={[1]:1,[2]:2}\n",
    "print(y)"
   ]
  },
  {
   "cell_type": "code",
   "execution_count": 251,
   "metadata": {},
   "outputs": [
    {
     "name": "stdout",
     "output_type": "stream",
     "text": [
      "['2', '11', '55']\n"
     ]
    }
   ],
   "source": [
    "import re\n",
    "x='My 2 favorite numbers are 11 and 55'\n",
    "y = re.findall('[0-9]+',x)\n",
    "print(y)"
   ]
  },
  {
   "cell_type": "code",
   "execution_count": 264,
   "metadata": {},
   "outputs": [
    {
     "name": "stdout",
     "output_type": "stream",
     "text": [
      "['stephen.marquard@uct.ac.za']\n",
      "['stephen.marquard@uct.ac.za', '@']\n",
      "['d@u']\n",
      "[' @ ']\n",
      "['@', ' @ ']\n"
     ]
    }
   ],
   "source": [
    "x='From stephen.marquard@uct.ac.za Sat Jan 5 09:14:16 2008 @ '\n",
    "\n",
    "y = re.findall('\\S+@\\S+',x)\n",
    "print(y)\n",
    "\n",
    "y = re.findall('\\S*@\\S*',x)\n",
    "print(y)\n",
    "\n",
    "y = re.findall('\\S@\\S',x)\n",
    "print(y)\n",
    "\n",
    "y = re.findall('\\s+@\\s+',x) # + is for one or more time\n",
    "print(y)\n",
    "\n",
    "y = re.findall('\\s*@\\s*',x) # * is for zero or more time\n",
    "print(y)"
   ]
  },
  {
   "cell_type": "code",
   "execution_count": 299,
   "metadata": {},
   "outputs": [
    {
     "name": "stdout",
     "output_type": "stream",
     "text": [
      "['uct.ac.za']\n",
      "['uct.ac.za']\n",
      "['uct.ac.za']\n"
     ]
    }
   ],
   "source": [
    "import re\n",
    "x='From stephen.marquard@uct.ac.za Sat Jan 5 09:14:16 2008'\n",
    "\n",
    "y = re.findall('@([^ ]*)',x)\n",
    "print(y)\n",
    "\n",
    "y = re.findall('@([^ ]+)',x)\n",
    "print(y)\n",
    "\n",
    "y = re.findall('@([\\S]+)',x)\n",
    "print(y)"
   ]
  },
  {
   "cell_type": "code",
   "execution_count": 293,
   "metadata": {},
   "outputs": [
    {
     "name": "stdout",
     "output_type": "stream",
     "text": [
      "['$10.00']\n"
     ]
    }
   ],
   "source": [
    "import re\n",
    "x = 'We just received $10.00 and 20.00 for cookies'\n",
    "\n",
    "y = re.findall('\\$[0-9.]*',x)\n",
    "print(y)"
   ]
  },
  {
   "cell_type": "code",
   "execution_count": 1,
   "metadata": {},
   "outputs": [
    {
     "name": "stdout",
     "output_type": "stream",
     "text": [
      "('water', 'coke', '7-up')\n"
     ]
    }
   ],
   "source": [
    "a = ('pepsi','coke','7-up')\n",
    "a = ('water','coke','7-up')\n",
    "print(a)"
   ]
  },
  {
   "cell_type": "code",
   "execution_count": 2,
   "metadata": {},
   "outputs": [
    {
     "name": "stdout",
     "output_type": "stream",
     "text": [
      "{'a', 'e', 'd', 'b', 'c'}\n"
     ]
    }
   ],
   "source": [
    "myset={'a','b','c','d','e'}\n",
    "myset.discard('f')\n",
    "print(myset)"
   ]
  },
  {
   "cell_type": "code",
   "execution_count": 3,
   "metadata": {},
   "outputs": [
    {
     "name": "stdout",
     "output_type": "stream",
     "text": [
      "{1, 2, 3, 4, 5, 6}\n"
     ]
    }
   ],
   "source": [
    "myset = {1,2,3}\n",
    "myset.update([4,5,6])\n",
    "print(myset)"
   ]
  },
  {
   "cell_type": "code",
   "execution_count": 4,
   "metadata": {},
   "outputs": [
    {
     "name": "stdout",
     "output_type": "stream",
     "text": [
      "<class 'str'> <class 'tuple'>\n"
     ]
    }
   ],
   "source": [
    "a = ('1')\n",
    "b = ('2',)\n",
    "print(type(a), type(b))"
   ]
  },
  {
   "cell_type": "code",
   "execution_count": 5,
   "metadata": {},
   "outputs": [
    {
     "name": "stdout",
     "output_type": "stream",
     "text": [
      "False\n",
      "True\n"
     ]
    }
   ],
   "source": [
    "myset1 = {'a','b'}\n",
    "myset2 = {'a','b'}\n",
    "print(myset1 < myset2)\n",
    "print(myset1 <= myset2)"
   ]
  },
  {
   "cell_type": "code",
   "execution_count": 6,
   "metadata": {},
   "outputs": [
    {
     "name": "stdout",
     "output_type": "stream",
     "text": [
      "(1, 2, 3)\n"
     ]
    }
   ],
   "source": [
    "def myoutput(i):\n",
    "    if i ==0:\n",
    "        return('zero')\n",
    "    else: \n",
    "        return(1,2,3)\n",
    "    \n",
    "print(myoutput(1))"
   ]
  },
  {
   "cell_type": "code",
   "execution_count": 19,
   "metadata": {},
   "outputs": [
    {
     "name": "stdout",
     "output_type": "stream",
     "text": [
      "hello world\n"
     ]
    },
    {
     "ename": "TypeError",
     "evalue": "write() argument must be str, not bytes",
     "output_type": "error",
     "traceback": [
      "\u001b[1;31m---------------------------------------------------------------------------\u001b[0m",
      "\u001b[1;31mTypeError\u001b[0m                                 Traceback (most recent call last)",
      "\u001b[1;32m<ipython-input-19-434c07280c5e>\u001b[0m in \u001b[0;36m<module>\u001b[1;34m\u001b[0m\n\u001b[0;32m      6\u001b[0m \u001b[0mfilename\u001b[0m \u001b[1;33m=\u001b[0m \u001b[1;34m'examplepickledfile'\u001b[0m\u001b[1;33m\u001b[0m\u001b[1;33m\u001b[0m\u001b[0m\n\u001b[0;32m      7\u001b[0m \u001b[0moutfile\u001b[0m \u001b[1;33m=\u001b[0m \u001b[0mopen\u001b[0m\u001b[1;33m(\u001b[0m\u001b[0mfilename\u001b[0m\u001b[1;33m)\u001b[0m\u001b[1;33m\u001b[0m\u001b[1;33m\u001b[0m\u001b[0m\n\u001b[1;32m----> 8\u001b[1;33m \u001b[0mpickle\u001b[0m\u001b[1;33m.\u001b[0m\u001b[0mdump\u001b[0m\u001b[1;33m(\u001b[0m\u001b[0mx\u001b[0m\u001b[1;33m,\u001b[0m\u001b[0moutfile\u001b[0m\u001b[1;33m)\u001b[0m\u001b[1;33m\u001b[0m\u001b[1;33m\u001b[0m\u001b[0m\n\u001b[0m\u001b[0;32m      9\u001b[0m \u001b[0moutfile\u001b[0m\u001b[1;33m.\u001b[0m\u001b[0mclose\u001b[0m\u001b[1;33m(\u001b[0m\u001b[1;33m)\u001b[0m\u001b[1;33m\u001b[0m\u001b[1;33m\u001b[0m\u001b[0m\n\u001b[0;32m     10\u001b[0m \u001b[0mprint\u001b[0m\u001b[1;33m(\u001b[0m\u001b[1;34m'successfully pickled'\u001b[0m\u001b[1;33m)\u001b[0m\u001b[1;33m\u001b[0m\u001b[1;33m\u001b[0m\u001b[0m\n",
      "\u001b[1;31mTypeError\u001b[0m: write() argument must be str, not bytes"
     ]
    }
   ],
   "source": [
    "import pickle\n",
    "\n",
    "x = 'hello world'\n",
    "print(x)\n",
    "\n",
    "filename = 'examplepickledfile'\n",
    "outfile = open(filename)\n",
    "pickle.dump(x,outfile)\n",
    "outfile.close()\n",
    "print('successfully pickled')"
   ]
  },
  {
   "cell_type": "code",
   "execution_count": 12,
   "metadata": {},
   "outputs": [
    {
     "name": "stdout",
     "output_type": "stream",
     "text": [
      "d\n",
      "c\n"
     ]
    }
   ],
   "source": [
    "mylist = ['a','b','c','d']\n",
    "for element in mylist: \n",
    "    print(mylist.pop())"
   ]
  },
  {
   "cell_type": "code",
   "execution_count": 13,
   "metadata": {},
   "outputs": [
    {
     "name": "stdout",
     "output_type": "stream",
     "text": [
      "[4, 3]\n"
     ]
    }
   ],
   "source": [
    "lista = [3,6]\n",
    "listb = lista\n",
    "lista[1] = 3\n",
    "listb[0] = 4\n",
    "print(listb)"
   ]
  },
  {
   "cell_type": "code",
   "execution_count": 15,
   "metadata": {},
   "outputs": [
    {
     "name": "stdout",
     "output_type": "stream",
     "text": [
      "False\n"
     ]
    }
   ],
   "source": [
    "name = {'csev': 1, 'cwen': 2, 'csev':3, 'zqian':4, 'cwen': 5}\n",
    "print(1 in name)"
   ]
  },
  {
   "cell_type": "code",
   "execution_count": 16,
   "metadata": {},
   "outputs": [
    {
     "name": "stdout",
     "output_type": "stream",
     "text": [
      "6\n"
     ]
    }
   ],
   "source": [
    "def multiply(x=1, y=1,z=1,a=1):\n",
    "    return(x*y*z*a)\n",
    "\n",
    "print(multiply(2,3))"
   ]
  },
  {
   "cell_type": "code",
   "execution_count": 20,
   "metadata": {},
   "outputs": [
    {
     "name": "stdout",
     "output_type": "stream",
     "text": [
      "give an integer: hi\n",
      "give another integer: 5\n",
      "you did not\n",
      "<class 'str'> <class 'str'>\n"
     ]
    }
   ],
   "source": [
    "i = input('give an integer: ')\n",
    "j = input('give another integer: ')\n",
    "try: \n",
    "    i = int(i)\n",
    "    j = int(j)\n",
    "except:\n",
    "    print('you did not enter an integer')\n",
    "    print(type(i),type(j))"
   ]
  },
  {
   "cell_type": "code",
   "execution_count": null,
   "metadata": {},
   "outputs": [],
   "source": []
  }
 ],
 "metadata": {
  "kernelspec": {
   "display_name": "Python 3",
   "language": "python",
   "name": "python3"
  },
  "language_info": {
   "codemirror_mode": {
    "name": "ipython",
    "version": 3
   },
   "file_extension": ".py",
   "mimetype": "text/x-python",
   "name": "python",
   "nbconvert_exporter": "python",
   "pygments_lexer": "ipython3",
   "version": "3.7.4"
  }
 },
 "nbformat": 4,
 "nbformat_minor": 2
}
